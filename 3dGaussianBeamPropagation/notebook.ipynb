{
 "cells": [
  {
   "cell_type": "code",
   "execution_count": 2,
   "metadata": {},
   "outputs": [],
   "source": [
    "from numpy import *\n",
    "from numpy import pi as π\n",
    "import matplotlib.pyplot as plt\n",
    "\n",
    "import matplotlib.pyplot as plt\n",
    "from mpl_toolkits.mplot3d import Axes3D\n",
    "from ipywidgets import interactive"
   ]
  },
  {
   "cell_type": "code",
   "execution_count": 3,
   "metadata": {},
   "outputs": [],
   "source": [
    "class GaussianBeam:\n",
    "    \"\"\"\n",
    "    This class is used to represent a General Astigmatic Gaussian Beam.\n",
    "    \"\"\"\n",
    "    def __init__(self,P:float64,λ:float64,q10:complex128,q20:complex128,θ:complex128):\n",
    "        self.P = P\n",
    "        self.λ = λ\n",
    "        self.q1 = lambda z: z + q10.real + 1.j*q10.imag\n",
    "        self.q2 = lambda z: z + q20.real + 1.j*q20.imag\n",
    "        self.θ = θ\n",
    "\n",
    "        self.k = 2.*π/λ\n",
    "        self.Q = lambda z: array([\n",
    "            [(cos(θ)**2.)/self.q1(z) + (sin(θ)**2.)/self.q2(z),      0.5*sin(2.*θ)*(1./self.q1(z) - 1./self.q2(z))],\n",
    "            [0.5*sin(2.*θ)*(1./self.q1(z - 1./self.q2(z))),      (sin(θ)**2.)/self.q1(z) + (cos(θ)**2.)/self.q2(z)]\n",
    "        ],complex128)\n",
    "        self.E0 = lambda z: sqrt(P/λ*sqrt(\n",
    "            4.*self.Q(z)[1,1].imag)*self.Q(z)[2,2].imag - (self.Q(z)[1,2] + self.Q(z)[2,1])**2.\n",
    "        )\n",
    "        self.η = lambda z: 0.5*(atan(self.q1(z).real/self.q1(z).imag) + atan(self.q2(z).real/self.q2(z).imag))\n",
    "        self.E = lambda r,z: self.E0(z)*exp(1.j*self.η(z) - 1.j*(self.k/2.)*(r.T @ self.Q(z) @ r))\n",
    "\n",
    "    def intensity_phase_ellipses(self,z):\n",
    "            α = self.θ.real\n",
    "            β = self.θ.imag\n",
    "            \n",
    "            ρ1 = self.q1(z).real/(abs(self.q1(z))**2.)\n",
    "            ρ2 = self.q2(z).real/(abs(self.q2(z))**2.)\n",
    "\n",
    "            ω1 = self.q1(z).imag/(abs(self.q1(z))**2.)\n",
    "            ω2 = self.q2(z).imag/(abs(self.q2(z))**2.)\n",
    "\n",
    "            φ_w0 = 0.5*arctan2(-(ρ1 - ρ2)*tanh(2.*β),(ω1 - ω2))\n",
    "            φ_w = unwrap(φ_w0 + α, period=π)\n",
    "\n",
    "            φ_R0 = 0.5*arctan2( (ω1 - ω2)*tanh(2.*β),(ρ1 - ρ2))\n",
    "            φ_R = unwrap(φ_R0 + α, period=π)\n",
    "\n",
    "            w1 = 1./sqrt((self.k/4.)*(ω1 + ω2 + sqrt(((ω1 - ω2)**2.)*(cosh(2*β)**2.) + ((ρ1 - ρ2)**2.)*(sinh(2*β)**2.))))\n",
    "            w2 = 1./sqrt((self.k/4.)*(ω1 + ω2 - sqrt(((ω1 - ω2)**2.)*(cosh(2*β)**2.) + ((ρ1 - ρ2)**2.)*(sinh(2*β)**2.))))\n",
    "\n",
    "            R1 = 2./(ρ1 + ρ2 + sqrt(((ρ1 - ρ2)**2.)*(cosh(2*β)**2.) + ((ω1 - ω2)**2.)*(sinh(2*β)**2.)))\n",
    "            R2 = 2./(ρ1 + ρ2 - sqrt(((ρ1 - ρ2)**2.)*(cosh(2*β)**2.) + ((ω1 - ω2)**2.)*(sinh(2*β)**2.)))\n",
    "\n",
    "            return [φ_w, w1, w2], [φ_R, R1, R2]\n",
    "        "
   ]
  },
  {
   "cell_type": "code",
   "execution_count": 4,
   "metadata": {},
   "outputs": [],
   "source": [
    "def Rx(a):\n",
    "    \"\"\" Matriz de rotação em torno do eixo x por um ângulo a (em radianos). \"\"\"\n",
    "    return array([\n",
    "        [1, 0, 0],\n",
    "        [0, cos(a), -sin(a)],\n",
    "        [0, sin(a), cos(a)]\n",
    "    ])\n",
    "\n",
    "def Ry(b):\n",
    "    \"\"\" Matriz de rotação em torno do eixo y por um ângulo b (em radianos). \"\"\"\n",
    "    return array([\n",
    "        [cos(b), 0, sin(b)],\n",
    "        [0, 1, 0],\n",
    "        [-sin(b), 0, cos(b)]\n",
    "    ])\n",
    "\n",
    "def Rz(c):\n",
    "    \"\"\" Matriz de rotação em torno do eixo z por um ângulo c (em radianos). \"\"\"\n",
    "    return array([\n",
    "        [cos(c), -sin(c), 0],\n",
    "        [sin(c), cos(c), 0],\n",
    "        [0, 0, 1]\n",
    "    ])\n",
    "\n",
    "def Rtot(a, b, c):\n",
    "    \"\"\" Combinar rotações em torno dos eixos x, y e z. \"\"\"\n",
    "    return dot(Rz(c), dot(Ry(b), Rx(a)))"
   ]
  },
  {
   "cell_type": "code",
   "execution_count": 81,
   "metadata": {},
   "outputs": [
    {
     "data": {
      "application/vnd.plotly.v1+json": {
       "config": {
        "plotlyServerURL": "https://plot.ly"
       },
       "data": [
        {
         "mode": "lines",
         "type": "scatter3d",
         "x": {
          "bdata": "iPM1D4u3Nj+Gitfu/FscP+A18A+3ISG/5wy52eEvOL91y8e4/NpDv2EVed2QiUu/J7/oFOGNUb9wLsJX4URVvyD2TOf05Vi/7qE+DV5tXL8DIzmIeddfvx8N4CVhkGG/1nSFkOoiY79DDXsSuqFkv1NMvQ9FC2a/N3ec2BZeZ79e8egp0phov884+pQyumm/UnAdzg3Bar/2uRLgVKxrv25qXEMVe2y/OipA2Hksbb/mTnjCy79tv4X1siVzNG6//Y8cwveJbr+Gh1RwAcBuv4ctTHxY1m6/B0+y3uXMbr/tObBUs6Nuv8W731XrWm6/XnOE6Njybb8glTVU52ttv8jaR7Ohxmy/+pxpY7IDbL8W5gRW4iNrv9qFHEEYKGq/Jqt5sVcRab+3Kh//v+Bnv8Y+FiWLl2a/rxPGfQw3Zb8mxCNlr8Bjv85cI8L1NWK/5gHseHaYYL+ditKOt9Ndv9kS1BvDV1q/67gjC6fAVr/+6ujMFhJTvzpKD/27n06/G1whArn7Rr8ZCjnrCYA+vyIvWUBi0i2/IEhTXtCg5z6bMBVMe2IwP8Q+B1IM9z8/sP9NClW1Rz+aknOFs1ZPPzS7nAPia1M/KoqhJGUYVz9/xLClGa1aP9OZK5FOJl4/ysMApTfAYD8V50aeA1xiP09ZN7fi5GM/J03V9D9ZZT9dcc5/m7dmPy3mJjCM/mc/it6CAcEsaT/DKY5uAkFqPzqJG7IzOms/w8yw7FMXbD+XHVEtf9dsPx+EdFzveW0/QXM6CP39bT9c2wQRIGNuP+DXyTXwqG4/3VKLfyXPbj/R1oWLmNVuP4sWyrNCvG4/TFEXFj6Dbj/Agu94xSpuP+EeAQ80s20/QM4kGQUdbT+hElBn02hsP8LL/7hYl2s/Ch2//Wypaj/jE5B2BaBpP5OCG7kzfGg/UKqslSQ/Zz9CahvhHuplP+mX5COCfmQ/5srLL8X9Yj9HJXyddGlhPz/BbGdihl8/dxZjc1wZXD+updJsX49YP/DEUD0R7FQ/Ykxe5zEzUT8Cj5xRL9FKP2bSgwxWIEM/mfM1D4u3Nj8=",
          "dtype": "f8"
         },
         "y": {
          "bdata": "ciumALZWVz/WK5rBVz1YP5eDhuj8Clk/UgyoedG+WT+8aIEVHFhaPwkq8bc+1lo/cL4UW7c4Wz/MQFB9IH9bP8r/8IkxqVs/qOD+I7+2Wz/Cfe9Su6dbPx7tDJE1fFs/fFaBu1o0Wz9OyxfkdNBaP7AM4gTrUFo/1vMRlkC2WT9o6XMGFQFZP1geFhcjMlg/+O/FGkBKVz+v6CkaW0pWP5IKW917M1U/mmL728EGVD97L+IUY8VSPw8Sj86qcFE/c62tQfgJUD+DcxNeeiVNP7h70cT4GEo/O6ykR5DxRj8uE8QxgbJDP+ZHnC8kX0A/Hhh3t831OT8MS1VskBIzPyDpWydUNyg/IJ4nHiJhFD9gIPUFmAX/vgj008T37SG/0Ii6GMHoL7+k0aLyUuE2vyJcrH2vtj2/Dc3vcrU2Qr/dKjm7TH9Fv8hK3Re7sUi/2xzM4LTKS78QS2OrCMdOv8dGhUrR0VC/73ivt8cuUr928FPl/3hTv464uW0lr1S//cUunPjPVb/EP5e2T9pWv+XFVDAYzVe/YllJxVenWL+SKdJ7LWhZv2JYsIzSDlq/+KbwL5uaWr8r0v5N9wpbv2sWLhRzX1u/br4dbLeXW78sqn5VirNbvzhE3SHPslu/xUMykoaVW79ZwRvWzltbvyVrv2zjBVu/ZOx15xyUWr89wH6O8AZav7qMGujvXlm/VKWIIsicWL9UV4JhQcFXvxgF7O89zVa/OLuQVrnBVb9StNhYx59Uv/8ShtiSaFO/6tecoVwdUr9fq7Mfer9Qv8m0BPynoE6/cKQxZ8miS792sHv6bYhIv7JMD43IVEW/FLujByYLQr9eaw/70109v4hQoVwWhza/tG4Zzz8yL78UTeV+KjYhvyAdVrC5Qvm+iJY2qHrRFT8wB0INk+4oP0o3Vb1abTM/dhHVT2VPOj9cRTlyKItAP70IPouQ3UM/9iHgVH4bRz/S4OlMmkFKP7IM6X6lTE0/qO1fbr4cUD/Dtzk9joJRPzFH8VRR1lI/XyaYeakWVD96bWlzTEJVP5YPL2MFWFY/cSumALZWVz8=",
          "dtype": "f8"
         },
         "z": {
          "bdata": "AAAAAAAA8L8AAAAAAADwvwAAAAAAAPC/AAAAAAAA8L8AAAAAAADwvwAAAAAAAPC/AAAAAAAA8L8AAAAAAADwvwAAAAAAAPC/AAAAAAAA8L8AAAAAAADwvwAAAAAAAPC/AAAAAAAA8L8AAAAAAADwvwAAAAAAAPC/AAAAAAAA8L8AAAAAAADwvwAAAAAAAPC/AAAAAAAA8L8AAAAAAADwvwAAAAAAAPC/AAAAAAAA8L8AAAAAAADwvwAAAAAAAPC/AAAAAAAA8L8AAAAAAADwvwAAAAAAAPC/AAAAAAAA8L8AAAAAAADwvwAAAAAAAPC/AAAAAAAA8L8AAAAAAADwvwAAAAAAAPC/AAAAAAAA8L8AAAAAAADwvwAAAAAAAPC/AAAAAAAA8L8AAAAAAADwvwAAAAAAAPC/AAAAAAAA8L8AAAAAAADwvwAAAAAAAPC/AAAAAAAA8L8AAAAAAADwvwAAAAAAAPC/AAAAAAAA8L8AAAAAAADwvwAAAAAAAPC/AAAAAAAA8L8AAAAAAADwvwAAAAAAAPC/AAAAAAAA8L8AAAAAAADwvwAAAAAAAPC/AAAAAAAA8L8AAAAAAADwvwAAAAAAAPC/AAAAAAAA8L8AAAAAAADwvwAAAAAAAPC/AAAAAAAA8L8AAAAAAADwvwAAAAAAAPC/AAAAAAAA8L8AAAAAAADwvwAAAAAAAPC/AAAAAAAA8L8AAAAAAADwvwAAAAAAAPC/AAAAAAAA8L8AAAAAAADwvwAAAAAAAPC/AAAAAAAA8L8AAAAAAADwvwAAAAAAAPC/AAAAAAAA8L8AAAAAAADwvwAAAAAAAPC/AAAAAAAA8L8AAAAAAADwvwAAAAAAAPC/AAAAAAAA8L8AAAAAAADwvwAAAAAAAPC/AAAAAAAA8L8AAAAAAADwvwAAAAAAAPC/AAAAAAAA8L8AAAAAAADwvwAAAAAAAPC/AAAAAAAA8L8AAAAAAADwvwAAAAAAAPC/AAAAAAAA8L8AAAAAAADwvwAAAAAAAPC/AAAAAAAA8L8AAAAAAADwvwAAAAAAAPC/AAAAAAAA8L8=",
          "dtype": "f8"
         }
        },
        {
         "mode": "lines",
         "type": "scatter3d",
         "x": {
          "bdata": "asFlh3PPNj9Iy6t50eodP9QaagoChx+/7NJcchU2N7/AaM2TPjlDv8gFjIGhw0q/NQEK0DYZUb/CKMe+/L5UvwGzRP9fT1i/jTI1D7TGW7+K0DVBZiFfv5pm1rUALmG/zKqdvJi5Yr+fDotr4zFkv0Go3d5clWW/LaBRqJbiZr9+uNlIORhov7entJIFNWm/+kdx8tU3ar88co6dnx9rv/aRfqVz62u/unPz7X+abL95a3QFECxtv3mPX9+Nn22/BUuWboL0bb/h1zUglipuv78d3TWRQW6/fOki/1s5br+lQAHy/hFuvxGlHKKiy22/aUbwlo9mbb8lPwoBLuNsv+jupE4FQmy/LygMoLuDa7+xGV4cFalqv8l5WCfzsmm/G2ICeVOiaL+8WiIYT3hnv7EujjgZNma/Uyd//v3cZL9kHTEoYW5jv+hNLZ+862G/o/W68p5WYL9eiA56U2Fdv0FRWOkf91m/dmqjWChyVr/zlXCEDdZSvz5MKQYQTU6/StiL3cjORr8qXR/s/XE+v9IF8ssPTi6/gGMLelvGyT5yTddg2BsvP7sg+AJD2D4/sf8mGWcBRz8yvFLE9X5OP9XEEm2K7lI/dZmyDBaKVj8BjVK+ZQ5aP4+CfXLZd10/kN3UZHZhYD/gTyxaHfZhP7a3d3lAeGM/gq3WuFHmZD8sTKS+1z5mP9pBcmZvgGc/BHAfL82paD9Xu5CQvrlpP6HKqzcrr2o/ePxNJxaJaz/utBW9nkZsPyMw8ZgB52w/7CeEZplpbT/EsZSH381tP2mnz55sE24/6Y5V+vg5bj91LKLdXEFuPzqPgqqQKW4/CGDv6KzybT+WWcMt6pxtP1H7Z+CgKG0/QZa030iWbD8ipF0GeeZrPxbIc4/mGWs/IsWSW2Qxaj9l/YAX4i1pP92NH0VrEGg/z7OpJybaZj9vvF+UUoxlPw0t1qhIKGQ/Sf48aHevYj9ikQxBYyNhP/C4PPlIC18/1hecNMuvWz+H4akvwzdYP7raSVHEplQ/wzEzvHsAUT/dy5cJWZFKPzq0yqBXBkM/e8Flh3PPNj8=",
          "dtype": "f8"
         },
         "y": {
          "bdata": "Mk70pDT0Vj9sDfw5aNtXP4CwQikEqlg/wIOheDNfWT+nAC1jO/pZP6Vluxl8elo/49KgZ3HfWj85HPc6syhbP/jU5A/2VVs/PwB1PgtnWz/mJ68q4VtbP1ZGvlaDNFs/Vc0TVxrxWj8qBJOo65FaP/3b72hZF1o/mhCL8eGBWT+q1zNVH9JYPzpgVcHGCFg/VNozw6cmVz83i/lxqyxWPyd5cH7TG1U/K11gKTn1Uz+QrKIhDLpSP9qVF0uRa1E/CaK+byELUD+CaJi4TzRNP/OMVNNBNEo/HNvM6TAZRz9RmEKOUOZDP58xSN7snkA/s5o+Oc6MOj/6qpVqZMAzP0yasb08vyk/UJe6hEzGFz+gGbNViSnwvmjhmevm1h+/ZHG6sEzBLb/2eu/rPLw1v9z02MJrgTy/snhtIZyUQb9Wu/MNY9ZEvyieSS2vAki/PBkCKjsWS79iBx0y2w1Ovx5Y7x1Ac1C/DPp9lp3OUb/vhW3wnxdTv+ZfZQX0TFS/QI6b+FptVb+AcoV/q3dWv5cOTBTTale/AfDHENdFWL8lDOGw1QdZvzY3SPsGsFm/J1Caj709Wr+roxhZZ7BavxhMPiWOB1u/RFSXHdhCW78yBVwkCGJbv0XocBP+ZFu/Ho2K3bZLW7+w6VKRTBZbv4oWjT72xFq/TBdTvQdYWr+TMahX8c9Zv9zpuFU/LVm/p/c/bZlwWL8EQaUUwppXv2oSibqVrFa/lDWK4gmnVb/qITEoLItUv2woBSkhWlO/ixbqViMVUr+RPv2zgb1Qv8ULgPI8qU6/P+fnUtu3S79rSEEj56lIv3PcnXGGgkW/jqYrgflEQr/n+JXgLuk9v2DwKY6VKTe/Xgm+4xtSML9AKXOtntMiv3A0KqF1vgO/sFpB2fTyET+EBzz3UdkmP0b4XvPNUDI/6MvnmBEiOT9a3NfdbNk/P4BsTbT5N0M/d2SxW21vRj/eoR+QwI9JP5FDjVO6lUw/Hj9I0Tx+Tz+JnTFKJCNRP7r9aM9/dVI/onADL9S0Uz/WxgI92N9UP5K2Ar5X9VU/MU70pDT0Vj8=",
          "dtype": "f8"
         },
         "z": {
          "bdata": "BWr9SoFa778Fav1KgVrvvwVq/UqBWu+/BWr9SoFa778Fav1KgVrvvwVq/UqBWu+/BWr9SoFa778Fav1KgVrvvwVq/UqBWu+/BWr9SoFa778Fav1KgVrvvwVq/UqBWu+/BWr9SoFa778Fav1KgVrvvwVq/UqBWu+/BWr9SoFa778Fav1KgVrvvwVq/UqBWu+/BWr9SoFa778Fav1KgVrvvwVq/UqBWu+/BWr9SoFa778Fav1KgVrvvwVq/UqBWu+/BWr9SoFa778Fav1KgVrvvwVq/UqBWu+/BWr9SoFa778Fav1KgVrvvwVq/UqBWu+/BWr9SoFa778Fav1KgVrvvwVq/UqBWu+/BWr9SoFa778Fav1KgVrvvwVq/UqBWu+/BWr9SoFa778Fav1KgVrvvwVq/UqBWu+/BWr9SoFa778Fav1KgVrvvwVq/UqBWu+/BWr9SoFa778Fav1KgVrvvwVq/UqBWu+/BWr9SoFa778Fav1KgVrvvwVq/UqBWu+/BWr9SoFa778Fav1KgVrvvwVq/UqBWu+/BWr9SoFa778Fav1KgVrvvwVq/UqBWu+/BWr9SoFa778Fav1KgVrvvwVq/UqBWu+/BWr9SoFa778Fav1KgVrvvwVq/UqBWu+/BWr9SoFa778Fav1KgVrvvwVq/UqBWu+/BWr9SoFa778Fav1KgVrvvwVq/UqBWu+/BWr9SoFa778Fav1KgVrvvwVq/UqBWu+/BWr9SoFa778Fav1KgVrvvwVq/UqBWu+/BWr9SoFa778Fav1KgVrvvwVq/UqBWu+/BWr9SoFa778Fav1KgVrvvwVq/UqBWu+/BWr9SoFa778Fav1KgVrvvwVq/UqBWu+/BWr9SoFa778Fav1KgVrvvwVq/UqBWu+/BWr9SoFa778Fav1KgVrvvwVq/UqBWu+/BWr9SoFa778Fav1KgVrvvwVq/UqBWu+/BWr9SoFa778Fav1KgVrvvwVq/UqBWu+/BWr9SoFa778Fav1KgVrvvwVq/UqBWu+/BWr9SoFa778Fav1KgVrvvwVq/UqBWu+/BWr9SoFa778=",
          "dtype": "f8"
         }
        },
        {
         "mode": "lines",
         "type": "scatter3d",
         "x": {
          "bdata": "/8YsRt7nNj8SwAcdv3sfP/Cm5wdvyBy/HHeWaLw7Nr9QcYbyOJdCv9Y168dp/Um/NybqEGikUL9N3L2F8zhUv+cJInemuFe/DlXGluUfW79iQBzLLmtevwmFj2aOy2C/8soyVDVQYr8NWfGM+8Fjv9Iv7eRjH2W/fVncLgZnZr9BH1CvkJdnv3JK2XjJr2i/bpKir4+uab+VozOz3JJqv77OKS3FW2u/cVDPA3oIbL+KHpcvSZhsv+EroXKeCm2/2vWJ8QNfbb9v1uesIpVtv+ve+NrCrG2/wskkIcylbb/zuxetRYBtvwD1Wy1WPG2/Sg56qUPabL8Q5Mg5c1psv+mRN59ovWu/zO58u8UDa7/+iDjqSS5qv2clsTvRPWm/ZBj8kVMzaL9tTneh4w9nv/tqndWt1GW/iuNXG/eCZL9kUA6SGxxjv3Y2zCSNoWG/DzTvDNIUYL+mRc1/Bu9cvxarRpOVllm/0//TKsQjVr8k/5lNIJpSv+VJihKf+k2/tOZrXxaiRr/GNDQBcmQ+v9QcYQbGyi6/gEqh0Umd1b5Y3PGno3EtPx1IHtTruD0/lHm5MTFNRj9vS7hQ76ZNP3WBqkQOcVI/kEb2T6L7VT9Ezf1EjW9ZP5hAYvo/yVw/2C7zJqMCYD9wZ+hZJZBhP+NUY9OMC2M/X4tJelJzZD+qqDpyA8ZlP3Hs2plCAmc/7lW38skmaD/+SlDxazJpP6Bi8LMUJGo/R+cOH8v6aj/D6hjesbVrP3I4mEcIVGw/pPbMIyvVbD+HPu1UlThtP2k7XWDgfW0/lV5S2MSkbT8Fw3SlGq1tP5TaMjDZlm0/28qcaRdibT+eWL6zCw9tP0zCj6kLnmw/K1O3xosPbD/ZpXbvHmRrP0FcP9l1nGo/FGOLVF65aT/QhbR4wrtoP7gFprKnpGc/DvJgty11Zj+vC2lbjS5lPybrS1AX0mM/kNKOyTJhYj/P72gKXN1gP0F9j7tFkF4/0TVj9FFGWz8DqV6mQOBXPz9A8bOSYVQ/zQVhXuLNUD+Q7Tgev1FKP9+VchWY7EI/D8csRt7nNj8=",
          "dtype": "f8"
         },
         "y": {
          "bdata": "CO0GckeRVj84vZvzD3lXP4o5ry+mSFg/o+0WKjT/WD//ZW20/ZtZP9VlDTBhHlo/ZsirNNiFWj9cUeQa+NFaPw2aKmpyAls/b8etKRUXWz+aptsTyw9bP2wWTqyb7Fo/yiMMOKutWj+D1CaYOlNaPyAr2Aan3Vk/K1Rpt2lNWT8nDUNZF6NYP4UOqX5f31c/h3a+5wsDVz+4xI2y/w5WP9zG6nA2BFU/tswfJcPjUz+fc3Emz65SP+NCne6YZlE/vAyP0XIMUD+/+T5Bg0NNP6irhnX2T0o/JAhNFkpBRz9pmYDvpBpEP87F/IJG30A/PCjOXgclOz8wLg6Chm80P+wEjcDpSSs/+HP/g0oxGz8A0nWllFGzviBFH4GHyxu/8GgZ7JCWK78iFlTsdpU0v4o6z4FtSju//Mg9KqHxQL/d2ghBlCxEv5DtR5W7Uke/SPDSJthgSr8FsPe9w1NNv0BvRRU6FFC/ojQKM/9tUb86He7KzLVSv4HN3vRQ6lO/X95lqk0KVb92p3wOmhRWv1Ggj58jCFe/ZOZ1Uu/jV7/MNzmVGqdYv9OgozjcUFm/3huiP4XgWb+YXKaTgVVav4TVTZ1Yr1q/SpywwK3tWr8gCdi8QBBbv16p+u3tFlu/vD45cq4BW79Y7LYwmNBav1pBBcPdg1q/SGf7QM4bWr+IOC7v1JhZvyRKXdB4+1i/SORGGlxEWL/CX3KOO3RXvzpFnbfti1a/hsCTDGKMVb92YFj5n3ZUvzCXmc/FS1O/6eOMnwcNUr/t41/6rbtQv4hGDT8psk6/kp6ILFLNS78ynb9p0stIv15OES7DsEW/S94DClh/Qr8j3eI0t3U+v4J25UdYzTe/KNcNNHAMMb98LTNW6nMkv4DGLeN75wq/YPvtVm0cDD+kmFsV18AkP+Bn4x6XMjE/nDwJagjzNz/eo9O0yZo+P0UlYV1/kUI/Gx9D3nXCRT9+GHE4/txIPxCnbmbl3Us/WHUlzhLCTj+ln/a4RcNQP3DehoE6FFI/PN1HaYxSUz/+rKpO83xUP4apS5g7klU/B+0GckeRVj8=",
          "dtype": "f8"
         },
         "z": {
          "bdata": "CtT6lQK17r8K1PqVArXuvwrU+pUCte6/CtT6lQK17r8K1PqVArXuvwrU+pUCte6/CtT6lQK17r8K1PqVArXuvwrU+pUCte6/CtT6lQK17r8K1PqVArXuvwrU+pUCte6/CtT6lQK17r8K1PqVArXuvwrU+pUCte6/CtT6lQK17r8K1PqVArXuvwrU+pUCte6/CtT6lQK17r8K1PqVArXuvwrU+pUCte6/CtT6lQK17r8K1PqVArXuvwrU+pUCte6/CtT6lQK17r8K1PqVArXuvwrU+pUCte6/CtT6lQK17r8K1PqVArXuvwrU+pUCte6/CtT6lQK17r8K1PqVArXuvwrU+pUCte6/CtT6lQK17r8K1PqVArXuvwrU+pUCte6/CtT6lQK17r8K1PqVArXuvwrU+pUCte6/CtT6lQK17r8K1PqVArXuvwrU+pUCte6/CtT6lQK17r8K1PqVArXuvwrU+pUCte6/CtT6lQK17r8K1PqVArXuvwrU+pUCte6/CtT6lQK17r8K1PqVArXuvwrU+pUCte6/CtT6lQK17r8K1PqVArXuvwrU+pUCte6/CtT6lQK17r8K1PqVArXuvwrU+pUCte6/CtT6lQK17r8K1PqVArXuvwrU+pUCte6/CtT6lQK17r8K1PqVArXuvwrU+pUCte6/CtT6lQK17r8K1PqVArXuvwrU+pUCte6/CtT6lQK17r8K1PqVArXuvwrU+pUCte6/CtT6lQK17r8K1PqVArXuvwrU+pUCte6/CtT6lQK17r8K1PqVArXuvwrU+pUCte6/CtT6lQK17r8K1PqVArXuvwrU+pUCte6/CtT6lQK17r8K1PqVArXuvwrU+pUCte6/CtT6lQK17r8K1PqVArXuvwrU+pUCte6/CtT6lQK17r8K1PqVArXuvwrU+pUCte6/CtT6lQK17r8K1PqVArXuvwrU+pUCte6/CtT6lQK17r8K1PqVArXuvwrU+pUCte6/CtT6lQK17r8K1PqVArXuvwrU+pUCte6/CtT6lQK17r8K1PqVArXuvwrU+pUCte6/CtT6lQK17r8=",
          "dtype": "f8"
         }
        },
        {
         "mode": "lines",
         "type": "scatter3d",
         "x": {
          "bdata": "NjAoycoANz9Ea8pvYocgP4TeeQC1Bxq/AOMmctZANb9Z+dWN6/RBvzKnxUfpNkm/vKt8knQvUL+t8DxXxbJTv8rXdunHIVe/NqrnLvJ4Wr/4fL6h0rRdv+rCpu4JaWC/yCzeBsDmYb8jIpgfAlJjv5q7gMRZqWS/+2rcCGXrZb8TTV301xZnv8rSVtl9Kmi/ogHvkjolab/rSwWqCwZqv30SoV8JzGq/bSvVm2d2a78wLSLAdgRsv/CfflykdWy/YXhKxnvJbL+8QZKQpv9sv5P+JeXsF22/1+onvjUSbb8Yytf/hu5svx4rgHIFrWy/quOLnPRNbL/T2ep8ttFrv6rbDSbLOGu/MqbhOdCDar9kMlFHgLNpvwzI9gmyyGi/yRLCjFfEZ7+lZXcwfadmv7heCZdIc2W/6hfqdPcoZL8s6ItJ3slivx5MYwBnV2G/FYyn9x6mX79UjxAX0Hxcv3TfmZ8jNlm/YvImF3rVVb+EMbvNTl5Sv9tmYo1oqE2/2R4PFKF1Rr8qLjyGZVc+v4wh1S6ESC+/AGNVcd8f7L4c0zgdWMYrP9xIL1kGmTw/ciAD/LKYRT9AlR+xn85MPzYOHz1t81E/18f0kAltVT8jLmjMj9BYP/uXLayBGlw/b9IpS3tHXz9NnItQGyphP+sqMXHHnmI/fsrh3kEAZD/caB86Hk1lP1IxLGQFhGY/LKC84LajZz+xi1QgCqtoPwGX+rHvmGk/KO8GW3Jsaj/94+wTuCRrP4XI+ugCwWs/x20ovrFAbD+AYCr1QKNsPwS4HvVK6Gw/JZtHk4gPbT8ohmdc0RhtP6Syc74bBG0/+aVxEn3RbD/junWGKYFsP1JV2edzE2w/sjLgTc2Iaz/Z0iSlxOFqP+MkRBwGH2o/BldgclpBaT+6vjEopkloP18pe5ToOGc/UmPU3DoQZj/jR9rTztBkP9IY773te2M/cxTQ/fYSYj+sKl6qXpdgPy5lHh5YFV4/PAMmMfDcWj+SW5he14hXP2wAngJ8HFQ/UDJUe2WbUD/Swy0LYRJKP1yphgcX00I/RjAoycoANz8=",
          "dtype": "f8"
         },
         "y": {
          "bdata": "Gp45l+ctVj9d4SE6SBZXP7YSq2rc5lc/k33iJs2eWD8rt7HSXD1ZP9LKUvvnwVk/n6nM/+UrWj/YL8qd6XpaP3eROmKhrlo/DRVH/dfGWj+QkEd5dMNaPxgCfVR6pFo/7r53fQlqWj8U7ywyXhRaP6hD3cHQo1k/NOsMMtUYWT9omurG+nNYP9LxoG/rtVc/W3wqF2vfVj/c2FzaVvFVPwM9+yOk7FQ/gUW7r1/SUz/K2kB1rKNSP0K4LnzCYVE/5sOAmu0NUD8QjPc8GFNNP684JssabEo/m0dxw+BpRz8OazodhE9EP2pB8bA3IEE/idr714e+Oz/s1djcBiA1P1CwVld+1yw/YLq2yGeiHj8ASq0d9rHrPtAK1tB7uRe/6F/a22BoKb902VR66WwzvzzWSFecETq/wiVq87dNQL816Stf04FDv9gbkQzToUa/9vSoU36qSb8KP/2YtJhMv1ne2oZwaU+/KrI+leUMUb/A+PN4f1NSv3r5qkM1h1O/Vd+ow8mmVL/+yVKHFLFVv5lzwg4DpVa/Svy75pmBV78fLeGr9UVYv9MBF/VL8Vi/gdorJOyCWb+sQOcbQPpZv2aTx9rMVlq/4xfO+TKYWr/+udYOL75av+YcFvKZyFq/qFl25mi3Wr9U0KikrYpav4Gi4UiWQlq/CqxPI23fWb/W+IFrmGFZv+KuCdeZyVi/wAnFEw4YWL/wO10mrE1Xvwuyna1Ea1a/ljFnC8FxVb/OgBx0ImJUv0CVgOWAPVO/vpYXBgoFUr8+OzTu/7lQvxQH5Ldvu06/IzXlpjHjS78Y4pFZNO5Iv9olHyKE30W/hBly0Ee6Qr9M2ePkegM/v74oyfhtcji/cC+QuS3IMb9Qg778MRcmv5jj5w2GDhG/kP0v8tlFBD8soiKM9qQiP0YTb0SfEjA//lPC0THCNj98l5maTlo9P0y2Mb0U6kE/+6eavooURT/p57XgRSlIPxgBBhkZJUs/tWt7CfEETj/NmguW62JQP8oBaXB6slE/arVQLcvvUj9dw0u0lhlUP9fYHgyqLlU/GZ45l+ctVj8=",
          "dtype": "f8"
         },
         "z": {
          "bdata": "ED744IMP7r8QPvjggw/uvxA++OCDD+6/ED744IMP7r8QPvjggw/uvxA++OCDD+6/ED744IMP7r8QPvjggw/uvxA++OCDD+6/ED744IMP7r8QPvjggw/uvxA++OCDD+6/ED744IMP7r8QPvjggw/uvxA++OCDD+6/ED744IMP7r8QPvjggw/uvxA++OCDD+6/ED744IMP7r8QPvjggw/uvxA++OCDD+6/ED744IMP7r8QPvjggw/uvxA++OCDD+6/ED744IMP7r8QPvjggw/uvxA++OCDD+6/ED744IMP7r8QPvjggw/uvxA++OCDD+6/ED744IMP7r8QPvjggw/uvxA++OCDD+6/ED744IMP7r8QPvjggw/uvxA++OCDD+6/ED744IMP7r8QPvjggw/uvxA++OCDD+6/ED744IMP7r8QPvjggw/uvxA++OCDD+6/ED744IMP7r8QPvjggw/uvxA++OCDD+6/ED744IMP7r8QPvjggw/uvxA++OCDD+6/ED744IMP7r8QPvjggw/uvxA++OCDD+6/ED744IMP7r8QPvjggw/uvxA++OCDD+6/ED744IMP7r8QPvjggw/uvxA++OCDD+6/ED744IMP7r8QPvjggw/uvxA++OCDD+6/ED744IMP7r8QPvjggw/uvxA++OCDD+6/ED744IMP7r8QPvjggw/uvxA++OCDD+6/ED744IMP7r8QPvjggw/uvxA++OCDD+6/ED744IMP7r8QPvjggw/uvxA++OCDD+6/ED744IMP7r8QPvjggw/uvxA++OCDD+6/ED744IMP7r8QPvjggw/uvxA++OCDD+6/ED744IMP7r8QPvjggw/uvxA++OCDD+6/ED744IMP7r8QPvjggw/uvxA++OCDD+6/ED744IMP7r8QPvjggw/uvxA++OCDD+6/ED744IMP7r8QPvjggw/uvxA++OCDD+6/ED744IMP7r8QPvjggw/uvxA++OCDD+6/ED744IMP7r8QPvjggw/uvxA++OCDD+6/ED744IMP7r8QPvjggw/uvxA++OCDD+6/ED744IMP7r8=",
          "dtype": "f8"
         }
        },
        {
         "mode": "lines",
         "type": "scatter3d",
         "x": {
          "bdata": "KpHMvzcaNz9lASBR71EhP+CR2evWRBe/7fJhAmRFNL88Ut15VlJBv05On+8fcEi/EMF7crh0T7/4ZRcFcixTv2xnnBXEila/RGy7hNnRWb+pG11gUf5cv6eF/xJzBmC/eD8DkTh9Yb/TlKjX9uFiv5Jf1Sk+M2S/eCn52rJvZb8KAXG1DpZmvw0Ey0oipWe/3/6OLNabaL8TtEkMLHlpvzHgscE/PGq/XsDYNUjkar9uq3MymHBrv2AQaRSf4Gu/bszoYOkzbL/ZJ3Y8IWpsv0jEaMMOg2y/fUGJQ5h+bL8QNY5Wwlxsv0QnXt2vHWy/d3gb3KHBa7/TPh8390hrv04yKFEstGq/0Hsii9oDar9okwymtzhpvyQonAeVU2i/FjNk4l5VZ79etlpCGz9mv98juf7oEWW/S95Nkv7OY79UoG/bqHdiv6ez3MRJDWG/QljPsa0iX7+ecdOArwpcv9rtDl7J1Vi/sObQfEmHVb+6NiZ0mCJSv8THunZrVk2/MpHrHWhJRr/V/cUG10o+vxF8sOxHxy+/4O4ZLv7A9r4QnxXy9hkqP5lqAOCSeDs/4cJWeezjRD+6NULBBvZLPzdSkzGndVE/ch09mEveVD9E78UKbTFYP+AZBSyea1s/PKvpU4uJXj8aLbH+/sNgPx5HHgvwMWI/B0DIlh+NYz/kdrm+J9RkP99bZWa3BWY/rekok5MgZz9Sk/qwmCNoP7P0+r67DWk/cnGwYgveaT/wCtLgsJNqP3T3oPrwLWs/j87sriysaz9NU/vd4Q1sP17nqs+rUmw/RGJFm0N6bD+kRphwgIRsP5T8BsJXcWw/zrJrT91AbD8tsLsRQ/NrP4MRhAfZiGs/xQ104gwCaz/EwEmWaV9qP9ALlsmWoWk/vjLrKFjJaD8iWiidjNdnP93SsWUtzWY/qA+DF02rZT8AHiOCFnNkP0Rnn3vLJWM/sz3KlMPEYT83MBO3alFgP7NuzFp/ml0/u9coM6VzWj/oD7qvhjFXP1HAf6R/11M/2HCmigRpUD+0H5fhPdNJP7lZC6vTuUI/OpHMvzcaNz8=",
          "dtype": "f8"
         },
         "y": {
          "bdata": "4qWYvQ3KVT8MxDPTCbNWP47u58OfhFc/PYgQhPc9WD8XdIIFUt5YP1C+ffwJZVk/+JkRipTRWT/gDkPLgSNaP23HYkx9Wlo/rBobYE52Wj+IldxZ2HZaP9HJbKsaXFo/3up45TAmWj/EoCubUtVZP3hc4yjTaVk/nDpEXiHkWD/xCP4Lx0RYP/AtvHVojFc/UOPRqMO7Vj94T1G4r9NVP3dwV98b1VQ/9mFxig7BUz+bMhlJpJhSP4QiYagOXVE/EKr795IPUD9Y7Mn1EWNNPwUNDwqziEo/GGqSDvqSRz9lIQAX9IREP/IXvkPHYUE/Au7lBV9ZPD+AvCZ29tE1P/wwlIkfaC4/iHftG/oMIT9g7hBYCQL9PmArpkZpoBO/YPTbzow2J7+iHGuie0Iyv6aOgU7e1ji/iuWkHqZRP7+eXlaVEtZCv3NQ+Gjn70W/hO7KPR/zSL/m1MwWn9xLv2pR5nlmqU6/jYMJREmrUL9CcoN7sPBRv3innnSZI1O/DQHC0MdCVL+2ZJyHE01Vv0fdTBhqQVa/nmhZpM8eV7/hxlDzX+RXv4SoC15PkVi/y7maoOskWb8vJQmSnJ5Zv14gNsHk/Vm/itQj9mFCWr/0VjaXzWtav8dT+vH8eVq/Y2YoZ+FsWr+JwLd5iERav7yW8MAbAVq/Wa2MveCiWb8hOBKSOCpZv7bmsp6fl1i/01QWAa3rV7/EB5T4ESdXv9qLfS+ZSla/sAk16iVXVb/urOccs01Uv6Ra3WhSL1O/lmBoAiv9Ub+R35eAeLhQv2Q+zS8TxU6/0EZrgn35S78sVuycERFJvztC89zODka/nc7eQs/1Qr/9uaB+iJI/vwTUEtHmGDm/LuYINmaFMr/QIQ0jnL0nv6AK9dblrxS/AFPh4f7C+D5ku/vXgYUgP3jAofWb4S0/Ul+lWHSPNT9Iyr8j4Rc8P7n7qTGsQUE/9VRQ/J1lRD+OwaI4iXRHP4Sa5dlGa0o/rmK+v8hGTT/YrzduDgJQP8KKER84UFE/2zET/IiMUj8DiYj0urVTP5ZggK2bylQ/4aWYvQ3KVT8=",
          "dtype": "f8"
         },
         "z": {
          "bdata": "Faj1KwVq7b8VqPUrBWrtvxWo9SsFau2/Faj1KwVq7b8VqPUrBWrtvxWo9SsFau2/Faj1KwVq7b8VqPUrBWrtvxWo9SsFau2/Faj1KwVq7b8VqPUrBWrtvxWo9SsFau2/Faj1KwVq7b8VqPUrBWrtvxWo9SsFau2/Faj1KwVq7b8VqPUrBWrtvxWo9SsFau2/Faj1KwVq7b8VqPUrBWrtvxWo9SsFau2/Faj1KwVq7b8VqPUrBWrtvxWo9SsFau2/Faj1KwVq7b8VqPUrBWrtvxWo9SsFau2/Faj1KwVq7b8VqPUrBWrtvxWo9SsFau2/Faj1KwVq7b8VqPUrBWrtvxWo9SsFau2/Faj1KwVq7b8VqPUrBWrtvxWo9SsFau2/Faj1KwVq7b8VqPUrBWrtvxWo9SsFau2/Faj1KwVq7b8VqPUrBWrtvxWo9SsFau2/Faj1KwVq7b8VqPUrBWrtvxWo9SsFau2/Faj1KwVq7b8VqPUrBWrtvxWo9SsFau2/Faj1KwVq7b8VqPUrBWrtvxWo9SsFau2/Faj1KwVq7b8VqPUrBWrtvxWo9SsFau2/Faj1KwVq7b8VqPUrBWrtvxWo9SsFau2/Faj1KwVq7b8VqPUrBWrtvxWo9SsFau2/Faj1KwVq7b8VqPUrBWrtvxWo9SsFau2/Faj1KwVq7b8VqPUrBWrtvxWo9SsFau2/Faj1KwVq7b8VqPUrBWrtvxWo9SsFau2/Faj1KwVq7b8VqPUrBWrtvxWo9SsFau2/Faj1KwVq7b8VqPUrBWrtvxWo9SsFau2/Faj1KwVq7b8VqPUrBWrtvxWo9SsFau2/Faj1KwVq7b8VqPUrBWrtvxWo9SsFau2/Faj1KwVq7b8VqPUrBWrtvxWo9SsFau2/Faj1KwVq7b8VqPUrBWrtvxWo9SsFau2/Faj1KwVq7b8VqPUrBWrtvxWo9SsFau2/Faj1KwVq7b8VqPUrBWrtvxWo9SsFau2/Faj1KwVq7b8VqPUrBWrtvxWo9SsFau2/Faj1KwVq7b8VqPUrBWrtvxWo9SsFau2/Faj1KwVq7b8=",
          "dtype": "f8"
         }
        },
        {
         "mode": "lines",
         "type": "scatter3d",
         "x": {
          "bdata": "1r6l4SI0Nz9PRBQ9gh0iP+QzznXbfxS/uBa7cmZJM7/W8OQ5eq9Av6oIyBgOqUe/xb5WOT6KTr8MTIiR+aVSvxHxiOia81W/6psGcJsqWb/6XbXJqkdcv/hCKFWTR1+/FFRiv54TYb8O09132XFiv9o24M0QvWO/t+SqVO/zZL+fwtmYNBVmv6ASt2q2H2e/Z/ObEWISaL85rCBnPexov5HZ+NhnrGm/kqtxUBtSar+XlaP+rNxqv/LxhAyOS2u/ABooLkyea7+bKo0YktRrv6ABjtkn7mu/stKJEfPqa7+v4JQO98prv5BVEMlUjmu/x7utwUo1a7/IIQHBNMBqv+lR5HiLL2q/DaYMCOSDab/ItlNg771ov0JaUZB53me/EvgC8WjmZr9XBlk4vdZlvzp0n3GOsGS/KbnQ3At1Y7+YG/21eiViv1RqCOY0w2C/iIAvPE+fXr/Pwz2+o5hbv/aDIt6FdVi/2U2bejE5Vb/ratlv/OZRv3bgqE6mBE2/6Cy7IGodRr/jfFwUxD4+v6oOHX6GIzC/4ICio2B6/75+JlErg2woP8gNu5iSVzo/HsMOGN4uRD8GgE7FJB1LP1RL5S6891A/BtZmXWhPVD/c2nDiJJJXPzRcI0eVvFo/wJ91IHbLXT+DeTA20F1gP9Ih4WgGxWE/o4LMX+sZYz9nwjW0H1tkPxLeXktYh2U/NO7Xq1+dZj+DcoI8F5xnP+LL/2t4gmg/6Fpav5VPaT+OQtLGmwJqP2R20ffRmmo/2mgma5sXaz+bQcF+d3hrP97iTFoCvWs/OQ4bVvXkaz/lkPlDJ/BrP3djpZmM3ms/APuvfDewaz+BiMqvV2VrP/duimE6/mo/8q/Z3El7aj88UmUbDd1pP3e0ejonJGk/ajjj0lZRaD/SmWs0dWVnP9Z34YV1YWY/zPptymNGZT+X9U/NYxVkP0dMEvWvz2I/+q50/5d2YT8tvVSnfwtgPw6n+Gu6H10/ogWeAnAKWj9WzsiwTdpWP4FnXsCcklM/QHLCw742UD98fS0zVJRJP1bPFbbMoEI/5b6l4SI0Nz8=",
          "dtype": "f8"
         },
         "y": {
          "bdata": "wKp3/LFlVT/FWtbyTE9WP7WRJZToIVc/zET/xqvcVz9U65EG1n5YPzZaFCnAB1k/tIYWDN12WT/6j/0lustZP3cXFfz/BVo/EjO8fHIlWj/cBFE98SlaP/Qjm5t3E1o/oGSSwhziWT8TE32SE5ZZPzo/fmyqL1k/0ijK4UqvWD8bFdRGeRVYP8665SrUYlc/QuGstBOYVj/brmfkCLZVPxdUc7ycvVQ/qCgbUc+vUz+M0p/Ato1SP+aShhR+WFE/Sj9YDWQRUD+5URu0c3NNP5ZK+HjDpUo/fAdROJu8Rz8guPER+7pEPzaOnF78o0E/A2l6/Jz1PD/8ms4eZ4U2P+SLCU70+y8/aGxmDCLMIj9AC15dvSMGP4DOoeTf/w6/fJd+K+IAJb+icBvhEhYxv0T8psgXmje/iME8XsgFPr/FjQAkQylCv+ZleonpPEW/0qFScqs6SL+R7ImCcx9Lv0MzCx1G6E2/O/NoOyJJUL+SYS3GV41Rv2ItKXt1v1K/uCpLzT/eU79WmGEbj+hUv/Xv1+BQ3VW/74Sx0Ii7Vr8sPp3ZUYJXvyhTFhLfMFi/jqSei3zGWL8P8zgMkEJZvxDDY62ZpFm/rAvxXzTsWb80yTJUFhlav4gQEUYRK1q/+jS7rBIiWr8w18LNI/5ZvzorjbNpv1m/DFAkByVmWb8/FJDNsfJYvzjd+giHZVi/TXgEPja/V78eS8HdagBXv0KDAJXpKVa/3HGPgY88Vb8rD0tOUTlUvyOb6jY6IVO/U1aH9Gr1Ub8YSf2TGLdQvwTJr24Wz06/T8QlhzkQTL8rHRj4bjRJv6kUKxqpPka/wuJSDvUxQ7/+Yp+YdxFAv2NHVMXTwDm/Yvj7USxEM78c5pNbUWcpv6Ct3KA0WBi/gNVRAo664T4w9VhTj8QcP5z4F60Smis/lu8N6rRaND8AgmQuZdM6P1hgujE3mEA/xZgxpaC1Qz+sQEr0uL5GP3TWKRNfsEk/emIlIYqHTD8+9pOJTEFPPx3kPoRr7VA/zrUFyL0oUj+CbdwFWFFTP7urOX8IZlQ/v6p3/LFlVT8=",
          "dtype": "f8"
         },
         "z": {
          "bdata": "GhLzdobE7L8aEvN2hsTsvxoS83aGxOy/GhLzdobE7L8aEvN2hsTsvxoS83aGxOy/GhLzdobE7L8aEvN2hsTsvxoS83aGxOy/GhLzdobE7L8aEvN2hsTsvxoS83aGxOy/GhLzdobE7L8aEvN2hsTsvxoS83aGxOy/GhLzdobE7L8aEvN2hsTsvxoS83aGxOy/GhLzdobE7L8aEvN2hsTsvxoS83aGxOy/GhLzdobE7L8aEvN2hsTsvxoS83aGxOy/GhLzdobE7L8aEvN2hsTsvxoS83aGxOy/GhLzdobE7L8aEvN2hsTsvxoS83aGxOy/GhLzdobE7L8aEvN2hsTsvxoS83aGxOy/GhLzdobE7L8aEvN2hsTsvxoS83aGxOy/GhLzdobE7L8aEvN2hsTsvxoS83aGxOy/GhLzdobE7L8aEvN2hsTsvxoS83aGxOy/GhLzdobE7L8aEvN2hsTsvxoS83aGxOy/GhLzdobE7L8aEvN2hsTsvxoS83aGxOy/GhLzdobE7L8aEvN2hsTsvxoS83aGxOy/GhLzdobE7L8aEvN2hsTsvxoS83aGxOy/GhLzdobE7L8aEvN2hsTsvxoS83aGxOy/GhLzdobE7L8aEvN2hsTsvxoS83aGxOy/GhLzdobE7L8aEvN2hsTsvxoS83aGxOy/GhLzdobE7L8aEvN2hsTsvxoS83aGxOy/GhLzdobE7L8aEvN2hsTsvxoS83aGxOy/GhLzdobE7L8aEvN2hsTsvxoS83aGxOy/GhLzdobE7L8aEvN2hsTsvxoS83aGxOy/GhLzdobE7L8aEvN2hsTsvxoS83aGxOy/GhLzdobE7L8aEvN2hsTsvxoS83aGxOy/GhLzdobE7L8aEvN2hsTsvxoS83aGxOy/GhLzdobE7L8aEvN2hsTsvxoS83aGxOy/GhLzdobE7L8aEvN2hsTsvxoS83aGxOy/GhLzdobE7L8aEvN2hsTsvxoS83aGxOy/GhLzdobE7L8aEvN2hsTsvxoS83aGxOy/GhLzdobE7L8aEvN2hsTsvxoS83aGxOy/GhLzdobE7L8=",
          "dtype": "f8"
         }
        },
        {
         "mode": "lines",
         "type": "scatter3d",
         "x": {
          "bdata": "cT4PvYhONz/2lCv2FOoiPwTl1sDNuBG/YnjVMuBMMr8yrf7XVwxAvx6sf5604Ua/dyIWJXufTb8qHyM6XB9Sv/gKXodMXFW/zKJS/TeDWL+mlKvR3pBbv+DfFEYbgl6/OuBnc/KpYL9hc4rVqQFivwr3BXrRRmO/hbugMxp4ZL/8ddVQSZRlv6jPN+A5mma/4z1t3t2IZ7+N24JMP19ov8xZgS2BHGm/XKM5auC/ab9zYF+atEhqv9INIrJwtmq/SrSRk6MIa7+zYDmD+D5rv+Upd383WWu/abs3ekVXa7/14dl0JDlrv+RZHX7z/mq/ZwEfku6oar+oboNcbjdqv0anD93nqmm/mzEO7+sDab9r0vyzJkNov0rjHOJeaWe/pCmd93R3Zr+LVDBTYm5lv/Os/jI4T2S/v/L7mh4bY79Wv8MjU9Nhv+H4NrMneWC/NqBXQAIcXr92qS6FqyZbvz6bV+NXFVi/ejXz4jDrVL9KzmKjeatRvxQT1/wWs0y/WJPfKKXxRb+OdTcVKTM+v8KFG2bmYzC/YEUg7PMdBL8kq9oBAr4mP0YkjcUHNjk/mELzyoh5Qz9MesOA+kNKPz4sy36seVA/DdjSEWDAUz+rpEFst/JWPzxDv/1mDVo/MYximDsNXT8EAx+9He9fPwSI1GUKWGE/pvJDCaWmYj+vaRbeBeJjP13vBcvnCGU/z0ls1xoaZj8dGZpkhRRnP3KaI1Al92c/r9j3/RDBaD/Y/y9JeHFpP/uXnlqlB2o/W3tBZP2Caj/oTtVAAeNqP17+5fZNJ2s/gSHVHp1Paz8QH20rxVtrP5A9tpS5S2s/+Hrh5Iofaz+E2junZtdqP867OzmXc2o/XKDYfYP0aT+sZHxzrlppP2JA+6y2pmg/+b4drlXZZz/cMGUsX/NmP0G1zzTA9WU/uNJ8N37hZD/hgS76tbdjP7F3vHKaeWI/QUioinMoYT++HDGaOYtfP48QLwEIpVw/oOoMXE+hWT/iwJQsK4NWP8ajkTDSTVM/eR22EZMEUD/eE7T5oVVJP6HfJkgAiEI/gD4PvYhONz8=",
          "dtype": "f8"
         },
         "y": {
          "bdata": "sXkezcsAVT/AfdkuCetVPwh1aJauvlY/BAhu2OF6Vz8eZbH04B5YPy01Gd4Cqlg/35PuKLgbWT8marSei3NZP8jE+rYisVk/Qpqx9D3UWT8azZonudxZP/rzl5GLylk/qHOt78edWT9+oLFmnFZZP8vQu1NS9Vg/PmiEAE56WD8e0QM8DuZXP+rzutcrOVc/dOwrCll0Vj+XXiW3YJhVP7/InZ4lplQ/Lmv2cqGeUz9TtZbX44JSP7mM6UgRVFE/mhHd7mETUD+4WDe2QIRNP3YrlGhQw0o/yDhTn8nmRz+dIiB1n/FEPyvcbmre5kE/NpLZgVKTPT9MFAKAazo3P2TwYcuSyTA/aBVIHdiOJD/A3i5YZtUNP0ABzJBUrwa//BPZSSvHIr/EpQAaJs8vv4hO6mMrWza/cmWtKbi3PL8GoNlPVXtBv5hdpEXJiES/WtlSbBKBR796XtQLIWFKv3F1y2X+JU2/rgCvw8/MT79wLAO0bClRv/f626/AWlK/LY1BGCl5U792b/CwfoNUv+/e1+6ueFW/hBcbE71XVr9ycJovwx9XvyO29xPzz1e/HG8hIpdnWL+C84kJE+ZYvxFbSWjkSlm/CiiEUaOVWb8pJIy4AsZZv0MBTcDQ21m/dd6y7vbWWb+mtdVDerdZvybP0TR7fVm/uItSijUpWb8XAvIiALtYv732rJlMM1i/XnzH0KaSV7+09JphtNlWv/8U4vEzCVa/heUyb/whVb9mUHEx/CRUv4qhHgU4E1O/gjqDHsrtUb8lmsf24LVQv/MrUSh82U6/JFsQfWknTL+7O2FDUVhJv4hyZL0Yb0a/n+arG8BuQ78a6FxlX1pAv1BXf49Gajq/OmwLoZMENL8sDZtYfBQrv7hPMY7OBxy/APLUEPeb3L7gHVGHJ3YYPyxrz6prTik/tg+svNYjMz+2+MzHvIw5P2w5f31M2z8/4ixOxYIEQz+W7+C6xAdGPwrXBRhR9Eg/JIQSPiTHSz+uSIsSVX1OPw9hmv8LilA/LSfc6WDEUT8FffFCZexSP6R61ObnAFQ/sHkezcsAVT8=",
          "dtype": "f8"
         },
         "z": {
          "bdata": "H3zwwQcf7L8ffPDBBx/svx988MEHH+y/H3zwwQcf7L8ffPDBBx/svx988MEHH+y/H3zwwQcf7L8ffPDBBx/svx988MEHH+y/H3zwwQcf7L8ffPDBBx/svx988MEHH+y/H3zwwQcf7L8ffPDBBx/svx988MEHH+y/H3zwwQcf7L8ffPDBBx/svx988MEHH+y/H3zwwQcf7L8ffPDBBx/svx988MEHH+y/H3zwwQcf7L8ffPDBBx/svx988MEHH+y/H3zwwQcf7L8ffPDBBx/svx988MEHH+y/H3zwwQcf7L8ffPDBBx/svx988MEHH+y/H3zwwQcf7L8ffPDBBx/svx988MEHH+y/H3zwwQcf7L8ffPDBBx/svx988MEHH+y/H3zwwQcf7L8ffPDBBx/svx988MEHH+y/H3zwwQcf7L8ffPDBBx/svx988MEHH+y/H3zwwQcf7L8ffPDBBx/svx988MEHH+y/H3zwwQcf7L8ffPDBBx/svx988MEHH+y/H3zwwQcf7L8ffPDBBx/svx988MEHH+y/H3zwwQcf7L8ffPDBBx/svx988MEHH+y/H3zwwQcf7L8ffPDBBx/svx988MEHH+y/H3zwwQcf7L8ffPDBBx/svx988MEHH+y/H3zwwQcf7L8ffPDBBx/svx988MEHH+y/H3zwwQcf7L8ffPDBBx/svx988MEHH+y/H3zwwQcf7L8ffPDBBx/svx988MEHH+y/H3zwwQcf7L8ffPDBBx/svx988MEHH+y/H3zwwQcf7L8ffPDBBx/svx988MEHH+y/H3zwwQcf7L8ffPDBBx/svx988MEHH+y/H3zwwQcf7L8ffPDBBx/svx988MEHH+y/H3zwwQcf7L8ffPDBBx/svx988MEHH+y/H3zwwQcf7L8ffPDBBx/svx988MEHH+y/H3zwwQcf7L8ffPDBBx/svx988MEHH+y/H3zwwQcf7L8ffPDBBx/svx988MEHH+y/H3zwwQcf7L8ffPDBBx/svx988MEHH+y/H3zwwQcf7L8ffPDBBx/svx988MEHH+y/H3zwwQcf7L8=",
          "dtype": "f8"
         }
        },
        {
         "mode": "lines",
         "type": "scatter3d",
         "x": {
          "bdata": "B78JfWRpNz9hHuCCnrcjPyASGpl83w2/qG16AdVPMb+cCiUC4tE+v5Fpd/kUGka/iAKweHC0TL8V6N6EmphRv2SjBFzZxFS/GCgNeq/bV78xT+Ko7dlav4Y3agx+vF2/hNFdqDNAYL9xgXTdZ5Fhv4ebnAyA0GK/pkzjRzP8Y78bz1CfTBNlv3MBXl+sFGa/Vf2FOUn/Zr+4+MFVMdJnv6yH1UuLjGi/ikNqA5ctab9j0xN6rrRpv3k3cG5GIWq/BPGz7+5yar+bDQ7RU6lqv6YjbQA9xGq/TM5LwI7Dar9GFEnESadqv4s/bzCLb2q/y+Qpe4wcar+YEQoyo65pv4KwlaFAJmm/lwt9YPGDaL9E0a6+XMhnvxf/3xhE9Ga/QXs5EYIIZr8J1PitCQZlv6J27F7l7WO/15nN6jXBYr/G+ZJFMYFhv5A+71AhL2C/mdGIEMWYXb9bltUyxbRavyS6e9c9tVe/Ku7mLUadVL/dgaWWDnBRv4irvLO6YUy/mMBkjhbGRb+AEhIKASg+vzKz2AS/pDC/OM7jbqeCCL/upmVVew4lP/92OPP1Ezg/o8kEJe7DQj9u5KFRiWpJP+QWImrx9k8/UpaALTMxUz+Fae8DJVNWPxAL6Y4TXlk/DcrY3dtOXD9Dy7n0dSJfPzbr/vX76mA/miq5eEwzYj94doUT2mhjP9QgTq5limQ/uNPb0MSWZT9gz4DW4oxmP2BnRAvCa2c/9chosXwyaD9edT3uReBoPwZRSp1qdGk/eJr5CFLuaT/PbQKIfk1qP0OQ8f6NkWo/2PxKRTq6aj/H8tttWcdqP9T48vHduGo/mUhRv9aOaj9eQscob0lqP2nGi7nu6Gk/zXx867htaT9qEZPATNhoP9sX+T9EKWg/j4xB11NhZz9JnmugSYFmP8t4bo0MimU/IhEpept8ZD9JWqslDFpjP7+x5xOKI2I/2qXzWFXaYD+0sSyegv9ePz488XFmKlw/h9K+okE4WT9EXdiTHSxWP6+o4HQeCVM/sOjCCQClTz95bBJ6JBdJP7c+Hs1rb0I/Fr8JfWRpNz8=",
          "dtype": "f8"
         },
         "y": {
          "bdata": "kxWE/VGbVD+sj0BxNYZVP4MIHtroWlY/Vmtr9pAYVz90r5dFar5XP3/9uNHJS1g/TYnH3x3AWD/idtaF7hpZP3XwrybeW1k/6AFV0qmCWT+mwP2KKY9ZPxWfUm5QgVk/RG20wixZWT+5VYXo5xZZP9IBgi/Gulg/3NxWkCZFWD9cDLpKgrZXPwIIb2hsD1c/zqe0JZFQVj9e5rk/tXpVP2pb0Cm1jlQ/SnwtKoSNUz8h4iRfK3hSPzsW3q3IT1E/FJufm40VUD/Z+L0lfJVNP1EWtSpe4Uo/EuwpuYoRSD8qMjrU5yhFP7giOhJ1KkI/fD7rCpEyPj9r64cbF/E3P4iXayzvljE/oOTkCEtVJj8IOAltZMsSPyBbrp6znPy+YKdvTy+JIL+cBXSCvG0tvzClmuL5GTW/wAKpClVnO79cbydSOMxAv+Drc1x100O/x0lKgkLGRr8hveCylaFJv8BYnxB9Yky/Kug5+iEGT7/NS9v75cRQvw+nLsRx9VG/kdRVZ3oTU7+GSMYL2R1Uv2EeHB17E1W/lgMlZ2PzVb9+R+Iaq7xWv4wCdbyCble/mBP/+DIIWL+KepxjHYlYvxxEshi98Fi/EK/qRqc+Wb8FVlGdi3JZv8DcHZ40jFm/PMnX1YeLWb9IsZr2hXBZv6mhXtdKO1m/zntFVw3sWL9K3wolH4NYv1rt0GrsAFi/KLKgXvtlV78sIxG467JWvxdPowt26FW/a3Z9DGsHVb/ALkm1shBUvzNUEllLBVO/nUgdnUjmUb81v8Jc0rRQvwj16/BG5E6/BbpfIhE/TL8qxBpjvXxJv27lBcwjoEa/XPIuizesQ7/XE1TZA6RAvxBrTa1RFTu/IiEEpLDGNL+gHp73ScUsvyiaLrUUvx+/oA7po29L974wEoayXR8UPyA5JZVs/iY/Ml1GO7vqMT+cYd4RyEM4P463UKvRgz4/+CeWVjNSQj8rs+QUm09FPyyjhhELN0g/aKaF8oQFSz9mMPsYJLhNP0uQQU4QJlA/MqyKFGlfUT9w5Che2YZSP3YHtp8wm1M/khWE/VGbVD8=",
          "dtype": "f8"
         },
         "z": {
          "bdata": "JObtDIl5678k5u0MiXnrvyTm7QyJeeu/JObtDIl5678k5u0MiXnrvyTm7QyJeeu/JObtDIl5678k5u0MiXnrvyTm7QyJeeu/JObtDIl5678k5u0MiXnrvyTm7QyJeeu/JObtDIl5678k5u0MiXnrvyTm7QyJeeu/JObtDIl5678k5u0MiXnrvyTm7QyJeeu/JObtDIl5678k5u0MiXnrvyTm7QyJeeu/JObtDIl5678k5u0MiXnrvyTm7QyJeeu/JObtDIl5678k5u0MiXnrvyTm7QyJeeu/JObtDIl5678k5u0MiXnrvyTm7QyJeeu/JObtDIl5678k5u0MiXnrvyTm7QyJeeu/JObtDIl5678k5u0MiXnrvyTm7QyJeeu/JObtDIl5678k5u0MiXnrvyTm7QyJeeu/JObtDIl5678k5u0MiXnrvyTm7QyJeeu/JObtDIl5678k5u0MiXnrvyTm7QyJeeu/JObtDIl5678k5u0MiXnrvyTm7QyJeeu/JObtDIl5678k5u0MiXnrvyTm7QyJeeu/JObtDIl5678k5u0MiXnrvyTm7QyJeeu/JObtDIl5678k5u0MiXnrvyTm7QyJeeu/JObtDIl5678k5u0MiXnrvyTm7QyJeeu/JObtDIl5678k5u0MiXnrvyTm7QyJeeu/JObtDIl5678k5u0MiXnrvyTm7QyJeeu/JObtDIl5678k5u0MiXnrvyTm7QyJeeu/JObtDIl5678k5u0MiXnrvyTm7QyJeeu/JObtDIl5678k5u0MiXnrvyTm7QyJeeu/JObtDIl5678k5u0MiXnrvyTm7QyJeeu/JObtDIl5678k5u0MiXnrvyTm7QyJeeu/JObtDIl5678k5u0MiXnrvyTm7QyJeeu/JObtDIl5678k5u0MiXnrvyTm7QyJeeu/JObtDIl5678k5u0MiXnrvyTm7QyJeeu/JObtDIl5678k5u0MiXnrvyTm7QyJeeu/JObtDIl5678k5u0MiXnrvyTm7QyJeeu/JObtDIl5678k5u0MiXnrvyTm7QyJeeu/JObtDIl5678=",
          "dtype": "f8"
         }
        },
        {
         "mode": "lines",
         "type": "scatter3d",
         "x": {
          "bdata": "KOuSpK+ENz+90IikEoYkPwj5mQyISQi/6QsbMEpSML+qnlBMkIo9vyAXgmAxUkW/wOl5LiDJS78wzqJPtRFRv6iFOyRCLVS/IQMJgwI0V7+tyJ7K1yJav9/WYAG89ly/LzZY88SsX7/mXLOZEyFhv3GJYH4cWmK/pX/beDqAY78PkXpaPpJkv8xhSa0Nj2W/FJMz16N1Zr9/FKcmE0Vnv/gxmceF/Ge/C8zxnz6baL84hHkSmiBpv/nsgacOjGm/juKZmi3dab8l+rtMoxNqv/1TgZo3L2q/hPX/Fc4var+TBBkkZhVqvzeuGP0a4Gm/RhSnkCOQab8vLidN0iVpv/r8vcqUoWi/u6lZWvMDaL+tAi15kE1nv1IwMCkof2a/ZktTL4+ZZb87mio4sp1kv+aL9uOUjGO/I+4Cu1BnYr+JPnELFC9hv+x8MmNByl+/HAiCmJUVXb/nEwW87kJav4xNkLo1VVe/sI62aG9PVL9+ZSJmuTRRv+THwc6NEEy/bofa0rqaRb/mZY9JRR0+v5cCWQsK5jC/GBZQaRvrDL/qCyc0+l0jP0PHJTxi8TY/q4Z9ehAOQj/4H8NQ05BIP0wBvX5D+k4/sZRdfuKhUj8RU9lWbrNVPwLMvoabrlg/sfAkW1eQWz/Ezj5bqVVeP7tfIizbfWA/jTuWr+G/YT9PgZNEnO9iP6n//tPRC2Q/WEzHZV0TZT+hdeROLwVmPzeYYklO4GY/46xWddijZz8TrrRBBE9oP68RFzwh4Wg/kmihxphZaT+gpUKz7rdpP0sBt8PB+2k/noXFDcwkaj9L7lFD4zJqPzWS+N34JWo/cGIHLhr+aT+kj8RMcLtpP2v7EPI/Xmk/gSGSLenmaD/LfawD51VoPx+CtO7Oq2c/bNPYRFDpZj/Ao2SDMw9mPw55FIBZHmU/YGpSgboXZD86vEg+ZfxiP6Ws0sd9zWE/NBhrWzyMYD88oZ5C2HNeP/rbQ67Tr1s/VPra0ETPWD9fOvPsItVVP/uc7KF/xFI/zmJDhAdBTz92s04i2NhIP0L1+9oLV0I/NuuSpK+ENz8=",
          "dtype": "f8"
         },
         "y": {
          "bdata": "9HcUojo1VD+1aaHpxyBVP9zeI7SN9lU/HycUpa+1Vj96YGe2aF1XP3QXqAMM7Vc/seoufAVkWD/+esN72sFYP5hSCEkqBlk/QHIvea4wWT/gvJA4O0FZP5Ru13e/N1k/LQ2Y/UQUWT9ssTxc8NZYP04MUswAgFg/uQRc688PWD8oG3Vf0YZXP/fMF2CS5VY/UtqMJLksVj9XfZQ4BF1VP/Qw+7dJd1Q/nIDkcXZ8Uz93Y6/0jG1SP8zEb4OkS1E/DvcP9ucXUD8Zn4UKKadNP2zuBwfx/0o/yAjvCOQ8SD9oOhjo2mBFP0g/pz3IbkI/yytWtGrTPj/uUbBIfqk4P+SQI8clZjI/8OdG5qsfKD84gHB0XLQWPwA+Jy0zcOe+sKBgG2SNHL9YzLSRqQcrv9Ln0xJi1jO/PFKNdHwUOr+JXwhJ2htAv3P25WLbHEO/9rAQ0ygKRr8LvtczvuBIv5xj3IqunUu/hg4iTSc+Tr+qNe+juV9Qv47hhLV+j1G/24JnuSmtUr89iI42lLdTv27dX4yrrVS/imzHDXKOVb96ybUGAFlWv095+KqEDFe/3KB17UaoV791PO0+pitYv7g+ezMblli//vkvDjjnWL/87i4yqR5Zv+Bk33g1PFm/cPLVbL4/Wb/KPTppQClZvy6ViJ3S+Fi/roGr9aauWL/C9oXmCUtYv5AqIx9izle/8lTdHjA5V7+4ceiwDYxWv2KQyU2tx1W/FB1eY9nsVL/vxjCEc/xTv4Ad835z91K/JJYLX+beUb86Sz9X7bNQv7quKi95706/iTNOHzRXTL+3u0k9uKFJv5F50mTQ0Ua/0AsOrmLqQ7+E95pwbe5AvwWrNFsIwju/dAfSx5iKNb9clzRH6Xkuv1B8v502vyG/MLmt2OLIA7/AhCnEeX8PP+hC6pfXqSQ/+oBE7kGvMD/yY/coZfg2P7bnLcDaKT0/4QVAMKCeQT/fPthZKZZEP0/btup5eEc/Gty80JhCSj8sQVzqpfFMPw/raf3cgk8/vfaVSMz5UD9H4llUqiBSP1dGWq3YNFM/83cUojo1VD8=",
          "dtype": "f8"
         },
         "z": {
          "bdata": "KVDrVwrU6r8pUOtXCtTqvylQ61cK1Oq/KVDrVwrU6r8pUOtXCtTqvylQ61cK1Oq/KVDrVwrU6r8pUOtXCtTqvylQ61cK1Oq/KVDrVwrU6r8pUOtXCtTqvylQ61cK1Oq/KVDrVwrU6r8pUOtXCtTqvylQ61cK1Oq/KVDrVwrU6r8pUOtXCtTqvylQ61cK1Oq/KVDrVwrU6r8pUOtXCtTqvylQ61cK1Oq/KVDrVwrU6r8pUOtXCtTqvylQ61cK1Oq/KVDrVwrU6r8pUOtXCtTqvylQ61cK1Oq/KVDrVwrU6r8pUOtXCtTqvylQ61cK1Oq/KVDrVwrU6r8pUOtXCtTqvylQ61cK1Oq/KVDrVwrU6r8pUOtXCtTqvylQ61cK1Oq/KVDrVwrU6r8pUOtXCtTqvylQ61cK1Oq/KVDrVwrU6r8pUOtXCtTqvylQ61cK1Oq/KVDrVwrU6r8pUOtXCtTqvylQ61cK1Oq/KVDrVwrU6r8pUOtXCtTqvylQ61cK1Oq/KVDrVwrU6r8pUOtXCtTqvylQ61cK1Oq/KVDrVwrU6r8pUOtXCtTqvylQ61cK1Oq/KVDrVwrU6r8pUOtXCtTqvylQ61cK1Oq/KVDrVwrU6r8pUOtXCtTqvylQ61cK1Oq/KVDrVwrU6r8pUOtXCtTqvylQ61cK1Oq/KVDrVwrU6r8pUOtXCtTqvylQ61cK1Oq/KVDrVwrU6r8pUOtXCtTqvylQ61cK1Oq/KVDrVwrU6r8pUOtXCtTqvylQ61cK1Oq/KVDrVwrU6r8pUOtXCtTqvylQ61cK1Oq/KVDrVwrU6r8pUOtXCtTqvylQ61cK1Oq/KVDrVwrU6r8pUOtXCtTqvylQ61cK1Oq/KVDrVwrU6r8pUOtXCtTqvylQ61cK1Oq/KVDrVwrU6r8pUOtXCtTqvylQ61cK1Oq/KVDrVwrU6r8pUOtXCtTqvylQ61cK1Oq/KVDrVwrU6r8pUOtXCtTqvylQ61cK1Oq/KVDrVwrU6r8pUOtXCtTqvylQ61cK1Oq/KVDrVwrU6r8pUOtXCtTqvylQ61cK1Oq/KVDrVwrU6r8=",
          "dtype": "f8"
         }
        },
        {
         "mode": "lines",
         "type": "scatter3d",
         "x": {
          "bdata": "mJyavWGgNz+aE081YVUlP0gQzBf7rwK/hKWf5Y2oLr+HVNBHwUI8v/iDbO8MikS/jgMxHo3dSr+qf87irYpQv8r5kAOIlVO/+YrWFTKMVr8yBm4NnmtZvyZHpdPVMFy/fXi9VP7YXr+uosM4rbBgv/oPD+mm42G/hs1syy8EY7+qVFdyHhFkv9AiMKVdCWW/m7YDfu3rZb9So1Jx5LdmvwjQzz5wbGe/1rgbytYIaL/ESJ3adoxov76JssHI9mi/pNqN5l5Hab+yfi835n1pvz0RB34mmmm/oJjkmwKcab89fv2leINpv4x55uehUGm/3WSAybIDab+i3PKY+pxov91Y7DjjHGi/uAV8s/CDZ7+H3vWxwNJmvyZZbdoJCma/WyluE5sqZb/uMLWuWjVkv552xXtFK2O/+t9Nw20NYr/xUGws+txgvzZJ4xlJNl+/HTC/S3GSXL9sQ9yaJdFZv8t08Q899Va/kneLIqoBVL+6M1Svd/lQv0I+aaqLv0u/zzUZeY1vRb82IUwv7RI+v8PODTS/JzG/2OrldIirEL+oo5V7jawhPxlV75dTzjU/nL0CCPNXQT8pZU5427ZHP2Kf/u9R/U0/lMaIOm8SUj9j1rF1lBNVP6xibc///lc/o9/80q7RWj/OOSSLuIhdP6CFCkGoEGA/scP80WRMYT/X55KATHZiP7DdizYsjWM/JrLIe+SPZD9O7aCean1lP2iJzMbJVGY/siPI8SMVZz+BO6/Xsr1nP52XoLfITWg/3iDaCtHEaD/FkNMdUSJpP4Ahuo7oZWk/it3KsFGPaT/QJCXUYZ5pP/ldy3EJk2k/CHikO1RtaT+KvG0QaS1pP4tfqdOJ02g/+xqzKRNgaD/Q2EAYfNNnP6rcsYtVLmc/8+WqwUlxZj8YSZmZG51lP2Pl0culsmQ/cAkbCNqyYz97r4n8v55iP+ThskV0d2E/WHdJSSc+YD8FJ634N+hdP8+/oCxNNVs/mlHMZFZmWD+pwtbAOH5VP9vnt03zf1I/ooQO3jfdTj8i039huJpIP7HsgQncPkI/ppyavWGgNz8=",
          "dtype": "f8"
         },
         "y": {
          "bdata": "CIuDBnvOUz9GyHf9tbpUP3O1q66SkVU/vlAYnjNSVj+PR+Y60vtWP1iOHay/jVc/8vPhhGUHWD/e5YJfRmhYPyiOvl7+r1g/yguzlEPeWD9LqBNP5vJYP9p7U0jR7Vg/e9GSvQnPWD/EsDhpr5ZYP1oePmL8RFg/zslM4ETaVz/o4u7k9lZXPziTKcqZu1Y/fgD3ts0IVj+Qqi/6Sj9VPxVSjUzhX1Q/QkCL+nZrUz/HqAD3B2NSP8LcadekR1E/pAbsunEaUD8FKWo6SrlNP4Zx3CwNH0s/G9gVE9toSD/yE6GEf5lFP4TTBgngs0I/opDWNvJ1Pz/w/AUttmM5P9aqFhhONzM/sDIgLC7uKT9I1sjACqYaPwDOLKUNRNU+gJe0yef+F794mCkYqpwov5byfbdAkDK/kuBJqQm/OL/cF9BPUNQ+vwXQfLLnZEK/1KKAMrFMRb/AhrfxhR5Iv1j049t910q/yiHKfcp0Tb+cD8jpufNPv+V3g7/cKFG/7WQ0SCxGUr+5QDt0pVBTv2A825M1R1S/tmN9fd4oVb8Poq+Tt/RVv7ed7bTuqVa/jD08FMlHV7/0j7j5o81Xv/6UU2r1Oli/WAQOtkyPWL8rcSHsUspYvxMOnzTL61i/Wq8nD5PzWL+UZHx2ouFYv14Aw+gLtli/fAh2VPxwWL/ctBPquhJYv+y7u9Kom1e/XpEHzEAMV7+pVYSpFmVWv0PiULzWplW/Rgd9IUXSVL9/FOH3POhTv7ARPn6v6VK/znuPGqPXUb/o345LMrNQv0ZMAAsV+06/u3Tl9tVvTL/YyW+sRsdJv18Dw7QkBEe/KIFb/UgpRL/sUanopDlBv9GZ6op+cDy/fpNhYGJQNr+yiM7CRRkwv9C2crIhoyO/QJkzL+f9C78w8P4vk60GPxRdAkNrUCI/TOqHzZDiLj+snN8KcKo1P/rgpktCzTs/aftD9rXpQD9OudidW9tDP5uqYTyJuEY/nIY5C0t+ST86tVdoxSlMPzUtf8g3uE4/VGTAxn+TUD+iNdJezblRPzYRtkzVzVI/B4uDBnvOUz8=",
          "dtype": "f8"
         },
         "z": {
          "bdata": "Lrrooosu6r8uuuiiiy7qvy666KKLLuq/Lrrooosu6r8uuuiiiy7qvy666KKLLuq/Lrrooosu6r8uuuiiiy7qvy666KKLLuq/Lrrooosu6r8uuuiiiy7qvy666KKLLuq/Lrrooosu6r8uuuiiiy7qvy666KKLLuq/Lrrooosu6r8uuuiiiy7qvy666KKLLuq/Lrrooosu6r8uuuiiiy7qvy666KKLLuq/Lrrooosu6r8uuuiiiy7qvy666KKLLuq/Lrrooosu6r8uuuiiiy7qvy666KKLLuq/Lrrooosu6r8uuuiiiy7qvy666KKLLuq/Lrrooosu6r8uuuiiiy7qvy666KKLLuq/Lrrooosu6r8uuuiiiy7qvy666KKLLuq/Lrrooosu6r8uuuiiiy7qvy666KKLLuq/Lrrooosu6r8uuuiiiy7qvy666KKLLuq/Lrrooosu6r8uuuiiiy7qvy666KKLLuq/Lrrooosu6r8uuuiiiy7qvy666KKLLuq/Lrrooosu6r8uuuiiiy7qvy666KKLLuq/Lrrooosu6r8uuuiiiy7qvy666KKLLuq/Lrrooosu6r8uuuiiiy7qvy666KKLLuq/Lrrooosu6r8uuuiiiy7qvy666KKLLuq/Lrrooosu6r8uuuiiiy7qvy666KKLLuq/Lrrooosu6r8uuuiiiy7qvy666KKLLuq/Lrrooosu6r8uuuiiiy7qvy666KKLLuq/Lrrooosu6r8uuuiiiy7qvy666KKLLuq/Lrrooosu6r8uuuiiiy7qvy666KKLLuq/Lrrooosu6r8uuuiiiy7qvy666KKLLuq/Lrrooosu6r8uuuiiiy7qvy666KKLLuq/Lrrooosu6r8uuuiiiy7qvy666KKLLuq/Lrrooosu6r8uuuiiiy7qvy666KKLLuq/Lrrooosu6r8uuuiiiy7qvy666KKLLuq/Lrrooosu6r8uuuiiiy7qvy666KKLLuq/Lrrooosu6r8uuuiiiy7qvy666KKLLuq/Lrrooosu6r8uuuiiiy7qvy666KKLLuq/Lrrooosu6r8=",
          "dtype": "f8"
         }
        },
        {
         "mode": "lines",
         "type": "scatter3d",
         "x": {
          "bdata": "IW9Z+W+8Nz8Xx6lodSUmPzA+96VKJvq+VvNKfqmrLL+qAvTiffo6vwTHJdWrwUO/aKE7KrvxSb9OPFAHhgNQvwNT15is/VK/7IqApT/kVb+m0BS3QbRYv6Z/ZprMalu/z8VkXBQFXr8g5Q8WNUBgv/ppYo8fbWG/8lBcaROIYr+uBYz37I9jvx/ZhT6cg2S/SnVBDCZiZb8x6gn7pCpmv59o9V1K3Ga/YunwFV92Z780JIRORPhnvwVBiyF0YWi/Dn49IYKxaL/1gvLHG+hov84pM80IBWm/+A2+XysIab+BEkREgPFov/8wvdgewWi/0iFS/Dh3aL8xsvPbGhRovz7G1KMqmGe/1vgXFugDZ79cah0H7Fdmv+x/+L/nlGW/OfivR6S7ZL/stwSUAc1jv+zplKL1yWK/wW1Je4uzYb/G9xId4opgvyJDJaxWol6/Q8G9EFUPXL+qqlO5Zl9Zv9MkQchQlVa/CJDYVfOzU7+6Kpx5Rr5Qv3RZcnWubku/fAzc1YhERb9VsWa87Qg+v+wTE+PTaTG/1BlQQBvjEr8gg5AtkfQfP5fxsjnTqjQ/arAuIZqhQD/IkXPRpdxGP65ig3ggAE0/SqoaFtuCUT/oLZrpmHNUP3CGicVBT1c/GHgBdOMSWj+uIt+DpLtcP3SwsDjHRl8/4FsJL9bYYD+lU8r96vxhP0aCLfN0DmM/88rsFloMZD/rzZKwlPVkP2luRFU0yWU/baeU316GZj9EOGNQUSxnP61b3pdgumc/HFbYRfovaD/rFbsgpYxoPxRLfqIB0Gg/FiYfW8r5aD+pPTQ41AlpPzzSU7EOAGk/7Koe2YPcaD97+t1SWJ9oP1gAvyzLSGg/EVTTnjXZZz/Z2xivClFnP5476LrWsGY/GvZD5j75ZT8ZZp1xACtlP2wKv/bvRmQ/SD2ljfhNYz/DPyfaGkFiP1poagNsIWE/0FFgLCngXz8E2EqmnlxdPy7N3NTPulo/1qN6S3P9Vz9SAqkEXCdVP46xyXh2O1I/uhcjNYt5Tj8seqV4v1xIP+APncLWJkI/L29Z+W+8Nz8=",
          "dtype": "f8"
         },
         "y": {
          "bdata": "l5y4nQdnUz9pU3M39FNUP8ZH/XfsK1U/bL8CvxHuVT/gp1zrm5lWP6fUXCnaLVc/1uYUqTOqVz8f+ds7KA5YP4ivcNhQWVg/WnYvBWCLWD/jc+8nIqRYP/rZM7t9o1g/RMJ6aHOJWD+5do4HHlZYP5ra2YKyCVg/sHncoH+kVz8wePay7SZXPxIY4Cl+kVY/wKw7EMvkVT8QiMtrhiFVP2eP74V5SFQ/eKMnHIRaUz9cvXB5m1hSP7Z/annJQ1E/XeFJdisdUD+y4mZF4stNP4HVWKG2Pks/KpvKTXWVSD/ZxmWL3NJFPwbSNrrE+UI//u7Zah0NQD9apICv1B86P4QbWZOACjQ/BCFoqgfBKz8gsa1S5KAeP6DEnwObgPY+QPnnWmNmE794vW4Adywmvw4JlXNwRzG/GN4MoNVmN7++1ilRG249vwV4JFiFq0G//wc8FsaNRL9MPQzh1lpHvxnT5Y3UD0q/ZJQsw/SpTL9Ab7XYiCZPv5ZKzE2AwVC/ZQJPeXbeUb/dm0UwAelSv1Dt3bAN4FO/HKZKUZ3CVL9ufUaGxo9Vv2s10tO1Rla/l0k1p67mVr9Qj2AZDG9Xvz5o6phB31e/IE31ets2WL8rU2tyf3VYv6LDE+3smli/sNEiVv2mWL9z0f49pJlYv2TxEWfvcli/Ej+btwYzWL84lo0QLNpXv6zfpgm7aFe/uKAFkyjfVr96Lp58Aj5Wv9zGC+TuhVW/1z9Uiau3VL8y0E4LDdRTv2GSdwz+21K/Ua8RQX7QUb9wg5FnobJQvwrnvFgcB0+/seQi9PmITL96qtJube1Jv97ggegmN0e/IfDIDfJoRL8ufmc2s4VBvxNANtTIID2/It01niQYN79IccMKsvcwvxRWEciDiyW/WGoQ79siEr8AWL2eBpD7PmBgKt7E4x8/9DBtWFRhLD/ER79/wlk0Pyqi/33gbTo/iddWCWAzQD+gw2+fHB9DP8Cxzjgj90U/OQh7XoW4SD8P3Jfwa2BLP74Q7RMa7E0/lUcuAngsUD8jba3kNlJRP8uY0OQaZlI/lpy4nQdnUz8=",
          "dtype": "f8"
         },
         "z": {
          "bdata": "NCTm7QyJ6b80JObtDInpvzQk5u0Miem/NCTm7QyJ6b80JObtDInpvzQk5u0Miem/NCTm7QyJ6b80JObtDInpvzQk5u0Miem/NCTm7QyJ6b80JObtDInpvzQk5u0Miem/NCTm7QyJ6b80JObtDInpvzQk5u0Miem/NCTm7QyJ6b80JObtDInpvzQk5u0Miem/NCTm7QyJ6b80JObtDInpvzQk5u0Miem/NCTm7QyJ6b80JObtDInpvzQk5u0Miem/NCTm7QyJ6b80JObtDInpvzQk5u0Miem/NCTm7QyJ6b80JObtDInpvzQk5u0Miem/NCTm7QyJ6b80JObtDInpvzQk5u0Miem/NCTm7QyJ6b80JObtDInpvzQk5u0Miem/NCTm7QyJ6b80JObtDInpvzQk5u0Miem/NCTm7QyJ6b80JObtDInpvzQk5u0Miem/NCTm7QyJ6b80JObtDInpvzQk5u0Miem/NCTm7QyJ6b80JObtDInpvzQk5u0Miem/NCTm7QyJ6b80JObtDInpvzQk5u0Miem/NCTm7QyJ6b80JObtDInpvzQk5u0Miem/NCTm7QyJ6b80JObtDInpvzQk5u0Miem/NCTm7QyJ6b80JObtDInpvzQk5u0Miem/NCTm7QyJ6b80JObtDInpvzQk5u0Miem/NCTm7QyJ6b80JObtDInpvzQk5u0Miem/NCTm7QyJ6b80JObtDInpvzQk5u0Miem/NCTm7QyJ6b80JObtDInpvzQk5u0Miem/NCTm7QyJ6b80JObtDInpvzQk5u0Miem/NCTm7QyJ6b80JObtDInpvzQk5u0Miem/NCTm7QyJ6b80JObtDInpvzQk5u0Miem/NCTm7QyJ6b80JObtDInpvzQk5u0Miem/NCTm7QyJ6b80JObtDInpvzQk5u0Miem/NCTm7QyJ6b80JObtDInpvzQk5u0Miem/NCTm7QyJ6b80JObtDInpvzQk5u0Miem/NCTm7QyJ6b80JObtDInpvzQk5u0Miem/NCTm7QyJ6b80JObtDInpvzQk5u0Miem/NCTm7QyJ6b8=",
          "dtype": "f8"
         }
        },
        {
         "mode": "lines",
         "type": "scatter3d",
         "x": {
          "bdata": "NBZnv8zYNz+BvwPpNPYmP6CR6Ouwze2+Ri/keP+tKr+ca0aw0bE5vzCqlooT+UK/eN+Bda8FSb9lB+xBgPhOvx3ZvxeyZVK/6YFWMy08Vb90vG+UxPxXv1AZM+yhpFq/LKXraAgxXb+OUXOIV59fv422t+aG9mC/ZMhJquULYr/drqAjqg5jv8CNf5TJ/WO/tcqyfk3YZL+6KieiVJ1lv6cyG+UTTGa/GnF7JdfjZr/D4ZHyAWRnv2YBSS4QzGe/J1dclZYbaL8AEOotQ1Jov1+y85vdb2i/bs52W0d0aL/rx+Hfe19ov5xMxJiQMWi/6KG227TqZ7+dkI6zMYtnv/I6FJVpE2e/EXqE+deDZr+SYUnfEN1lv6EcbDHAH2W/xWZdFqlMZL/uTcsmpWRjv4SbU42jaGK/pxv6D6hZYb/T5WAEyjhgv6RerV9mDl6/mvLHKD2MW78fBidYru1Yv8V0iSdtNVa/nLbPTUdmU7/1/CUbIoNQv3yetfnuHUu/zb7r16UZRb/czuImOf89v6mlFbU6rDG/ICpyWxIcFb/AUca/iI4cP5Wm6P/shjM/s5GkzxbWPz8SM8qqNwJGP5wEMQ60Akw/0K0eXSjzUD+RLVjNfdNTP0oQaFBjn1Y/BT4g8PZTWT/5ajbAbu5bP7J6Mb4bbF4/VFvMSjZlYD/zasUieINhP+ktgVKsj2I/TZeXYb6IYz+bJbmQrW1kPzMFWOKNPWU/t6nrDYn3ZT9jG9Rc35pmPw9G+W/oJmc/hJNa7RObZz+r59sU6vZnP+GbtjsMOmg/QToPLjVkaD9JYUt2OXVoPwpH3okHbWg/5a1d26dLaD9Bp8zRPBFoPyweJaUCvmc/GLhEIE9SZz+3CH1Ikc5mP3dCIutQM2Y/B1yOES6BZT8u+Chc4LhkP9IdHkU222M/5N6GSxTpYj8AVd8HdONhPz7AvCpjy2A/egCazQREXz9w8nuOCNFcP3hUf+dXQFo/2F7NxpeUVz/dJI3/iNBUP4keV3MF91E/RRqpQ/oVTj+kliRD5h5IPyQ0TAr1DkI/QRZnv8zYNz8=",
          "dtype": "f8"
         },
         "y": {
          "bdata": "obLp8NP+Uj/jg9E1duxTP2r2INCOxVQ//VpH9j2JVT82thrxuTZWPwuFxutPzVY/wpsjrGRMVz+xGLsydbNXP195z0EXAlg/gp/gyvk3WD+m4TlC5VRYPygGNNi7WFg/yiLwl3lDWD+Es2trNBVYP0606QQczlc/+gbIrXluVz/E0/P6r/ZWPyrESmc6Z1Y/wdhR1KzAVT9zD8XxsgNVP079nIwPMVQ/tspAxptJUz90kLM0Rk5SPznOo+wRQFE/vH9adhUgUD8wOTpd895NP6/0VCnxXks/wAQcDbjCSD/KxC3a+AxGP3J2o7F+QEM/GIvlIixgQD/LerFk8N06PwyK6ZXW3zQ/4Kysd3CYLT80El3OsVIhP5Dr9w9f7AM/cFFArJKGDb805YQ3xbYjv8xUBHKT9y+/iiXu7rYLNr/MXhV76gQ8v5D3/wOe8EC/pioNg1DNQ7809/dymZVGvzmgpJaaRkm/8310sI3dS78Lp2dex1dOvyiIR+1cWVC/An18zvt1Ub+cfDDumoBSv+eWh3UneFO/i5C7NqJbVL/fGye0ICpVv4q0/RHO4lW///K28euEVr/2KEs20w9Xvwr+drD0gle/pHlUstndV796VLGJJCBYvxx2pOCQSVi/Ag//A/RZWL8aslAPPVFYv4IOUf50L1i/UFado770V7/+3dKEVqFXvzX1K5ySNVe/Pkjf/+GxVr8qJp1vzBZWv8e1oMjxZFW/cljlYAmdVL+OGSpK4b9Tv3D6hX1dzlK/YBJo8HbJUb//wPWTOrJQvyz7nn+QE0+/XBS0EqOiTL8azHsRMRRKvxhswxndake/nsdrf2WpRL/6v294odJBv5qwiF780j2/2ycufffhN7+cXA0zVNgxvxxqGY6XeCe/cINk2alQFr8ANwYx4TbjPthzC1boGxs/SEKxW4HaKT/4YV4GNAYzP06/TA+LCzk/pOfn7xD3Pj/Cbyi2VWFCP4T385cwNEU/RBni+i/xRz9nn3NEgZVKP4+m/kprHk0/jCFVJFGJTz9Nf6Zr2ulQP7GSsfac/VE/oLLp8NP+Uj8=",
          "dtype": "f8"
         },
         "z": {
          "bdata": "OY7jOI7j6L85juM4juPovzmO4ziO4+i/OY7jOI7j6L85juM4juPovzmO4ziO4+i/OY7jOI7j6L85juM4juPovzmO4ziO4+i/OY7jOI7j6L85juM4juPovzmO4ziO4+i/OY7jOI7j6L85juM4juPovzmO4ziO4+i/OY7jOI7j6L85juM4juPovzmO4ziO4+i/OY7jOI7j6L85juM4juPovzmO4ziO4+i/OY7jOI7j6L85juM4juPovzmO4ziO4+i/OY7jOI7j6L85juM4juPovzmO4ziO4+i/OY7jOI7j6L85juM4juPovzmO4ziO4+i/OY7jOI7j6L85juM4juPovzmO4ziO4+i/OY7jOI7j6L85juM4juPovzmO4ziO4+i/OY7jOI7j6L85juM4juPovzmO4ziO4+i/OY7jOI7j6L85juM4juPovzmO4ziO4+i/OY7jOI7j6L85juM4juPovzmO4ziO4+i/OY7jOI7j6L85juM4juPovzmO4ziO4+i/OY7jOI7j6L85juM4juPovzmO4ziO4+i/OY7jOI7j6L85juM4juPovzmO4ziO4+i/OY7jOI7j6L85juM4juPovzmO4ziO4+i/OY7jOI7j6L85juM4juPovzmO4ziO4+i/OY7jOI7j6L85juM4juPovzmO4ziO4+i/OY7jOI7j6L85juM4juPovzmO4ziO4+i/OY7jOI7j6L85juM4juPovzmO4ziO4+i/OY7jOI7j6L85juM4juPovzmO4ziO4+i/OY7jOI7j6L85juM4juPovzmO4ziO4+i/OY7jOI7j6L85juM4juPovzmO4ziO4+i/OY7jOI7j6L85juM4juPovzmO4ziO4+i/OY7jOI7j6L85juM4juPovzmO4ziO4+i/OY7jOI7j6L85juM4juPovzmO4ziO4+i/OY7jOI7j6L85juM4juPovzmO4ziO4+i/OY7jOI7j6L85juM4juPovzmO4ziO4+i/OY7jOI7j6L85juM4juPovzmO4ziO4+i/OY7jOI7j6L85juM4juPovzmO4ziO4+i/OY7jOI7j6L8=",
          "dtype": "f8"
         }
        },
        {
         "mode": "lines",
         "type": "scatter3d",
         "x": {
          "bdata": "pPV4KGf1Nz+sckHMfscnPwDpfOn1FM2+4JPYka6vKL83S4Nqy2g4v6QgyBNLMEK/1mF8o3AZSL+zJpCbvulNvw4UaGebzVG/aj2NbP2TVL9EiQgWKUVXv3H8ZfpX3lm/Sn87atxcXL8akvoyJL5ev2ghtqLdf2C/MP+NHqePYb9h7wpjVo1iv1jmP+/ld2O/Jwfd+GNOZL9Lwm1l8w9lv+veQ67Mu2W/Tn0krj5RZr+lDuNXr89mv1cGLlWcNme/Q5PpjJuFZ7/s4Y2QW7xnv5cqGPCj2me/ygM4dFXgZ7/rAH0+as1nv2xxY8/1oWe/FQQ68iReZ79ZB/WOPQJnv9bfHmKejma/If0vm74DZr9s97JhLWJlv0B7s0GRqmS/9iAQgKfdY79ZKGBXQ/xiv3I2Nh5NB2K/ooigV8H/YL85/bpdX81fvwqZob5zel2/WAO0EyUJW7+bg4Dx93tYv5gG8qaN1VW/d5FAh6EYU7/6HxAZBkhQv90MSltEzUq/RDBbxtvuRL8jiNlUvvU9v7yvwvni7jG/FEQh8CxWF79cUQFWQCcZP3Zn+vivYjI/a5YcG5xoPj8cdPTYlydFP5SPoCETBUs/eBGLElpjUD9qF3HrRTNTP+y4PP9m71U/RfuXmOuUWD8BZhBRGSFbP0QTBOFPkV0/8dWh1AvjXz8WDZmR9AlhP5Ni/tLSEGI/b94gthEFYz9A4O50teVjP3vaLX/WsWQ/NKotaaJoZT/BkbDEXAlmP5w+KONfk2Y/FqF/gB0GZz9HiMFVH2FnP4zWBJMHpGc/YaAgQJHOZz9xhsSDkOBnP4UBrNDy2Wc/YAi++L66Zz8JWQUmFYNnP6CkiLkuM2c/QMskEF7LZj9lIKYtDkxmP1E8eE7CtWU/SBFeYBUJZT/At71iuUZkP/yRJK92b2M/g+rAKiuEYj+d8aVhyYVhP3HixYxXdWA/ChVIB92nXj9wrKo1cUVcP0Sc8+DgxVk/TAzYT78rVz/Sm+kru3lUP5fPwr2bslE/YmSkH3yyTT8D6W/1I+FHPw71gTwu90E/sfV4KGf1Nz8=",
          "dtype": "f8"
         },
         "y": {
          "bdata": "zdgOjtKVUj+yJOSXLoRTP72HjHVsXlQ/rgcqL6sjVT9kZ65xH9NVP7+BcmAUbFY/tgCmT+ztVj/0QddmIVhXP6ne6ypGqlc/Up377gXkVz8teJkrJQVYP4K+MLyBDVg/gA83AhP9Vz/05g7u6dNXP0qTke0wklc/gJRSwCs4Vz/weckxN8ZWPwQ8qrnIPFY/L6zOAm6cVT9ZzS1ZzOVUP2Cdd/+fGVQ/m/QEbbs4Uz+KhuN0BkRSP5+n3VZ9PFE/4S10uy8jUD9t7Kw3f/JNP6tv8i3Af0s/MIsAaqjwSD/FKoM020dGP+qbcVYWiEM/ukOkRS+0QD+0SgVyIJ47P6YumU5qtzU/3FBezqJ0Lz90u68qBFojP/Ce1EfLrQw/cKWgLwoqBL9MJamgRTshv/w9WHlFWi2/pJkxuYGtNL/Ef2oMkJg6v4ZD2voZNEC/KoGU+zcLQ79oRy+BtM5Fv/rG1UC2e0i/QkXYG3sPS7+9Uo73WodNv4y0Z3rK4E+/Caqs1a4MUb8RC3k4ZRdSvzFpwnZ1D1O/zlD82t/zU79ZnXvwuMNUv+T3LHYqflW/enRwO3QiVr+zozbm7K9Wv4vgkqECJle/gOYOtDuEV792uiT9NspXvziOXVms91e/7Gmu7GwMWL/m88VSYwhYvwSMGbWT61e/fP+axhu2V787QRulMmhXv661eaAoAle/6KLa52aEVr8eHDodb+9Vv7Ysy8/aQ1W/ggKt3VqCVL+6Qpm9tqtTv/55R7HLwFK/TZpZ4YvCUb8Eorxj/bFQv8p5/VpyIE+/d7li4tO8TL/0qAPWlTtKvwy2izdNn0e/udmV6KrqRL8pe4/keCBCvxPkdsEuhz6/0qmXqvOtOL94u0HlR7syv5SWPheaaim/MLYlfeKIGr/A/hdZtAnhvlioVWunSBY/8P5bc8ZNJz+cdEzFma8xP7jj1CoVpjc/hOJq4i+EPT98iJzC7qFBP8CsyISYb0Q/qEhcbzEoRz8GvQhx68hJPxt8wRMRT0w/QbuRRwi4Tj+Q7pmIqoBQPwRq0wxOlFE/zNgOjtKVUj8=",
          "dtype": "f8"
         },
         "z": {
          "bdata": "Pvjggw8+6L8++OCDDz7ovz744IMPPui/Pvjggw8+6L8++OCDDz7ovz744IMPPui/Pvjggw8+6L8++OCDDz7ovz744IMPPui/Pvjggw8+6L8++OCDDz7ovz744IMPPui/Pvjggw8+6L8++OCDDz7ovz744IMPPui/Pvjggw8+6L8++OCDDz7ovz744IMPPui/Pvjggw8+6L8++OCDDz7ovz744IMPPui/Pvjggw8+6L8++OCDDz7ovz744IMPPui/Pvjggw8+6L8++OCDDz7ovz744IMPPui/Pvjggw8+6L8++OCDDz7ovz744IMPPui/Pvjggw8+6L8++OCDDz7ovz744IMPPui/Pvjggw8+6L8++OCDDz7ovz744IMPPui/Pvjggw8+6L8++OCDDz7ovz744IMPPui/Pvjggw8+6L8++OCDDz7ovz744IMPPui/Pvjggw8+6L8++OCDDz7ovz744IMPPui/Pvjggw8+6L8++OCDDz7ovz744IMPPui/Pvjggw8+6L8++OCDDz7ovz744IMPPui/Pvjggw8+6L8++OCDDz7ovz744IMPPui/Pvjggw8+6L8++OCDDz7ovz744IMPPui/Pvjggw8+6L8++OCDDz7ovz744IMPPui/Pvjggw8+6L8++OCDDz7ovz744IMPPui/Pvjggw8+6L8++OCDDz7ovz744IMPPui/Pvjggw8+6L8++OCDDz7ovz744IMPPui/Pvjggw8+6L8++OCDDz7ovz744IMPPui/Pvjggw8+6L8++OCDDz7ovz744IMPPui/Pvjggw8+6L8++OCDDz7ovz744IMPPui/Pvjggw8+6L8++OCDDz7ovz744IMPPui/Pvjggw8+6L8++OCDDz7ovz744IMPPui/Pvjggw8+6L8++OCDDz7ovz744IMPPui/Pvjggw8+6L8++OCDDz7ovz744IMPPui/Pvjggw8+6L8++OCDDz7ovz744IMPPui/Pvjggw8+6L8++OCDDz7ovz744IMPPui/Pvjggw8+6L8++OCDDz7ovz744IMPPui/Pvjggw8+6L8=",
          "dtype": "f8"
         }
        },
        {
         "mode": "lines",
         "type": "scatter3d",
         "x": {
          "bdata": "jLUpYSoSOD9ne8FXKpkoP8Cj14GVlN4+3quhLt2wJr+35huRfR83vy5aRE1bZ0G/wG9kJActR78EZ8IWz9pMvx/Zy0ZsNVG/NRWlzbPrU7/hDkxyco1Wv8G6CLLxF1m/HID2AJOIW7+W9Dp90txdvwQVYMMkCWC/gC9jnFgTYb+U/F9h8gtiv1Y0Bs/x8WK/7GQlz2nEY7/n1BFtgYJkv9IJSbV0K2W/42lvf5W+Zb9vwdYhTDtmv/Gc1A0YoWa/6E9HVJDvZr/MDcERZCZnv4eU6cFaRWe/53TAeVRMZ78P64MISjtnv2ZcGv9MEme/Jtf2nYfRZr/QPYupPHlmvwwEdSXHCWa/T2+r9pmDZb89ERBtP+dkv8+R27RYNWS/bsF5MJ1uY7/cNYC72ZNiv9FOgtfvpWG/h1Ccw9SlYL+lZkr/IClfvxCCF3h55ly/GA3vbgeGWr/s1rEWPgpYv4qzStGsdVW/tl8ZjPzKUr/GYQgC7QxQv0jmQsyjfEq/HnUY8x/ERL8MWOE/aOw9vwhOFxa4MTK/ZL3ilBqRGb/8UEcEBr8VP59rbQAvPjE/DBpeQ9b6PD/gm3EDz0xEP6RzmOlFB0o/qq1VKuimTz/cYRri9JJSPwSq7CtQP1U/jjaJf8TVVz8tnJ79plNaPyPnjRpmtlw/EXw6RIz7Xj/w3YE1YZBgPw64pTXpkWE/oDiGqlSBYj+I+ZPHrF1jP/6lGmoOJmQ/KtxjA6vZZD+0sqNtyXdlP11l06rG/2U/d2y1jBZxZj8SzVVFRMtmP5itcd/yDWc/JhFKnt04Zz/n8n5E2EtnPya3qUHPRmc/6e+HxscpZz8sq6G/3/RmP5XOcLZNqGY/yUwpmWBEZj+VJ1xpf8llPxgeydEoOGU/13rMo/KQZD9gmu88idRjP1tcO9WuA2M/o6YDtzofYj95WvpgGChhPweAbpNGH2A/+Mhjk6wLXj+8uWdB07lbPwl/5ldlS1k/PbP3c+TCVj/vOWkT7SJUP6zRpuMzblE/amRm7wVPTT96fyXQbaNHP/QvPb9330E/mbUpYSoSOD8=",
          "dtype": "f8"
         },
         "y": {
          "bdata": "rxbs9fQrUj9CZvrqDhtTP9QF/xB39lM/kxGiPEu9VD+OLOR4vm5VP2KuZNoZClY/4U/wO72OVj9C+JXjH/xWP4R/lw/RUVc/IB2laniPVz+Wsutm1rRXPwUVmH/EwVc/nc2LYDW2Vz/YYhr0NJJXP+AAwVboVVc/QCrlsI0BVz8o4MH2e5VWP5pOxY4iElY/E2K73gh4VT88pjvAzcdUP+xM6twmAlQ/myg1898nUz+9ok0E2jlSPz8tOGwKOVE/00Xg5HkmUD9XhWvqhgZOP8Zo2ZomoUs/0DYZI0sfST9A1hsnioNGP1KRq/yT0EM/ahjf5TAJQT9a68ZlfGA8P/CQI5xWkTY/Vv+3au2qMD+QFryQq2YlP1CuxofZwhI/YMNJzutr9b7wVXcySnMdvzzCy+Oetiq/OlY1pAdMM7+62FqM2yg5vy8eYxTA6z6/6PQucWJHQr8eCso7DQZFvyCN7xYMr0e/1Mx6BqE/Sr+xs9Q4J7VMv7KzocAVDU+/y7HXGIGiUL8TITiPUa1Rv+A+ujnppVK/vNY410eLU78+fUj3gFxUv1CR8e28GFW/Ke0Bsjm/Vb/UGhGlS09WvzzeaEReyFa/67cbwvQpV798kquFqnNXv5L8u5MzpVe/NQtl3Fy+V7+CJ9ZvDL9Xv7aFEplBp1e/+7Wr3hR3V7/Sjnnpty5Xv5CAaVF1zla/hRaaULBWVr8U6RFd5MdVv7pwe6mkIlW/hupojZtnVL8ut7zViZdTvxk26/1Fs1K/UvriUru7Ub8VQn8A6bFQv+9v/RTCLU+/VUUbZI7XTL8SWw2Sn2NKv+2cQOh81Ee/Ys6cusksRb/+EWCvQm9Cvx2cwNl1PT+/y+E1YDJ8Ob9M/CaeqaAzv9R9WKjKYSu/mLUoeBDMHr9AP8o8MtP6vmhGdBBhaRE/YCRm9s26JD9Y4A2DxlUwP/jDwmBPPTY/XsjtdOsNPD+en+sgzuBAP1qQnoxAqUM/nN+wlW5dRj/EeJC4jvpIPxh6eTXvfUs/kFN41/jkTT/90wfQmBZQP1ScYKofKlE/rhbs9fQrUj8=",
          "dtype": "f8"
         },
         "z": {
          "bdata": "Q2LezpCY579DYt7OkJjnv0Ni3s6QmOe/Q2LezpCY579DYt7OkJjnv0Ni3s6QmOe/Q2LezpCY579DYt7OkJjnv0Ni3s6QmOe/Q2LezpCY579DYt7OkJjnv0Ni3s6QmOe/Q2LezpCY579DYt7OkJjnv0Ni3s6QmOe/Q2LezpCY579DYt7OkJjnv0Ni3s6QmOe/Q2LezpCY579DYt7OkJjnv0Ni3s6QmOe/Q2LezpCY579DYt7OkJjnv0Ni3s6QmOe/Q2LezpCY579DYt7OkJjnv0Ni3s6QmOe/Q2LezpCY579DYt7OkJjnv0Ni3s6QmOe/Q2LezpCY579DYt7OkJjnv0Ni3s6QmOe/Q2LezpCY579DYt7OkJjnv0Ni3s6QmOe/Q2LezpCY579DYt7OkJjnv0Ni3s6QmOe/Q2LezpCY579DYt7OkJjnv0Ni3s6QmOe/Q2LezpCY579DYt7OkJjnv0Ni3s6QmOe/Q2LezpCY579DYt7OkJjnv0Ni3s6QmOe/Q2LezpCY579DYt7OkJjnv0Ni3s6QmOe/Q2LezpCY579DYt7OkJjnv0Ni3s6QmOe/Q2LezpCY579DYt7OkJjnv0Ni3s6QmOe/Q2LezpCY579DYt7OkJjnv0Ni3s6QmOe/Q2LezpCY579DYt7OkJjnv0Ni3s6QmOe/Q2LezpCY579DYt7OkJjnv0Ni3s6QmOe/Q2LezpCY579DYt7OkJjnv0Ni3s6QmOe/Q2LezpCY579DYt7OkJjnv0Ni3s6QmOe/Q2LezpCY579DYt7OkJjnv0Ni3s6QmOe/Q2LezpCY579DYt7OkJjnv0Ni3s6QmOe/Q2LezpCY579DYt7OkJjnv0Ni3s6QmOe/Q2LezpCY579DYt7OkJjnv0Ni3s6QmOe/Q2LezpCY579DYt7OkJjnv0Ni3s6QmOe/Q2LezpCY579DYt7OkJjnv0Ni3s6QmOe/Q2LezpCY579DYt7OkJjnv0Ni3s6QmOe/Q2LezpCY579DYt7OkJjnv0Ni3s6QmOe/Q2LezpCY579DYt7OkJjnv0Ni3s6QmOe/Q2LezpCY578=",
          "dtype": "f8"
         }
        },
        {
         "mode": "lines",
         "type": "scatter3d",
         "x": {
          "bdata": "xK+P8PwuOD+FGDOLBWspP6BV4Qjt7vI+ALEY07qxJL+WZ8oh/9U1v4yg9UdPnkC/AE3Jj31ARr/O48vGu8tLv5g9O3gpnVC/JcmxzFRDU7+ScHjOpNVVv0nnPeNyUVi/yXE1pC+0Wr/7CbGBZftcvzqBGEy7JF+/P1TQT/uWYL+51iEYf4phv6dKzvnta2K/n3M1k186Y7/1h9QV//Rjv4bRoyEMm2S/PZ1ki9srZb+ODhMN2KZlv/j0xd+CC2a/hwVePnRZZr8Dwn3QW5Bmv9zJW/0AsGa/ADUaJkO4Zr/61GbHGalmv7CyQYKUgma/Ib3gC9tEZr9uRMEELfBlv9ZyEbfhhGW/il+1vGcDZb9SfESNRGxkvx3kdPQTwGO/2FyCcYf/Yr+OmDaAZStiv19RT8yIRGG/eCgVUN9LYL++Rxe+0oRevwJVbjtxUly/IrsSz90CWr+oKC1IephXv1n1kBnEFVW/9p6jyFF9Ur/GvteEoKNPv2myEDMALEq/z07LX2WZRL+R8YE8HeM9vwlnScqgdDK/dAxjYXjMG79UQCI2OlYSP6GzGHmBGTA/jEQZ29uMOz8Q7OP/53FDPxEB2rxWCUk/fgU0l/aGTj8oJx5Oj/JRP0rkriQjj1Q/MqcnoIUWVz/X3fZpG4ZZP3APBrRh21s/U+ZXz/ATXj+/kFhTvxZgP1kaX43wEmE/lGmjHoj9YT/KSpE0lNViP3IhYxo2mmM/6OezHqNKZD+D5W9kJeZkP4K5TJ4cbGU/uHsHtP7bZT/RnL5QWDVmP03J1FnNd2Y/I0LiTRmjZj+ezFKLD7dmP1FuZ36bs2Y/YIhstsCYZj+udA7immZmPzht0LJdHWY/8ifDp1S9ZT/sFLK/4kZlP4l3FxOCumQ/BIxAVsMYZD/ydSNETWJjPxK7gPLbl2I/rHQBEEC6YT+MExoNXspgP2XpHmFakl8/SwgiMW1vXT/iXN1SKC5bP3CvCNbe0Fg/zMIMrABaVj8bzNYkGMxTP/RVfVDHKVE/zCfTkIrrTD+1zqLFtmVHP+5hyabEx0E/0K+P8PwuOD8=",
          "dtype": "f8"
         },
         "y": {
          "bdata": "sAsPiivBUT9iKv+WB7FSP9200yCfjVM/0h13ww5WVD/WbsThhwlVP0OugnpRp1U/ctgZ58guVj9+1jyDYp9WP5id2zyq+FY/OxXJC0Q6Vz8SbplQ7GNXP9AeVxp4dVc/7qvGUtVuVz9CmQvRClBXP2RNm1I4GVc/rCuFWpbKVj+0njH3dWRWPzAg1G5A51U/G1/m0nZTVT+SYRx7salUP8THWmif6lM/BxFRkAUXUz/913ESvi9SP7JPGle3NVE/MsjQGfMpUD+DHi+/ChtOPyMVzLQmw0s/tq7adaROST8C97/jC8BGP5RmCsT/GUQ/bibgCDtfQT/A+wMBHCU9Pys5k922bTc/NEpBJyueMT/85gWG7HgnPxALGjmhOhc/AEUrgBCRwr6YVJ4kGWMYvxS39B9DDCi/Jr671RfnMb+8+HvBmbU3v6EHQgCraz2/AJhMOLSBQb+wHRMahztEvxF3gdB+4Ea/Ar1fhuFtSb+0moi1DeFLv6HIMd18N06/EvwsDmM3UL+0m9ZWUEJRvwEoKCFzO1K/LeCSnMohU7+kxyFYafRTvw8ZPDd2slS/AvVyUS1bVb+qmHO84O1Vv+7wTT/5aVa/wLxW7vbOVr+4jgSvcRxXv0vAP6MZUle/ILi2e7dvV7+CpeGwLHVXv2freqJzYle/SMpLnZ83V79iTkfH3PRWv3YECPJvmla/Pl7fU7YoVr9A578nJaBVv49VZTRJAVW/MAg3O8ZMVL+MiXpPVoNTv14XhBbJpVK/6uiq8QK1Ub9P2N0S/LFQv103lvl+O0+/dZJF39PyTL90vh+HUYxKv5LGLGRxCki/15otH8lvRb/Pl47sB79Cv1WkCZDn9T+/Xr5gMc1MOr/6C2yBlog0v3DBX21qXi2/fPebsmGNIb9gPVNfBKkGv3ApKtzZ+gg/2B8PCT4hIj9gBQ5QFfEtP/qEzqAH0TQ/QNIXUg+UOj/q/tme2B1AP29rs5EM4UI/jMGSgcqQRT8EVAN+TSpIPzhw64Dnqko/Jm63MQQQTT/pngyOK1dPPyo2ozoCv1A/rwsPiivBUT8=",
          "dtype": "f8"
         },
         "z": {
          "bdata": "SMzbGRLz5r9IzNsZEvPmv0jM2xkS8+a/SMzbGRLz5r9IzNsZEvPmv0jM2xkS8+a/SMzbGRLz5r9IzNsZEvPmv0jM2xkS8+a/SMzbGRLz5r9IzNsZEvPmv0jM2xkS8+a/SMzbGRLz5r9IzNsZEvPmv0jM2xkS8+a/SMzbGRLz5r9IzNsZEvPmv0jM2xkS8+a/SMzbGRLz5r9IzNsZEvPmv0jM2xkS8+a/SMzbGRLz5r9IzNsZEvPmv0jM2xkS8+a/SMzbGRLz5r9IzNsZEvPmv0jM2xkS8+a/SMzbGRLz5r9IzNsZEvPmv0jM2xkS8+a/SMzbGRLz5r9IzNsZEvPmv0jM2xkS8+a/SMzbGRLz5r9IzNsZEvPmv0jM2xkS8+a/SMzbGRLz5r9IzNsZEvPmv0jM2xkS8+a/SMzbGRLz5r9IzNsZEvPmv0jM2xkS8+a/SMzbGRLz5r9IzNsZEvPmv0jM2xkS8+a/SMzbGRLz5r9IzNsZEvPmv0jM2xkS8+a/SMzbGRLz5r9IzNsZEvPmv0jM2xkS8+a/SMzbGRLz5r9IzNsZEvPmv0jM2xkS8+a/SMzbGRLz5r9IzNsZEvPmv0jM2xkS8+a/SMzbGRLz5r9IzNsZEvPmv0jM2xkS8+a/SMzbGRLz5r9IzNsZEvPmv0jM2xkS8+a/SMzbGRLz5r9IzNsZEvPmv0jM2xkS8+a/SMzbGRLz5r9IzNsZEvPmv0jM2xkS8+a/SMzbGRLz5r9IzNsZEvPmv0jM2xkS8+a/SMzbGRLz5r9IzNsZEvPmv0jM2xkS8+a/SMzbGRLz5r9IzNsZEvPmv0jM2xkS8+a/SMzbGRLz5r9IzNsZEvPmv0jM2xkS8+a/SMzbGRLz5r9IzNsZEvPmv0jM2xkS8+a/SMzbGRLz5r9IzNsZEvPmv0jM2xkS8+a/SMzbGRLz5r9IzNsZEvPmv0jM2xkS8+a/SMzbGRLz5r9IzNsZEvPmv0jM2xkS8+a/SMzbGRLz5r9IzNsZEvPmv0jM2xkS8+a/SMzbGRLz5r9IzNsZEvPmv0jM2xkS8+a/SMzbGRLz5r8=",
          "dtype": "f8"
         }
        },
        {
         "mode": "lines",
         "type": "scatter3d",
         "x": {
          "bdata": "FNC53b9LOD+wljNo0zwqP3Dj9dvZOP4+Qkw+24GyIr9HbXl0bIw0v5xDVWxpqj+/XKU0EOFTRb8o2t5AkbxKv2drJ/XYBFC/ivnTC+aaUr+QMY9vxR1Vv39SeXDgile/vHPVzrbfWb9kCgVP4Rlcv5/tuTMUN16/9I3ozZAaYL/93LLg/Qhhv4i/5Yvb5WG/ue8gI0awYr8o0qr+bGdjv8mLhlKTCmS/rKoR8RCZZL9MxGD4UhJlv/lUqGncdWW/yMwVqkbDZb9U+JPsQfplv2G+DYSVGma/lGbaHSAkZr/9Lxfk1xZmv8/OyofK8mW/0V3IMh24Zb/6T2BhDGdlv2TfBqTr/2S/Yj8wSSWDZL/rXLvvOfFjv2ojXALASmO/1vGNHGOQYr/fFK5Z48Jhv7af9I4U42C/uokv4rrjX7+ijfVMbeBdv8VLu41Tvlu/RIQrk6B/Wb9/UdPGpCZXv0BFdqrLtVS/E4Z0WZkvUr8BbKrhTy1PvyAdQ8FJ20m/2gKpUpxuRL8x0twgvtk9v1MtUVZ+tzK/IHOoe80HHr/YuaVFptoNP2BbTlOI6S0/hwoqxMgeOj8a9HI+8JZCP9ws7HxSC0g/dFtQsetmTT/54wT+GlJRP9puyF3l3lM/rJDVDjRXVj8bNFxFe7hYP0UhvPJGAFs/pzPvTD0sXT/Kst86ITpfPxqslVHqk2A/YgV5Ta15YT+BIzi5bE1iP6Q3pE5ODmM/mNZBOou7Yz+JQj3ocFRkPylIf7xh2GQ/NO4ktdVGZT9ZfbL2Wp9lP5ZbcUGW4WU/5r5/T0MNZj+IQTEbNSJmP9/Ldw1WIGY/6PwkFKgHZj8vIO2fRNhlPxe+LYpckmU/q86S4jc2ZT9Dd86kNcRkPzPlr1bLPGQ/UjP+joSgYz9CO5RlAvBiPxKmUc36K2I/XGmM2DdVYT9HB8TolmxgP4KT2pQP5l4/1WuDexfTXD+yDCPbaKJaP+wNU6pFVlg/ejzfLAzxVT/dK9KCNHVTP1p82RxO5VA/7A9DMfqHTD9O2sEP7ydHPyjNxEkFsEE/INC53b9LOD8=",
          "dtype": "f8"
         },
         "y": {
          "bdata": "pWxFe2VVUT8imEXLB0ZSP1iIOOTTI1M/sO72I+XtUz9hnN8+a6NUP0+pjharQ1U/HkbAev/NVT/sZJjT2UFWPzKxn7TCnlY/ZVLeV1rkVj/fkpUAWRJXP7qmMkWPKFc/NFguQOYmVz9WOKenXw1XP4L/ncsV3FY/VO/VejuTVj+aK3XOGzNWPzMHm9wZvFU/WBE8UrAuVT9CLa30cItUP8YOYAsE01M/GgFssicGUz+vx5UWryVSP4KboJuBMlE/eqnI7ZktUD/Z4rn+CTBOPzzFBefB5Us/l/uC7rd+ST+bEQgUZv1GP87Vqm1hZEQ/dRFKf1e2QT8WbtHvFuw9P0bnZbGmTDg/YCw5ESqUMj8E/XBeDZEpP5iAvaTXvhs/AA5pJOv78D64CfaNQkUTv6SkrkrRWiW/mHcE/35+ML8k/sK0lD42vyGynFG85zu/a6vQARC6QL+Yq+HPA29Dv0rOkUPvD0a/BF7csxyaSL8VtzHp7QpLvwIVV9DeX02/SsZTEoiWT79OsV/HUNZQv12U8VoC0FG/jOkgYFe3Ur/+bp5gYYtTvzAfWslFS1S/luHSyz72VL/Azv0pnItVvw/Y8uvDCla/sYyj/jJzVr/zYPi6fcRWv28wyVRQ/la/B5c+MW8gV7/GFUMktypXv6StxJQdHVe/mJChh7D3Vr8CpjSRlrpWv+rHkK0OZla/vbeT/2/6Vb/CtxN3KXhVv2RghF7B31S/6JKI0NQxVL/FOwAWF29Tv7rUOO1QmFK/Oij/ul+uUb9jpWemNLJQv1AJcUCnSU+/XPnrraQOTb8nekkxrrVKvy5/00YvQUi/XlKAzK+zRb+VuRxm0Q9DvwLq5MZMWEC/uDCwxt0fO78w6VUcLHM1v7iWSw28YC+/cD7ZkMe6I78w5OtA+QAQv8AahH5vEP4+sAdulnEBHz98OECbaC8rPz7ySEEJYTM/2oxrQ2QWOT8Vvm3u4rE+P5ybjMLeFkI/eDL6cybCRD/yGX40CFhHP3mF3rvZ1Uk/wQ/5jwk5TD/6lICqIX9OPxhONwHlUlA/pGxFe2VVUT8=",
          "dtype": "f8"
         },
         "z": {
          "bdata": "TjbZZJNN5r9ONtlkk03mv0422WSTTea/TjbZZJNN5r9ONtlkk03mv0422WSTTea/TjbZZJNN5r9ONtlkk03mv0422WSTTea/TjbZZJNN5r9ONtlkk03mv0422WSTTea/TjbZZJNN5r9ONtlkk03mv0422WSTTea/TjbZZJNN5r9ONtlkk03mv0422WSTTea/TjbZZJNN5r9ONtlkk03mv0422WSTTea/TjbZZJNN5r9ONtlkk03mv0422WSTTea/TjbZZJNN5r9ONtlkk03mv0422WSTTea/TjbZZJNN5r9ONtlkk03mv0422WSTTea/TjbZZJNN5r9ONtlkk03mv0422WSTTea/TjbZZJNN5r9ONtlkk03mv0422WSTTea/TjbZZJNN5r9ONtlkk03mv0422WSTTea/TjbZZJNN5r9ONtlkk03mv0422WSTTea/TjbZZJNN5r9ONtlkk03mv0422WSTTea/TjbZZJNN5r9ONtlkk03mv0422WSTTea/TjbZZJNN5r9ONtlkk03mv0422WSTTea/TjbZZJNN5r9ONtlkk03mv0422WSTTea/TjbZZJNN5r9ONtlkk03mv0422WSTTea/TjbZZJNN5r9ONtlkk03mv0422WSTTea/TjbZZJNN5r9ONtlkk03mv0422WSTTea/TjbZZJNN5r9ONtlkk03mv0422WSTTea/TjbZZJNN5r9ONtlkk03mv0422WSTTea/TjbZZJNN5r9ONtlkk03mv0422WSTTea/TjbZZJNN5r9ONtlkk03mv0422WSTTea/TjbZZJNN5r9ONtlkk03mv0422WSTTea/TjbZZJNN5r9ONtlkk03mv0422WSTTea/TjbZZJNN5r9ONtlkk03mv0422WSTTea/TjbZZJNN5r9ONtlkk03mv0422WSTTea/TjbZZJNN5r9ONtlkk03mv0422WSTTea/TjbZZJNN5r9ONtlkk03mv0422WSTTea/TjbZZJNN5r9ONtlkk03mv0422WSTTea/TjbZZJNN5r9ONtlkk03mv0422WSTTea/TjbZZJNN5r8=",
          "dtype": "f8"
         }
        },
        {
         "mode": "lines",
         "type": "scatter3d",
         "x": {
          "bdata": "Etlprk1oOD9+EhHrSQ4rP+Bfa9JSwAQ/evmShXmzIL8uVKM/6EIzvxfXstk4GD6/lqD74kFnRL8QFPIZX61JvzlIqVcE2U6/v95vlW7yUb9Jj9L02mVUv4K8B4dAxFa/AL/PNS4LWb/4pvobSzhbvwqx0vBYSV2/CkgYWDY8X79trBaKcIdgv748Fgy8X2G/lrrkux4mYr9wCn4ZzNlivwKnze0KemO/7x6bCTYGZL/TqdDvvH1kv5FObGok4GS/ghKCCQctZb82RcyLFWRlv2gfXjAXhWW/+X0k8emPZb+KavilgoRlv3NKHxDtYmW/MtkszksrZb/ra1M42N1kv1dHRyXiemS/F/fxl88CZL+lfEpWHHZjvy67vmlZ1WK/26WxiSwhYr/QTahwT1phv+bm1RyPgWC/6DqY+ZUvX7/4IFMS6Dtdv2e1Z5gXKlu/OXG6sEb8WL/+6I5dtLRWvzqFzC26VVS/6Brl0MnhUb+1Nbkj1bZOv2VhFXhtikm/YEKM2LFDRL9/nfdEJdA9v+GeVXcr+jK/Dt07g0MhIL84Bg/EwQkHP/gk/oI0oCs/i0AsM7+wOD/+K2ZK+LtBP3srAhVJDUc/gtJgs9ZGTD/usBEvn7FQP3MH7qydLlM/W7OtMtaXVT8hwrWBzOpXPxnTQk0bJVo/5P+csnZEXD+2MhmXrkZeP42du3TYFGA/9rsk4sX1YD9/a5m3N8VhP68NdR5YgmI/cdUKImQsYz9YuJx4rMJjP8hBDDiWRGQ/mQWLdZuxZD99FabPSwllP8IsHuJMS2U//CcVo1p3ZT8lvDCpR41lP90galr9jGU/82xaA3x2ZT/ooOvW2kllP9+wbtZHB2U/nTQvogevZD8doLUydUFkP5vwAHsBv2M/Z3gY9DIoYz9Yzm0SpX1iP7LEnaUHwGE/35Y1Ix7wYD/VHjfdvg5gP2KHV0qkOV4/wrtTuaI2XD+B2YboixZaP143zrOQ21c/lUibr/2HVT/zEjvKOB5TP9DB+9K+oFA/8mR500EkTD8+ShuzA+pGPyGnLsImmEE/Htlprk1oOD8=",
          "dtype": "f8"
         },
         "y": {
          "bdata": "KKhGuZDoUD82/i9s/dlRP2At5UYDuVI/sn7RY7yEUz//JmbCVjxUP9rSkx8V31Q/Rg3juE9sVT+CZWL5dONVPxoRuA8KRFY/w1i8bKuNVj9cThoqDcBWP9oBjVj72lY/cI5oNVreVj960DdHJspWP85EUWF0nlY/IGBfjnFbVj+yf/LhYgFWP5ZPTDGlkFU/BA2us6wJVT+SSYyKBG1UP72sIzJOu1M/qooC20D1Uj//5zKtqBtSP7qSx/VlL1E/iT+lP2wxUD+cBeywgkVOP2Ldk4X4CEw/Ow72LIivST/lCfqgnTtHP67xpCbAr0Q/sGPhso8OQj/QMKlrhLU+PwuqFZ9BLjk/5CO54QmNMz/YYwiuVa8rP5zPctENKCA/YM+rsHlAAj8AX5FhFDIMvyAElHnkoSK/ZII18g4kLr/Oc8fEk8M0v8Uy96a4Xzq/cwIdt63gP7+6poBJY6BCv8T081s8PUW/Uq5lnDDER78mCuUlpTJKv8sphlQYhky/NMjMWiS8Tr91aTLdQGlQv1Jazs6EY1G/c6aaB9xLUr+BIh8HVyFTv3ZA7b0Z41O/CNh3cFyQVL8mqfaEbChVv8JcgTutqlW/ATykT5gWVr9bDsiCvmtWv5xy3g7IqVa/un3cAHXQVr/NWqZ6nd9Wv6b4J9wx11a/zGdw0zq3Vr+pTr9T2X9Wv+KsjXNGMVa/IfG0MdPLVb+xCvEh6E9Vv1WHEwEFvlS/LN1WMcAWVL8InFkfxlpTv1RSYZDYilK/+1yc2s2nUb+OiDAIkLJQv9CI9Ms3WE+/STDq/f8qTb8A9rMKt99Kv/MOJlW6eEi/im5rzoP4Rb/Klopop2FDv9NfHG7QtkC/FPDjg331O7/tWAATiGA2vxLV94mBtDC/kDSbYIXuJb/wcNI22LoUv8DdyeTF5eM+yNVUV7mxGT8wCR6+HmYoPygo5xYd7TE/4PH7P7CUNz8tLkip9CM9P9MHKZiXSkE/Ou3C1GHxQz+0q1JUnYNGP5j/qpGj/kg/7Gv/8+VfSz/rBKpx8KRNP7uEkBdsy08/J6hGuZDoUD8=",
          "dtype": "f8"
         },
         "z": {
          "bdata": "UqDWrxSo5b9SoNavFKjlv1Kg1q8UqOW/UqDWrxSo5b9SoNavFKjlv1Kg1q8UqOW/UqDWrxSo5b9SoNavFKjlv1Kg1q8UqOW/UqDWrxSo5b9SoNavFKjlv1Kg1q8UqOW/UqDWrxSo5b9SoNavFKjlv1Kg1q8UqOW/UqDWrxSo5b9SoNavFKjlv1Kg1q8UqOW/UqDWrxSo5b9SoNavFKjlv1Kg1q8UqOW/UqDWrxSo5b9SoNavFKjlv1Kg1q8UqOW/UqDWrxSo5b9SoNavFKjlv1Kg1q8UqOW/UqDWrxSo5b9SoNavFKjlv1Kg1q8UqOW/UqDWrxSo5b9SoNavFKjlv1Kg1q8UqOW/UqDWrxSo5b9SoNavFKjlv1Kg1q8UqOW/UqDWrxSo5b9SoNavFKjlv1Kg1q8UqOW/UqDWrxSo5b9SoNavFKjlv1Kg1q8UqOW/UqDWrxSo5b9SoNavFKjlv1Kg1q8UqOW/UqDWrxSo5b9SoNavFKjlv1Kg1q8UqOW/UqDWrxSo5b9SoNavFKjlv1Kg1q8UqOW/UqDWrxSo5b9SoNavFKjlv1Kg1q8UqOW/UqDWrxSo5b9SoNavFKjlv1Kg1q8UqOW/UqDWrxSo5b9SoNavFKjlv1Kg1q8UqOW/UqDWrxSo5b9SoNavFKjlv1Kg1q8UqOW/UqDWrxSo5b9SoNavFKjlv1Kg1q8UqOW/UqDWrxSo5b9SoNavFKjlv1Kg1q8UqOW/UqDWrxSo5b9SoNavFKjlv1Kg1q8UqOW/UqDWrxSo5b9SoNavFKjlv1Kg1q8UqOW/UqDWrxSo5b9SoNavFKjlv1Kg1q8UqOW/UqDWrxSo5b9SoNavFKjlv1Kg1q8UqOW/UqDWrxSo5b9SoNavFKjlv1Kg1q8UqOW/UqDWrxSo5b9SoNavFKjlv1Kg1q8UqOW/UqDWrxSo5b9SoNavFKjlv1Kg1q8UqOW/UqDWrxSo5b9SoNavFKjlv1Kg1q8UqOW/UqDWrxSo5b9SoNavFKjlv1Kg1q8UqOW/UqDWrxSo5b9SoNavFKjlv1Kg1q8UqOW/UqDWrxSo5b8=",
          "dtype": "f8"
         }
        },
        {
         "mode": "lines",
         "type": "scatter3d",
         "x": {
          "bdata": "jl2TOHmEOD+kLFynD98rP6h2Yo/HYQo/yM3tt/BpHb/PAULMnPkxv8UQcfk1hjy/PGbb77N6Q7++iUR8OJ5Iv2whhZFcqE2/hGzwI/dJUb/4fpmd7a1Tv96xq+Ka/VW/7q9ZCZ02WL+pHtGFqVZav3J92oaPW1y/OWfzNzpDXr98pUdz2QVgv1o2JISR2WC/iYL1D+ubYb+yQLO/HUxiv0+KavJz6WK/X+t3eEtzY7/7ubY6Fuljv01f+cxaSmS/8JUz67SWZL/bl9Xg1c1kvy+x7dmE72S/MZa8HZ/7ZL/RGYAyGPJkv7BfT+r50mS/8kf7WGSeZL9ZhP2yjVRkv3RsmBXC9WO/5ilhOGOCY7/MHYUI6Ppiv3NUMi7cX2K/dmahfN+xYb8BLVVNpfFgv8QdOsfzH2C/VMPHJEZ7Xr9oaXfyOJdcv/l8CvCylVq/XpBjd8V4WL+K0xUinkJWv7LZm4qE9VO/+knA8teTUb/RO0mjGUBOv7xi1pdUOUm/heRAMY8YRL8/V0tWJcY9v9k3aTd7PDO/SLfxqvk9Ib8IcH55JDsAP3wBMxpdVyk/Zze04uhCNz9oapNiFOFAP7DtnhBOD0Y/KLtvYcomSz8zWOHVJBFQP/DTGJBUflI/OpZECnTYVD9Ex/WVFh1XP2dEOKvlSVk/ZjGNUaNcWz+QSpRvLFNdP24RAv96K18/Nr5OEdRxYD8CWw8O9zxhP5nK9A9V9mE/49RgAi+dYj88bd3m2DBjP9w/aIa6sGM/ObtaDlAcZD8i10yYKnNkP9mGZpzwtGQ/cP6pTV7hZD9AqdffRfhkP8jFo7aP+WQ/9PwMfjrlZD9H3rorW7tkP2jXYukcfGQ/vuxJ6MAnZD9jEBEenr5jP1ZdEesgQWM//Z2kqsqvYj/yRs0tMQtiPzZaxyD+U2E/c2QhXO6KYD/FviNEomFfP8NHo5EOjV0/Sk6vpQSaWz+D18nrhopZP2yOwiO1YFc/JpY0McoeVT9cbArPGcdSP/t6ZikOXFA/7bzSwErASz9AfM3s3atGP+6OXVgSgEE/mV2TOHmEOD8=",
          "dtype": "f8"
         },
         "y": {
          "bdata": "vkmQ5Jl6UD8GFaAC1WxRPwQ+MM4ZTVI/cqXmGIEaUz/4c8QmN9RTPw7BaIh8eVQ/2XBm4KYJVT8V3uGSIYRVP8dIwV5u6FU/gCDS3yU2Vj8OAl3592xWP6KLuiisjFY/DOeTvyGVVj/S/ZIFUIZWPzKdX0FGYFY/7EXgqCsjVj9A4844P89VP38Ty3PXZFU/6e8sCWLkVD8KQfRjY05UPzesSCJ2o1M/OI8XdkrkUj+71XNvpRFSP+QBczFgLFE/tM1YEmc1UD+bP/BPcVtOP5fpiILJLEw/HIVEnBbhST+CTy5ttnpHP966F0Ui/EQ/qpDDZuxnQj8akLLCeoE/P1YMuKWiEjo/7uHwLOqIND8oFUWGDdQtP+SmEUqHdyI/gBIPQ98fDD/Ant5qXLsBv6jXomkowh+/5PrZ7/JCK79uJ9TOW0QzvzQR7sNh0zi/6uchddBIPr+XO8Owg89Bv1ORJBtDaES/GXA0PfnrRr8EXLaJDlhJvznFss4Dqku/QXdcyHTfTb/ZYDOYGvZPv7QO7Q7n9VC/1HKZF0XfUb8sJL3WNrZSv68QnbreeVO/2cmKE3MpVL+qksvjPsRUv2EvKpqiSVW/2yRzthS5Vb+72TFXIhJWv5p9HLBvVFa/MKS0aLh/Vr8GCbviz5NWvzHcLWihkFa/wi6iQDB2Vr8efeKtl0RWv2DT1c8K/FW/OoLMb9ScVb+qt2izVidVv+JycrcKnFS/Bh7/EoD7U78Cf21DXEZTv5OTzgFafVK/fTFrgkihUb861CyfCrNQv/GIi9srZ0+/CE0TheNHTb+GyPZBbApLv/SFUDYVsUi/+13zQUo+Rr+en2+BkbRDvy91DLSIFkG/IynIEsXNPL9Jy9Syx1A3vyoTeJPBuzG/sOibjOcoKL/IzXHTyIIZv0DDzdWzy+S+CKoz14lSFD9w572iy5QlP/q13KIJdTA/nlxpkLYONj+w5+a8ppE7P5oRsN0VfEA/RsMkNVoeQz+IwkdY6axFP4P9Q4sgJUg/3cyAGnSESj8ysmv6cchMP5Sgz0zE7k4/vUmQ5Jl6UD8=",
          "dtype": "f8"
         },
         "z": {
          "bdata": "WArU+pUC5b9YCtT6lQLlv1gK1PqVAuW/WArU+pUC5b9YCtT6lQLlv1gK1PqVAuW/WArU+pUC5b9YCtT6lQLlv1gK1PqVAuW/WArU+pUC5b9YCtT6lQLlv1gK1PqVAuW/WArU+pUC5b9YCtT6lQLlv1gK1PqVAuW/WArU+pUC5b9YCtT6lQLlv1gK1PqVAuW/WArU+pUC5b9YCtT6lQLlv1gK1PqVAuW/WArU+pUC5b9YCtT6lQLlv1gK1PqVAuW/WArU+pUC5b9YCtT6lQLlv1gK1PqVAuW/WArU+pUC5b9YCtT6lQLlv1gK1PqVAuW/WArU+pUC5b9YCtT6lQLlv1gK1PqVAuW/WArU+pUC5b9YCtT6lQLlv1gK1PqVAuW/WArU+pUC5b9YCtT6lQLlv1gK1PqVAuW/WArU+pUC5b9YCtT6lQLlv1gK1PqVAuW/WArU+pUC5b9YCtT6lQLlv1gK1PqVAuW/WArU+pUC5b9YCtT6lQLlv1gK1PqVAuW/WArU+pUC5b9YCtT6lQLlv1gK1PqVAuW/WArU+pUC5b9YCtT6lQLlv1gK1PqVAuW/WArU+pUC5b9YCtT6lQLlv1gK1PqVAuW/WArU+pUC5b9YCtT6lQLlv1gK1PqVAuW/WArU+pUC5b9YCtT6lQLlv1gK1PqVAuW/WArU+pUC5b9YCtT6lQLlv1gK1PqVAuW/WArU+pUC5b9YCtT6lQLlv1gK1PqVAuW/WArU+pUC5b9YCtT6lQLlv1gK1PqVAuW/WArU+pUC5b9YCtT6lQLlv1gK1PqVAuW/WArU+pUC5b9YCtT6lQLlv1gK1PqVAuW/WArU+pUC5b9YCtT6lQLlv1gK1PqVAuW/WArU+pUC5b9YCtT6lQLlv1gK1PqVAuW/WArU+pUC5b9YCtT6lQLlv1gK1PqVAuW/WArU+pUC5b9YCtT6lQLlv1gK1PqVAuW/WArU+pUC5b9YCtT6lQLlv1gK1PqVAuW/WArU+pUC5b9YCtT6lQLlv1gK1PqVAuW/WArU+pUC5b9YCtT6lQLlv1gK1PqVAuW/WArU+pUC5b8=",
          "dtype": "f8"
         }
        },
        {
         "mode": "lines",
         "type": "scatter3d",
         "x": {
          "bdata": "ChlPPwygOD9UNSj5uK4sP4jUiagh/w8/eGIEFs5uGb+ChW9hvbAwv6BNnM6S9Dq/MHeMfE+OQr+g0bvYNI9Hv6IzyxvRd0y/2uAwd4qhUL+uZ5GcB/ZSvy+eYR75NlW/APDXQgxiV7/oJBXbBHVZv2P49ZC/bVu/1uhHGzRKXb/gpRtWdwhfv8khhp5eU2C/T6i4Yq0RYb/4f0nLY75hvwBQDc/PWGK/LjyPP1LgYr+8WCdtX1RjvyF++LZ/tGO/3w5BBlAAZL9+kX80gjdkvyzUAVzdWWS/R4+LEj5nZL9QEdiNll9kv6JS0bHuQmS/r8ltCGQRZL8NYj2jKctjv635xOaHcGO/GajeP9wBY780vGvDmH9iv3u2u7hD6mG/jHghD3dCYb8KWUW/34hgv4pbrzF6fF+/7jC3+r/GXb/LvqoRVPJbv7uMdFIZAVq/vkYjSxD1V7++co8rVdBVv89VhZgdlVO/gQixZLZFUb+VjktjAslNvwBZ5Pbj50i/DD2SIhntQ7+/8mr3h7s9v5aZJYg3fjO/NT+oJZ5ZIr+wQHpn6eDyPmiCr8NpDyc/KP5cfnjVNT9UZcctXQZAP84IJU55EUU/gtLauN0GSj8w1Y3pbeFOP8Pm5oEUzlE/ggC2fRcZVD/+eH/NYk9WP4NfsrGublg/dBufH8t0Wj++B8UCol9cP1kGXWM5LV4/8onpb7XbXz/gONkzrbRgPymPGTJHamE/n5vRf+0NYj+7SXNr955iP3g3q3LPHGM/Q7Z+3POGYz/MUwQ/99xjP0cTLfCAHmQ/yxMqYU1LZD83bRBkLmNkP/95c1sLZmQ/QHzEU+FTZD8Ydl0GwyxkP3ESNMbY8GM/roNIVmCgYz9IMfuprDtjP/zUio8lw2I/RCwTRUc3Yj94i3r4oZhhP9lX0jLZ52A/a5zDL6MlYD/S/mpDkKVeP9h33sZC4Fw/erQUMDH9Wj9kODh0Tf5YP5fBHDam5VY/DB5hp2S1VD+gqTBOym9SP8VF8LEuF1A/yO944vlbSz+yeGuHYm1GP/7ZWdSsZ0E/FRlPPwygOD8=",
          "dtype": "f8"
         },
         "y": {
          "bdata": "U53OQ2wLUD/8Kneuef5QP9DgtIgC4FE/rgUiVh6vUj/J08iY92pTP8z0Na3MElQ/59QTkvClVD9TCoGayyNVP+P7aQrci1U/NptEnLbdVT+5V6TvBhlWP+pNNOCPPVY/gAq+xCtLVj9M6fuVzEFWPz4LD/17IVY/cvuJSVvqVT8sRxpPo5xVPyFu9CqkOFU/XY0+8cS+VD+g5c5Cgy9UPybFq8tyi1M/o1LSqjzTUj/tI+HDngdSPxdVWvtqKVE/eOZGXoY5UD/+0jRs0HFOP+W+lBMyUUw/gBxAGmMTSj/rwbv+srpHP0MzxfSMSUU/2y0JZ3XCQj+BUNxeByhAP2FDRanj+To/0HpV1+mHNT+QjFpxfP8vPwxo+T0pziQ/wOQ+cMcOEz+A2AYRRpPsvqg8vlzqLxq/uBhotjZZKL9cr8V0r8Axv97zw8t2Qje/LUQ1JUSsPL9mN6Z+QfxAv971+aPekEO/FIL4iFARRr+ipmj+AntIvyai/Ud5y0q/iIOzrFAATb+D/VrsQhdPvxff5UsUh1C/JkyppH1xUb+1xYjd60lSv/9oldx/D1O/Frja9m3BU795kFDC/l5Uv55m7NKP51S/JeEOYpRaVb9QPaHflbdVvw/mTGw0/lW/6UFPPCcuVr8e2IPiPEdWv7pyV4NbSVa/gLhv74A0Vr+8xOulwghWv65qO75NxlW/BvyjuWZtVb+OfKI8af5Uv9INdLDHeVS/+vMlzQrgU78XxqYM0TFTvwERagfOb1K/0NFGu8maUb9+nk+9n7NQv9T98a58dk+/U5TuJUtlTb8PeKJgzDVLv/ulbhxB6ki/6ZKDAAeFRr/zK48tlghEv1h0ILJ+d0G/sebAzMuoPb+jIbNjB0Q4vyo8Onw/xjK/wAmqZDpqKr+g/mFUdlkevwAJl8W7/P6+UK4MgSnGDT9MZHvz/7oiP0SMkLwm8S0/uOofDziEND9BTxumtvo5P2gaCoptVj8/VGdeXutIQj9S7kvGxtNEPzGy6REqSUc/KEPWd4ymST/4OPvsfelLP6sz1KepD04/Up3OQ2wLUD8=",
          "dtype": "f8"
         },
         "z": {
          "bdata": "XXTRRRdd5L9ddNFFF13kv1100UUXXeS/XXTRRRdd5L9ddNFFF13kv1100UUXXeS/XXTRRRdd5L9ddNFFF13kv1100UUXXeS/XXTRRRdd5L9ddNFFF13kv1100UUXXeS/XXTRRRdd5L9ddNFFF13kv1100UUXXeS/XXTRRRdd5L9ddNFFF13kv1100UUXXeS/XXTRRRdd5L9ddNFFF13kv1100UUXXeS/XXTRRRdd5L9ddNFFF13kv1100UUXXeS/XXTRRRdd5L9ddNFFF13kv1100UUXXeS/XXTRRRdd5L9ddNFFF13kv1100UUXXeS/XXTRRRdd5L9ddNFFF13kv1100UUXXeS/XXTRRRdd5L9ddNFFF13kv1100UUXXeS/XXTRRRdd5L9ddNFFF13kv1100UUXXeS/XXTRRRdd5L9ddNFFF13kv1100UUXXeS/XXTRRRdd5L9ddNFFF13kv1100UUXXeS/XXTRRRdd5L9ddNFFF13kv1100UUXXeS/XXTRRRdd5L9ddNFFF13kv1100UUXXeS/XXTRRRdd5L9ddNFFF13kv1100UUXXeS/XXTRRRdd5L9ddNFFF13kv1100UUXXeS/XXTRRRdd5L9ddNFFF13kv1100UUXXeS/XXTRRRdd5L9ddNFFF13kv1100UUXXeS/XXTRRRdd5L9ddNFFF13kv1100UUXXeS/XXTRRRdd5L9ddNFFF13kv1100UUXXeS/XXTRRRdd5L9ddNFFF13kv1100UUXXeS/XXTRRRdd5L9ddNFFF13kv1100UUXXeS/XXTRRRdd5L9ddNFFF13kv1100UUXXeS/XXTRRRdd5L9ddNFFF13kv1100UUXXeS/XXTRRRdd5L9ddNFFF13kv1100UUXXeS/XXTRRRdd5L9ddNFFF13kv1100UUXXeS/XXTRRRdd5L9ddNFFF13kv1100UUXXeS/XXTRRRdd5L9ddNFFF13kv1100UUXXeS/XXTRRRdd5L9ddNFFF13kv1100UUXXeS/XXTRRRdd5L9ddNFFF13kv1100UUXXeS/XXTRRRdd5L8=",
          "dtype": "f8"
         }
        },
        {
         "mode": "lines",
         "type": "scatter3d",
         "x": {
          "bdata": "kysf08W6OD/N+RG6xHwtPyxLnr0wyxI/VF+Uc4d2Fb+Au87hD9Euv5BgRumLYzm/CvALATKiQb+muei4cIBGv/RBNXR9R0u/7ovuc2vyT7+20dZ6NT5Sv0qCsBRncFS/IeoDAoeNVr/LDzt1Z5NYv6RFqZfyf1q/vAHWryxRXL/tdNwsNgVevzpgxJRNml+/aUnrqWiHYL9Cuoe1oDBhv9ry+X0gyGG/TzYY2EtNYr+1/cd9mb9iv8A1f5uTHmO/gXm5SdhpY7+CFuTxGaFjv+vRWJ4fxGO/+PwUNcXSY78+UvCc+8xjv2E/Lc3IsmO/CJBSx0eEY7/90FR7qEFjv7YdLJYv62K/X0gJOzaBYr/TVXOnKQRivwYFrMKKdGG/5HXPmO3SYL9Z6DfC+B9gvxbIhW/JuF6/75xRKfYRXb/i6FWNK01bvx6B3Fo8bFm/IGHUUxhxV79VCcg9yl1Vv+4b+8Z1NFO/1bXaUVX3UL/a9AxSb1FNv7/PoDz7lUi/mHNOLi/BQ7/kHckjDLA9vydh2Z8fvzO/n1VGW7BzI78AzW+edl3VPtbm2JTXyCQ/K0vzTqtoND/oq74f4Vc+PxbfGNLnE0Q/2CnkwCznSD9DJ6AExqBNPyjG8V3qHVE/zkVmwMxZUz9VT+6mvIFVPzVzqh6Bk1c/ESgXD/iMWT8lMPpsGGxbPywKfVP0Ll0/3MVKAbvTXj83NtJbXSxgP60Svzwx3mA/3Rhs1KF+YT8T1FTACQ1iPx6w6zTWiGI/esrrlIfxYj/ZIuX0sUZjPwyRe4r9h2M/i9PlBie1Yz+GbU/c/81jPxzP1W1u0mM/+0/vKW7CYz8axSCPD55jP8PW/Bp4ZWM/xZ1+I+IYYz8zXueanLhiP0NcXb4KRWI/xK6fr6O+YT9cgjj68SVhP2xkrASTe2A/1plz3GyAXz9yUKCzOuldP/T78U0zM1w/FN4AMxpgWj9lGXjh0HFYP7Hdv95UalY/HrTDqb1LVD8mVfKSOhhSPx4XYPcgpE8/8e8b/y73Sj+p414TcS5GP35itrHVTkE/nisf08W6OD8=",
          "dtype": "f8"
         },
         "y": {
          "bdata": "/289feM1Tz/B7N0d1Y5QP3VNKQKncVE/4dfsm31CUj+Zm8CkgQBTP+C5UT3vqlM/czhLtxZBVD9khW5KXcJUP3T+ILQ9LlU/lgPKwEiEVT+n+nO+JcRVP78aOtiS7VU/HsAkWmUAVj+6VC7difxVP1ptQ1sE4lU/PH0pK/CwVT/wWVDkf2lVPzqcqyr9C1U/LaDJYsiYVD9UZHZOWBBUPyi1UJI5c1M/fdXPJA7CUj9JFk+njP1RP1F3y6l/JlE/u2AV2sQ9UD+KZps+mIhOP/p5M0Utdkw///sZjGtGSj/Y/bMVlPtHP6Zv2c8DmEU/wC9CJDEeQz9OJq5uqZBAP9KZzLYc5Ds/FcaZYSaKNj9gTZEN9BgxP3BwprtDLCc/cHytgXgdGD+AARrM3JjcPpirOJA0jBS/KOToS2RmJb8w4oOITzgwvyKfZKC0rDW/DXJ2/sEKO78Qxc6ddyZAv3S/aFbotkK/6MLGfA40Rb99qW9HWZtHv+pLu3RO6km/sKmg2IweTL9hhajQzjVOv9GTvk32FlC/Jp/WSG8CUb+rxqueX9xRv3KhS6fmo1K//opWtTZYU7/53wPqlfhTv0Nbu/RehFS/KBJ+vQH7VL8xZm/5A1xVv5DP5KgBp1W/yI16fq3bVb96/MIu0flVv0BoPqhNAVa/M7JhMxvyVb/Ivop6ScxVv7582nn/j1W/hikFV3s9Vb8YQEIhEtVUv4QbnnkvV1S/qa8HJFXEU7+btYyBGh1TvyUvTvQrYlK/7hvOLUqUUb/ZjE1oSbRQv1StDxghhk+/JM5YgjCDTb9AMBnf02FLvw52C1o9JEm/UL2CN7zMRr/1/+xyul1Ev8yOy0G62UG/i6Fk+6aGPr/2XPDvYTo5v6YhtHMb1DO/SAiYz8iyLL9A7VR+xZ8hv6B2omBd6gm/8K/WEBLFAj/YmkwrlLAfP6Qff1f67io/tMWijfP0Mj+sy4Zo3144P0RKLBmsrz0/lR/bcO9wQT8e+9FHDvhDP9Rgo4CXakY/qTSBQgXGSD9FV2eG6QdLP5KsTpjwLU0//W89feM1Tz8=",
          "dtype": "f8"
         },
         "z": {
          "bdata": "Yt7OkJi3479i3s6QmLfjv2LezpCYt+O/Yt7OkJi3479i3s6QmLfjv2LezpCYt+O/Yt7OkJi3479i3s6QmLfjv2LezpCYt+O/Yt7OkJi3479i3s6QmLfjv2LezpCYt+O/Yt7OkJi3479i3s6QmLfjv2LezpCYt+O/Yt7OkJi3479i3s6QmLfjv2LezpCYt+O/Yt7OkJi3479i3s6QmLfjv2LezpCYt+O/Yt7OkJi3479i3s6QmLfjv2LezpCYt+O/Yt7OkJi3479i3s6QmLfjv2LezpCYt+O/Yt7OkJi3479i3s6QmLfjv2LezpCYt+O/Yt7OkJi3479i3s6QmLfjv2LezpCYt+O/Yt7OkJi3479i3s6QmLfjv2LezpCYt+O/Yt7OkJi3479i3s6QmLfjv2LezpCYt+O/Yt7OkJi3479i3s6QmLfjv2LezpCYt+O/Yt7OkJi3479i3s6QmLfjv2LezpCYt+O/Yt7OkJi3479i3s6QmLfjv2LezpCYt+O/Yt7OkJi3479i3s6QmLfjv2LezpCYt+O/Yt7OkJi3479i3s6QmLfjv2LezpCYt+O/Yt7OkJi3479i3s6QmLfjv2LezpCYt+O/Yt7OkJi3479i3s6QmLfjv2LezpCYt+O/Yt7OkJi3479i3s6QmLfjv2LezpCYt+O/Yt7OkJi3479i3s6QmLfjv2LezpCYt+O/Yt7OkJi3479i3s6QmLfjv2LezpCYt+O/Yt7OkJi3479i3s6QmLfjv2LezpCYt+O/Yt7OkJi3479i3s6QmLfjv2LezpCYt+O/Yt7OkJi3479i3s6QmLfjv2LezpCYt+O/Yt7OkJi3479i3s6QmLfjv2LezpCYt+O/Yt7OkJi3479i3s6QmLfjv2LezpCYt+O/Yt7OkJi3479i3s6QmLfjv2LezpCYt+O/Yt7OkJi3479i3s6QmLfjv2LezpCYt+O/Yt7OkJi3479i3s6QmLfjv2LezpCYt+O/Yt7OkJi3479i3s6QmLfjv2LezpCYt+O/Yt7OkJi3479i3s6QmLfjv2LezpCYt+O/Yt7OkJi3478=",
          "dtype": "f8"
         }
        },
        {
         "mode": "lines",
         "type": "scatter3d",
         "x": {
          "bdata": "+aGmbFjUOD9/5ohnmEguP5BDetWQkhU/HL7g60uCEb+OETsdjkIsv6Ahpl1q0ze/Lz/sIX+2QL8p5Ba3DnJFvw7QHAeDF0q/top69BGiTr9up6ONhoZRvyVURFLzqVO//ib8+xq5Vb8CtLIj3rFXvzkCgXc0klm/NPMM0y5YW7/4c/A9+QFdvzRVHs7cjV6/XodTbEH6X7/TK2G816Jgv7kFI6doN2G/odtHUTq6Yb/rpPDgxSpiv3CqiFKXiGK/En9c8E3TYr/fxUq2nApjv3ACKKFKLmO/QZ2D6TI+Y79ch5EpRTpjv2ZoEW6FImO/t+ohMgz3Yr/ycgRGBrhiv59G66C0ZWK/FsABHmwAYr/ol/MklYhhv7JuTT6r/mC/BogllDxjYL+u9B+/0m1fv1TI6obG9F2/ws3sKtlcXL8oUTErr6dav/i4FysL11i/IHbMIMzsVr/Yq49n6+pUv0KAxrZ601K/dBLw/6GoUL8M7GFrOtlMv35if/xzQ0i/5vsjp6qUQ79CbfVOZKM9vygjNxDm/jO/HagZS5aLJL9gepw4LEPgvqJO1/s8hCI/W7QRMsv8Mj+4JrNJ5aM8PwfrcMC8FkM/gCNBgdnHRz8DuVnFcmBMP/ZN2dflbVA/iJA1xaKaUj+57/lEMrRUP25fHTZquFY/RMmKdzalWD9B0KgMm3haP1Ga/ii2MFw/stfZIMLLXT8BE/Y8F0hfP5acobcWUmA/9o2E807vYD9wq2NBEnthP14oKo/Q9GE/q3bxXQxcYj+dYV5DW7BiP4AQU1dm8WI/vN2EjeoeYz+kqZn6uDhjPzNqhQS3PmM/uRz2fd4wYz8D1bGsPQ9jP7xZ4Dr32WI/lHhPE0KRYj+k59YoaTViPwAPFinLxmE/MF7bGtpFYT9OyJnoGrNgP82QZdckD2A/LUoL1kG1Xj8rgHRvkixdP1zf2ETQhVs/YmwYIK/CWT8+r+gJAOVXP+q2dmqv7lU/+qnRDcPhUz/9HikOWMBRP8TiCkxBGU8/Rhhy2cORSj9AK8D+4u5FP9rlrzFmNUE/A6KmbFjUOD8=",
          "dtype": "f8"
         },
         "y": {
          "bdata": "S9YUwCVSTj8xgpyLzx1QP5nIlD3vAVE/jbxHzobUUT9YAoAovZRSP0x1RCnMQVM/fn4WbAHbUz9mJ9YCv19UP01Zjhh8z1Q/1HiBfsUpVT8I+OQiPm5VP4p60XCfnFU/w6YEmbm0VT8qpCnDc7ZVP095dSfMoVU/LON8ENh2VT97wUHFwzVVP8G3jlvS3lQ/lg/Qcl1yVD/kJLHX1PBTP76X3RC+WlM/vw9d1bOwUj9zcxdtZfNRP735JfyVI1E/91WruRtCUD9/swQmvp9OP0JYTXizm0w/wB+dXCt6Sj8wHH4rWD1IP4pI6l+I50U/EHedNiR7Qz8HQ9oyq/pAP2mpYRZj0Tw/XQXeAbuPNz/os+5JyTUyP3wJPzMkkik/0NJF1rM8HT8gG26F79v8PiAgi/lXrA2/TDwFTwRqIr+w0iRQ91Utvx/z4HDWETS/J3PzBwFkOb9Lpb1G/5s+v+7HxwA42kG/TsaZSQlURL8WmoIj5rhGv5ou9s1WBkm/p9dnrfs5S799GaC9j1FNv3VLqejqSk+/YNn0HwKSUL+UOJAKem1Rv7Dejfj6NlK/TRgRM7XtUr+8Lxde7JBTvxyooTr4H1S/scAkVEWaVL+NeYeYVf9UvzhqGNrATlW/EnTxOjWIVb9ynVuBd6tVv7UX3FRjuFW/lYGrY+uuVb/cxnBwGY9Vv0R2MUgOWVW/fuyBoAENVb8qLxjeQatUv8qp/MMzNFS/uhmsC1KoU7/FupXmLAhTv0kceGlpVFK/9dY14sCNUb8RjdEYALVQvwg5rPgMlk+/EjgJeYqhTb9sHWuifI5Lvygt2+AGX0m/Nodv6GkVR789rtBiAbREvwbE9IBBPUK/XN0j52hnP7/v0saZ7zM6vyFI6Jxz5TS/tLHZltoCL79sYgdp1hokv7iQ+4QxPBK/wEYE2q6A7j5gxPsPb9gZPwRz3fMR4yc/6qrlaaZgMT80fxQW2r02P1T4xnecAzw/ZshFGT+WQD+1HjnXlhlDP97mzUk+iUU/Hoy5kLLiRz+2SgeuhyNKP9QXMgVrSUw/SdYUwCVSTj8=",
          "dtype": "f8"
         },
         "z": {
          "bdata": "Z0jM2xkS479nSMzbGRLjv2dIzNsZEuO/Z0jM2xkS479nSMzbGRLjv2dIzNsZEuO/Z0jM2xkS479nSMzbGRLjv2dIzNsZEuO/Z0jM2xkS479nSMzbGRLjv2dIzNsZEuO/Z0jM2xkS479nSMzbGRLjv2dIzNsZEuO/Z0jM2xkS479nSMzbGRLjv2dIzNsZEuO/Z0jM2xkS479nSMzbGRLjv2dIzNsZEuO/Z0jM2xkS479nSMzbGRLjv2dIzNsZEuO/Z0jM2xkS479nSMzbGRLjv2dIzNsZEuO/Z0jM2xkS479nSMzbGRLjv2dIzNsZEuO/Z0jM2xkS479nSMzbGRLjv2dIzNsZEuO/Z0jM2xkS479nSMzbGRLjv2dIzNsZEuO/Z0jM2xkS479nSMzbGRLjv2dIzNsZEuO/Z0jM2xkS479nSMzbGRLjv2dIzNsZEuO/Z0jM2xkS479nSMzbGRLjv2dIzNsZEuO/Z0jM2xkS479nSMzbGRLjv2dIzNsZEuO/Z0jM2xkS479nSMzbGRLjv2dIzNsZEuO/Z0jM2xkS479nSMzbGRLjv2dIzNsZEuO/Z0jM2xkS479nSMzbGRLjv2dIzNsZEuO/Z0jM2xkS479nSMzbGRLjv2dIzNsZEuO/Z0jM2xkS479nSMzbGRLjv2dIzNsZEuO/Z0jM2xkS479nSMzbGRLjv2dIzNsZEuO/Z0jM2xkS479nSMzbGRLjv2dIzNsZEuO/Z0jM2xkS479nSMzbGRLjv2dIzNsZEuO/Z0jM2xkS479nSMzbGRLjv2dIzNsZEuO/Z0jM2xkS479nSMzbGRLjv2dIzNsZEuO/Z0jM2xkS479nSMzbGRLjv2dIzNsZEuO/Z0jM2xkS479nSMzbGRLjv2dIzNsZEuO/Z0jM2xkS479nSMzbGRLjv2dIzNsZEuO/Z0jM2xkS479nSMzbGRLjv2dIzNsZEuO/Z0jM2xkS479nSMzbGRLjv2dIzNsZEuO/Z0jM2xkS479nSMzbGRLjv2dIzNsZEuO/Z0jM2xkS479nSMzbGRLjv2dIzNsZEuO/Z0jM2xkS478=",
          "dtype": "f8"
         }
        },
        {
         "mode": "lines",
         "type": "scatter3d",
         "x": {
          "bdata": "KOB1uGfsOD/4KKSmexEvP7QLB3pCVBg/8HqZJQ0nC78QD/x8qLYpv5iIVBKGRDa/po0ErcOWP79aQFmiOGREv0jkOVAK6Ei/L7anbi9STb+mtaSBDc9Qv1mr5Z2v41K/Iv1R/9jkVL/3+IKreNBWvwMyuNuTpFi/g+Q8B0hfWr9CBtDUzP5bv7dGDvF1gV2/UBX5x7TlXr9lxekPDRVgv4bX1smrpmC/qfILdiAnYb+1lU2q5pVhv/qUWzaM8mG/01ammbE8Yr+27sBlCnRiv/GbKo1dmGK/y3QenoWpYr9wnizpcKdiv9FHdZMhkmK/qJxylK1pYr8s+FOfPi5iv9GuAfgR4GG/mL71M3h/Yb9wfyrn1Axhv3f0dD2eiGC/XxtpAbnmX78O16sYU5tevwXscl1gMF2/kIhC8lanW7/ep7f9ywFav7it5AhyQVi/JLJjPxdoVr+1OOySo3dUvzttV8QWclK/9mEZVIZZUL+KMZ64NmBMvzB4MK0g8Ee/PIIQoF1nQ79ghjQ2NJU9v1GF54wuPTS/jLiEB5igJb+wC6m8PYT1vqT1zlhOQiA/ZhJr6DCSMT+S0ULPHfE6P8pY2IEiGkI/foKlJA2pRj+aXgfumyBLP5TeJBA0fE8/Sjg4yKvbUT8yI4r01OZTPzz18EN63VU/rFwRk5W9Vz+alWf6N4VZP4Pkb8yLMls/KAXOedbDXD/CeYBZejdePzR4SVP4i18/mvNKtfhfYD95rCUUFOlgPxYHBPHAYGE//dXB7oPGYT8FJHIn9BliP+7PgJi7WmI/ncZbe5eIYj8td0iKWKNiP0mMHjHjqmI/i6+1qS+fYj/cCOkDSoBiPw03KBlSTmI/0ZKia3sJYj/tky7xDLJhPwcUJMpgSGE/MdZ05OPMYD99F2OLFUBgP1bQk8gNRV8/vCD9sbTpXT8Hd8rghW9cP4/9yisH2Fo/ZOz5oNwkWT8hLn7UxldXP5rIQhKhclU/SrEEdF93Uz+sGc/dDGhRP84088WRjU4/P7mnK4srSj93tYCIiq5FPznyJkcwG0E/MuB1uGfsOD8=",
          "dtype": "f8"
         },
         "y": {
          "bdata": "ewexx21rTT/1XAePn1ZPPzv5yLjBkFA/PLJQMyBlUT/0PPZMkCdSP1GGcZdJ11I/csTy7pZzUz/fh9s01/tTP+Gj1PV9b1Q/mLmV+hPOVD/pJ8nCNxdVP7KyjemdSlU/kEYucxFoVT8uvL8DdG9VP5hObP69YFU/5oFMjf47VT+3Y8WRWwFVP1hCfH0RsVQ/IBsIFHNLVD8k+qAV6dBTPwU9JdPxQVM/qAfkqyCfUj+3I7N1HelRP7Xj7M+jIFE/7mAIYoJGUD/o4yYNNLdOPxXh08a5wUw/Ynky4JquSj9MleLW+n9IP2nCq4IZOEY/ANPlw1DZQz+ugwsXEmZBP8ln7R/IwT0/e6i9fr+YOD8SL5EKXFYzP+RepkwTACw/OLZNgpE2IT8wt3lURW0JP/B99kXxGQK/6KPejT/HHr9QSZ8v5jAqv4z8FoWWcTK/2j7o1La3N780o/5JZOU8v85NbC2k+kC/CuQvmRVxQ7+XHHWIfNNFvyDIBMRjH0i/y3DhRW1SSr//EvupVGpMv9+odoTxZE6/GGiQzRwgUL+XReB/If1Qv8eYjwSjyFG/tnxelM+BUr929KZN6CdTv9CvIPlBulO/S0dfukU4VL/6AFWrcaFUvwDQOWJZ9VS/cIdMYaYzVb+CDftvGFxVv1mnFd2FblW/2x/JqdtqVb9AfDOdHVFVvyYPf0BmIVW/3O2Hw+bbVL8++ifK5oBUvxjFXSLEEFS/A2maY/KLU7+uCpp3+vJSv2HSQQ16RlK/NNoU9iKHUb+1nuduurVQv3rJHakwpk+/vlO3ikzATb86/pJgvbtLv5oXr6WXmkm/EqksTQ1fR7/EWwp/awtFvxDV0zgYokK//ZK31I8lQL/caB/zxDA7v6W3A+1i+jW/JMzeGVmtML9cpAWuPJ4mv9hDWunslBe/gPSKhRdR3b7gCz1/rewTP+RgnknxzCQ/6DK3whqOLz8UPAaTXhc1P8p9P/vxUTo/BCvNxGNxPz+4hRMJNjhCP0aMfzfypEQ/vGysj2b8Rj/UdFsjKTxJP2lqB3HoYUs/eQexx21rTT8=",
          "dtype": "f8"
         },
         "z": {
          "bdata": "bLLJJpts4r9ssskmm2ziv2yyySabbOK/bLLJJpts4r9ssskmm2ziv2yyySabbOK/bLLJJpts4r9ssskmm2ziv2yyySabbOK/bLLJJpts4r9ssskmm2ziv2yyySabbOK/bLLJJpts4r9ssskmm2ziv2yyySabbOK/bLLJJpts4r9ssskmm2ziv2yyySabbOK/bLLJJpts4r9ssskmm2ziv2yyySabbOK/bLLJJpts4r9ssskmm2ziv2yyySabbOK/bLLJJpts4r9ssskmm2ziv2yyySabbOK/bLLJJpts4r9ssskmm2ziv2yyySabbOK/bLLJJpts4r9ssskmm2ziv2yyySabbOK/bLLJJpts4r9ssskmm2ziv2yyySabbOK/bLLJJpts4r9ssskmm2ziv2yyySabbOK/bLLJJpts4r9ssskmm2ziv2yyySabbOK/bLLJJpts4r9ssskmm2ziv2yyySabbOK/bLLJJpts4r9ssskmm2ziv2yyySabbOK/bLLJJpts4r9ssskmm2ziv2yyySabbOK/bLLJJpts4r9ssskmm2ziv2yyySabbOK/bLLJJpts4r9ssskmm2ziv2yyySabbOK/bLLJJpts4r9ssskmm2ziv2yyySabbOK/bLLJJpts4r9ssskmm2ziv2yyySabbOK/bLLJJpts4r9ssskmm2ziv2yyySabbOK/bLLJJpts4r9ssskmm2ziv2yyySabbOK/bLLJJpts4r9ssskmm2ziv2yyySabbOK/bLLJJpts4r9ssskmm2ziv2yyySabbOK/bLLJJpts4r9ssskmm2ziv2yyySabbOK/bLLJJpts4r9ssskmm2ziv2yyySabbOK/bLLJJpts4r9ssskmm2ziv2yyySabbOK/bLLJJpts4r9ssskmm2ziv2yyySabbOK/bLLJJpts4r9ssskmm2ziv2yyySabbOK/bLLJJpts4r9ssskmm2ziv2yyySabbOK/bLLJJpts4r9ssskmm2ziv2yyySabbOK/bLLJJpts4r9ssskmm2ziv2yyySabbOK/bLLJJpts4r8=",
          "dtype": "f8"
         }
        },
        {
         "mode": "lines",
         "type": "scatter3d",
         "x": {
          "bdata": "nZR2CoYCOT+srmYRk9YvPyTb+4eQDhs/kKumQNJXA7+MMt1HNS4nv5SUrXFItzS/Yi1EghvCPb/lMPDUIFdDv2Cn0S1EuUe/vCFgEvMCTL8EXU//4BdQv4YCL5mxHVK/FLl4kNUQVL80ptFeSu9Vv/F+PNAit1e/jg+B/4hmWb9TFo06wPtav5Yi28wmdVy/UfAGrjfRXb9kZtMSjA5fv59qgm/uFWC/1xpJ+wGUYL/d6Gi2/gBhv29pNEh0XGG/DcJ0aQSmYb/cwphFY91hv6PL38hXAmK/Kugv27sUYr+KfVqHfBRivxYOpw6aAWK/wO6P6CfcYb9vM7GuTKRhv6GB/vRBWmG/is1oDlT+YL8xMDG+4ZBgv4rwOdZbEmC/juJ0hYkGX7/8yZsHYMhdv8C9ziqDa1y/8PaPjFrxWr9xwkr9a1tZv1dRf+5Zq1e/jo9rw+HiVb8Yo+0F2gNUv0ZYeYEwEFK/T3gURugJUL8qfc0qL+ZLvwhzAXjLm0e//pMishE5Q7/sPU5bDoU9v2Q+O1iLeTS/weB5eNqxJr+ocipR5WQBv3gE4bHGBxw/rZiUxkYpMD8wL2QV8z85P5C7LBtMHkE/mr+5TfmKRT8UKvKLceFJPyiRmyM8HU4/VDBR8f0cUT+7fV3LuRlTP75MAzbFAlU/7GAdEyjWVj8OdPiXAJJYP9Np9z2FNFo/8PUzmga8Wz+OijUa8SZdP2Uj9KPOc14/6Rd6F0ihXz8ouEtYE1dgP3MRnaOqzGA/JIGQtvAwYT9wbeEzfoNhP4UStAL+w2E/NdBNpi3yYT8OgJ6C3Q1iP2YtVA3xFmI/sZhG614NYj9jMhz6MPFhPzqcHkaEwmE/yCxJ7IiBYT/mUrDogS5hPxn5dNHEyWA/NRaLfrlTYD/5uVw9s5lfP/XE5nNga14/hg/tRLIdXT/vxXinALJbPxZ10oLCKVo/S6QMLIyGWD+tcDjFDcpWP7TO8X8R9lQ//Z8OxXkMUz9WfVdDPw9RP+Celc7dAE4/IPkEfE/EST+a5dOKMW1FP94yC1j9/0A/p5R2CoYCOT8=",
          "dtype": "f8"
         },
         "y": {
          "bdata": "SnxmpYeBTD/7UpyZdm5OP78V53wDHlA/nw7bfS70UD8QWM2K37hRP1o8uuJLa1I/Fdx3mbsKUz8rjk1VipZTP4pgXvgnDlQ/RBY4NRlxVD/rf+0N+L5UPwopOT1091Q/Ufo7iVMaVT8ehYL/cSdVP2YZExrCHlU/jHNezUwAVT+IowR/McxUPzWxd+WlglQ/llqd0PUjVD8r/6jbgrBTP/5GfgjEKFM/vDwERUWNUj+iT+fapt5RP1LtXsqcHVE/xwWhEO5KUD+ze4W1585OP0CEs0sx6Ew/lP6Jmq7jSj/h1CsQdMNIP9HQSa2yiUY/EmrXwrU4RD+ysp+U4NJBP/rqVMZXtT4/5xn2vkalOT8KnZIWxno0P0gWpCFSdi4/TEGXaLHXIz9YUj3bOEkSPwC7/99Ufum+gMDBI4WlGL9Elw3X6wAnv87gZFevyzC/txfwjZgFNr9+zl5pzig7v2AKMJUCGEC/AibS9gaLQr8xCNMB7upEv6a8mBJFNUe/Fwymv69nSb/t/aRI6n9Lv+edBezLe02/I/vIIElZT78UgxbZOotQv7d/hl3DWFG/f7l1P2oUUr8qEV8Pbr1Sv0vN3JMgU1O/O7BAfefUU7/fN6UEPUJUv+MO1HWwmlS/3Ihzo+bdVL8qZwNFmgtVv00ESD6cI1W/2kbaz9MlVb8bTaqwPhJVv0aFWhDx6FS/n8RwghWqVL/A0HLS7FVUv4qYG8HN7FO/yPbtqiRvU782LYEYc91Sv+Q8+jhPOFK/DcA7R2OAUb9D22vabLZQv6xQCkV4tk+/qSB4I2bfTb+ZmCvniOlLv7ZHQuXl1km/nM6lG6CpR78IAjL99WNFvyR2jSE/CEO//toW2+mYQL9Akshq8TA8vwuJ073/Eje/GnTjAEXdMb+k4JMUQCopv1B0fK8KAB2/4M+gY8E2/r6wMPiO5tgLP9j/7kserCE/qFP9ZMtPLD8T6ImnJGszPwUz6T9fmjg/TCa6WD2wPT92+dp5wFNBP8Y3Rs+FvUM/pyPd3PESRj+H57TMnFFIPw2Vij02d0o/SHxmpYeBTD8=",
          "dtype": "f8"
         },
         "z": {
          "bdata": "chzHcRzH4b9yHMdxHMfhv3Icx3Ecx+G/chzHcRzH4b9yHMdxHMfhv3Icx3Ecx+G/chzHcRzH4b9yHMdxHMfhv3Icx3Ecx+G/chzHcRzH4b9yHMdxHMfhv3Icx3Ecx+G/chzHcRzH4b9yHMdxHMfhv3Icx3Ecx+G/chzHcRzH4b9yHMdxHMfhv3Icx3Ecx+G/chzHcRzH4b9yHMdxHMfhv3Icx3Ecx+G/chzHcRzH4b9yHMdxHMfhv3Icx3Ecx+G/chzHcRzH4b9yHMdxHMfhv3Icx3Ecx+G/chzHcRzH4b9yHMdxHMfhv3Icx3Ecx+G/chzHcRzH4b9yHMdxHMfhv3Icx3Ecx+G/chzHcRzH4b9yHMdxHMfhv3Icx3Ecx+G/chzHcRzH4b9yHMdxHMfhv3Icx3Ecx+G/chzHcRzH4b9yHMdxHMfhv3Icx3Ecx+G/chzHcRzH4b9yHMdxHMfhv3Icx3Ecx+G/chzHcRzH4b9yHMdxHMfhv3Icx3Ecx+G/chzHcRzH4b9yHMdxHMfhv3Icx3Ecx+G/chzHcRzH4b9yHMdxHMfhv3Icx3Ecx+G/chzHcRzH4b9yHMdxHMfhv3Icx3Ecx+G/chzHcRzH4b9yHMdxHMfhv3Icx3Ecx+G/chzHcRzH4b9yHMdxHMfhv3Icx3Ecx+G/chzHcRzH4b9yHMdxHMfhv3Icx3Ecx+G/chzHcRzH4b9yHMdxHMfhv3Icx3Ecx+G/chzHcRzH4b9yHMdxHMfhv3Icx3Ecx+G/chzHcRzH4b9yHMdxHMfhv3Icx3Ecx+G/chzHcRzH4b9yHMdxHMfhv3Icx3Ecx+G/chzHcRzH4b9yHMdxHMfhv3Icx3Ecx+G/chzHcRzH4b9yHMdxHMfhv3Icx3Ecx+G/chzHcRzH4b9yHMdxHMfhv3Icx3Ecx+G/chzHcRzH4b9yHMdxHMfhv3Icx3Ecx+G/chzHcRzH4b9yHMdxHMfhv3Icx3Ecx+G/chzHcRzH4b9yHMdxHMfhv3Icx3Ecx+G/chzHcRzH4b9yHMdxHMfhv3Icx3Ecx+G/chzHcRzH4b8=",
          "dtype": "f8"
         }
        },
        {
         "mode": "lines",
         "type": "scatter3d",
         "x": {
          "bdata": "Bf4bcDEWOT+D7yMdbUswP8wgUixzvx0/AGhfHuE19768fC49NKokvx3SZ4ovLDO/txxrf4HvO79JHo7DA0tCv+tTDW1ri0a/MrqmyJW0Sr/CzHnXOMJOv+gzlH0TWFG/L2c2oik9U79QWv/Pag5Vv/C7vG73yVa/s2sORgZuWL/8ebZU5vhZvz708o4AaVu/K2IVgtm8XL+NbafbEvNdv9KBidJsCl+/u5FLuOMAYL/jmL7dEWxgv1wLyF1SxmC/YnrJL0gPYb8fg0IeqEZhv8C7VxQ5bGG/UfOpWNR/Yb/RHEG1ZYFhv6C/YYzrcGG/dHM32nZOYb80sFIjKxphvxj+C1A+1GC/okPydPh8YL/HeX2IsxRgv167pAy2N1+/THDtANclXr9G4dA95PRcvzOUNxwYplu/nY7tucs6Wr+yc+GVdbRYvyOvGg6oFFe/FZ30wA9dVb86PErTcY9TvwndWR2qrVG/DJ+EgFJzT7+TYiZM5WpLv5QkAN00Rke/xDu0lIYJQ79A2BYgcXI9v0qow0x6szS/u6jmUFm+J7/oFNZaEfUHv4yMpFP6kxc/wK45qBeFLT//WXcR4pA3Pxw6n712I0A/QxYcpdltRD8iE6aBLaNIP0Mg5cobv0w/SA88E7ReUD/ald1i+kxSPxeWCFJjKFQ/Wmeo0ATvVT8uHg06Cp9XP5X9ATi2Nlk/xIfdjWS0Wj+v97HJixZcP1KZ39m+W10/6u1mha6CXj/gsHbFKopfP13EaP+ROGA/5SrkDFabYD9qQdS7++xgP42sUOIuLWE/Fv2jUq1bYT9OkYMfR3hhP3gId83egmE/W1s8cWl7YT/LRQm77mFhPx1nnu6INmE/y0Q0yGT5YD8GGF5OwapgPynvEZHvSmA/QzcyrKS0Xz80Hn5mu7JePwc5Ty0tkV0/n+2PeyRRXD9IWx836/NaP6p5wFzpelk/oukEjaPnVz+v/LF7uTtWP2DnPEPkeFQ/WNcXnvSgUj/Io6QH0bVQP1jSdY3nck0/Dv+Mx9FbST9yhDAZmCpFPzL9K9CM40A/D/4bcDEWOT8=",
          "dtype": "f8"
         },
         "y": {
          "bdata": "WdqFZD2USz/1NfzW7IJNP7Eeq4EwU08/qNTZ6JSBUD8h9qy+jUhRP4MahKe1/VE/dKcU5lGgUj8w/BLbui9TP+xV/LFcq1M/usB5+bcSVD+M/74mYmVUP+n/XQMGo1Q/UaMdBWTLVD9iUnmPUt5UP3jVhR6+21Q/YTsPW6nDVD+ZEdsXLZZUP2fBETh4U1Q/cnLpfs/7Uz9DRcRIjY9TP7f2Ci4hD1M/xvAjkA97Uj8mXf0Q8dNRP3vktvVxGlE/wUkNdVFPUD8N333kweZOPyzraEoGD00/Z9uXYVYZSz8KIG9QtwdJP1iU5AhL3EY/Ete5FU6ZRD+O+0tMFUFCP8HoscoWrD8/E9Fp/ly1Oj/ZzAEYG6M1PzgHEl2LejA/mGsHIv6BJj8QaGPnY+8XP0Al6Fz6EOY+GKwAM/1tEr8s8+8kjcUjv2hJ3CG6Py6/+A4AXFxNNL8ub8IZ7mU5v7g1+IJRZD6/LkamZrChQb/kfd08C/9Dv5G41kDJR0a/rxa9ro95SL/+vIlvG5JKvxoT9G1Dj0y/ww+T0PpuTr+073GLqRdQv4cYhAs/51C/v1oX7WelUb+EXN0qYFFSv8ILsn926lK/7XpXHQ1wU7/eQiFPmuFTv9K65wepPlS/cLOwWtmGVL/ZU5Hd4LlUv+YqY/aK11S/F2L9ELnfVL9OLbq+YtJUvwf5J7+Vr1S/cmHd8XV3VL8wjn4xPSpUvycRGhg7yFO/GsIardRRU7+jLCP9g8dSv83qPZzXKVK/tJzkEnJ5Ub/L/XQ2CbdQv32ZgdvKxk+/9nnzxMH+Tb+Cx5xAzRdMv/rkP0XjE0q/cQCVoxf1R7/eJhXimb1Fv2DyNPyyb0O/EGBhB8MNQb9lzFiAfTQ9v2jfXgRaLzi/Sap/WkgRM79orJLqHb8rv3jxNhQRPyG/8MCSYfS0Cr/g1v93xlv/PpB0sp9IAB0/YIlRQt0FKT9WTYlz5bgxP+gUzYqX3DY/9haTp7joOz+oh7NqCmxAP3DB4ePK0kI/IO1ADCQmRT8PXygxsGNHP6/99hggiUk/V9qFZD2USz8=",
          "dtype": "f8"
         },
         "z": {
          "bdata": "dobEvJ0h4b92hsS8nSHhv3aGxLydIeG/dobEvJ0h4b92hsS8nSHhv3aGxLydIeG/dobEvJ0h4b92hsS8nSHhv3aGxLydIeG/dobEvJ0h4b92hsS8nSHhv3aGxLydIeG/dobEvJ0h4b92hsS8nSHhv3aGxLydIeG/dobEvJ0h4b92hsS8nSHhv3aGxLydIeG/dobEvJ0h4b92hsS8nSHhv3aGxLydIeG/dobEvJ0h4b92hsS8nSHhv3aGxLydIeG/dobEvJ0h4b92hsS8nSHhv3aGxLydIeG/dobEvJ0h4b92hsS8nSHhv3aGxLydIeG/dobEvJ0h4b92hsS8nSHhv3aGxLydIeG/dobEvJ0h4b92hsS8nSHhv3aGxLydIeG/dobEvJ0h4b92hsS8nSHhv3aGxLydIeG/dobEvJ0h4b92hsS8nSHhv3aGxLydIeG/dobEvJ0h4b92hsS8nSHhv3aGxLydIeG/dobEvJ0h4b92hsS8nSHhv3aGxLydIeG/dobEvJ0h4b92hsS8nSHhv3aGxLydIeG/dobEvJ0h4b92hsS8nSHhv3aGxLydIeG/dobEvJ0h4b92hsS8nSHhv3aGxLydIeG/dobEvJ0h4b92hsS8nSHhv3aGxLydIeG/dobEvJ0h4b92hsS8nSHhv3aGxLydIeG/dobEvJ0h4b92hsS8nSHhv3aGxLydIeG/dobEvJ0h4b92hsS8nSHhv3aGxLydIeG/dobEvJ0h4b92hsS8nSHhv3aGxLydIeG/dobEvJ0h4b92hsS8nSHhv3aGxLydIeG/dobEvJ0h4b92hsS8nSHhv3aGxLydIeG/dobEvJ0h4b92hsS8nSHhv3aGxLydIeG/dobEvJ0h4b92hsS8nSHhv3aGxLydIeG/dobEvJ0h4b92hsS8nSHhv3aGxLydIeG/dobEvJ0h4b92hsS8nSHhv3aGxLydIeG/dobEvJ0h4b92hsS8nSHhv3aGxLydIeG/dobEvJ0h4b92hsS8nSHhv3aGxLydIeG/dobEvJ0h4b92hsS8nSHhv3aGxLydIeG/dobEvJ0h4b8=",
          "dtype": "f8"
         }
        },
        {
         "mode": "lines",
         "type": "scatter3d",
         "x": {
          "bdata": "i9QsWtAmOT+VD/hqjqgwPw4sFPlAMiA/AOmSA56p377yiby91SsivzvrhqrRozG/O2kqdYkfOr+NwLLLKUBBv/BW+5XGXkW/xQ5k+1tnSb+DnReTwVVNvzbdVvn0klC/i4vHbfNpUr/KyRuk9i1Uv9m5lKos3VW/B+TEANl1V7+d6cNhVvZYv2pib3YYXVq/7EH5ba2oW78knh57v9dcv1PhfTQW6V2/ZjSh1pfbXr+pKnFmSq5fvy4kclkqMGC/peFwmn94YL8kWjhm2q9gv89aOK0B1mC/VLweG87qYL+bB2I/Ku5gv6IpW6MS4GC/lW7XzZXAYL/iFR801I9gv+LufxgATmC/Eff8rLr2X79RAcY5gjBfv3Y91SsjSl6/xO3t+4pEXb/V1lFSxyBcv9dNyfAE4Fq/5FycfI6DWb/fkrwpywxYvwbWfkg9fVa/UOlit4DWVL/IIoM6SRpTv5v5YbpgSlG/KOzI10rRTr8aLMDGD+5Kv8yRcCkS70a/CVo2hXDYQr8Cd/p7w1w9v8VVN3xh6jS/Oc0mJuDEKL/IWTEQ1G0Ov7hNWDKbKxM/ikVzxy69Kj+EVA/mf+Q1P5+MFCvXUz4/3jHKpvVRQz/S9xNRFWZHP3o7P0YWYks/ukspFd1BTz/2QMeytYBRP/+V8gpyTlM/ZdV9m0cIVT8XXZ/wbqxWP6cu2u82OVg/8MFxlgatWT9s/QefXgZbP/W3sgzbQ1w/q4DxmTRkXT8WaAkKQmZeP6UIa1v5SF8/mHvzbLgFYD+R+coHcFZgP8BAvklQlmA/WXiKWhfFYD/GeAcCleJgP2hr3Nmq7mA/zwDWbEzpYD/q771Df9JgP2GBpt9aqmA/hgiwoQhxYD+uQ2GgwyZgP903fdWwl18/lBu+cknBXj/zKKAbLstdP3ZcWIFctlw/t8uy/fGDWz+LVe1sKjVaPzIlH+hey1g/Vqp8YQRIVz9iuOYjqqxVP+IXUTf4+lM/y9Koq600Uj9AzvzLnltQP5B6h3dm40w/gg9iAMjxSD9UnT3vcuZEPzdeS4KSxUA/lNQsWtAmOT8=",
          "dtype": "f8"
         },
         "y": {
          "bdata": "Wsxhn1ejSj89zycWyZNMP8L1y0fFZk4/i0S4aTUNUD/BoBFTfNZQP8zI4+RnjlE/UXlriDo0Uj9oIZ9OScdSP/SlYqD8RlM/EJfK2tCyUz+Bw83WVgpUP9VJ2Vs0TVQ/JAvRfCR7VD8boRzf95NUP9CZd+uUl1Q/8qdS6PeFVD/8lar9Ml9UPzgHUSJuI1Q/c1G68ubSUz+a5npx8G1TP/TFtbHy9FI/rynUa2poUj+VB/V86MhRP9brmFERF1E/PBwkPJxTUD85dstvpf5OP6przTIfNk0/cy2tWXxPSz/tgv2GskxJP+1AbGLUL0c/bo+/dQ/7RD+u+BzuqbBCP7Wx6kMAU0A/4nNrlwXJOz/eQD5lZs82P0iuz9FDvjE/TLAT9a01KT/Qc61dr6kdPwCJIirekgE/gHPa7r8/CL+oK6m8V34gv9g7JQK/2yq/2INRTruOMr9v81zzdZw3v5QJmdXZkTy/z8ObOOW0QL8qIQjPpA9DvzYxl1q+VkW/PSbiyNiHR7/R4C60saBJv7dqqbcfn0u/MELXqRSBTb+zbfi6n0RPv4Cfk7r3c1C/sm4Tzqk0Ub84/3h1n+NRv5RBn1YkgFK/M+unGZcJU79pYkwPan9Tv8D16sIj4VO/LdG5d18uVL8yop6QzWZUvxrgP+IzilS/Sh/77m2YVL9ooIIMbZFUv9BU+3I4dVS/JsOLNe1DVL/Vd2Mkvv1Tv3TmWZjzolO/lLpaKOszU7/+d+xIF7FSvxTdNNb+GlK/tKX0iDxyUb/z+wlXfrdQv/D8O4AJ10+/M2xsDkQeTr9MDe2zckZMv+MO5sx7UUq/d1IGwWNBSL8JITHvShhGv2oCWHxr2EO/pCnDBxeEQb9IlkyOaDs+v3ZH8Rl5Tzm/ccE6d3JJNL/wffWfBF0uv5QzEbnXByS/4K8L3Ak8E7+AofeD+LbaPvhbZVAwkRY/vHce7NavJT8tnZpdXQAwP6b/EKZQGDU/z+mMK4UaOj/xgn800QE/P0N/E2KT5EE/Kq82aMw1RD8kSOgqMHJGP+r3C6Jwl0g/WMxhn1ejSj8=",
          "dtype": "f8"
         },
         "z": {
          "bdata": "fPDBBx984L988MEHH3zgv3zwwQcffOC/fPDBBx984L988MEHH3zgv3zwwQcffOC/fPDBBx984L988MEHH3zgv3zwwQcffOC/fPDBBx984L988MEHH3zgv3zwwQcffOC/fPDBBx984L988MEHH3zgv3zwwQcffOC/fPDBBx984L988MEHH3zgv3zwwQcffOC/fPDBBx984L988MEHH3zgv3zwwQcffOC/fPDBBx984L988MEHH3zgv3zwwQcffOC/fPDBBx984L988MEHH3zgv3zwwQcffOC/fPDBBx984L988MEHH3zgv3zwwQcffOC/fPDBBx984L988MEHH3zgv3zwwQcffOC/fPDBBx984L988MEHH3zgv3zwwQcffOC/fPDBBx984L988MEHH3zgv3zwwQcffOC/fPDBBx984L988MEHH3zgv3zwwQcffOC/fPDBBx984L988MEHH3zgv3zwwQcffOC/fPDBBx984L988MEHH3zgv3zwwQcffOC/fPDBBx984L988MEHH3zgv3zwwQcffOC/fPDBBx984L988MEHH3zgv3zwwQcffOC/fPDBBx984L988MEHH3zgv3zwwQcffOC/fPDBBx984L988MEHH3zgv3zwwQcffOC/fPDBBx984L988MEHH3zgv3zwwQcffOC/fPDBBx984L988MEHH3zgv3zwwQcffOC/fPDBBx984L988MEHH3zgv3zwwQcffOC/fPDBBx984L988MEHH3zgv3zwwQcffOC/fPDBBx984L988MEHH3zgv3zwwQcffOC/fPDBBx984L988MEHH3zgv3zwwQcffOC/fPDBBx984L988MEHH3zgv3zwwQcffOC/fPDBBx984L988MEHH3zgv3zwwQcffOC/fPDBBx984L988MEHH3zgv3zwwQcffOC/fPDBBx984L988MEHH3zgv3zwwQcffOC/fPDBBx984L988MEHH3zgv3zwwQcffOC/fPDBBx984L988MEHH3zgv3zwwQcffOC/fPDBBx984L988MEHH3zgv3zwwQcffOC/fPDBBx984L8=",
          "dtype": "f8"
         }
        },
        {
         "mode": "lines",
         "type": "scatter3d",
         "x": {
          "bdata": "+XJP2q0zOT8cH7qA9wExP3pEtvpxfSE/gCxmLbCd3D7MgGXnBWkfv7bCU33hHjC/8RnRbONSOL94h01G6TZAv5bN0PypM0S/elIlo5cbSL/GIN55q+pLv0a7cl/4nE+/f7wtbleXUb+d6EyIEE5Tv5cIUD/j8FS/W9PX1x9+Vr+XcvbWLPRXv9hgSaiIUVm/6CZwK8uUWr+aQUYnp7xbvwqFYaHrx1y/iOhyGIW1Xb8CqkWgfoRev8QION4CNF+/5FYp5VzDX7/2Vf13/BhgvzL88HyyP2C/tjr5mahVYL9ApLAryFpgv83GGOoLT2C/v9UL7n8yYL9wXMSkQQVgv86nD2P/jl+/5MAme/PyXr93i/hsADdev1Vtj/bnW12/9e4e8YtiXL9ogjRo7Utbv3TJv5ArGVq/Dn0DoYLLWL91JaCKSmRXvwSkCJj15FW/yAfO7g5PVL+kJEz4OKRSv5jOWrIr5lC/hqWA02UtTr+cbXHAWG9Kv3ql9L8Llka/+N1mfXalQr86YzZIUUM9vxQySV+LHTW/MajKngLEKb9AaTxfvmQSvxg5KL78og0/hN+HWTr8Jz/JtFYEfjs0P9S47rkDZDw/znZXtKI3Qj+I4VUrfCpGP8INiUB8Bko/C9cygKjHTT9cGAwPEbVQP1yOa/kUdVI/PA1PLBIiVD/87qRxTrpVPwbsCfgkPFc/KuSSBAimWD+xA8qMgvZZP8ekOLc5LFs/yIjxQO5FXD942qrGfUJdPyK6FPDjIF4/isM3fDvgXj8u6cYtv39fP9AKcZbK/l8/glgwYG0uYD+Fmp1ax0xgPx0WCvFTWmA/oQf3KwVXYD+0z0J03kJgP6otpY/0HWA/WEKLFtvQXz9lCwQpAUVfP1+tG4DrmF4/7ntJf0vNXT8uCDoN8+JcPz9DcLvT2ls/m+xBzf21Wj/S/C8fn3VZP45avO8BG1g/fJv9iounVj8ou0/auhxVP4RxndkmfFM/5QnZ83zHUT8iMFVIfwBQP4L+i7UFUkw/fDyRX9uFSD/Ek8evaaBEP5B3C9a0pUA/AnNP2q0zOT8=",
          "dtype": "f8"
         },
         "y": {
          "bdata": "AGkxWZ6uST8APykd0aBLP1Q9ExGJdk0/LBG+AuItTz8mEE+Hi2JQP55DUzlCHVE/cpd9n1TGUT+u+F5xFF1SP+rirknm4FI/u8h6RkJRUz9BLziVtK1TP4UZKerd9VM/NrGX4nMpVD/06YNRQUhUP6AUdHYmUlQ/cuEvHhlHVD+9E0StJCdUP5MQRBRq8lM/emPVrR+pUz+ROagGkUtTP8CUlo8e2lI/P346Oj1VUj+lsmEAdr1RPwEL21ZlE1E/qy8vjLpXUD9XqdUnbhZPP5SOaX5bXU0/cbj6xgOGSz8vg07gTJJJP/uJNug5hEc/eGOSKOldRT+W6k7okSFDPz5PoyKC0UA/aG/NTTjgPD+Gt+JGqP83P404IzxbBjM/eF/CcuPyKz98JkgDQbwhPzDHjIpZzQ0/gMJ87xLq9r5w/POEzlUav0jMLVr5aie/mIAR2XPJML+M19QcHcw1v/OlekZOuDq/A9GATfSIP79u3e1GjBxCv00M4vLyYUS/Fg992FaSRr+ety1OdqtIv94UaaYnq0q/+bJoaluPTL++QON5HlZOv10fjw2c/U+/UD8uzQ/CUL8ec7pJC3RRvzwnmAQJFFK/PgSqEWShUr+tx4q6ihtTv+hhwRT/gVO/MPSMg1fUU7/E4sIkPxJUv+fBTih2O1S/juv5EdJPVL8Q7zblPU9Uv9y1wzq6OVS/WxAMQF0PVL9iTU2gUtBTv85sklfbfFO/hVS3b00VU7/2FLinE5pSv9appwWtC1K/aKS/U6xqUb/muA+Jt7dQv8BS0jwO50+/JdFsoMo9Tr+88gWcWnVMvxPgFLGUj0q/5/lunm2OSL949hlc9nNGv/QcBvpZQkS/zLPiY9v7Qb+037QYpkU/v5QYPgRZczq/+SeE4seFNb/AZNomB4Iwv4QoeEaE2ia/AO/D0NYyGb8A4s+prVryvtDD0ds6ChA/nKTWK0xNIj8EmP80nYIsP25qMlZFTTM/4V8+gFZFOD+yhG7SYiQ9P9D5Zmiy8kA/qHNh+7pBQz+O8x7i6XxFP3oc5FLyoUc//mgxWZ6uST8=",
          "dtype": "f8"
         },
         "z": {
          "bdata": "ArV+pUCt378CtX6lQK3fvwK1fqVArd+/ArV+pUCt378CtX6lQK3fvwK1fqVArd+/ArV+pUCt378CtX6lQK3fvwK1fqVArd+/ArV+pUCt378CtX6lQK3fvwK1fqVArd+/ArV+pUCt378CtX6lQK3fvwK1fqVArd+/ArV+pUCt378CtX6lQK3fvwK1fqVArd+/ArV+pUCt378CtX6lQK3fvwK1fqVArd+/ArV+pUCt378CtX6lQK3fvwK1fqVArd+/ArV+pUCt378CtX6lQK3fvwK1fqVArd+/ArV+pUCt378CtX6lQK3fvwK1fqVArd+/ArV+pUCt378CtX6lQK3fvwK1fqVArd+/ArV+pUCt378CtX6lQK3fvwK1fqVArd+/ArV+pUCt378CtX6lQK3fvwK1fqVArd+/ArV+pUCt378CtX6lQK3fvwK1fqVArd+/ArV+pUCt378CtX6lQK3fvwK1fqVArd+/ArV+pUCt378CtX6lQK3fvwK1fqVArd+/ArV+pUCt378CtX6lQK3fvwK1fqVArd+/ArV+pUCt378CtX6lQK3fvwK1fqVArd+/ArV+pUCt378CtX6lQK3fvwK1fqVArd+/ArV+pUCt378CtX6lQK3fvwK1fqVArd+/ArV+pUCt378CtX6lQK3fvwK1fqVArd+/ArV+pUCt378CtX6lQK3fvwK1fqVArd+/ArV+pUCt378CtX6lQK3fvwK1fqVArd+/ArV+pUCt378CtX6lQK3fvwK1fqVArd+/ArV+pUCt378CtX6lQK3fvwK1fqVArd+/ArV+pUCt378CtX6lQK3fvwK1fqVArd+/ArV+pUCt378CtX6lQK3fvwK1fqVArd+/ArV+pUCt378CtX6lQK3fvwK1fqVArd+/ArV+pUCt378CtX6lQK3fvwK1fqVArd+/ArV+pUCt378CtX6lQK3fvwK1fqVArd+/ArV+pUCt378CtX6lQK3fvwK1fqVArd+/ArV+pUCt378CtX6lQK3fvwK1fqVArd+/ArV+pUCt378CtX6lQK3fvwK1fqVArd+/ArV+pUCt378=",
          "dtype": "f8"
         }
        },
        {
         "mode": "lines",
         "type": "scatter3d",
         "x": {
          "bdata": "x8EzdvU7OT+poD1T0lYxP0OtRRyfvyI/sK9lIjDy9T4kHrz9zYsavzrjbWBlPC2/60sWV2CKNr/UM2HDUV8+v9r0/Rt6CkO/YpnlnqrRRr8+CnBqVYFKvyyN9r2tFU6/lJVvgYHFUL8TNShN4m5Sv+mE+MRCBVS/OgL1AQCHVb+4ekNjjPJWvzBT/SdxRli/CV198U+BWb/cBIss5KFavxqN7l8Ep1u/tXAVX6OPXL/P1Ypf0Vpdv6cKJvC8B16/B0Dw0LOVXr/U8+KqIwRfv5+jwaaaUl+/Qkdz4seAX78YnGLEe45fv6JOjyyoe1+/XG4dg2BIX79aKVSk2fRev8huIKppgV6/tKNTk4fuXb+W5/nIyjxdv0paRoLqbFy/uka2B71/W78U4S3WNnZav+ZK8qJpUVm/faeEQYMSWL/OF4FszLpWv61VwnKnS1W/njwnyo7GU79YvHKJEy1Sv2Nb2MrbgFC/wfa+8UGHTb96yrsOXO5JvypRvTS7Oka/mPm5OTBwQr9Z9C0lRyU9v8bzupciTDW/3Pn1uBO6Kr/QJdSYqoAVv9gfHin5EQU/oDmc0uNDJT/d4nvWrpYyP4r9MGlCeDo/QVs+b0YfQT8NWetJxfBEP27I/iSurEg/EJcpoSdPTD9yiyyXctRPPzDIR/p2nFE/jm+rPI08Uz+kZ20pz8hUPx+BBUikP1Y/RbPGNYqfVz9sfyo0FudYP6KkvZ72FFo/+68sR/QnWz/5ogm28x5cP00HAE/2+Fw/djpKVxu1XT/BZFndoFJePxtQwYDk0F4/TwmaGWQvXz95wao+vm1fP/ih06myi18/9BBPeiKJXz9OGoZUEGZfP34tV1+gIl8/B//RHhi/Xj/P944s3jtePyQQ7M15mV0/RRycaJLYXD86RxjW7vlbPxmcpZZ0/lo/hOnB5CbnWT8Y3eupJbVYP0PL2VWsaVc/ZRJRmRAGVj9OR+0FwYtUP2k/QpRD/FI/uHveETRZUT+6rJjxhEhPP+gMj2Rivks/k/3jjKYXSD9qg831FFhEP1LbNcSKg0A/0MEzdvU7OT8=",
          "dtype": "f8"
         },
         "y": {
          "bdata": "o0ZtMNq1SD9y1ljHyqlKPytuqDE/gkw//3Eda1A9Tj8qrIq6NdlPPxKXUEQjqlA/UuXOCn5WUT/O/gmG+fBRP36Gm3f2eFI/gOeTsejtUj8CVfqmV09TP6PyEOjenFM/uwzdiS7WUz9mp4h4C/tTP7p4SLRPC1Q/sIeHeOoGVD8MDzBN4O1TPwLT/wFLwFM/Grrsk1l+Uz+2FrX8TyhTPwCPzeyGvlI/at70b2tBUj8krst8frFRP8lj5G9UD1E/Se/TcpRbUD8GfMKf7y1PP1vmCWaShE0/8JH8sce8Sz/J66haZdhJP0oYW7Be2Uc/uOXoecLBRT/Ag67VuJNDP8C/awCBUUE/zeaYCN76PT+9x/6k0jM5P/DUqZPMUjQ/WDjJs6a5Lj8ogt4qCK4kP9h2IdwwGhU/ABYLERZSyD5w3/AK2JUTv0QttzII7SO/ZMHgHpr6Lb9PMdhyovQzv80i7r5l1zi/R+Nzo42gPb8qic+alSVBv0Ry+II3aUO/RQrNCteYRb8aTydTM7JHv0q8yW8is0m/OyxeopOZS7/6JYB7kWNNvyDAoN9DD0+/hqPX9nhNUL+yfsjigQJRv8++SRYCplG/MyoUB1E3Ur9wnq7r2LVSv0xo1VUXIVO/FqztuJ14U7/qRfrbEbxTv/upnDYu61O/FubBOMIFVL/q4bF8sgtUv8ZDTeP4/FO/Bd1cmqTZU78oHewM2qFTv1Osvr3SVVO/C+AHDN31Ur9bJqHiW4JSv36uElLG+1G/3WrXFadiUb/Y8FoFnLdQv6lBieKq9k+/pZ5v2ypdTr9ekYgUXqRMv+LTqvAKzkq/zycAQhbcSL+fxUFWgdBGvzB/mOVnrUS/GAVC5v10Qr/8zjhHjSlAv3fTayjnmju/+Y/2Cj/GNr/dDtT7HNoxv3h36ecntym/WK7TkSc/H7+A7mVAk98FvwBhq8y01QI/qK4DRMm7HT9cA2veCPcoP2/UQYs4ezE/eIy9f+doNj8VQJe6fD87P1F3vHn7+T8/eOaa98FJQj8ZQLUjrINEP8rHLsZwqEY/oUZtMNq1SD8=",
          "dtype": "f8"
         },
         "z": {
          "bdata": "DIl5O0Ni3r8MiXk7Q2LevwyJeTtDYt6/DIl5O0Ni3r8MiXk7Q2LevwyJeTtDYt6/DIl5O0Ni3r8MiXk7Q2LevwyJeTtDYt6/DIl5O0Ni3r8MiXk7Q2LevwyJeTtDYt6/DIl5O0Ni3r8MiXk7Q2LevwyJeTtDYt6/DIl5O0Ni3r8MiXk7Q2LevwyJeTtDYt6/DIl5O0Ni3r8MiXk7Q2LevwyJeTtDYt6/DIl5O0Ni3r8MiXk7Q2LevwyJeTtDYt6/DIl5O0Ni3r8MiXk7Q2LevwyJeTtDYt6/DIl5O0Ni3r8MiXk7Q2LevwyJeTtDYt6/DIl5O0Ni3r8MiXk7Q2LevwyJeTtDYt6/DIl5O0Ni3r8MiXk7Q2LevwyJeTtDYt6/DIl5O0Ni3r8MiXk7Q2LevwyJeTtDYt6/DIl5O0Ni3r8MiXk7Q2LevwyJeTtDYt6/DIl5O0Ni3r8MiXk7Q2LevwyJeTtDYt6/DIl5O0Ni3r8MiXk7Q2LevwyJeTtDYt6/DIl5O0Ni3r8MiXk7Q2LevwyJeTtDYt6/DIl5O0Ni3r8MiXk7Q2LevwyJeTtDYt6/DIl5O0Ni3r8MiXk7Q2LevwyJeTtDYt6/DIl5O0Ni3r8MiXk7Q2LevwyJeTtDYt6/DIl5O0Ni3r8MiXk7Q2LevwyJeTtDYt6/DIl5O0Ni3r8MiXk7Q2LevwyJeTtDYt6/DIl5O0Ni3r8MiXk7Q2LevwyJeTtDYt6/DIl5O0Ni3r8MiXk7Q2LevwyJeTtDYt6/DIl5O0Ni3r8MiXk7Q2LevwyJeTtDYt6/DIl5O0Ni3r8MiXk7Q2LevwyJeTtDYt6/DIl5O0Ni3r8MiXk7Q2LevwyJeTtDYt6/DIl5O0Ni3r8MiXk7Q2LevwyJeTtDYt6/DIl5O0Ni3r8MiXk7Q2LevwyJeTtDYt6/DIl5O0Ni3r8MiXk7Q2LevwyJeTtDYt6/DIl5O0Ni3r8MiXk7Q2LevwyJeTtDYt6/DIl5O0Ni3r8MiXk7Q2LevwyJeTtDYt6/DIl5O0Ni3r8MiXk7Q2LevwyJeTtDYt6/DIl5O0Ni3r8=",
          "dtype": "f8"
         }
        },
        {
         "mode": "lines",
         "type": "scatter3d",
         "x": {
          "bdata": "0Yw+m64+OT+alEsIJKYxP2fdRx/Q9iM/wBooXw8zAj+oxOAz8sMVv06ASTR+RSq/I1P/QvfGNL+W6SGExFU8v7gcBjeu40G/LvuFVgmKRb/73A15MBpJv3SiSFp3kEy/fBtOYkzpT78HwLEpnpBRvwIfOex6GlO/tEpFeKaQVL9PwvUZn/FVvxKYmPf4O1e/iwq7iF9uWL9L4zD1lodZv+7BqFp9hlq/NbZ99wtqW7/qIZI5WDFcv1muHLCU21y/wxRu3xFoXb/MbNX1PtZdv4CJ6GCqJV6/lIKWQgJWXr+Qu4vFFGdevx9rkFDQWF6/gq6smEMrXr8edv+Rnd5dv6jrVz8tc12/iDbDYGHpXL9gk2IByEFcv0Ft/+QNfVu/8mf01f2bWr9I7yLUf59Zv4vHzCWYiFi/LiRIS2ZYV7/a1aLWIxBWv+MOZigjsVS/9vDHEs48U790crJkpLRRv8ITIF46GlC/X3LMHm7eTL8EbzVKpWpJv1I8rESp3EW/z/JMFiQ4Qr8xSVoErgE9v0Yw8E4tdTW/oLFYOhylK7/sMYszvYYYv6DwzkAZWPk+UDCn5yCWIj/1SIXvCvcwP29kMISIkTg/+E7jWlkJQD+PcLiRZrlDP4sCfcAeVUc/8/qLtsnYSj/gmT8OyEBOPxxFdnTLxFA/QHi6xulXUj9jI9xyH9hTP5SFo2vgQ1U/VpPzubWZVj87rk//PthXP5RxFuEz/lg/Gyf7WmUKWj+U+2D3vvtaP5T3VexH0Vs/9vgHHCSKXD8+UKv3lCVdP0Ed6UP6ol0/jO4KvtIBXj/yYDmhvEFeP/tkRAt2Yl4/7UaNQN1jXj+Id8zO8EVePyw9j47PCF4/HcRrg7isXT+bVAybCjJdPyWkVEtEmVw/wCAGEAPjWz9rlmnIAhBbPymGpfUcIVo/LtCI2kcXWT+uz7B9lfNXPzyVEI8yt1Y/Rm38MWVjVT+ENPmsi/lTPzwIqgAbe1I/GoVQZ53pUD9A3dd8YY1OPwlMNLgJKEs/eWzko7OmRz91pUY+/AxEPybMaKeZXkA/2Yw+m64+OT8=",
          "dtype": "f8"
         },
         "y": {
          "bdata": "IJolAda4Rz+gT32Rfa5JPxnoSQGsiUs/HarDfHdITT987xFzE+lOP7gBhzjpNFA/X2X57ZPkUD+icBjF1IJRP4XfYJwID1I/+4e87Z6IUj+Yx3xjGu9SPzIhjVkRQlM/atxYSi6BUz8sZvMmMKxTP1ySKJrqwlM/Dp0vNkbFUz/ez9GMQLNTPyXm6zHsjFM/1ppHqHBSUz+pHeE4CgRTP2BrwrQJolI/NJi0IdQsUj967BxS4qRRP+crcWjAClE/IGrDRg1fUD+cqPTV80RPP7GHvXCRq00/jVh1XpnzSz+S5K8m0R5KP97CfgQcL0g/omtR9HgmRj/v7TilAAdEPzJArk/j0kE/iOQq6MwYPz8eFaIGxWs6P4bonueAozU/rwohi+7EMD9swcreJaonP+gNM5ETZBs/AM1Hxnxe/T6g3jh4zXgJv0xbsOKlYSC/xD8fgDVUKr/MisCU0BUyv8HpCubh7ja/PeEqYk+wO79hY9wKmSpAvyhDpTxgbEK/5XFgsCmbRL8ALpVjtbRGv9X0JDnZtki/qMZ8NIOfSr9HgOebu2xMv9Igzv+mHE6/5brOJIitT79Ob1jn4I5Qv6wxLzXsNVG/bLuUyjnLUb9kTua/L05Sv6ZW2xVHvlK/q9+tQAwbU7/IDDafH2RTv7jNfd01mVO/sDFnQhi6U78TThXopMZTv6CS3d7OvlO/MoadOp6iU78WLWcKMHJTvy6ujDq2LVO/uhcqYXfVUr/sT2J1zmlSv5YymnEq61G/koQS4Q1aUb+tqVZZDrdQvxzUCuDTAlC/AkBxezB8Tr/KSZl8TNNMv4bNFMCxDEu/Mkic4zQqSb/2aApDxy1Hv5Lhq/d0GUW/NMj+u2LvQr+6cQ62y7FAv+6uZVX+xTy/Dd4kOLwKOL8QdrWrsTYzv6DX2qaxnSy/GNZpeoCwIr/Q0kesFmARv4DjAl/mleU+2BQVPcjCFj+m0F+nrl0lP1CW5OvyQy8/ls3MRf6END//aXgv3FI5PyGx+WyfBj4/xPd8kLdNQT85rvEqSYZDPw7lDG66qkU/HpolAda4Rz8=",
          "dtype": "f8"
         },
         "z": {
          "bdata": "Fl100UUX3b8WXXTRRRfdvxZddNFFF92/Fl100UUX3b8WXXTRRRfdvxZddNFFF92/Fl100UUX3b8WXXTRRRfdvxZddNFFF92/Fl100UUX3b8WXXTRRRfdvxZddNFFF92/Fl100UUX3b8WXXTRRRfdvxZddNFFF92/Fl100UUX3b8WXXTRRRfdvxZddNFFF92/Fl100UUX3b8WXXTRRRfdvxZddNFFF92/Fl100UUX3b8WXXTRRRfdvxZddNFFF92/Fl100UUX3b8WXXTRRRfdvxZddNFFF92/Fl100UUX3b8WXXTRRRfdvxZddNFFF92/Fl100UUX3b8WXXTRRRfdvxZddNFFF92/Fl100UUX3b8WXXTRRRfdvxZddNFFF92/Fl100UUX3b8WXXTRRRfdvxZddNFFF92/Fl100UUX3b8WXXTRRRfdvxZddNFFF92/Fl100UUX3b8WXXTRRRfdvxZddNFFF92/Fl100UUX3b8WXXTRRRfdvxZddNFFF92/Fl100UUX3b8WXXTRRRfdvxZddNFFF92/Fl100UUX3b8WXXTRRRfdvxZddNFFF92/Fl100UUX3b8WXXTRRRfdvxZddNFFF92/Fl100UUX3b8WXXTRRRfdvxZddNFFF92/Fl100UUX3b8WXXTRRRfdvxZddNFFF92/Fl100UUX3b8WXXTRRRfdvxZddNFFF92/Fl100UUX3b8WXXTRRRfdvxZddNFFF92/Fl100UUX3b8WXXTRRRfdvxZddNFFF92/Fl100UUX3b8WXXTRRRfdvxZddNFFF92/Fl100UUX3b8WXXTRRRfdvxZddNFFF92/Fl100UUX3b8WXXTRRRfdvxZddNFFF92/Fl100UUX3b8WXXTRRRfdvxZddNFFF92/Fl100UUX3b8WXXTRRRfdvxZddNFFF92/Fl100UUX3b8WXXTRRRfdvxZddNFFF92/Fl100UUX3b8WXXTRRRfdvxZddNFFF92/Fl100UUX3b8WXXTRRRfdvxZddNFFF92/Fl100UUX3b8WXXTRRRfdvxZddNFFF92/Fl100UUX3b8=",
          "dtype": "f8"
         }
        },
        {
         "mode": "lines",
         "type": "scatter3d",
         "x": {
          "bdata": "+AUqy7c6OT8b4Rbxx+4xPzJgfKC3ICU/YJooyl84CT8g1zQmDxYRv6TbwqhYWye/mnlWDcsJM79cuVnDSVI6v+RUGkDTv0C/0wTgoj1FRL+aICHXwrVHv64/DjTXDUu/euqHQghKTr/YVmQlgLNQv/B/NuLEMFK/xeimUkmbU7+laeLFl/FUvy2ai2BPMla/B1h2iCVcV7+Vg3I5521Yv8+mxkF6Zlm/mEoUZd5EWr/5HnpkLghbv/iv4+qgr1u/vA6TXIk6XL/ofw6JWKhcv2fFuj6d+Fy/6NyJvwQrXb+D60UWWz9dv6RqIEyLNV2/kGBOfp8NXb+XXZvTwMdcv2r9/VE3ZFy/p6ZZlGnjW7+/ELpg3EVbvymXdR8yjFq/i2/DMyq3Wb+DVXI2oMdYvyYKixOLvle/pv7HC/ycVr8Ni+iaHWRVvwQMAkQyFVS/pBIMRZOxUr/nWP4yrzpRv1qq3v8QZE+/Aedx2WcyTL/aLnzPreNIvyr5/bRLe0W/hIt4z8T8Qb+H0uFvZtc8v+5H1kiIlzW/ZXbHdtCCLL8M3pAqWXIbv6DHCg/M6eE+EIXhSX3qHz/2HVJgbbsuP9WR0Rj3sDY/UiOpf9PsPT/uHDx664RCP1p2rylWAEY/lg3q6RJlST8qWYk3oq9MP+YgKouf3E8/HG9abGJ0UT81J5/3duhSP7PaANsNSVQ/LCWPobuUVT96WHRkKspWPyMLZisb6Fc/tipyNWftWD/3otUoAdlZP5ployj2qVo/DJ0dz25fWz9i+b4LsPhbP3c2D+QbdVw/DhV8FjLUXD826Y6ekBVdPwR19hn0OF0/vuj8DTg+XT9DbiINVyVdP4V8tbxq7lw/iS5juquZXD9H3tphcSdcPykswXIxmFs/00ZPl3/sWj93kRvMDCVaPz6RqKmmQlk/SDJ2kDZGWD8822+4wDBXP4FLryRjA1Y/5cWofFS/VD9ycfDL4mVTPzsK4yly+FE/HNaUSnt4UD/afQL1E89NP2i0Fg13jko/4OLnI3oyRz/BbPi3k75DP21F+u1SNkA/AAYqy7c6OT8=",
          "dtype": "f8"
         },
         "y": {
          "bdata": "Piy7EmG3Rj+mtpavtK5IP2eQA9eWjEo/Gn0w7BpPTD+/y06IcPRNP/RuSVnlek8/EwG9cHNwUD8fHUcLghJRP0QJ+W73olE/G0mbsj4hUj8YE4mq1YxSPz4M325N5VI/MUHOzUoqUz+Hg52phltTP2BE+EHOeFM/2Fo/aAOCUz/pyKWeHHdTP1Js+SElWFM/zYUN3jwlUz9KB9NMmN5SP5yUQECAhFI/YflBl1EXUj/5dPzdfJdRP5iLytmFBVE/FPRmAQNiUD+PTqXDOVtPP2HlK+Ea0k0/gVAfmD4qTD8wCTDVWWVKP6oxnXI/hUg/zrX2Vt6LRj/cy/V2P3tEP/21ebyDVUI/LlXS1OEcQD/7JTfRR6c7P1yPB39K+DY/SOzXpJ8xMj80n4s5Z7AqP9BALywM4iA/wGjhcCcJDD9AtjpZkCX3vqCGSdhkkRm/ircDPIWfJr9B28kCgy8wvz4N1i6U/jS/cEBwHwG4Ob9YCOAg61Y+v8yuxWlHa0G/yL51iiSZQ7/BK6PjzbJFv+2KnzkZtke/EtQ7X/OgSb+oulRZYnFLv/ItZmiHJU2/nlkM9qC7Tr+9tzoyBhlQvyxA896jw1C/5EhLoflcUb996aJpaeRRvwyWjZtnWVK/3h+8nXu7Ur+SlU1WQApTv/DcBpNkRVO/cZgFXatsU79JEZg37H9TvxJe+UkTf1O/tsDGcyFqU7/SJBlMLEFTvwysQwteBFO/nzlOX/WzUr/G2VgrRVBSv5KfKjK02VG/WgxErLxQUb9GMuLJ67VQv9lwdCHhCVC/U6Q1FpyaTr+SOK3T6QFNv+ERU8ZQS0u/KGLkC5V4Sb/gAsvCl4tHv/bZKhpVhkW/6PYIRuJqQ78OZqhZaztBv3SbphRi9D2/Fm++uQxTOb/Tp6KAnJc0vwrta2DkjS+/pGTe4QjMJb/g0xu8aucXv4Da0rV+ePC+MJqK/NNeDz+qEYI+ZLYhP9IavVfRgis/ed6xRnGZMj/qQ9auTV43P2gQ4WYTCzw/GXsUY3hNQD+3Vjr4mIRCPyYGedeiqEQ/PCy7EmG3Rj8=",
          "dtype": "f8"
         },
         "z": {
          "bdata": "IDFvZ0jM278gMW9nSMzbvyAxb2dIzNu/IDFvZ0jM278gMW9nSMzbvyAxb2dIzNu/IDFvZ0jM278gMW9nSMzbvyAxb2dIzNu/IDFvZ0jM278gMW9nSMzbvyAxb2dIzNu/IDFvZ0jM278gMW9nSMzbvyAxb2dIzNu/IDFvZ0jM278gMW9nSMzbvyAxb2dIzNu/IDFvZ0jM278gMW9nSMzbvyAxb2dIzNu/IDFvZ0jM278gMW9nSMzbvyAxb2dIzNu/IDFvZ0jM278gMW9nSMzbvyAxb2dIzNu/IDFvZ0jM278gMW9nSMzbvyAxb2dIzNu/IDFvZ0jM278gMW9nSMzbvyAxb2dIzNu/IDFvZ0jM278gMW9nSMzbvyAxb2dIzNu/IDFvZ0jM278gMW9nSMzbvyAxb2dIzNu/IDFvZ0jM278gMW9nSMzbvyAxb2dIzNu/IDFvZ0jM278gMW9nSMzbvyAxb2dIzNu/IDFvZ0jM278gMW9nSMzbvyAxb2dIzNu/IDFvZ0jM278gMW9nSMzbvyAxb2dIzNu/IDFvZ0jM278gMW9nSMzbvyAxb2dIzNu/IDFvZ0jM278gMW9nSMzbvyAxb2dIzNu/IDFvZ0jM278gMW9nSMzbvyAxb2dIzNu/IDFvZ0jM278gMW9nSMzbvyAxb2dIzNu/IDFvZ0jM278gMW9nSMzbvyAxb2dIzNu/IDFvZ0jM278gMW9nSMzbvyAxb2dIzNu/IDFvZ0jM278gMW9nSMzbvyAxb2dIzNu/IDFvZ0jM278gMW9nSMzbvyAxb2dIzNu/IDFvZ0jM278gMW9nSMzbvyAxb2dIzNu/IDFvZ0jM278gMW9nSMzbvyAxb2dIzNu/IDFvZ0jM278gMW9nSMzbvyAxb2dIzNu/IDFvZ0jM278gMW9nSMzbvyAxb2dIzNu/IDFvZ0jM278gMW9nSMzbvyAxb2dIzNu/IDFvZ0jM278gMW9nSMzbvyAxb2dIzNu/IDFvZ0jM278gMW9nSMzbvyAxb2dIzNu/IDFvZ0jM278gMW9nSMzbvyAxb2dIzNu/IDFvZ0jM278=",
          "dtype": "f8"
         }
        },
        {
         "mode": "lines",
         "type": "scatter3d",
         "x": {
          "bdata": "ADqSrcEuOT9rFUhfai8yP/BtmlOoOiY/CLNXbEf+Dz8QxT8tDQ8Jv4ToLUCjgCS/FEAgZjBUMb9rgrdAMlY4v5G5reIdPz+/xgR/7ekDQ789Kjn2qlRGv9EEhyFnjkm/5W/oP8utTL/ID8dJn69PvxDkcdhkSFG/6TMtSSmnUr8wKPhis/JTv75Sw2OtKVW/YszXu9ZKVr+HQkhYBVVXvznMM9YmR1i/X8udnUEgWb97Srfidd9Zv5KfkIz+g1q/S4ZFADINW78TQtLPgnpbv6qP3UuAy1u/2h3h99b/W79K0DjgUBdcvykWwNHVEVy/jADEcmvvW7+MYTA9NbBbvwD1/Vl0VFu/MEUHXofcWr+fiIno6Uhav0b5tSM0mlm/hgHXJxrRWL8W76pBa+5Xv0SKsxwR81a/w9dW0g7gVb8eUcnef7ZUv7nk1PyWd1O/SPip6ZwkUr9wWwAS775Qvwr3ylP8j06/JkhWYZmCS78kKf3E2lhIv/U2hTIDFkW/IlGxPG+9Qb+WPlG8I6U8v2PQidbhsTW/A+jJwYVQLb+YUv8GID4ev4DuEKZ8wNu+fNSUKdrHGj96py56EJgrP4+1mwrh1zQ/nw0tgT3OOz+MSHIq+FNBP5Rh0+L0rkQ/y6pNc5/0Rz96mtdfmCFLPxl+46CZMk4/Ta+dAT2SUD/0iRI1GPpRP5ZWOXhrT1M/s7ai8taQVD9Fg7dQD71VP4irQhnf0lY/60N07CfRVz9A7RSr47ZYP1RHuYQlg1k/xufe6xo1Wj+3MfduDMxaPx5TgHVeR1s/q3pp4JGmWz+P8ByNROlbP+39qLoxD1w/BVyfUDIYXD91HGIHPQRcP4t/tHFm01s/e9yF5+CFWz/VdwxS/BtbP9jGZdklllo/ZAkRdOf0WT+xN7hY5zhZPyfd2VLnYlg/GX4E+8NzVz+NdXHTc2xWPy6y6UkGTlU/4UL6n6IZVD/NHZm6htBSP+Dec9oFdFE/c0g6PocFUD8YBppgCQ1NPz6unAIS8Uk/dqJM4ly6Rj8urzsQOmxDP9Q8icMRCkA/CDqSrcEuOT8=",
          "dtype": "f8"
         },
         "y": {
          "bdata": "b+7l71GxRT+QcQHMQapHP7N9mazMikk/jIcoNwNRSz93mj41EftMP/wjJnc/h04/8v2cmPXzTz8ShefS3Z9QP4g1cM+dNFE/7u47bKG3UT+05u6bYShSP4IgtSRqhlI/IFIRGFrRUj+AM8g25AhTP147gUDPLFM/YbPKLvY8Uz/zTURbSDlTPy/myJDJIVM/oLiFB5L2Uj+JHANMzrdSP915OBG/ZVI/adLa7bgAUj/CnSoFJIlRPzzampt7/1A/u/q/l01kUD9RWhPgc3BPP6KDvAvk900/21qD3W9gTD8EQ4lYu6tKPxDtE6eI20g/Wh2DSrbxRj++uQ8uPfBEP06VUJ4u2UI/i3+dJ7KuQD+iCga7BuY8P7rqIRvfUDg/5QbGv6aiMz+A51afYcAtP7jsqJ3KHCQ/wHRIP/DIFD+Ah6Qv5S3UPsi1MWuARBK/HFHgQoXcIr/i2Tf4WIMsv314Hy1kBjO/DfHoXH+3N7++NSXrJ1A8v7i3hHXQZUC/8h/RwqWSQr+t24/eVaxEvw2YGoa2sEa/EptkbrOdSL8Iyq1oUHFKv4MlW26rKUy/m73Ykf7ETb9264TSoUFPv5w84WgGT1C/oJa3M2zsUL+C5Q4KYHhRvx/zyqdR8lG/nlwgWcNZUr9mMyh8Sq5Sv9JBy+6P71K/FKWTaFAdU7/yJQjAXDdTv9vRSRuaPVO//rbBCwIwU79wO8KUog5Tv4k5FR2e2VK/f8WFSyuRUr8sKorOlDVSv5QvSA85x1G/RQZD0IlGUb+ZKRe4C7RQvysavchVEFC/lMm/hyG4Tr/w1s/57C9Nv8iE2jKiiUu/uCuugfTGSb8ezP13tOlHvwa/fQvO80W/zkbEmkbnQ782wPjXOsZBv6Ro7ja5JT+/Y6xNQeGeOr8P3rBemPw1v2qcK2ilQzG/4JxzJ83xKL+QgIK+MYUev8CzM1emDga/oHzzftMDAT+QhVOgYQIcP2SKZQ/9sic/xLx6qS2mMD+QR44/s2E1PyMtBW0uBzo/ollIDdWRPj8nkgBSfH5BP2gOQ5gFokM/be7l71GxRT8=",
          "dtype": "f8"
         },
         "z": {
          "bdata": "LAVq/UqB2r8sBWr9SoHavywFav1Kgdq/LAVq/UqB2r8sBWr9SoHavywFav1Kgdq/LAVq/UqB2r8sBWr9SoHavywFav1Kgdq/LAVq/UqB2r8sBWr9SoHavywFav1Kgdq/LAVq/UqB2r8sBWr9SoHavywFav1Kgdq/LAVq/UqB2r8sBWr9SoHavywFav1Kgdq/LAVq/UqB2r8sBWr9SoHavywFav1Kgdq/LAVq/UqB2r8sBWr9SoHavywFav1Kgdq/LAVq/UqB2r8sBWr9SoHavywFav1Kgdq/LAVq/UqB2r8sBWr9SoHavywFav1Kgdq/LAVq/UqB2r8sBWr9SoHavywFav1Kgdq/LAVq/UqB2r8sBWr9SoHavywFav1Kgdq/LAVq/UqB2r8sBWr9SoHavywFav1Kgdq/LAVq/UqB2r8sBWr9SoHavywFav1Kgdq/LAVq/UqB2r8sBWr9SoHavywFav1Kgdq/LAVq/UqB2r8sBWr9SoHavywFav1Kgdq/LAVq/UqB2r8sBWr9SoHavywFav1Kgdq/LAVq/UqB2r8sBWr9SoHavywFav1Kgdq/LAVq/UqB2r8sBWr9SoHavywFav1Kgdq/LAVq/UqB2r8sBWr9SoHavywFav1Kgdq/LAVq/UqB2r8sBWr9SoHavywFav1Kgdq/LAVq/UqB2r8sBWr9SoHavywFav1Kgdq/LAVq/UqB2r8sBWr9SoHavywFav1Kgdq/LAVq/UqB2r8sBWr9SoHavywFav1Kgdq/LAVq/UqB2r8sBWr9SoHavywFav1Kgdq/LAVq/UqB2r8sBWr9SoHavywFav1Kgdq/LAVq/UqB2r8sBWr9SoHavywFav1Kgdq/LAVq/UqB2r8sBWr9SoHavywFav1Kgdq/LAVq/UqB2r8sBWr9SoHavywFav1Kgdq/LAVq/UqB2r8sBWr9SoHavywFav1Kgdq/LAVq/UqB2r8sBWr9SoHavywFav1Kgdq/LAVq/UqB2r8sBWr9SoHavywFav1Kgdq/LAVq/UqB2r8sBWr9SoHavywFav1Kgdq/LAVq/UqB2r8=",
          "dtype": "f8"
         }
        },
        {
         "mode": "lines",
         "type": "scatter3d",
         "x": {
          "bdata": "LpZoTUoZOT87Wsyag2YyP5qMCWqKQSc/7JkwKSk8Ez/Y7lTgLD0Av6yXKLF7uCG/Vg0k3GdPL7/gz3zJBmM2v1mGXPpFBz2/dIr8bMzGQb9mFwPNovdEv1yfwRncEki/RvpUl0QVS7/VAHcewvtNv3L7j6erYVC/t9K+UpO0Ub/QbQm3OvVSv9X0+UpXIlS/2NIcqrI6Vb+bQ/bUKz1Wvz0a6lq4KFe/q6ribGX8V7+ot5vXWLdYv8pjj+TRWFm/f0mdICrgWb/b854H1kxav6LZOJRlnlq/+ppTs4TUWr9Uecaa++5av0ez2QKv7Vq/PnxlQqDQWr8Zk3BN7ZdavxnkT5bQQ1q/Cgpn0aDUWb+Myceb0EpZv0qoDAXupli/nmno/KHpV7+yZAGlrxNXv9M2zIfzJVa/TCo1tWIhVb9OqgLGCQdUv3cq9cYL2FK/7+rBDKGVUb9e3R3yFUFQv90YSQKTt02/0Vv4EljOSr+ixVdJe8lHv0wFV1QZrES/riyKKWh5Qb+ZJL1rZ2k8v0sPVu+0wjW/BJFwFigLLr+2fkQY7nEgv3AIuFEDPva+nKFu6JXKFT/ybzgPG4coPzJJcEPRBzM/+UyzBXe4OT8Sr6GvTCdAP+ghzRq3YUM/jBk94SaIRj+MtBu4XJdJP68ZxkUxjEw/UV8IYphjTz8JuigdUg1RP2gFUStEV1I/gOQMPk6OUz/+shS1L7FUP7d2y7e8vlU//19Vat+1Vj8rDAQMmZVXP8hJ8f0CXVg/9qu5sE8LWT9E3mF4y59ZPw5MjEXdGVo/KTBAQwd5Wj8SaZ9Y57xaPxxcBY435Vo/DasmVc7xWj85Y+eznuJaPxd+u1G4t1o/D+mDZ0dxWj/2tviRlA9aP6h4z4YEk1k/+eTqrBf8WD9y0/6XaUtYP176MGiwgVc/ksBbDryfVj+tqbR1daZVP3xRs5PdllQ/QHYwXwxyUz9UHM6vLzlSP69I0gaK7VA/ZBxqheIgTz8YPnF9mkZMP+FM7b8sT0k/IpnCIqg9Rj8eso9gNhVDP8R6+6sxsj8/NZZoTUoZOT8=",
          "dtype": "f8"
         },
         "y": {
          "bdata": "eS9RCoqmRD8bEHySAKFGP1FoUI0jhEg/tnG28wBOSj/OBZLLwPxLP4TJSA6njk0/WEt4chUCTz9lIYKLxipQP5Jc4gbYw1A/nKEeYqFLUT9iu3SklsFRPyCk5zU+JVI/7OyWXDF2Uj9eKaOmHLRSP3Q3MkDA3lI/u7g6NfD1Uj8S6tKelPlSP8Al1Lup6VI/56m59D/GUj8OprbKe49SPxz/FLKVRVI/+pMD2NnoUT+s/w/Up3lRP9jKnEVy+FA/45+5Xb5lUD+pm66rRoRPP4RCyqeTHE4/1YfweNaVTD+8rmDnofFKP9CTPBunMUk/F8oG3rNXRz/lb52+sGVFP+RsnBmfXUM/tjwuCJdBQT+Lidluiic+P9m5F1XRrDk/PiA61KAXNT8aLJ9FsmwwP3Q1gtiqYSc/6N7v+62jGz8wOLAGEc8AP7ADMJyNugW/LDSBH+MWHr/u67CRvZgov09hUGFXBjG/ktaZTcOuNb8ZhCth1UA6v+YisHnXtz6/hM0qrZeHQb8bRC21MaFDv78Q+6iPpkW/AptsOJyVR78ARNcUWWxJv5GQFv/gKEu/5BDAu2nJTL9iZn7rRUxOvzp+rMXmr0+/VGC02W55UL9EO7zk7glRv/vtuo/eiFG/HI9zAbv1Ub9w24ACFFBSvx4IAnGMl1K/AHyboNrLUr/xeWimyOxSvwlzj5A0+lK/GLY/iRD0Ur9wavTkYtpSv6Ai7htGrVK/6sDpruhsUr/uzTD3jBlSv3CrNOKIs1G/myP7mEU7Ub8mo7cTP7FQv3TcAJoDFlC/sBxNYGbUTr/KO33k/VxNv5kXJ7tQx0u/je5gEgEVSr+rkLCczkdIv3ZdjMOUYUa/8aNKvUhkRL8GkHiI91FCv8I6rc7DLEC/nHENYsftO78zECwBPWU3v03bJsqUxDK/Slwc0SchLL/oY4byJpwiv5C7aCzuBxK/AHLA+nuw0z7s1k7uuHwUP7plrt6l1CM/lFnaJ35WLT9MEEI7DF0zP9L4jo3j+jc/3ltgxgKAPD/+gzOO4HNAPy15ggfKlkI/dy9RCoqmRD8=",
          "dtype": "f8"
         },
         "z": {
          "bdata": "Ntlkk0022b822WSTTTbZvzbZZJNNNtm/Ntlkk0022b822WSTTTbZvzbZZJNNNtm/Ntlkk0022b822WSTTTbZvzbZZJNNNtm/Ntlkk0022b822WSTTTbZvzbZZJNNNtm/Ntlkk0022b822WSTTTbZvzbZZJNNNtm/Ntlkk0022b822WSTTTbZvzbZZJNNNtm/Ntlkk0022b822WSTTTbZvzbZZJNNNtm/Ntlkk0022b822WSTTTbZvzbZZJNNNtm/Ntlkk0022b822WSTTTbZvzbZZJNNNtm/Ntlkk0022b822WSTTTbZvzbZZJNNNtm/Ntlkk0022b822WSTTTbZvzbZZJNNNtm/Ntlkk0022b822WSTTTbZvzbZZJNNNtm/Ntlkk0022b822WSTTTbZvzbZZJNNNtm/Ntlkk0022b822WSTTTbZvzbZZJNNNtm/Ntlkk0022b822WSTTTbZvzbZZJNNNtm/Ntlkk0022b822WSTTTbZvzbZZJNNNtm/Ntlkk0022b822WSTTTbZvzbZZJNNNtm/Ntlkk0022b822WSTTTbZvzbZZJNNNtm/Ntlkk0022b822WSTTTbZvzbZZJNNNtm/Ntlkk0022b822WSTTTbZvzbZZJNNNtm/Ntlkk0022b822WSTTTbZvzbZZJNNNtm/Ntlkk0022b822WSTTTbZvzbZZJNNNtm/Ntlkk0022b822WSTTTbZvzbZZJNNNtm/Ntlkk0022b822WSTTTbZvzbZZJNNNtm/Ntlkk0022b822WSTTTbZvzbZZJNNNtm/Ntlkk0022b822WSTTTbZvzbZZJNNNtm/Ntlkk0022b822WSTTTbZvzbZZJNNNtm/Ntlkk0022b822WSTTTbZvzbZZJNNNtm/Ntlkk0022b822WSTTTbZvzbZZJNNNtm/Ntlkk0022b822WSTTTbZvzbZZJNNNtm/Ntlkk0022b822WSTTTbZvzbZZJNNNtm/Ntlkk0022b822WSTTTbZvzbZZJNNNtm/Ntlkk0022b822WSTTTbZvzbZZJNNNtm/Ntlkk0022b8=",
          "dtype": "f8"
         }
        },
        {
         "mode": "lines",
         "type": "scatter3d",
         "x": {
          "bdata": "Gf5T7Zj4OD/qn05jU5IyP9AWSvnRMSg/eL9E5RhMFj8AtTB+cRPvviDjOzD0DB6/xoI8EEAMLL+fP9U8jno0v0eUwU3g2Tq/fJaSUMKOQL+mNLISg59Dv7p+hXwJnEa/AYRFd0GBSb9smn/yLkxMv5aLsvfw+U6/zfz9UOLDUL8HcmP7g/lRv7wURk6eHFO/Pm1sNgUsVL9PCHrvoCZVv61IUyRvC1a/gtdo+YPZVr8SM9j/CpBXv8O8ZhBILli/oot1DZizWL8lFSaLcR9Zv/VYAl1lcVm/m4mWCB+pWb9+EIYcZcZZv7UowmsZyVm/MAelLDmxWb9wf9H73H5Zv4Yu1MI4Mlm/XlOggpvLWL/BfR8Cb0tYv+QGKGE3sle/drlKkJIAV78JDgSuNzdWv2DP+En2VlW/QrsAj7VgVL92rdtUc1VTv+X3hhpDNlK/U6NA6kwEUb/Wq7pQmIFPv87jVpwc2ky/PBxlJOMUSr9SQ2P+xjRHvyYJoPa+PES/GmQLgtovQb8MxjctfSI8v2GYEttEyDW/3ofPyjCvLr/0M4ySNq4hv8jzYIkKbAK/jJCSTuH5ED9qUwYHJIwlPwE4QJ+QQjE/npJhekStNz8mJpA/kP89P8UsD+F3GUI/tpnPWn8gRT+A3VCivxFIP9Xu4j8w6ko/Xn9ET+KmTT/oA9bCgSJQP3rZKo3wYFE/2lNLR3WNUj/H1Usp2qZTPwrE/iH9q1Q/fW32AdGbVT90bwCRXnVWP5KN/IzFN1c/m0sIkT3iVz9c/RDkFnRYP/hc9y277Fg/ke6JEq5LWT8+cLaxjZBZP0MxbgwTu1k/HlDVTRLLWT/dbnH4esBZP15KKfdXm1k/2q4Dks9bWT+JY7FGIwJZP9e6CoWvjlg/PF7GT+sBWD/OjsvBZ1xXP0pQnnjPnlY/fK5/5OXJVT+maPd+ht5UP8Kuluij3VM/+Cbd7kbIUj+dC0J7jZ9RP5LCemypZFA/gHldtr4xTj96Q7uWCntLP5dioZcCqEg/+Y4FCpC7RT8O9/ZxtrhCPyxUpdYgRT8/IP5T7Zj4OD8=",
          "dtype": "f8"
         },
         "y": {
          "bdata": "V3VDS/qWQz9oHXAq25JFP2vWOfV+eEc/MKr4D/FFST/y/JrPVflKP0jO+WPskEw/BCp+phALTj8s4TrLPGZPP/gLXnmFUFA/Yzt3TRvdUD9G3ND2TlhRP+zhpnWhwVE/fypzOKYYUj+DqdeLA11SP7yKFfdyjlI/ovyxhMGsUj+AwP32z7dSPyFaSeiSr1I/4qyk1hKUUj+q6R0bbGVSPx7UiMzOI1I/NX7sjX7PUT+vk8pI0mhRPzQUiNMz8FA/S9ZThB9mUD8Ok/ZhR5ZPP7gsYzjAP04/irTAoQrKTD+4hVfYpzZLP2U/y603h0k/DC143na9Rz8szAFHPdtFPxcC6/174kM/eGctUzvVQT/3ur9vMWs/P6ebKiCJCzs/19Vl4v+PNj9QzyKeNP0xP6JuOWm8ryo/DDMJSY1JIT/wQ8nRMEYPP4Cq4NNB6Oq+qOHLS7FZFr9aGdooqJ8kv2q6WUk1/S2/bGJiSuydM79nih07BSk4v/w5sYQ2mzy/zMiMcPV3QL88vPW3VZFCv+JbNyiSl0S/oh3Si5SIRr+6n8+OXGJIv1QQ4c4BI0q/xADP0rXIS7+0rzPnxVFNvwxflN6cvE6/BeaFWeIDUL/6n+sD9JhQv/lknMTpHFG/uvOhlDuPUb9vBSecc+9Rv4X18KsuPVK/xpWdoxx4Ur89yjvEAKBSv4zI6e6xtFK/aG44zxq2Ur9y/SfxOaRSvyGSp8Ihf1K/jsqVgPhGUr9NMlYP+PtRv/gUJL9tnlG/ZDtg/LkuUb+1uivsT61Qv6NKtvW0GlC/j/p0cQDvTr82Mmvjs4hNv0FV95j1A0y/xiO1S1ZiSr/QjSB6hKVIv3x40qtKz0a/eTDXmI3hRL/AxAU2St5Cv2NYW6iTx0C/R3juQiI/Pb8xZ9hO99A4v8kvYZQ3STS/nu4nJB1ZL7+23oWpev8lv8RK3kNWHhm/YBF8s0qP+L5QzgpeCroJP7TprIaa0B8/tssMHrJRKT9OCu2/flAxP0dXLVRL5jU/DP2F0YRlOj+hkOuCiMk+PwCP6N/nhkE/VXVDS/qWQz8=",
          "dtype": "f8"
         },
         "z": {
          "bdata": "QK1fKVDr179ArV8pUOvXv0CtXylQ69e/QK1fKVDr179ArV8pUOvXv0CtXylQ69e/QK1fKVDr179ArV8pUOvXv0CtXylQ69e/QK1fKVDr179ArV8pUOvXv0CtXylQ69e/QK1fKVDr179ArV8pUOvXv0CtXylQ69e/QK1fKVDr179ArV8pUOvXv0CtXylQ69e/QK1fKVDr179ArV8pUOvXv0CtXylQ69e/QK1fKVDr179ArV8pUOvXv0CtXylQ69e/QK1fKVDr179ArV8pUOvXv0CtXylQ69e/QK1fKVDr179ArV8pUOvXv0CtXylQ69e/QK1fKVDr179ArV8pUOvXv0CtXylQ69e/QK1fKVDr179ArV8pUOvXv0CtXylQ69e/QK1fKVDr179ArV8pUOvXv0CtXylQ69e/QK1fKVDr179ArV8pUOvXv0CtXylQ69e/QK1fKVDr179ArV8pUOvXv0CtXylQ69e/QK1fKVDr179ArV8pUOvXv0CtXylQ69e/QK1fKVDr179ArV8pUOvXv0CtXylQ69e/QK1fKVDr179ArV8pUOvXv0CtXylQ69e/QK1fKVDr179ArV8pUOvXv0CtXylQ69e/QK1fKVDr179ArV8pUOvXv0CtXylQ69e/QK1fKVDr179ArV8pUOvXv0CtXylQ69e/QK1fKVDr179ArV8pUOvXv0CtXylQ69e/QK1fKVDr179ArV8pUOvXv0CtXylQ69e/QK1fKVDr179ArV8pUOvXv0CtXylQ69e/QK1fKVDr179ArV8pUOvXv0CtXylQ69e/QK1fKVDr179ArV8pUOvXv0CtXylQ69e/QK1fKVDr179ArV8pUOvXv0CtXylQ69e/QK1fKVDr179ArV8pUOvXv0CtXylQ69e/QK1fKVDr179ArV8pUOvXv0CtXylQ69e/QK1fKVDr179ArV8pUOvXv0CtXylQ69e/QK1fKVDr179ArV8pUOvXv0CtXylQ69e/QK1fKVDr179ArV8pUOvXv0CtXylQ69e/QK1fKVDr179ArV8pUOvXv0CtXylQ69e/QK1fKVDr178=",
          "dtype": "f8"
         }
        },
        {
         "mode": "lines",
         "type": "scatter3d",
         "x": {
          "bdata": "I6VBDLvKOD/SErCX3bAyP8U1m5Z3Byk/RDZKEs4mGT8AyoJ22l+iPuAcG4p03Ri/XMt9kQPjKL/9ZnG+0p4yv0yMiPXxuDi/dFEgKZW5Pr/ocbYsRk1Cv69cRhbkKkW/f5HZFrDyR790ch1yzKFKv7jaLN50NU2/SaeuXQGrT7/wNGR+9P9Qvy9cCTfiGFK/MMNuQigfU7/qWxtFuBFUv7e/JTWY71S/xvzyW+O3Vb9R0flBy2lWvyNNl4OYBFe/WnUZjquHV79kDD1EffJXv0PudImfRFi/CW9rs719WL9oukjhnJ1Yv2A9ZDgcpFi/14kiBjWRWL/RytzG+mRYv4SryhGbH1i/zWUDal3BV7+4acb0okpXv0SbVxXmu1a/EGDW7rkVVr+GiZHMyVhVvz90dHHYhVS/vWBDT7+dU79E+XWmbaFSv9sSl4/nkVG/teMn70RwUL90HjaqYHtOv4DiIZLL9ku/ztAkCWNVSb/S3jM53ZlGv3IUmDcLx0O/gKufHdbfQL+mVxsReM47v96BvweawDW/1GphhJ84L79f3jgB3M8ivxirIs3QTgm/eJp86+S7CD9kaZjlRqsiP7KLS/tVFC8/6DVnwK2uNT9/HajA1rw7P4+cDgc010A/WH7kmKC+Qz//JGW/spFGP25TIx+BTUk/AqsJWDrvSz/lpvbsJ3ROPyq/0IfYbFA/hfzypq6OUT8FZdqOa55SP4s0hCL3mlM/qryxDU2DVD8uuULRfVZVPw8mFrqvE1Y/KRpzwR+6Vj8CUxJWIklXP+81+QwkwFc/EvhvOaoeWD8vSHZrU2RYP5cfNNTXkFg/JzH/jwmkWD+hqKjV1J1YP5V34gpAflg/ZimnvWtFWD/YCquCkvNXP6g8+bgIiVc/ivD6MjwGVz+3d0LFs2tWPw/VjrsOulU/8heXNATyVD8mxEZlYhRUP6vbLcQNIlM/4Kf/HQAcUj8EBROURwNRP/k/2wsLsk8/uF/yzdo8TT/OTywDh6lKP1gnpVG3+kc/pGg7tC8zRT+67sKgzVVCP2ax5ycKyz4/KqVBDLvKOD8=",
          "dtype": "f8"
         },
         "y": {
          "bdata": "KlRmr6iCQj8ZzUvBz39EP1mOaUTVZ0Y/dmeUKMI4SD/4s3wst/BJP48ntcvujUs/ZqMxEr8OTT8KLVxTm3FOP15p+8IVtU8/d40id/BrUD/W+MuJaOxQPzYtvatuW1E/euTPapC4UT+5hm3GbQNSP3c+hZK5O1I/mPMYxzlhUj9XLA+8x3NSP1gqDFFQc1I/VjApAdRfUj+VnXXiZjlSP+xhQpEwAFI/PSJNB2y0UT+HJPVeZ1ZRPyyuuIKD5lA/Z9JNyTNlUD/VWHv9+qVPP+Un+bXuYE4/ueAZzZH8TD+NopmbU3pLP3KjQEfC20k/5+J3KIkiSD852sQRb1BGP/RC8npUZ0Q/vD3JkTFpQj+SZFkyFFhAP8MJz5E7bDw/MJBjPwILOD/DtJk1AJEzP3RRwJGlBS4/mt1aMFjKJD8w/07XOPMWP3CBO/5j6PA+sAaflsQGDb9kVB7Y85ggv/wYDaEa3ym/qbRmFkuFMb9dhrFS+Qg2v7rEc7jwdTq/JcrJZKHHPr+/uGDJy3xBv9oZIBnAg0O/Yy6ZrpZ2Rb/BfjVTTVNHv4Xd4Z74F0m/QNib8sXCSr+uhnJZ/VFMv4TkCk4DxE2/vTbUYloXT7+mmptlUiVQv6BVFeJSrlC/A+5cbSEmUb9VC5aHQoxRvzir0OlM4FG/gb2O8ukhUr9NLhH/1VBSv1FQELHgbFK/88iXIO11Ur/WmNL58WtSv52JqIb5TlK/xhcjpCEfUr8tx6Sjm9xRv/adEhish1G/Zy0kj6ogUb94BiM3AahQv7SidnEsHlC/gCrbpHQHT7+VXJAdlLJNvy4UN68WP0y/n25sSnuuSr9DSoLjXgJJv5Ka0Mh6PEe/GwLN26JeRb/un72uw2pDv9g6+IjgYkG/lmRypyKSPr/PeGvjAD86v6DMRQfR0DW/dtj8NyRMMb+QCd+RRWspv0Tfmd0OJCC/+OB2/NIwC79gjnu3OZX0PrgajHG43Rc/PO1/NsQ+JT920EnOxXguP/ZlwRivyTM/QTBLeZVCOD/GBLvYeaI8P61dLudsckA/KFRmr6iCQj8=",
          "dtype": "f8"
         },
         "z": {
          "bdata": "SoFav1Kg1r9KgVq/UqDWv0qBWr9SoNa/SoFav1Kg1r9KgVq/UqDWv0qBWr9SoNa/SoFav1Kg1r9KgVq/UqDWv0qBWr9SoNa/SoFav1Kg1r9KgVq/UqDWv0qBWr9SoNa/SoFav1Kg1r9KgVq/UqDWv0qBWr9SoNa/SoFav1Kg1r9KgVq/UqDWv0qBWr9SoNa/SoFav1Kg1r9KgVq/UqDWv0qBWr9SoNa/SoFav1Kg1r9KgVq/UqDWv0qBWr9SoNa/SoFav1Kg1r9KgVq/UqDWv0qBWr9SoNa/SoFav1Kg1r9KgVq/UqDWv0qBWr9SoNa/SoFav1Kg1r9KgVq/UqDWv0qBWr9SoNa/SoFav1Kg1r9KgVq/UqDWv0qBWr9SoNa/SoFav1Kg1r9KgVq/UqDWv0qBWr9SoNa/SoFav1Kg1r9KgVq/UqDWv0qBWr9SoNa/SoFav1Kg1r9KgVq/UqDWv0qBWr9SoNa/SoFav1Kg1r9KgVq/UqDWv0qBWr9SoNa/SoFav1Kg1r9KgVq/UqDWv0qBWr9SoNa/SoFav1Kg1r9KgVq/UqDWv0qBWr9SoNa/SoFav1Kg1r9KgVq/UqDWv0qBWr9SoNa/SoFav1Kg1r9KgVq/UqDWv0qBWr9SoNa/SoFav1Kg1r9KgVq/UqDWv0qBWr9SoNa/SoFav1Kg1r9KgVq/UqDWv0qBWr9SoNa/SoFav1Kg1r9KgVq/UqDWv0qBWr9SoNa/SoFav1Kg1r9KgVq/UqDWv0qBWr9SoNa/SoFav1Kg1r9KgVq/UqDWv0qBWr9SoNa/SoFav1Kg1r9KgVq/UqDWv0qBWr9SoNa/SoFav1Kg1r9KgVq/UqDWv0qBWr9SoNa/SoFav1Kg1r9KgVq/UqDWv0qBWr9SoNa/SoFav1Kg1r9KgVq/UqDWv0qBWr9SoNa/SoFav1Kg1r9KgVq/UqDWv0qBWr9SoNa/SoFav1Kg1r9KgVq/UqDWv0qBWr9SoNa/SoFav1Kg1r9KgVq/UqDWv0qBWr9SoNa/SoFav1Kg1r9KgVq/UqDWv0qBWr9SoNa/SoFav1Kg1r8=",
          "dtype": "f8"
         }
        },
        {
         "mode": "lines",
         "type": "scatter3d",
         "x": {
          "bdata": "jUJLbIONOD8UzozY6L8yP/PFEdb0vSk/+Ihk0h3DGz/gUv1pnm3vPoA0COvC6xO/jJXEWFjYJb9yixRDJdIwv5I+jnvHpja/VTszMhBkPL8n4JJqCgJBvw5lw36EwEO/PLHONKJqRr9Qy91opP1Iv2sW78jjdku/kmUYkdPTTb8tuDQWAglQv5iE3NuSF1G/+DvjMYUUUr/JBB1a1P5Sv4oNmsyO1VO/qT+gMNeXVL+oedZA5URVv+octpkG3FW/rCBucZ9cVr82HHo4K8ZWvxW+RyI9GFe/wNRdlYBSV7+bTJGCuXRXv2k+7qLEfle/djwVnJdwV79mYucKQUpXv0gndnToC1e/9nhGHc61Vr8yHxHHSkhWv7ywRFXPw1W/TGqnWOQoVb/q25CCKXhUv6KJTABVslO/yi9PvzLYUr9oPwCbo+pRv9VD8HSc6lC/VEDWcEqyT7+es9SUr25Nv4DB/829DEu/cL7J2umOSL8cANQ3xfdFv0FwLnr7SUO/Scqwjk+IQL/8w4fCMWs7v/E/FN6AqTW/L6CwGfeiL7+HH4XgT9IjvzB/rMXntA+/mNyoCx8AAD94chO/U9IfPxrtokflwSs/fYtB4wG/Mz+YYBJTtog5PyHuq5MYOD8/qfupM6ZjQj8vl1ReSxhFP24gdssxt0c/qvL/5qU9Sj+JRhlQDalMP4L+CYjp9k4/U6gzQm2SUD+w6+2QUJhRP/53groQjFI/uyGBe7JsUz9G4bxFTjlUP+sM/S4R8VQ/esJnyj2TVT9CYsXrLB9WP3vT01NOlFY//+73RCnyVj/jybP/XDhXP0aTYSahZlc/1jfMB8Z8Vz+05VjQtHpXP1XDjqFvYFc/7ZfkjxEuVz8tqdaGzuNWP5WUYRPzgVY/AFAZFeQIVj+7qC1WHnlVP4Jxxwo201Q/xfhCONYXVD+CQuUEwEdTP0a/wfDJY1I/y72d+N5sUT8QhLWj/WNQPxyFufptlE4/1a0R91pBTD8EAs6mJ9FJP2RcZnpXRkc/OIYqUYmjRD9AfrXFdOtBPxagxMHOQT4/k0JLbIONOD8=",
          "dtype": "f8"
         },
         "y": {
          "bdata": "e/kyA7dpQT8AqBk+92dDP2Tsz2I2UkU/9Gf6FXsmRz9Y1xmk4uJIPyY/H/OihUo/PI+kWgwNTD8/9uJgi3dNPwo4nFqqw04/AkxK7BLwTz85GoS1x31QP8Ei5A2G8lA/cmfHJ8xVUT9bFcatM6dRPxI5C7Zo5lE/pa7UGCoTUj+6/JyzSS1SPxbfqZisNFI/unrOKkspUj9rnkQlMQtSP2n4lI992lE/i7ianWKXUT+Ml8N7JUJRP8GbwQce21A/Ihz4dbZiUD+gvgLI1bJPP2Rhe7GRf04/ZpzfZN0sTT92IvoGFrxLP7Q187y3Lko/rAV0JFyGSD/kA2mtuMRGP/hvFtec60Q/0uxPUvD8Qj8gob8KsfpAP0w1hjLizT0//ZX3QqmHOT94yYw5Hyc1PzMYvynHsDA/bIU0QnVSKD8gqo6lk1QePwCLysPxyQc/AGET0pJb+r70QBBo9wsZv0pmzEGcsyW/HiWl993KLr/rd4HsMOEzv60zz9B0SDi/R5RVprCWPL+BeR8cumNAvxwMQNk2a0K/ltHgCrdfRL9f9bDDNj9Gv46mjrzHB0i/ND8KUpO3Sb9ZM4tp3ExLvzCvIjwBxky/Ne0yBX0hTr8/Vy+T6V1Pv/4rbFwAPVC/9h+7zk66UL/sUlz1XiZRv8qKgWvBgFG/h0WKBRnJUb8sfw4xG/9Rv6d/vUGQIlK/JnPBqlMzUr+QpGwkVDFSv4WDCb6THFK/eRm72yf1Ub8KHnAgObtRv59l/0MDb1G/S9iY1dQQUb/BZcrqDqFQv11wbLskIFC/+LC5VTYdT79ULAZ+ENpNv/IrVQsleEy/moWl0eD4Sr++bkvlzl1Jv07YrgOXqEe/JpN+3vvaRb/yfxpL2fZDvxKyE1gi/kG/wkd4lb7lP7/rjrANV647v4OUNsVmWje/yWNW0mPuMr8M7+83ut0svzohgk3rwCO/ZFjqNX8fFb9g2Nk0DTvlvkBpz3Xwpg8/HI5a4gAfIT+MDfqOn0IqP76/HzSWpTE/zQpBzasXNj/s9Gdp+3I6P6geyVgHsz4/efkyA7dpQT8=",
          "dtype": "f8"
         },
         "z": {
          "bdata": "VFVVVVVV1b9UVVVVVVXVv1RVVVVVVdW/VFVVVVVV1b9UVVVVVVXVv1RVVVVVVdW/VFVVVVVV1b9UVVVVVVXVv1RVVVVVVdW/VFVVVVVV1b9UVVVVVVXVv1RVVVVVVdW/VFVVVVVV1b9UVVVVVVXVv1RVVVVVVdW/VFVVVVVV1b9UVVVVVVXVv1RVVVVVVdW/VFVVVVVV1b9UVVVVVVXVv1RVVVVVVdW/VFVVVVVV1b9UVVVVVVXVv1RVVVVVVdW/VFVVVVVV1b9UVVVVVVXVv1RVVVVVVdW/VFVVVVVV1b9UVVVVVVXVv1RVVVVVVdW/VFVVVVVV1b9UVVVVVVXVv1RVVVVVVdW/VFVVVVVV1b9UVVVVVVXVv1RVVVVVVdW/VFVVVVVV1b9UVVVVVVXVv1RVVVVVVdW/VFVVVVVV1b9UVVVVVVXVv1RVVVVVVdW/VFVVVVVV1b9UVVVVVVXVv1RVVVVVVdW/VFVVVVVV1b9UVVVVVVXVv1RVVVVVVdW/VFVVVVVV1b9UVVVVVVXVv1RVVVVVVdW/VFVVVVVV1b9UVVVVVVXVv1RVVVVVVdW/VFVVVVVV1b9UVVVVVVXVv1RVVVVVVdW/VFVVVVVV1b9UVVVVVVXVv1RVVVVVVdW/VFVVVVVV1b9UVVVVVVXVv1RVVVVVVdW/VFVVVVVV1b9UVVVVVVXVv1RVVVVVVdW/VFVVVVVV1b9UVVVVVVXVv1RVVVVVVdW/VFVVVVVV1b9UVVVVVVXVv1RVVVVVVdW/VFVVVVVV1b9UVVVVVVXVv1RVVVVVVdW/VFVVVVVV1b9UVVVVVVXVv1RVVVVVVdW/VFVVVVVV1b9UVVVVVVXVv1RVVVVVVdW/VFVVVVVV1b9UVVVVVVXVv1RVVVVVVdW/VFVVVVVV1b9UVVVVVVXVv1RVVVVVVdW/VFVVVVVV1b9UVVVVVVXVv1RVVVVVVdW/VFVVVVVV1b9UVVVVVVXVv1RVVVVVVdW/VFVVVVVV1b9UVVVVVVXVv1RVVVVVVdW/VFVVVVVV1b9UVVVVVVXVv1RVVVVVVdW/VFVVVVVV1b8=",
          "dtype": "f8"
         }
        },
        {
         "mode": "lines",
         "type": "scatter3d",
         "x": {
          "bdata": "UrLUMIw+OD9Xnz1AAL0yP1oB2epGUCo/vIiK3doWHj8QenaBjrj9Pkhu7cF4hA6/TJcw4HDxIr+m9EanPC4uv/sdiAf2pTS/RZBb2YQfOr9lyIYHJn4/v17IR0koXkK/Gk3ieE7qRL/IXbVS5WBHv4mdVtBiv0m//zzewlUDTL/QylpXaCpOvx+XiD8xGVC/nMaGHJYMUb9kwFTdZ+5RvxkFZ7q9vVK/jAru+cF5U7/9aSbMsiFUv8PgIRPjtFS/ODI7FbsyVb/I9nwZuZpVv1wfWu1x7FW/iFUuU5EnVr8nUBRZ2ktWv+iYuJcnWVa/ZQDoWGtPVr/4AbKlry5Wv3yFEDwW91W/16gfbNioVb/iawndRkRVvzol4jnJyVS/jHPLxt05VL9+08veGJVTv7oF4Vok3FK/Uunq4r4PUr8URSMpuzBRv70W7RD/P1C/5pS2gwV9Tr8oQ8ZPn1pMv9Hxg8P+Gkq/MO5gPXXAR78IxhzZb01Fv/rFhO90xEK/lUYvfCEoQL+SKsPXTPY6v5WpzqyLgDW/OoTdmkDpL78xAlLRhLAkv+AxO4fqxBK/gHkVuWxU7z409WxB/JUaP+qr9JQBkyg/BwW3ENjgMT9VSwZuwWU3P4ACsGyM0jw/R0bUudAQQT9y1STFw6ZDP5ykPP50KEY/rsi27E6TSD+oFLKj0+RKP4VtZ1OfGk0/hvjUv2oyTz8NBPrMBpVQPxAFh1zAf1E/AMvyGHBYUj+W+cWkNh5TPyxx8CBI0FM/Ovzw/uxtVD+oIwy+gvZUPz0ez5J8aVU/hC4y+GPGVT+u08Qp2QxWPxjdZYaTPFY/pJ0h22FVVj/nEemVKldWP8Kx7d/rQVY/zMGGn7sVVj8NMJ5hx9JVP4ZBvCpUeVU/I3fiL74JVT+sAH93eIRUPza42mIM6lM/nN97IBk7Uz+qmg8IU3hSP0VLg+CColE/9XANEYW6UD/ox/Z7kYJPP3o9XKSdb00/ymSI7FE+Sz/aygPt8PBIPziNNDHaiUY/FTgZxYcLRD9C77Gni3hBP+A6c0kapz0/WLLUMIw+OD8=",
          "dtype": "f8"
         },
         "y": {
          "bdata": "Df81xmpMQD/QDyopjUtCP4sOI6TTN0Q/3JptxEIPRj8exyKT9M9HP0JsGYoaeEk/BcytcP8FSz/eB3QeCXhMPwfWBCK6zE0/8J8wSrMCTz833AGIWgxQP4o+E3DQhlA/1+0iIT3wUD8v3KnuM0hRP153yStajlE/7PzDiGfCUT/Zx4ZdJuRRP47B+eBz81E/MvLaTEDwUT/aOQHujtpRP5pv9SB2slE/I2jlOh94UT/UpghfxitRP6ykokC6zVA/DZTi0VteUD8tg+i/O7xPP3MrUjkJm04/rmdmLEpaTT/UXf46SftLP8pslTdwf0o/ecpPsEboSD9x3lpbcDdHP3RpR2arbkU/inUbqs6PQz/CKfbFx5xBP2Gmc0QyLz8/41CRvK8EOz/BxO1VU742PzRR0SeFYDI/MKmP6IrfKz949rUIUOEiPxixrcA9nxM/QL+B8RV61j6IyXe5bdEQv051gFiTfCG/Iso2R2l+Kr/vvI3gd7Ixv6FzrgJ9Eza/wkSgd8BdOr93rkEi1ow+v2hr1/Q2TkG/zxGxFSxEQ79xKO8FRSZFv16nt9CQ8ka/xCJb+jSnSL/IT3Bpb0JKv8bdzDaYwku/xl19YiMmTb/nyPlromtOv+nb8cvFkU+/bOsVJ69LUL9sjAglr71Qv8E0U1xtHlG/C7NoE4ZtUb/YqnjBp6pRv5y6e2KT1VG/TLoouBzuUb/JHJB3KvRRv95wLmO251G/piFbUc3IUb+/1Awfj5dRv24KAY8uVFG/KdtoFfH+UL++wlCQLphQvxVGDe1QIFC/bKMTdqcvT78/v9RYh/5Nv8RfBgp8rky/Iyl48N9AS7/k2QztK7dJv+20O9b1Eki/dte31e5VRr90uOyp4YFEv7QXHM2wmEK/ltIEhFScQL+AliassR09v6lvZuK25Di/C1vf9hKSNL/F+0GpOiowvzyu4SlxYye/nFI+CqK0HL+ApOs+lQkFv3AO9lOS1/4+YHkrDqHoGT8S7Eo8VAAmP9jyQwSq9S4/QzcD7YrlMz+C7ixPvjs4P4wXYL32eDw/C/81xmpMQD8=",
          "dtype": "f8"
         },
         "z": {
          "bdata": "XilQ61cK1L9eKVDrVwrUv14pUOtXCtS/XilQ61cK1L9eKVDrVwrUv14pUOtXCtS/XilQ61cK1L9eKVDrVwrUv14pUOtXCtS/XilQ61cK1L9eKVDrVwrUv14pUOtXCtS/XilQ61cK1L9eKVDrVwrUv14pUOtXCtS/XilQ61cK1L9eKVDrVwrUv14pUOtXCtS/XilQ61cK1L9eKVDrVwrUv14pUOtXCtS/XilQ61cK1L9eKVDrVwrUv14pUOtXCtS/XilQ61cK1L9eKVDrVwrUv14pUOtXCtS/XilQ61cK1L9eKVDrVwrUv14pUOtXCtS/XilQ61cK1L9eKVDrVwrUv14pUOtXCtS/XilQ61cK1L9eKVDrVwrUv14pUOtXCtS/XilQ61cK1L9eKVDrVwrUv14pUOtXCtS/XilQ61cK1L9eKVDrVwrUv14pUOtXCtS/XilQ61cK1L9eKVDrVwrUv14pUOtXCtS/XilQ61cK1L9eKVDrVwrUv14pUOtXCtS/XilQ61cK1L9eKVDrVwrUv14pUOtXCtS/XilQ61cK1L9eKVDrVwrUv14pUOtXCtS/XilQ61cK1L9eKVDrVwrUv14pUOtXCtS/XilQ61cK1L9eKVDrVwrUv14pUOtXCtS/XilQ61cK1L9eKVDrVwrUv14pUOtXCtS/XilQ61cK1L9eKVDrVwrUv14pUOtXCtS/XilQ61cK1L9eKVDrVwrUv14pUOtXCtS/XilQ61cK1L9eKVDrVwrUv14pUOtXCtS/XilQ61cK1L9eKVDrVwrUv14pUOtXCtS/XilQ61cK1L9eKVDrVwrUv14pUOtXCtS/XilQ61cK1L9eKVDrVwrUv14pUOtXCtS/XilQ61cK1L9eKVDrVwrUv14pUOtXCtS/XilQ61cK1L9eKVDrVwrUv14pUOtXCtS/XilQ61cK1L9eKVDrVwrUv14pUOtXCtS/XilQ61cK1L9eKVDrVwrUv14pUOtXCtS/XilQ61cK1L9eKVDrVwrUv14pUOtXCtS/XilQ61cK1L9eKVDrVwrUv14pUOtXCtS/XilQ61cK1L8=",
          "dtype": "f8"
         }
        },
        {
         "mode": "lines",
         "type": "scatter3d",
         "x": {
          "bdata": "II81cz3bNz8BfMSYeaUyP11Fw0j6uCo/KnEOjHULID+opzACmzUFPxisSyB92AW/xpLAGQQ0IL/WMBEONeEqvwxHIFtYuTK/RI+7GcnuN79j/s44jgs9v/yKS04xBUG/On4kAxBzQ7/mV3kx4sxFv/r7iHo7EEi/LePHqcY6Sr/BzXwcSEpMvzrjAQ+gPE6/SWqlZuYHUL/6GTdi9uBQvy4TiDmgqFG/4ltXGxZeUr+7Jvr5nABTvxloLUyNj1O/DgTJuVMKVL9lj6KzcXBUv4oSA/Z9wVS/KlMp9ST9VL8gymgzKSNVvyp/jIBjM1W/bnM8IsMtVb+b9jvlTRJVv1Qgbxcg4VS/iJetamyaVL80u4DAez5Uv6QKA9+szVO/vT4uD3RIU7/OyPykWq9Sv4NH2nH+AlK/Ot70IRFEUb8wIReFV3NQvzDDjodRI0+/TPb6Ats/Tb9mhqfZPT5Lv56ZVH2LIEm/GJKKUvLoRr8Anf9wu5lEv59nd0hINUK/LmQVWSB8P7+rqbyTO206vy8h0Q4ZQzW/oyDwrAsDML8BJwfR+WQlv3ivTv6cWxW/AIyV4uNepD4MuZqO7qwVP9AH9a9jjSU/+U1rUwwXMD9eYtbN0FY1P3yI+BeWgDo/BtFOrwmPPz/T4Uudej5CPwyMpvShokQ/mw1G2IPxRj8YQgMwvyhJP61X30QLRks/g2fAGzpHTT9nOJ+0OipPP/mh6pWNdlA/lnCsXQVHUT+SQ+vMrQVSP+Sk3FrCsVI/kvAspZFKUz9JR9kmfs9TP1tzj9r+P1Q/9l7sx5+bVD/Nggd7AuJUP00S0GXeElU/KYjXKgEuVT9yejzRTjNVP8wxgOHBIlU/o0opa2v8VD9LkS3zcsBUP+o5NUsWb1Q/cnLhUakIVD/a/leclY1TPyX+bAla/lI/MgnbPopbUj8sexARzqVRPx7HLtbg3VA/jjDupJAEUD+c7VkAezVOP9fgCeCwQkw/zD2rEsUySj9qsoXJ1wdIP0xycgwlxEU/OtkybAJqQz8bq3Sa3PtAP/PR/dNp+Dw/Jo81cz3bNz8=",
          "dtype": "f8"
         },
         "y": {
          "bdata": "vj2hSGxWPj/D6m+8+CpBP5wW/+UIGUM/eOeAVmnzRD8oUoYOMbhGP0pGwFGNZUg/YrEeiMP5ST+pxgwGM3NLP3o/9LlW0Ew/JtRMvcYPTj8mgZrHOTBPP5UV7kBDGFA/k16GXNKHUD9kZj03V+ZQP3cEb2JwM1E/6AabZM5uUT+sx1ELNJhRP7l5Sap2r1E/NidbR360UT+LCDqzRadRPwS6y47ah1E/nM0bPV1WUT8/NPnBABNRP4LoX40KvlA/DRDlM9JXUD/duN4ogsFPP2t2Mdejsk4/hJlSqiCETT8cGlx4MDdMP6AOf3QqzUo/2YM8zYNHST8EdLYrzqdHP3RnpRW270U/74udMwEhRD9Wm2p9jD1CPyufZE5KR0A/F8hwx4CAPD9KU2qNC1U4P/Fpi0qBEDQ/Miw1a5BuLz9EysSut5smP4izKK8hYxs/qIK/jTHlAj9QDHyLWg8BvwBUIVcoeRq/kIsLr6wnJr9tdWS27vsuv0eNryog2DO/DhkVRtQdOL9SspVDrEo8vzSQ1CwtLUC/7o9lZ1ckQr+Hlh4lzghEv7YjrACe2EW/oDOQ3uiRR7/wKvrZ5zJJvxjssBntuUq/Grcri2UlTL9kExGC2nNNv/J1bzrzo06/BIQhPHa0T7/YzPdOJVJQv7S+kJM8uVC/4uAqpxYPUb/LEUwKW1NRv4SG6l3DhVG/aBX3qxumUb8NQ+2cQrRRv+TaMZopsFG/wqUc3dSZUb/nvZ1qW3FRv6D9gvvmNlG/OP510bPqUL+d/N54EI1Qv/Wq7HddHlC/Tswo1hk+T79jwOIeRB9Ov6wA+HZh4Uy/QNpJjbmFS79sr+HAsg1Kv0xChq/Qeki/SIErprLORr8sttj0EQtFv0BjvifAMUO/gL5QJ6VEQb8d9aqCeos+v5+g1jkubjq/NM9ON6M1Nr8he/BTM+Yxv6aTOwSgCCu//KN5cvsoIr/YK202PW0SvwD4AIQ5Yb2+FFR3jqyCET9U/k2WaLQhPxi7ico6lSo/4HsyAlOtMT8nX8PRz/01PylLX0yhNzo/uj2hSGxWPj8=",
          "dtype": "f8"
         },
         "z": {
          "bdata": "aP1KgVq/0r9o/UqBWr/Sv2j9SoFav9K/aP1KgVq/0r9o/UqBWr/Sv2j9SoFav9K/aP1KgVq/0r9o/UqBWr/Sv2j9SoFav9K/aP1KgVq/0r9o/UqBWr/Sv2j9SoFav9K/aP1KgVq/0r9o/UqBWr/Sv2j9SoFav9K/aP1KgVq/0r9o/UqBWr/Sv2j9SoFav9K/aP1KgVq/0r9o/UqBWr/Sv2j9SoFav9K/aP1KgVq/0r9o/UqBWr/Sv2j9SoFav9K/aP1KgVq/0r9o/UqBWr/Sv2j9SoFav9K/aP1KgVq/0r9o/UqBWr/Sv2j9SoFav9K/aP1KgVq/0r9o/UqBWr/Sv2j9SoFav9K/aP1KgVq/0r9o/UqBWr/Sv2j9SoFav9K/aP1KgVq/0r9o/UqBWr/Sv2j9SoFav9K/aP1KgVq/0r9o/UqBWr/Sv2j9SoFav9K/aP1KgVq/0r9o/UqBWr/Sv2j9SoFav9K/aP1KgVq/0r9o/UqBWr/Sv2j9SoFav9K/aP1KgVq/0r9o/UqBWr/Sv2j9SoFav9K/aP1KgVq/0r9o/UqBWr/Sv2j9SoFav9K/aP1KgVq/0r9o/UqBWr/Sv2j9SoFav9K/aP1KgVq/0r9o/UqBWr/Sv2j9SoFav9K/aP1KgVq/0r9o/UqBWr/Sv2j9SoFav9K/aP1KgVq/0r9o/UqBWr/Sv2j9SoFav9K/aP1KgVq/0r9o/UqBWr/Sv2j9SoFav9K/aP1KgVq/0r9o/UqBWr/Sv2j9SoFav9K/aP1KgVq/0r9o/UqBWr/Sv2j9SoFav9K/aP1KgVq/0r9o/UqBWr/Sv2j9SoFav9K/aP1KgVq/0r9o/UqBWr/Sv2j9SoFav9K/aP1KgVq/0r9o/UqBWr/Sv2j9SoFav9K/aP1KgVq/0r9o/UqBWr/Sv2j9SoFav9K/aP1KgVq/0r9o/UqBWr/Sv2j9SoFav9K/aP1KgVq/0r9o/UqBWr/Sv2j9SoFav9K/aP1KgVq/0r9o/UqBWr/Sv2j9SoFav9K/aP1KgVq/0r9o/UqBWr/Sv2j9SoFav9K/aP1KgVq/0r8=",
          "dtype": "f8"
         }
        },
        {
         "mode": "lines",
         "type": "scatter3d",
         "x": {
          "bdata": "N5yE/NlgNz9/Bq/LgXYyPxxLmdZC8io/3zpbNbvbID8wcz9RS88KPzDW9g/y1/u+jPybx3FMG78yDB6aYcMnv4Oxb7cF5DC/QaoVVvHUNb/06brAW686vx9H30FEbj+/RJh7P2MGQr8u3K/BD0NEv3aYclTZaka/FI1mLId7SL9yaT5Q+HJKv0ohgsolT0y//CeDwCQOTr8AIVhsKK5Pv7k46/vBllC/ugpQG1ZFUb/QBb+eHOJRv/O2sepzbFK/rGJNZM3jUr9fE2MErkdTvwOEQdaul1O/ryzWYX3TU7+gCrAA3PpTvw6CjB2iDVS/ntcsXrwLVL/FIUm3LPVTv+MhjGoKylO/ARma7oGKU7+pTjvB1DZTv9qI2SNZz1K/ZAyWwnlUUr8kzVNGtcZRv6YnJ9KdJlG/m7qxbNh0UL+wUQusOGRPv/Q9f5Vkvk2/CKo0auf5S79ksqGZkxhKv05UbU1ZHEi/CuL6aUQHRr+e719yettDv55m8VE4m0G/KFRfG6CRPr9eI+W/TM05v/7fmIFg7jS/3OG8dsHzL79/bcAL0uklv8D/o86Xkhe/YDLFd/fJ6b5wWxqfbCMRPwjPI8M2tyI/AvKmU2zJLD92Rkmq+l4zP4LRClhHRTg/sVeQPY8SPT/JHsGX7+BAP0pmeXMxJ0M/NOPf/bRZRT8RE/1cNnZHPz9BrGaIekk/6uPx3pZkSz8TGp+caDJNP+2+DJIh4k4/B6XqWwI5UD+L0cnrOvBQPwADZ5r9lVE/Y3oriZ8pUj9eakmJiKpSP1yLm7gzGFM/lL+fCjByUz+xk/+8ILhTP+57Lre96VM/KT271NMGVD/l5QcaRQ9UP4r/MdMIA1Q/lRsLnSviUz+QfRhYz6xTP6VIpwUrY1M/OjAZj4oFUz8wHqR3TpRSP7N41XjrD1I/HpU/Cup4UT8aYM3U5c9QPxE9TRKNFVA/1gixsz+VTj+Eg6Gz3t9MP0SffQC6DEs/gi3kJLMdST929p5pyBRHP9edn8cS9EQ/AMx5vsO9Qj94MJURI3RAPwwF2NwYMzw/PJyE/NlgNz8=",
          "dtype": "f8"
         },
         "y": {
          "bdata": "LQHoq4MNPD+cc4Pz1gZAP2EUUcVm9kE/yjlkdXLTQz9UN/9DDpxFP/grh4JjTkc/rnS0eLLoSD+YnRcyVGlKP5ITFzK8zks/GiikDHoXTT/yGQLiOkJOP6qmF7zKTU8/u4fx5YocUD8gquTClIFQP1rJzc2a1VA/bGeoaUYYUT+/ZsvcUklRPzD3wJeNaFE/O/xkadZ1UT+AMhSgH3FRP7PfyRduWlE/5X8dNdkxUT8EmiXNivdQP/KWWPq+q1A/sA6Y3sNOUD8n0kyl8sFPP/evswahxU4/DAfl+ZapTT9pVRhK+W5MPwzRakcMF0s/JVqQeDKjST8Ccl8t6xRIP3jusPPQbUY/ibcq8JevRD/+z6kcDNxCPywaG24P9UA//TpXxy/5PT+Q2KACW+k5P6Mqd2/QvjU/tmLNd9t9MT/qJbJBvVUqP77N5wuelCE/SENSAb+CET8ABBhJf+Wqvtg3Bosd7hG/oqItQPrJIb994idkj4oqv87Yq0bklzG/fL2+JV7YNb8S6fpIUwI6v/MzeOB4ET6/4fay388AQb8Yzx1WXOdCv+gx/UdsukS/5VUXQB54Rr+kMMTPph5Iv7cyhWhSrEm/2XYAHYcfS78Kk5BHxnZMvyx1tRSusE2/UrLP7/rLTr9dT67QiMdPv7qWSzQqUVC/PeXJFr6tUL/tZXehIPlQv8BV+R4EM1G/EFwP4yxbUb/NoRaIcXFRv0cXthm7dVG/pOuHLAVoUb/O0afiXUhRv6RgId3lFlG/BJNNGtDTUL+JE0LBYX9Qv4GDiNrxGVC/g3DO7NFHT7/y0y+CgTtOv7HftgoHEE2/zabXO5fGS7+gW7+shWBKv0umRXhD30i/GnBxwF1ER7/yWBkVfJFFv2jURb9eyEO/mAEX89zqQb/KKxXUxfU/v/UaLc/f9Du/zVNHVCjXN7/KBg6V3aAzv67srzCurC6/Fpq+gAL4Jb/0+OHtYlkav9is4x8vTwG/cLSqXj8mAj+gz680fMQaP5RxsYQgLSY/bsEN1CbhLj+0sx4rrLozPw16g5Ru8Dc/KQHoq4MNPD8=",
          "dtype": "f8"
         },
         "z": {
          "bdata": "dNFFF1100b900UUXXXTRv3TRRRdddNG/dNFFF1100b900UUXXXTRv3TRRRdddNG/dNFFF1100b900UUXXXTRv3TRRRdddNG/dNFFF1100b900UUXXXTRv3TRRRdddNG/dNFFF1100b900UUXXXTRv3TRRRdddNG/dNFFF1100b900UUXXXTRv3TRRRdddNG/dNFFF1100b900UUXXXTRv3TRRRdddNG/dNFFF1100b900UUXXXTRv3TRRRdddNG/dNFFF1100b900UUXXXTRv3TRRRdddNG/dNFFF1100b900UUXXXTRv3TRRRdddNG/dNFFF1100b900UUXXXTRv3TRRRdddNG/dNFFF1100b900UUXXXTRv3TRRRdddNG/dNFFF1100b900UUXXXTRv3TRRRdddNG/dNFFF1100b900UUXXXTRv3TRRRdddNG/dNFFF1100b900UUXXXTRv3TRRRdddNG/dNFFF1100b900UUXXXTRv3TRRRdddNG/dNFFF1100b900UUXXXTRv3TRRRdddNG/dNFFF1100b900UUXXXTRv3TRRRdddNG/dNFFF1100b900UUXXXTRv3TRRRdddNG/dNFFF1100b900UUXXXTRv3TRRRdddNG/dNFFF1100b900UUXXXTRv3TRRRdddNG/dNFFF1100b900UUXXXTRv3TRRRdddNG/dNFFF1100b900UUXXXTRv3TRRRdddNG/dNFFF1100b900UUXXXTRv3TRRRdddNG/dNFFF1100b900UUXXXTRv3TRRRdddNG/dNFFF1100b900UUXXXTRv3TRRRdddNG/dNFFF1100b900UUXXXTRv3TRRRdddNG/dNFFF1100b900UUXXXTRv3TRRRdddNG/dNFFF1100b900UUXXXTRv3TRRRdddNG/dNFFF1100b900UUXXXTRv3TRRRdddNG/dNFFF1100b900UUXXXTRv3TRRRdddNG/dNFFF1100b900UUXXXTRv3TRRRdddNG/dNFFF1100b900UUXXXTRv3TRRRdddNG/dNFFF1100b8=",
          "dtype": "f8"
         }
        },
        {
         "mode": "lines",
         "type": "scatter3d",
         "x": {
          "bdata": "F+sdJpTMNj8Cp9efMS0yP45tT/kk9io/33av0Rt2IT9ABDseS5APPwA0sYaJYeu+JGwkvgCdFr8Wb79uQNskvywHea2AUi6/D5xclT/VM795JS4XzWw4v9cMLBMt6zy/eDlA2t6lQL/FD3Pw/cRCvwp3ru/D0ES/I+Yy7RTHRr/APZAc66VIvwbUZ+VYa0q/vnU74IoVTL843zy4yaJNv9IDLfB7EU+/yyc8xBMwUL//YW7CucZQv7sjBKgUTFG/h0ng/Zq/Ub9PXCWu1SBSv74O935gb1K/zerKeeqqUr+6r90+NtNSv3ZYd0Qa6FK/VJO8AYHpUr+rh+EEaddSv4UHp/TksVK/W6QgfRt5Ur+JeNcnRy1SvzO9ch+2zlG/LmAk38ldUb8KqSzO9tpQv4qC3MfDRlC/5jEkIZNDT78RM35wZNlNv7rONdZwUEy/R/VqYk2qSr94i2I7rehIv0ir9txfDUe/Br7ROk8aRb/47mDHfRFDv4CUhmEE9UC/SWxeViCOPb+DUQeWwBM5v62EEDeHfzS/4jExKFmsL7/SLHaf/Tgmv5K8DoJzXRm/cMOLuBi7+L54wC9pjQwKP1AZBUbzFiA/2p6LSi2aKT+994qPgYExPxGLo9fgIzY/7rdljW2vOj/D5U1HeB8/PyT/b/u2t0E/SPnmT27NQz/XkIP2u85FPzK0e8+OuUc/LlMy5+yLST+SHcN/9UNLPwKfkQDj30w/pOLcyQxeTj/ToXXq6LxPP/Lk6dqGfVA/tV90nJkLUT9qBxdGGohRP0MIyoCI8lE/p6GMlnZKUj8bz3zjiY9SP9lYRjN7wVI/wPuIChfgUj9d/+nbPetSP8WFmijk4lI/JA4xjBLHUj9A88mz5ZdSPzALeECOVVI/HOEjlVAAUj83NQ2QhJhRP7JtNzCVHlE/2lYeJwCTUD/5x0muquxPPyIBh35skk4/VqsdqaoYTT/DPIWU6oBLP/ZXHJLQzEk/oPniLB7+Rz+RbBRasBZGP82xfo19GEQ/Wy2Ss5MFQj/6/H4mLMA/P7G1pDN2VDs/HOsdJpTMNj8=",
          "dtype": "f8"
         },
         "y": {
          "bdata": "hCpOLe+/OT/2dK+gCsA9P6x+Iqa90EA/pB9nkCCwQj+0o7XlP3xEP7jkMlhBM0Y/M9eEXmDTRz8+j04G8FpJP8QmW65cyEo/GLmvpi0aTD8fj9e0Bk9NPwI42nqpZU4//Ydpv/ZcTz/umPrK9xlQP7tjuTLbdFA/xp9l5se+UD+xRAGycfdQPxkJqSyeHlE/SCXK9CQ0UT/5hMLZ7zdRP41/wPL6KVE/gYLKolQKUT+thuqJHdlQP+CZjGOIllA/licz0tlCUD+K0m0x0LxPP9TYtoI1004/B68nZtTJTT+n5stqvqFMP03R1sYkXEs/1RMFHVf6ST/1oaEiwn1IP0XHkifu50Y/8cbygX06RT998NTeKndDP8mu83nHn0E/lug7fHJsPz/fvKSg8Xg7P67LGA8faTc/b6y3pipBMz9OHcJNugouPwZHT4kndCU/FJezrO6OGT8gD0dcazYAPwA8b/i8wQK/aEJpyEfTGr9SQtERBRUmvyFgGv6iqS6/JIKKq1KPM7/taN8vqrU3v78aSvaQwzu/aIyeGtm0P78iNpIcucJBv9bwhc+2mEO/dMcTLIFaRb9YD9+KSAZHv8zhNvVTmki/ZSek6wIVSr+5Xj8Tz3RLv8OME8hNuEy/Vo3vkjHeTb9+bCSBS+VOv3VyzlyMzE+/Znwz4oJJUL+2bD+Q9ZtQv9gUUjtJ3VC/G+5MjDoNUb97VZYXmCtRv7oWC5BCOFG/+IlC5ywzUb8SAQRbXBxRv0el32/o81C/tlbw2Pq5UL9Ii99Mz25Qv0J8V0izElC/+StGfAtMT78TAJxqbVJOv0JEU6uNOU2/rl9cxo0CTL9F4YBRrq5Kv24v7KVNP0m/ev4Fd+a1R7/p1BJMDhRGv9QELd5zW0S/XQRFXN2NQr/O0/KWJq1Av4Qc9it+dj2/H3sCM1B0Ob8N/OsR5Vc1v+SjxKN5JTG/Fp8I48LCKb9Oz7l4BCAhv6BgGtU91xC/AFLexyxdxD7ILsSyaBwSP5CE3leewSE/75OHnbpiKj/xbrr7UXQxP9bEIp5IpTU/gCpOLe+/OT8=",
          "dtype": "f8"
         },
         "z": {
          "bdata": "fqVArV8p0L9+pUCtXynQv36lQK1fKdC/fqVArV8p0L9+pUCtXynQv36lQK1fKdC/fqVArV8p0L9+pUCtXynQv36lQK1fKdC/fqVArV8p0L9+pUCtXynQv36lQK1fKdC/fqVArV8p0L9+pUCtXynQv36lQK1fKdC/fqVArV8p0L9+pUCtXynQv36lQK1fKdC/fqVArV8p0L9+pUCtXynQv36lQK1fKdC/fqVArV8p0L9+pUCtXynQv36lQK1fKdC/fqVArV8p0L9+pUCtXynQv36lQK1fKdC/fqVArV8p0L9+pUCtXynQv36lQK1fKdC/fqVArV8p0L9+pUCtXynQv36lQK1fKdC/fqVArV8p0L9+pUCtXynQv36lQK1fKdC/fqVArV8p0L9+pUCtXynQv36lQK1fKdC/fqVArV8p0L9+pUCtXynQv36lQK1fKdC/fqVArV8p0L9+pUCtXynQv36lQK1fKdC/fqVArV8p0L9+pUCtXynQv36lQK1fKdC/fqVArV8p0L9+pUCtXynQv36lQK1fKdC/fqVArV8p0L9+pUCtXynQv36lQK1fKdC/fqVArV8p0L9+pUCtXynQv36lQK1fKdC/fqVArV8p0L9+pUCtXynQv36lQK1fKdC/fqVArV8p0L9+pUCtXynQv36lQK1fKdC/fqVArV8p0L9+pUCtXynQv36lQK1fKdC/fqVArV8p0L9+pUCtXynQv36lQK1fKdC/fqVArV8p0L9+pUCtXynQv36lQK1fKdC/fqVArV8p0L9+pUCtXynQv36lQK1fKdC/fqVArV8p0L9+pUCtXynQv36lQK1fKdC/fqVArV8p0L9+pUCtXynQv36lQK1fKdC/fqVArV8p0L9+pUCtXynQv36lQK1fKdC/fqVArV8p0L9+pUCtXynQv36lQK1fKdC/fqVArV8p0L9+pUCtXynQv36lQK1fKdC/fqVArV8p0L9+pUCtXynQv36lQK1fKdC/fqVArV8p0L9+pUCtXynQv36lQK1fKdC/fqVArV8p0L9+pUCtXynQv36lQK1fKdC/fqVArV8p0L8=",
          "dtype": "f8"
         }
        },
        {
         "mode": "lines",
         "type": "scatter3d",
         "x": {
          "bdata": "goRyQK0bNj9rk4g7rcYxP8/3/I20vio/vQ2D6XzUIT8wlYIxyK8RPwD2XXwx6ba+XBCGRbNmEr/APWbwZC8iv9Z5clyxGCu/KyAhpQfzMb9aEwn0NUc2v/Q2tURthDq/oSob7U6mPr8OXkM4TFRBvxx22fGTQ0O/xUWoFwAfRb+1JUuWpuRGvw6hzsuzkki/2DC8aWwnSr96iRI+L6FLv0psU+F2/ky/LK7rR9s9Tr/uq1c1E15Pv8jLwsf6LlC/EuOLSD2eUL/bpaVsXvxQv4hONSz9SFG/kz3si8qDUb9reXLuiaxRv4ZL4lIRw1G/LJIUgEnHUb/fJJEcLrlRvySeCrPNmFG/lOtgo0lmUb/YFzoA1iFRvzzFVFm5y1C/8q3LckxkUL/FSCrT89dPvzLMOYt7xk6/9BTT80mVTb+esaKmmUVMvziWqKzE2Eq/c8aEGUNQSb/5VcyHqa1Hvxld9nen8kW/Ns+OkwUhRL9CtnnWozpCv9kRLKB3QUC/EcOwXRNvPL+XNkcN6D04v7/JF46/8zO/iwXzwgsqL7/txXF4eEwmvxSmX4fRrxq/GNzldV9WAb+wkrBOw8QCP6z6X5xGZhs/8p7hjPamJj+g1TkZcIMvPwXsUMe2HzQ/Wkt1AvdoOD+wtR+sDZk8Pyi/QNHUVUA//KWME0xOQj/H2UiZ5DNEP+hda9KpBEY/6ZSIpry+Rz/85a9iVWBJP4VMKo/F50o/c5g2q3lTTD8i9vnM+qFNPy/79yPw0U4//daDXCDiTz+FIF5xuWhQP1ia4oF4z1A/RKsKduMkUT/Tb+hAomhRP0l8KA1vmlE/RDIOhRa6UT8nil4HeMdRP/rDAsmFwlE/qFNA40SrUT+AYHdOzYFRP/hCbclJRlE/Hnk8rff4UD97fReuJppQP4WwH4k4KlA/7QtKP0FTTz/EomwAxzFOPzqY+bss8Uw/Zl7f7bySSz9P1vzS4BdKPw4nwvQegkg/eNWdlhnTRj/8F9UGjQxFP+XXg9RNMEM/WH6c7EZAQT/m37I/73w+P7u8UyfjWTo/h4RyQK0bNj8=",
          "dtype": "f8"
         },
         "y": {
          "bdata": "+I2QiBlwNz/t1PzWWW87Pzj/7lJSUj8/FFChrICKQT/lGoVHw1lDP+YNQHATFUU/7hnFLKi6Rj/Ks+zpzkhIP1rtbDvtvUk/MiDsgoIYSz/ODHp8KVdMP/681q6ZeE0/t4gLvqh7Tj++NPmeS19PPyQRT9VLEVA/qWb8x2FiUD9iocYRlKJQP6bR24Wg0VA/hQiNpFbvUD+pskzNl/tQP5bOQF5X9lA/0nJIwZrfUD/ZN2dmebdQP1ZGnKscflA/TfE9sr8zUD8CogtEXrFPP/hmGLSR2k4/ZK0IIPfjTT8wVzq8jM5MP42L+H9wm0s/Ww20/t5LSj/s5a0hMuFIP5DIZMPfXEc/9740LnjART+CX7Z/pA1EP+blhvIkRkI/Fug8EM9rQD8E4MuaFwE9P9zP/yKrDDk/L9HrWWz+ND8SB3V+idowP5QMqDyOSik/1Pu0X/fFID+k4QtlLGAQPwDcqOzqjsu+HF3x0DcYEr8YJnKmqKAhv6zzWaUJIyq/OPgEsDxFMb99+5oLJ2c1vxv8wl8Bczm/GEHt5J9kPb+Wiivv+JtAv5CnbeWCdEK/fGbIugY6RL/SFwPxsOpFv1PUB4jDhEe/JKuiyZcGSb/gLD/9n25Kv3sn4wFpu0u/2vW/zJvrTL/ABtDK/v1Nv8YXFCR38U6/YvAi3wnFT798iO9x7jtQv2TTI+6bhFC/+oI+eUK8UL/8ZJq1qOJQv8Ey/w2n91C/Fhxv3if7UL90hXWKJ+1Qv+r634C0zVC/Q4HdLO+cUL+pm5PUCVtQvz94S2VICFC/JF/ZWgBKT78EiRsJL2NOvyMU6sMKXU2/E13tw6E4TL82q1x1IfdKv16lR0HVmUm/NlH2NyUiSL8Exb+dlJFGv0Al1lvA6US/gHCjVl0sQ7+82m2rNltBvzLrJ65X8D6/U/6Qj10KO7/Fr5a3gwg3v69wYZ7r7jK/yt1ka56DLb+O1DEb+Qolv/z7qZFF+Ri/MPEWaWoL/74g+VrpIPcCP7Bh3CA1sBo/LIy7gavkJT9BrMQIq1ouP3G8xTGwWDM/9I2QiBlwNz8=",
          "dtype": "f8"
         },
         "z": {
          "bdata": "EPN2hsS8zb8Q83aGxLzNvxDzdobEvM2/EPN2hsS8zb8Q83aGxLzNvxDzdobEvM2/EPN2hsS8zb8Q83aGxLzNvxDzdobEvM2/EPN2hsS8zb8Q83aGxLzNvxDzdobEvM2/EPN2hsS8zb8Q83aGxLzNvxDzdobEvM2/EPN2hsS8zb8Q83aGxLzNvxDzdobEvM2/EPN2hsS8zb8Q83aGxLzNvxDzdobEvM2/EPN2hsS8zb8Q83aGxLzNvxDzdobEvM2/EPN2hsS8zb8Q83aGxLzNvxDzdobEvM2/EPN2hsS8zb8Q83aGxLzNvxDzdobEvM2/EPN2hsS8zb8Q83aGxLzNvxDzdobEvM2/EPN2hsS8zb8Q83aGxLzNvxDzdobEvM2/EPN2hsS8zb8Q83aGxLzNvxDzdobEvM2/EPN2hsS8zb8Q83aGxLzNvxDzdobEvM2/EPN2hsS8zb8Q83aGxLzNvxDzdobEvM2/EPN2hsS8zb8Q83aGxLzNvxDzdobEvM2/EPN2hsS8zb8Q83aGxLzNvxDzdobEvM2/EPN2hsS8zb8Q83aGxLzNvxDzdobEvM2/EPN2hsS8zb8Q83aGxLzNvxDzdobEvM2/EPN2hsS8zb8Q83aGxLzNvxDzdobEvM2/EPN2hsS8zb8Q83aGxLzNvxDzdobEvM2/EPN2hsS8zb8Q83aGxLzNvxDzdobEvM2/EPN2hsS8zb8Q83aGxLzNvxDzdobEvM2/EPN2hsS8zb8Q83aGxLzNvxDzdobEvM2/EPN2hsS8zb8Q83aGxLzNvxDzdobEvM2/EPN2hsS8zb8Q83aGxLzNvxDzdobEvM2/EPN2hsS8zb8Q83aGxLzNvxDzdobEvM2/EPN2hsS8zb8Q83aGxLzNvxDzdobEvM2/EPN2hsS8zb8Q83aGxLzNvxDzdobEvM2/EPN2hsS8zb8Q83aGxLzNvxDzdobEvM2/EPN2hsS8zb8Q83aGxLzNvxDzdobEvM2/EPN2hsS8zb8Q83aGxLzNvxDzdobEvM2/EPN2hsS8zb8Q83aGxLzNvxDzdobEvM2/EPN2hsS8zb8=",
          "dtype": "f8"
         }
        },
        {
         "mode": "lines",
         "type": "scatter3d",
         "x": {
          "bdata": "5foxZaJLNT84XFZqUUAxP/8Onf9vRio/KUOqaCfxIT++cIIxwBITP+DBZZdCfOE+aP3FpeBrDb9U29T1Powfv9YjvTYEISi/5RnKxYQxML/FEuEl1kE0v3jNzNlFPTi/rPQlBrkfPL8akzORLuU/v4qYzqHhxEG/umIn5dqEQ7+te7ZKtTBFv94YLsi3xka/sZSC1z9FSL+IxVYmw6pJvxiwdSzR9Uq/fZS2pxQlTL8zvMP7VDdNv7VqWXR3K06/GcOwaIAAT79pPOo+lLVPv7MdNif8JFC/eDwm0IleUL/E7n7GN4dQv+8jUBvcnlC/yhS6b16lUL9DbgwOuJpQv9vysPDzflC/ynHati5SUL8NvgOHlhRQv7Meur7VjE+/gq2xqPjPTr+P/TZ7WPNNv/ZsR6PY90y/C24lYXzeS7+zsBq9ZahKv05kf1zUVkm/JMI6OCTrR79QhxA2zGZGv2AfLaZcy0S/M9x+pn0aQ79mmoVt7VVBv2j3tvz8/j6/m7ihjysyO7+GchZhUUk3v9iiVCR2SDO/FyghlnRnLr+q6OOIpR4mvz41zZsSfhu/CJnVTAZFBb+QHK3uChD5PtiK1CoTJBc/ctvsdyT2Iz+0qTK1q0UsPyXbiBkHPDI/iKMJcWxCNj9yUJe53zE6PyzLyHJSBj4/RGfp+OjdQD9dmqy5RadCP+GMLgZoXUQ/IuYbO4z+RT8ATtxYBIlHP/Ta0r45+0g/thyHzq5TSj95rwZ1AJFLP+7V6ZjnsUw/4c2Bazq1TT8aTNWb7ZlOP0atLmoVX08/i+ePTfMBUD9aiICk20NQPw3Dicn/dFA/RevIFC2VUD/5sQ9bQqRQPx8KFRAwolA/hB98VviOUD942qD9rmpQPyU1LG15NVA/ud4K/RzfTz+0v4+IbDJPP75W73+TZU4/EO6DDGV5TT9QU06k1G5MP1rZ/g71Rks/Ooy1SvcCSj/9kZ1RKaRIP9TNp8H0K0c/KqfHZ92bRT9ONTKwf/VDP0viO/2OOkI/S8KK5tNsQD9MhNjEVBw9P6uxZrb/QDk/6foxZaJLNT8=",
          "dtype": "f8"
         },
         "y": {
          "bdata": "KTJHYBkhNT8UPnm1mh45P5HPSzw3Aj0/0J9AVPZjQD9k83PA6zVCP2D3wJAb9UM/R4zizLifRT/y2HqxCzRHPwyKZHVzsEg/TIxU92cTSj/SYRFSe1tLP8Bln1Vbh0w/ADLd49KVTT/pyygvy4VOP6QgxdlMVk8/8cdrekADUD/NVfvu2EpQP+7kMv2lgVA/1jOeJ2+nUD+ZQu56DbxQP+H2H7Zrv1A/etJkYIaxUD/OJrfMa5JQP+AUFgs8YlA/QZJ4xyghUD+nCTMt6p5PP1V6o2Hq2k4/eS6ONhz3TT9/fpR/avRMPxTlnOff00s/k//v3aWWSj/YaJ5jAz5JPwR8a7pby0c/9neY9ixARj8Fggl1Dp5EP2KGWjev5kI/0tKUJ9QbQT/8zp6KrH4+Py+DNnxBpjo/vXRk5l2yNj8QzuTcFKcyPz5yBCMjES0/GBv/Dya2JD8Mi0zWnosYP9BQbQeRRv4+CGX+XkfgAr9YAwAFMWgav8rZoeaCoiW/DiseE6D6Lb+KqA4K6xkzv+Z8ZGjVIje/6eQjZOYTO78wXHDSDek+v1XVGycsT0G/kJthpfkXQ79x6jaCGM1Ev0sgtyXGbEa/dcpmElb1R7/fD+aeM2VJv+z7Epfjukq/UqztwgX1S786catRVhJNv/ybgievEU6/qubWDAnyTr8Z8I29fLJPv2YNuushKVC/hghe01xoUL+IEOPnrZZQvxY3wGrls1C/UbnqPeW/UL9yreECobpQv3scbicepFC/U2MK4HN8UL/8n/YPy0NQv5ymJT689E+/ElNUe/FAT78289os72xOv0jQ2t2PeU2/rkvtbc5nTL99y4gOxThLvzKqHCCs7Um/HQUQ8NiHSL9UV+9YvAhHv2qLM0bhcUW/OnUqHevEQ78aV6QMlANCv2sYJEWrL0C/zBLQNiaWPL9bxm4ufq84v+US6uBjrzS/F7QU+faZML8m5zM52uYov675QSobgCC/JBEEnbMQEL+AvPIW0uvNPiS3Lf957hE/b5ybu4xtIT8OHb5n5dEpP5A9ETrQDTE/JTJHYBkhNT8=",
          "dtype": "f8"
         },
         "z": {
          "bdata": "JJtssskmy78km2yyySbLvySbbLLJJsu/JJtssskmy78km2yyySbLvySbbLLJJsu/JJtssskmy78km2yyySbLvySbbLLJJsu/JJtssskmy78km2yyySbLvySbbLLJJsu/JJtssskmy78km2yyySbLvySbbLLJJsu/JJtssskmy78km2yyySbLvySbbLLJJsu/JJtssskmy78km2yyySbLvySbbLLJJsu/JJtssskmy78km2yyySbLvySbbLLJJsu/JJtssskmy78km2yyySbLvySbbLLJJsu/JJtssskmy78km2yyySbLvySbbLLJJsu/JJtssskmy78km2yyySbLvySbbLLJJsu/JJtssskmy78km2yyySbLvySbbLLJJsu/JJtssskmy78km2yyySbLvySbbLLJJsu/JJtssskmy78km2yyySbLvySbbLLJJsu/JJtssskmy78km2yyySbLvySbbLLJJsu/JJtssskmy78km2yyySbLvySbbLLJJsu/JJtssskmy78km2yyySbLvySbbLLJJsu/JJtssskmy78km2yyySbLvySbbLLJJsu/JJtssskmy78km2yyySbLvySbbLLJJsu/JJtssskmy78km2yyySbLvySbbLLJJsu/JJtssskmy78km2yyySbLvySbbLLJJsu/JJtssskmy78km2yyySbLvySbbLLJJsu/JJtssskmy78km2yyySbLvySbbLLJJsu/JJtssskmy78km2yyySbLvySbbLLJJsu/JJtssskmy78km2yyySbLvySbbLLJJsu/JJtssskmy78km2yyySbLvySbbLLJJsu/JJtssskmy78km2yyySbLvySbbLLJJsu/JJtssskmy78km2yyySbLvySbbLLJJsu/JJtssskmy78km2yyySbLvySbbLLJJsu/JJtssskmy78km2yyySbLvySbbLLJJsu/JJtssskmy78km2yyySbLvySbbLLJJsu/JJtssskmy78km2yyySbLvySbbLLJJsu/JJtssskmy78km2yyySbLvySbbLLJJsu/JJtssskmy78=",
          "dtype": "f8"
         }
        },
        {
         "mode": "lines",
         "type": "scatter3d",
         "x": {
          "bdata": "gq2ikWpaND96m0ye8pcwP1pNLJW/iCk/X/X8tEfHIT/mTuKL+OYTP6C5vbB2q/A+qKk+5hErB7/EmGWi/kkbvxKmk4ApcSW/aNsWVzknLb9CHHD2nV8yv9dTOaquGDa/d60wVvi6Ob9+ZmAEvEI9v8juCwsrVkC/5IcgAiH6Qb+dk9T/jotDv/yavzbXCEW/OI44nnBwRr+amXuH6MBHv2m5xRvk+Ei/WSrcwSEXSr8VKo9pehpLv0FN4rviAUy/6OKgLmzMTL9gUkL6RXlNvy/7IPG9B06/7L0lN0F3Tr9Z2SrZXMdOv2YOekO+906//OXrljMIT7+iWVDcq/hOv8ng6xU3yU6/kNv2LgZ6Tr/yXTDJagtOv09WuOjWfU2/PM2HftzRTL+kZQDSLAhMv8gwLsqXIUu/IDZ4FwsfSr+2mZw+kQFJv9vx9IVQyke/5/8dxol6Rr96fTsflxNFv1TsLJTqlkO/+jIjjQwGQr8yMiBDmmJAv4GWAiyIXD2/FNuXnZfVOb8qNw+gBTQ2v5OvBmyQezK/zvPToxtgLb+Ebr6Lzqolv0b6011Xvhu/oMbOyfAUCL/g3kJxgK7tPoAz0WpFchM/BGjmiFeNIT9AvtqGdE8pPwiGlS29ezA/hqJhS8I+ND8kbyXp6Ow3P1jVXtZlgjs/nHPVTof7Pj/joMJkXCpBP6yts1RDxUI/0oQl5tBMRD82EAp6cb9FP/hCbQOnG0c/5I9IkQpgSD/LG4TATYtJP/xCqBQ8nEo/uiDcNbyRSz/LTOkS0WpMP2HbGeaaJk0/wbbjG1jETT+ci3MaZkNOPz6WSelBo04/tYk7uIjjTj9vZVBF+ANPPwc6DSFvBE8/bnXs0OzkTj8xL9zPkaVOP8fywmyfRk4/LYsth3fITT88NWsqnCtNP7A4gAevcEw/xhZ5znCYSz+aHspnwKNKP9AmiA6ak0k/5UhnTBZpSD/RoovYaCVHPyw4VlrfyUU/qOx0EeBXRD/GIZhk6NBCP76jSliLNkE/UVgC398UPz98cRvvnpw7PzRmcILnBzg/hq2ikWpaND8=",
          "dtype": "f8"
         },
         "y": {
          "bdata": "D0q9lsTWMj/9j5ApjtE2PwqDXCLStDo/GD0skI58Pj+yrGbxbhJBPy6ij3f91EI/NO/+aCKERD947uJWIR5GP/zwS59ToUc/3OTUICoMST/oABLWLl1KPwpYHVcGk0s/2+WzP3GsTD+E7XF4TahNPxRJ22GXhU4/LGn732pDTz+eJYlFBOFPP9n9zY7gLlA/rmaRaZBcUD+gwLeaYnlQPwhxp2w5hVA/qFMkqwiAUD8eQuSv1WlQP4MmC123QlA/0EiUBdYKUD95T4KH1oRPP3NscXuD004/yWUosWkCTj9m11G0YBJNP8sW4PNfBEw/U+v9wn3ZSj9YTyc67pJJP2T5kfkBMkg/wg4tziS4Rj+1sZ063CZFP7D9uuXFf0M/4FUn8JXEQT+cIX1lKu4/P1fdUM8+Mjw/NJbpf0JZOD8YGHbPLGc0P22qkPUOYDA/ys3frx+QKD9wxnyFz0YgP5DhFHjgsg8/gBJ6NqJizb5gLn8LqK4Rv/zPMGwAMCG/f96xNPV2Kb/eR5gN1dEwv21vTfXY1jS/epBIlmHGOL+muh9aYJw8v+gN5H5wKkC/WBGG0gb2Qb9AdVVnGa9Dv5zPhpLhU0W/vgTSk63iRr9LAZFU4llIvw4Bgg/9t0m/OpF435T7Sr/yUmIzXCNMvy4CICYiLk2/wk7QuNMaTr/wjEjufOhOv+gHl8ZJlk+/5tnFjMMRUL/a/LKn0UdQv5ufdHsXbVC/NroenG6BUL/BnhISwoRQv2wInG8Od1C/Jt151GFYUL9B/U7f2yhQvzJGFBpb0U+/TdjMDDIwT7+GMnG34m5OvyOmnl40jk2/xmt9nQ6PTL+2BwJ3eHJLvxYVz0aXOUq/jPHOkq3lSL+uAb2+GXhHv/5D9aJU8kW/IoX+B/BVRL/ro18IlaRCvyXUaloC4EC/9yuFBxUUPr/8HebwI0k6v9D6Hk8aYza/whmt7vxlMr+8OMXL0Kssv5ytva8ZbiS/bKR+jaY2GL9gjvAdkOD9vgi2/iMjnAI/pBuTrq8KGj9h9oTQOlYlPxI6FDQfkS0/C0q9lsTWMj8=",
          "dtype": "f8"
         },
         "z": {
          "bdata": "OENi3s6QyL84Q2LezpDIvzhDYt7OkMi/OENi3s6QyL84Q2LezpDIvzhDYt7OkMi/OENi3s6QyL84Q2LezpDIvzhDYt7OkMi/OENi3s6QyL84Q2LezpDIvzhDYt7OkMi/OENi3s6QyL84Q2LezpDIvzhDYt7OkMi/OENi3s6QyL84Q2LezpDIvzhDYt7OkMi/OENi3s6QyL84Q2LezpDIvzhDYt7OkMi/OENi3s6QyL84Q2LezpDIvzhDYt7OkMi/OENi3s6QyL84Q2LezpDIvzhDYt7OkMi/OENi3s6QyL84Q2LezpDIvzhDYt7OkMi/OENi3s6QyL84Q2LezpDIvzhDYt7OkMi/OENi3s6QyL84Q2LezpDIvzhDYt7OkMi/OENi3s6QyL84Q2LezpDIvzhDYt7OkMi/OENi3s6QyL84Q2LezpDIvzhDYt7OkMi/OENi3s6QyL84Q2LezpDIvzhDYt7OkMi/OENi3s6QyL84Q2LezpDIvzhDYt7OkMi/OENi3s6QyL84Q2LezpDIvzhDYt7OkMi/OENi3s6QyL84Q2LezpDIvzhDYt7OkMi/OENi3s6QyL84Q2LezpDIvzhDYt7OkMi/OENi3s6QyL84Q2LezpDIvzhDYt7OkMi/OENi3s6QyL84Q2LezpDIvzhDYt7OkMi/OENi3s6QyL84Q2LezpDIvzhDYt7OkMi/OENi3s6QyL84Q2LezpDIvzhDYt7OkMi/OENi3s6QyL84Q2LezpDIvzhDYt7OkMi/OENi3s6QyL84Q2LezpDIvzhDYt7OkMi/OENi3s6QyL84Q2LezpDIvzhDYt7OkMi/OENi3s6QyL84Q2LezpDIvzhDYt7OkMi/OENi3s6QyL84Q2LezpDIvzhDYt7OkMi/OENi3s6QyL84Q2LezpDIvzhDYt7OkMi/OENi3s6QyL84Q2LezpDIvzhDYt7OkMi/OENi3s6QyL84Q2LezpDIvzhDYt7OkMi/OENi3s6QyL84Q2LezpDIvzhDYt7OkMi/OENi3s6QyL84Q2LezpDIvzhDYt7OkMi/OENi3s6QyL8=",
          "dtype": "f8"
         }
        },
        {
         "mode": "lines",
         "type": "scatter3d",
         "x": {
          "bdata": "Dmxc9ctGMz9iiPleZ5gvP/anlh+lgig/gbD81Z5TIT/Uu/pteCUUP2C7aAW7O/Y+ML3oaqsaAr8gXv1pRaAXv0zTFzdtDSO/OBxq9xM3Kr+ARIll2qIwv/vFKbEEGTS/HoclZHd6N7+tUBtftsM6v9FHWHVe8T2/TndfdRSAQL+ElC5qd/ZBvzEFGyxWWkO/Hf9y5EGqRL91kfZM4ORFv+EdyhTtCEe/pSrGLjsVSL8K8MsHtghJv+273qNi4km/l0jcoGChSr8MVckd60RLv0ARxIVZzEu/cSrLPSA3TL9wVaY00YRMv8v+W1QctUy/+iu/1M/HTL8/dMBu2LxMv1wrTXBBlEy/LEKosDROTL8x4Ehl+upLv8sra9f4aku/nvuf+rPOSr9vIcjkzBZKv1yEBygBREm/mDVbDypXSL9s75u+O1FHv1Hj0zZEM0a/NkPrP2r+RL85bco47LNDv5j1Ks8eVUK/9NppoGvjQL/1y4mJn8A+v8HnBo20mju/+D0/DVVYOL8bky8h3fw0v7bXQ77CizG/w3AmTiQRLL+8FT6G1O0kvwLWZo3jaRu/1OFzure3Cb9A3EFL0vbbPmS8JO/oWBA/2PZH1IrhHj9woZTCK6UmP2AsmkE6wi0/vbD5201gMj9HaLlKjcw1P8eQuCtUIjk/qtt+ZzJePD+aCaeb0nw/PwRnR8V+PUE/Jgz6tc6qQj8ZfoqN4AREP82BhY9PSkU/fM8gRcx5Rj/2yQjXHZJHP4M+3E8jkkg/a8EJxtR4ST8um9trREVKPyXYmYSf9ko/RMrFPS+MSz96D49rWQVMP5bYvyehYUw/g558UqegTD9PjlL0KsJMP8iXL4EJxkw/TBb/+z6sTD8RXsb65XRMPw7xPIs3IEw/UJv894quSz/mFoZuVSBLP6H4doYpdko/xWhtqrawST9SbDVjyNBIP18k+oVF10c/uklTRi/FRj+wLCQtoJtFPyiGXfXKW0Q/EVLOT/kGQz9KoUmPip5BP2m2fz7yI0A/Qnz/QW0xPT/k3tlB3vw5P6uIC1aFrTY/Emxc9ctGMz8=",
          "dtype": "f8"
         },
         "y": {
          "bdata": "aCq4f8KVMD+SnOi1yow0P0d58fujbjg/sG2+1k03PD8WuV7B4eI/PwhjKJnLtkE/cOHywONpQz/CB9zW+AhFP5WsqfpekkY/e50qpoAESD+kiTxP4F1JP3GeGPEZnUo/JGpRe+TASz8ItwclE8hMP9y1+KKWsU0/yNolP358Tj9+JvbQ+CdPP14U0ZRVs08/xXYqcQIPUD9rVjZgzDNQP5lmVqviR1A/sRPBnTBLUD+dI3HPsj1QP42bqCh3H1A/lIQ1pznhTz+ADJg4qGJPP2PJkX28w04/WUjORxoFTj/2Zq0ZhidNP/BsslvkK0w/w1ARcTgTSz/G20yso95JP1NN+SRkj0g/iOvWb9MmRz9qgpY6ZaZFP3cHt8ylD0Q/ZVMHbzhkQj8eB3G71aVAP39HlK2TrD0/cgYDLeXuOT84SB4oexY2P8AMSGBMJzI/j2GYHs5KLD/1WU1y2SkkP37Gnac36Bc/MDB5QV6Q/T68TWTfTU8Cv7THm4z1qRm/rA9g2ucIJb/vPNkNJictvxT+PIqrkzK/wr4mzp2ANr/NRwfnXVY6vyo2bdL3ED6/+fMlxUnWQL+J6Kp9vJJCvyH+M+0JPES/GYaJqnvQRb/qC7rMcE5Hv2jW3JhftEi/xXrvF9cASr81ISyTgDJLvypsUPUgSEy/ftdoD5pATb/AwdG/6xpOv5gGPvo01k6/vgCzr7RxT7+00IqVyuxPvw3iV+V7I1C/HkUzre8/UL/VMRBOo0tQv2RD+beKRlC/VTK6K6swUL/ulXU1GwpQv/WyzSoFpk+/3bXQLTQXT78j4M+rVmhOv0JXDOYgmk2/ozNdbWetTL8pchFHHqNLv+U8ZfFXfEq/3daNSEQ6Sb9A139NL95Hv1aVss9/aUa/LI5B+7XdRL/vCOnMaTxDvxoydm1Jh0G/2Wa47C6AP79qvW5CUtE7v+txOsjIBTi/9vxX+XshNL8uAbzXbigwv/jL05JzPSi/SjZ7vwwRIL/8WxRoWFAPv4A3/52ZPMw+/DW88gxrET/qlxNOIPEgPxrlElVDGyk/ZCq4f8KVMD8=",
          "dtype": "f8"
         },
         "z": {
          "bdata": "TOtXCtT6xb9M61cK1PrFv0zrVwrU+sW/TOtXCtT6xb9M61cK1PrFv0zrVwrU+sW/TOtXCtT6xb9M61cK1PrFv0zrVwrU+sW/TOtXCtT6xb9M61cK1PrFv0zrVwrU+sW/TOtXCtT6xb9M61cK1PrFv0zrVwrU+sW/TOtXCtT6xb9M61cK1PrFv0zrVwrU+sW/TOtXCtT6xb9M61cK1PrFv0zrVwrU+sW/TOtXCtT6xb9M61cK1PrFv0zrVwrU+sW/TOtXCtT6xb9M61cK1PrFv0zrVwrU+sW/TOtXCtT6xb9M61cK1PrFv0zrVwrU+sW/TOtXCtT6xb9M61cK1PrFv0zrVwrU+sW/TOtXCtT6xb9M61cK1PrFv0zrVwrU+sW/TOtXCtT6xb9M61cK1PrFv0zrVwrU+sW/TOtXCtT6xb9M61cK1PrFv0zrVwrU+sW/TOtXCtT6xb9M61cK1PrFv0zrVwrU+sW/TOtXCtT6xb9M61cK1PrFv0zrVwrU+sW/TOtXCtT6xb9M61cK1PrFv0zrVwrU+sW/TOtXCtT6xb9M61cK1PrFv0zrVwrU+sW/TOtXCtT6xb9M61cK1PrFv0zrVwrU+sW/TOtXCtT6xb9M61cK1PrFv0zrVwrU+sW/TOtXCtT6xb9M61cK1PrFv0zrVwrU+sW/TOtXCtT6xb9M61cK1PrFv0zrVwrU+sW/TOtXCtT6xb9M61cK1PrFv0zrVwrU+sW/TOtXCtT6xb9M61cK1PrFv0zrVwrU+sW/TOtXCtT6xb9M61cK1PrFv0zrVwrU+sW/TOtXCtT6xb9M61cK1PrFv0zrVwrU+sW/TOtXCtT6xb9M61cK1PrFv0zrVwrU+sW/TOtXCtT6xb9M61cK1PrFv0zrVwrU+sW/TOtXCtT6xb9M61cK1PrFv0zrVwrU+sW/TOtXCtT6xb9M61cK1PrFv0zrVwrU+sW/TOtXCtT6xb9M61cK1PrFv0zrVwrU+sW/TOtXCtT6xb9M61cK1PrFv0zrVwrU+sW/TOtXCtT6xb9M61cK1PrFv0zrVwrU+sW/TOtXCtT6xb8=",
          "dtype": "f8"
         }
        },
        {
         "mode": "lines",
         "type": "scatter3d",
         "x": {
          "bdata": "PZ/h19IQMj9hUkCT/bktP+qgveuwMyc/zkoegXmVID8MeX6FU8wTPyDMnvktZfk+YNI8sR+B/L5EsebUgpIUvwmYC3TE9yC/iO9g18mUJ7/hZ4xggBkuv8jQJvWXPzK/Ek+aJaBfNb9arukQoGk4v3u6erx1Wju/ComCHhkvPr+UPP2eT3JAv3iMT5oevEG/8prvh6XzQr9oueFGoxdEv4rwfdnqJkW/5pO0m2QgRr/jx1BjDwNHv/DUD4kBzke/FgV82WmASL+MxJJskBlJv6C5V2PXmEm/I2mRirv9Sb+Jpgfi1EdKv0lmuAfXdkq/sm+UhpGKSr9NxHII8IJKvz8/B2v6X0q/m9DGt9QhSr93sMH+vshJv5fUmRQVVUm/WLvZM07HSL/jHw2C/B9Iv9VIGnnMX0e/ljx3NYSHRr8uIfKpAphFv1xK37k+kkS/dN2ZOkZ3Q79CYl3dPEhCv0D6lgJbBkG/cmLI79hlP7/aqhZEnp48v9bSmyjjuTm/pPYRLaO6Nr+xzFE39aMzv6hYDFQIeTC/L2s+3UB6Kr86D8vmJecjv8JP938Nfxq/7K58KP4oCr8AI6TVwuK4Pnhs5Bxdtgs/qIOFjolEGz8Lxhtv5EgkP50a1CSb2io/njI1rlGoMD84I2MJKtIzP21JpNWT5zY/bOBuVGHlOT+HNtIdfcg8P59MM07tjT8//gDWS2sZQT/gm/GZP1pCP11sqtkoiEM/pCiS0++hRD/DUF0RcqZFP3NSTQmjlEY/KSMBM41rRz9U944EUypIP18w4tYv0Eg/VBlysHhcST87fID1nM5JP6RiKv0mJko/w1ixirxiSj+YLIAqH4RKP6lGi3Isiko/2D/KJd50Sj/tIqY6SkRKP864VcSi+Ek/vTU/vzWSST84fZTAbBFJP4DafInMdkg/1V48fvTCRz/S9eUBnvZGPyiOQbebEkY/oFSrp9gXRT8L08tQVwdEP/qyIpow4kI/0s92s5KpQT/sFFbdv15APyeDzDkaBj4/8P65uMEvOz8SUhPzYj04P9wx24cHMjU/QJ/h19IQMj8=",
          "dtype": "f8"
         },
         "y": {
          "bdata": "wtltXT3HLD8moa330FUyPwd13MMcNTY/yRXNOYT9OT8Lfv8YIas9PyaBd18UnUA/vrzPB3hTQj/sjtWe9/ZDP+Kg9bbihUU/eLx9GZ7+Rj8kHIBupV9IP1qCI82Mp0k/uHHDMgLVSj/O1V3fzuZLP7rx5pXY20w/GGE5vyKzTT+3Q3Zuz2tOP2QtyUUgBU8/6QikOnd+Tz/5pag4V9dPP4ABTFGyB1A/GzVh2DITUD9yhEtWIQ5QP/eaFQkG8U8/oPgIWNykTz9hoBUcFDhPP1WZy3cdq04/nhoPuon+TT86H0/ICjNNP4xNJGdySUw/sjoVYrFCSz9v716T1h9KP86MwcwN4kg/nt5wop6KRz8ocmcZ6xpGP9xFeDpulEQ/aECXi7r4Qj/gMOtweElBPz4hqu7IED8/sPVeFJtuOz8odT0sJrA3P7qnujVG2TM/Pt0JuODbLz/pLD3DXeQnP6St6thzqB8//G442RPPDj8A4p2vIijNvk75C6YbORG/aGnLmpq7IL+yBt3AZ8kov3HU4fXTXjC/FvFODBRINL90Z2oHbBw4v1oK+lfp1zu/cNSJDbN2P7/p7tvmhnpBvwdngNavJ0O/W9GK8hnBRL+MlXMyH0VGv1SIXZsvske/KcNk3NIGSb8Ry4jSqUFKv9gnovJvYUu/9E3ul/xkTL+h/9g1REtNv+vux2tZE06/EFXM+W28Tr+6Qj6V00VPv2GAZpz8rk+/Tct9qHz3T7/0d7V+hA9Qv+JIZmu8ElC/y5v/yGIFUL9+SfS0Cs9Pv7700tGFck+/xTOAR5b1Tr9fZ0/fvFhOvw7YQEibnE2/p/hWcPPBTL/qN668pslLv5FyJSG1tEq/v4aGGDyESb8KAj9+dTlIvy1D2Eq21Ua/YJB8NG1aRb8/cvM0IclDv9D9mvZvI0K/AYD9KQxrQL/+M3aLd0M9v9xnKmWskjm/ik78yoTHNb+wFUTT6eUxvxJEuHG34yu/zl2pdtveI79CoTKuB4sXv9i2RJBOAP2+YDSRXbMkAj+QgdATbVsZP3yIGXwuxSQ/udltXT3HLD8=",
          "dtype": "f8"
         },
         "z": {
          "bdata": "ZJNNNtlkw79kk0022WTDv2STTTbZZMO/ZJNNNtlkw79kk0022WTDv2STTTbZZMO/ZJNNNtlkw79kk0022WTDv2STTTbZZMO/ZJNNNtlkw79kk0022WTDv2STTTbZZMO/ZJNNNtlkw79kk0022WTDv2STTTbZZMO/ZJNNNtlkw79kk0022WTDv2STTTbZZMO/ZJNNNtlkw79kk0022WTDv2STTTbZZMO/ZJNNNtlkw79kk0022WTDv2STTTbZZMO/ZJNNNtlkw79kk0022WTDv2STTTbZZMO/ZJNNNtlkw79kk0022WTDv2STTTbZZMO/ZJNNNtlkw79kk0022WTDv2STTTbZZMO/ZJNNNtlkw79kk0022WTDv2STTTbZZMO/ZJNNNtlkw79kk0022WTDv2STTTbZZMO/ZJNNNtlkw79kk0022WTDv2STTTbZZMO/ZJNNNtlkw79kk0022WTDv2STTTbZZMO/ZJNNNtlkw79kk0022WTDv2STTTbZZMO/ZJNNNtlkw79kk0022WTDv2STTTbZZMO/ZJNNNtlkw79kk0022WTDv2STTTbZZMO/ZJNNNtlkw79kk0022WTDv2STTTbZZMO/ZJNNNtlkw79kk0022WTDv2STTTbZZMO/ZJNNNtlkw79kk0022WTDv2STTTbZZMO/ZJNNNtlkw79kk0022WTDv2STTTbZZMO/ZJNNNtlkw79kk0022WTDv2STTTbZZMO/ZJNNNtlkw79kk0022WTDv2STTTbZZMO/ZJNNNtlkw79kk0022WTDv2STTTbZZMO/ZJNNNtlkw79kk0022WTDv2STTTbZZMO/ZJNNNtlkw79kk0022WTDv2STTTbZZMO/ZJNNNtlkw79kk0022WTDv2STTTbZZMO/ZJNNNtlkw79kk0022WTDv2STTTbZZMO/ZJNNNtlkw79kk0022WTDv2STTTbZZMO/ZJNNNtlkw79kk0022WTDv2STTTbZZMO/ZJNNNtlkw79kk0022WTDv2STTTbZZMO/ZJNNNtlkw79kk0022WTDv2STTTbZZMO/ZJNNNtlkw78=",
          "dtype": "f8"
         }
        },
        {
         "mode": "lines",
         "type": "scatter3d",
         "x": {
          "bdata": "E+jB1326MD8JBTWPaJgrP1i6vkljnyU/lgfKCSggHz8uO5PAc+ESP4hIFSgkPfo+aDLU3pIm974IhwsqmxwSv7wm0BjmXB6/LUNUR/I+Jb+1KNTsijkrvwxxqpsJjDC/m8iGJz9qM79qBUpDcTQ2v5jXmLm/5zi/8v9X7WGBO78aL0C4qf49v4ogFReDLkC/Fl4dIQNNQb88RJmlrVlCv8hZJrJtU0O/MM8a1EE5RL+HguchPQpFv0PgTi+IxUW/X+N062FqRr9OTONnIPhGv4zotIcxbke/NlkzlhvMR7+GFkzEfRFIvzZdW4wQPki/nyfm+6VRSL+2MvfiKUxIv0Q87uihLUi/5Aashi32R7+yJSHmBaZHvwEBYad9PUe/y9F1iwC9Rr8YYE0FEyVGv/wDMbFRdkW/Y6ZVs3CxRL+QKyr+OtdDv/yxI4GR6EK/GEzfQGrmQb+nOIhZz9FAvywJENm7Vz+/1rQ29YnrPL+68/RWiGE6v5CerghVvDe/UaoJHar+NL+ueVffWisyv7ID/dOhii6/+qfJSxKfKL+aoedrIZoiv0hCh0cHBBm/EDX+mwR0Cb+AT8/Wube4vqBPn9RU6Qc/WrTdu+A/GD+VljTrCzkiP3Krv6NePyg/dMdiq7IsLj9Eruz0df0xP2KRiisH0jQ/WDM/EyKRNz+cm2Xl8Tc6P34SHea6wzw/tiWWNd0xPz9x5FPC679AP2xS8dSk1UE/15A8ivvYQj+0+DqN5MhDP7hZ8I9opEQ/9EdMSqVqRT9vnGtjzhpGP9W2PUQutEY/41y00iY2Rz/UQr0UMqBHPxo9Xbri8Uc/uL5ejuQqSD+QfB/N/EpIPxO7I2EKUkg/ItUwBQZASD9j1MtLAhVIP3lhFIwr0Uc/FsgPtMd0Rz+kLJMANgBHPxBCF5vuc0Y/g7LaHYLQRT8u6tL+mBZFP0rrBOLyRkQ/0iz502ViQz+oJhZt3WlCP6/9xN5ZXkE/WKda6+5AQD/FfquThSU+Pw0pLO0Zqjs/4BuN5CkSOT/PyYjgYWA2Pwpmv+uIlzM/FujB1326MD8=",
          "dtype": "f8"
         },
         "y": {
          "bdata": "kygEoMGNKD9OK+ciJTMwP6dVRX62DjQ/Ku6B4JrVNz/ezh6Y7YM7P1UPJEfjFT8/xDM35uZDQT8aBm0HEOtCP4h1MNO4fkQ/LSOzL0H9RT85VkjKHmVHP1kA363etEg/ocllwSbrST+G9o4stwZLPy9lhKFrBkw/i8Q3ijzpTD+HaxgYQK5NP7G6FjWrVE4/Kpf8VNLbTj+oMkMmKkNPP3TXryFIik8/ca4j+OKwTz/yTC3e0rZPP34kDrURnE8/nYsJEbtgTz+O3vYcDAVPP0kGNFtjiU4/22Q5REDuTT+hkzPDQjRNP5tmKpEqXEw/iSJfb9ZmSz/onq1BQ1VKP30G3QmLKEk/pe7sxOPhRz/mbYornoJGPxWW9lYkDEU/Th7ES/h/Qz8bAO1rst9BPx822tH/LEA/ihsfLEHTPD8pBYcCzC45P26PfllhcDU/UtDqJd2bMT8srzZJZGorP8mdzJDLgCM/GMDrUzAGFz/ISQOrNsz7PvQl18J9TgK/3nW09Rs4Gb8Iz4/4fJckv1lXdf+xfSy/KyVOQ0QjMr/Jsagl/fQ1v9kTWMsTsDm/Iju9ra9QPb87kfXIiWlAvzpOsbHQGUK/gPRY9263Q786BBA8ukBFv+RnWBUdtEa/VdH7rRgQSL+Snq1QRlNJvwN7ztlYfEq/pJPUDh6KS7+SYPbZf3tMv0Se0miFT02/zPjtLFQFTr+OA/68MJxOv+pAGZZ/E0+/YhUFvMVqT7+KZ/w3qaFPv8o9bHXxt0+/h8FGfIetT7+tiLAIdoJPv0C973/pNk+/VIuowi/LTr8EApbctz9Ov8snEpIRlU2/okHjy+zLTL/SEOfhGOVLv9DyVsWD4Uq/zTWBCznCSb/Cd/TZYIhIv91kObU+NUe/loRVMzDKRb/D2W6Tq0hEv4bNAzw+skK/4xBFIYsIQb9xd28qkpo+v4asuQaCBDu/OC5hM5hSN7+ptM3Bo4gzv515bhcZVS+/Dk72WJ54J79wqC+U4wcfv6i5vnUb/Q2/YI+4us+j0T5iDUbC5DERPxhf1nvpmyA/iigEoMGNKD8=",
          "dtype": "f8"
         },
         "z": {
          "bdata": "eDtDYt7OwL94O0Ni3s7Av3g7Q2LezsC/eDtDYt7OwL94O0Ni3s7Av3g7Q2LezsC/eDtDYt7OwL94O0Ni3s7Av3g7Q2LezsC/eDtDYt7OwL94O0Ni3s7Av3g7Q2LezsC/eDtDYt7OwL94O0Ni3s7Av3g7Q2LezsC/eDtDYt7OwL94O0Ni3s7Av3g7Q2LezsC/eDtDYt7OwL94O0Ni3s7Av3g7Q2LezsC/eDtDYt7OwL94O0Ni3s7Av3g7Q2LezsC/eDtDYt7OwL94O0Ni3s7Av3g7Q2LezsC/eDtDYt7OwL94O0Ni3s7Av3g7Q2LezsC/eDtDYt7OwL94O0Ni3s7Av3g7Q2LezsC/eDtDYt7OwL94O0Ni3s7Av3g7Q2LezsC/eDtDYt7OwL94O0Ni3s7Av3g7Q2LezsC/eDtDYt7OwL94O0Ni3s7Av3g7Q2LezsC/eDtDYt7OwL94O0Ni3s7Av3g7Q2LezsC/eDtDYt7OwL94O0Ni3s7Av3g7Q2LezsC/eDtDYt7OwL94O0Ni3s7Av3g7Q2LezsC/eDtDYt7OwL94O0Ni3s7Av3g7Q2LezsC/eDtDYt7OwL94O0Ni3s7Av3g7Q2LezsC/eDtDYt7OwL94O0Ni3s7Av3g7Q2LezsC/eDtDYt7OwL94O0Ni3s7Av3g7Q2LezsC/eDtDYt7OwL94O0Ni3s7Av3g7Q2LezsC/eDtDYt7OwL94O0Ni3s7Av3g7Q2LezsC/eDtDYt7OwL94O0Ni3s7Av3g7Q2LezsC/eDtDYt7OwL94O0Ni3s7Av3g7Q2LezsC/eDtDYt7OwL94O0Ni3s7Av3g7Q2LezsC/eDtDYt7OwL94O0Ni3s7Av3g7Q2LezsC/eDtDYt7OwL94O0Ni3s7Av3g7Q2LezsC/eDtDYt7OwL94O0Ni3s7Av3g7Q2LezsC/eDtDYt7OwL94O0Ni3s7Av3g7Q2LezsC/eDtDYt7OwL94O0Ni3s7Av3g7Q2LezsC/eDtDYt7OwL94O0Ni3s7Av3g7Q2LezsC/eDtDYt7OwL94O0Ni3s7Av3g7Q2LezsC/eDtDYt7OwL8=",
          "dtype": "f8"
         }
        },
        {
         "mode": "lines",
         "type": "scatter3d",
         "x": {
          "bdata": "SmN1GIyRLj/09/TYaz0pPxSXyQZHzyM/byD2Pm2ZHD/efota0XYRP6CN+2HTCPk+8KJrAW3j874Eta5Cyy4Qv36psMkMVBu/i+dXUZEuI7+g53dSVp8ovxXPybW59i2/2qdg+ZyXMb8sSderuiE0v3ow88oXlza/jiawkyv1OL8AUB1EhTk7vwGrYJ/OYT2/FTZkVs5rP79tiFgptapAv4TSjfBUjkG/o4kC3dtfQr99zIzycR5Dvx6kTLtSyUO/ugcwEs5fRL9qxoXYSOFEv04r5JU9TUW/soe+AT2jRb8d0Bt27uJFv5MM+EoQDEa/gmnyGXgeRr9eJQLqEhpGvwBNBUPl/kW/6B0VKQvNRb+g3qT/t4RFv4fyiFQ2JkW/q8Mck+exRL9Yu9afQyhEv7DNsVzYiUO/2v3rFknXQr9onrDeTRFCv7jTW8myOEG/L+4aH1dOQL/87oTpWKY+v6tqjmVrkDy/TKq1FAxdOr+XvH6zfw44v5Kq6wEnpzW/yDb5T3wpM79Z78HvEJgwv3su0x8V6yu/mrsWAkGJJr+0+/XRMRAhv7Js7poXCxe/eLf3UBW8B7+A6CYGQZjEvpRjQdxgKgU/bviWMzrEFT8wbQkAam4gP5Q7PNbG6SU/UAaL/oxOKz9KEAOSlkswP1ZK7Xoa3zI/mktOYipfNT9cqu99Msk3P9CmOrm1Gjo/LYrvRVBRPD9KQc8Sumo+P8KM1pJkMkA/nP8967keQT9+S4V0aflBP0PxocGRwUI/8lr3fmR2Qz8FdQZHJxdEP+nokWI0o0Q/Euhwc/sZRT9mcWAJAntFPxqpOSDkxUU/EykLh1T6RT/gAqsvHRhGP4Vtb2YfH0Y/rK7U8VMPRj+sn+8Zy+hFPyAhpZesq0U/8sm3azdYRT9aB9adwe5EPxqg6+O3b0Q/HAUSMp3bQz9l85IzCjNDP+SNiK2sdkI/qyi9y0anQT8fa4NYrsVAP9Q4qsCXpT8/Oow3hDOfPT/wjzRaRno7P9TOAhsGOTk/ZIeW0cXdNj9coBRW82o0Py/zz8wU4zE/UGN1GIyRLj8=",
          "dtype": "f8"
         },
         "y": {
          "bdata": "v5uWC2OOJD/RGkZ76lgsP75rd6ocAzI/atBh2zLHNT+3MDgD1nQ5P3Go+3g7CD0/6ic20Nk+QD/ycV3b1uhBP0jKtr9dgEM//wnXZsoDRT/W2C1zjXFGP9ZeststyEc/Fj2LcEoGST8KKyFHmypKPw3tJAzzM0s/IDMsOkAhTD8UMKUzjvFMP+9E/j4GpE0/LNP9Y/A3Tj+1C2YptKxOP0A+ITLZAU8/yaRUuQc3Tz8/xdnsCExPP0UmwSXHQE8/URak/k0VTz9Kg65HyslOP083bdiJXk4/tBiQP/vTTT8/JPNQrSpNP+KbY5JOY0w/SC65h6x+Sz/Vifzesn1KP8K7dX1qYUk/K8qcbvgqSD/LAga2nNtGP6VhgQWxdEU/HxvBWKf3Qz+NnvZ3CGZCP7A172JywUA/6j2jTC0XPj/eGGk5cYw6PxJutTpX5jY/fkLoNKIoMz/Vg1TDWq4uP1kWi6zQ6yY/pOMI1EsjHj+UdKptyp8MP4Cmf48jJNm+9d+WAMtyEb+QyVeoq6AgvxVEJvLNdii/OA8sM9wZML+seC+GuOczvyqLshEQoTe/2Cz4GwxCO79kxPQG78Y+vzMZuBUMFkG/rTYmywO3Qr+Y/ArSsEREv/UYkzt5vUW/9PtiotgfR78Bx/S6YWpIvyEgJsy/m0m/UsBxDriySr9isGrwKq5Lv3S4Kj8VjUy/HHGCMZFOTb+AiddU1/FNv4UXvVo/dk6/VANyxkDbTr/qtpJ5cyBPv+cJbR+QRU+/4MaHdnBKT79f/hF4Dy9Pv0+BEV2J806/PStLgRuYTr/N+QIkJB1Ov2wk1QYig02/ilkM67PKTL9Q0vvtl/RLv7/tBcWqAUu/IlcZ2ubySb+vPY9JY8lIv+qzdMJShke/kstnSgIrRr9fT07m17hEv6n4RylRMUO/Xo5YqwGWQb8dxr7SItE/vyMaEiB2VTy/RL/7ZpS8OL9rDUfrMgo1v7o8tDkhQjG/9nK0dIrQKr/4dPlXLgEjvxbe6zF2PBa/SL7tKI9++b7qaOIWgQcDP5blpw1WXRk/tpuWC2OOJD8=",
          "dtype": "f8"
         },
         "z": {
          "bdata": "GMdxHMdxvL8Yx3Ecx3G8vxjHcRzHcby/GMdxHMdxvL8Yx3Ecx3G8vxjHcRzHcby/GMdxHMdxvL8Yx3Ecx3G8vxjHcRzHcby/GMdxHMdxvL8Yx3Ecx3G8vxjHcRzHcby/GMdxHMdxvL8Yx3Ecx3G8vxjHcRzHcby/GMdxHMdxvL8Yx3Ecx3G8vxjHcRzHcby/GMdxHMdxvL8Yx3Ecx3G8vxjHcRzHcby/GMdxHMdxvL8Yx3Ecx3G8vxjHcRzHcby/GMdxHMdxvL8Yx3Ecx3G8vxjHcRzHcby/GMdxHMdxvL8Yx3Ecx3G8vxjHcRzHcby/GMdxHMdxvL8Yx3Ecx3G8vxjHcRzHcby/GMdxHMdxvL8Yx3Ecx3G8vxjHcRzHcby/GMdxHMdxvL8Yx3Ecx3G8vxjHcRzHcby/GMdxHMdxvL8Yx3Ecx3G8vxjHcRzHcby/GMdxHMdxvL8Yx3Ecx3G8vxjHcRzHcby/GMdxHMdxvL8Yx3Ecx3G8vxjHcRzHcby/GMdxHMdxvL8Yx3Ecx3G8vxjHcRzHcby/GMdxHMdxvL8Yx3Ecx3G8vxjHcRzHcby/GMdxHMdxvL8Yx3Ecx3G8vxjHcRzHcby/GMdxHMdxvL8Yx3Ecx3G8vxjHcRzHcby/GMdxHMdxvL8Yx3Ecx3G8vxjHcRzHcby/GMdxHMdxvL8Yx3Ecx3G8vxjHcRzHcby/GMdxHMdxvL8Yx3Ecx3G8vxjHcRzHcby/GMdxHMdxvL8Yx3Ecx3G8vxjHcRzHcby/GMdxHMdxvL8Yx3Ecx3G8vxjHcRzHcby/GMdxHMdxvL8Yx3Ecx3G8vxjHcRzHcby/GMdxHMdxvL8Yx3Ecx3G8vxjHcRzHcby/GMdxHMdxvL8Yx3Ecx3G8vxjHcRzHcby/GMdxHMdxvL8Yx3Ecx3G8vxjHcRzHcby/GMdxHMdxvL8Yx3Ecx3G8vxjHcRzHcby/GMdxHMdxvL8Yx3Ecx3G8vxjHcRzHcby/GMdxHMdxvL8Yx3Ecx3G8vxjHcRzHcby/GMdxHMdxvL8Yx3Ecx3G8vxjHcRzHcby/GMdxHMdxvL8=",
          "dtype": "f8"
         }
        },
        {
         "mode": "lines",
         "type": "scatter3d",
         "x": {
          "bdata": "/QewWZiKKz9G1KDPLrwmP/QRh7NV1iE/ovWRBzO8GT9kedPLZmIPPyh1Fv8aWPY+0PYOAqAr8r6MsSQCUE4Nvx59uDtNtBi/oEIenv1TIb+77Ubn9zsmvyxX9cgGDSu/L+MHMzPCL7+/wexpUSsyvz/XbozOYjS/NXw5BkiFNr/7CvSFipA4v9ILbKh6gjq/5VqYJBdZPL+DMLTcehI+v4qhUNLerD+/eo6s/U2TQL+fthN7Fj9Bv2/ccs0X2UG/XmBQNLNgQr/wBEnmXNVCv+lIKKGcNkO/dH3fJQ6EQ78iz9ufYb1Dv0C8UPdb4kO/5CQiDtfyQ7/QKS/nwe5Dv3lZ1bcg1kO/rh2a4wypQ7+24v7htGdDv1Xymg5cEkO/p2KsY1qpQr/eq2cfHC1Cv9NgY1QhnkG/Cg+TZf38QL8UXVluVkpAv8IHnC7JDT+/JEjQsOJmPb/ETaFSraE7v8J9ZUH8vzm/lknkBsDDN7+ijH6JBK81v2RrIvDugzO/HmY3bLtEMb/3SZTXdectvw4AsGyhJim/dJxg7d9LJL/oFtTRZLgevyRpVP9euRS/EMZJkfhJBb+AdnoTE7TAvoCxxqyJNAM/JGP3O0SwEz/44eID+LEdP4Gh1MKHyiM/DX1N06ynKD+zdK2tZ2stP5Ymgn9nCDE/AeOZW4xJMz8a42R8z3Y1P5EfxXHyjTc/YDdcms2MOT9MWy1cUnE7P7BbckONOT0/4kd0BajjPj9JdKqy9TZAPyqtanxg60A/wIajZVqOQT8sqHtuOx9CP4UTxT5unUI/u7Tvv3AIQz9RYiKj1F9DP6sU8NI/o0M/lh000GzSQz8vp7X5Ku1DP1GhSL5e80M/KXE4uQHlQz/6F9+4IsJDP+0FYq/likM/kVSkjYM/Qz8gm5QISuBCP+ndEkmbbUI/3CrBhu3nQT8WMSeOyk9BP1ZxpjLPpUA/7+eiWVXVPz9kUZnLOz4+PxFB5mD1hzw/XzwY4kW0Oj/o4+BoD8U4P+5RH29QvDY/wWaqwCGcND+EcPlRtGYyP2GT5f1OHjA/AgiwWZiKKz8=",
          "dtype": "f8"
         },
         "y": {
          "bdata": "u1FDWS3bID/0rO+TrJUoP9STZRNqGzA/gjOaW2PbMz9iMMiS5IY3P/T1tEIlGjs/jpkI9XWRPj/MN+z/ofRAP078QJoOj0I/1B2FtlkWRD/OEyz674hFP1Jv42JT5UY/H1xb0BwqSD9dkXh2/VVJPxgXcjbAZ0o/vB933UpeSz9WfZRHnzhMP/7VrWXc9Uw/Got8JT+VTT8BLqU6IxZOPwo6FMgDeE4/zH7z6Hu6Tj+yDKsYR91OPypugnlB4E4/A1+Z+WfDTj+K5RFW2IZOP0uKaPzQKk4/H0gayrCvTT9zitqq9hVNPy0HvhVBXkw/7FHhaU2JSz+jijMr95dKP2dhLiA3i0k/trBkUSJkSD8LB/Dr6CNHP4h/4wfVy0U/4SAHVEldRD/hgzqov9lCP/Sj93/HQkE/iq8OvQg0Pz//3R89WMI7P+d0d10KNDg/NIOResmMND9AC8moWdAwP8h6GaUpBSo/hqUigM1OIj/Ap2QyJAsVPxARvNfwi/U+7iHNhnKVBL9ZI5rO0u0Zv0m/JvgYuyS/8XI43elpLL9xxmFTuP0xv1bKHwvwszW/TtmTlMhTOb/mOi9+hdk8v9KRAaDCIEC/W3r3fCLEQb8IZhoJMlVDvz6gXNhT0kS/KMmrCf85Rr+G2+3bwIpHv3qnLyw+w0i/Rsx62zTiSb+vU+IafeZKvySmb5wKz0u/JoW1p+2aTL9J8usQVElNv3NJlhGK2U2/oDrUAftKTr8VnJ7xMZ1Ov+8eUiHaz06/jaQLWb/iTr/LJnweztVOv8G2/MgTqU6/bd/Nc75cTr9wmZDOHPFNvwXOKcydZk2/gAVkMNC9TL9SJsX8YfdLv6H3L70fFEu/nE0KtfMUSr/pOMHt5PpIvy4mpCcWx0e/Xm4ursR6Rr/JSvQQRxdFv91UhMILnkO/J5KpnpcQQr9Cb5NZhHBAv6y4AbP9fj2/S8lD+Yr+Ob8G/+6ZTGM2vx7UF0j6sDK/1Pu5AcfWLb+uu7I71ywmv7T9ckwX2By/CFpo5ohxCr9wQ7Lre6HjPuYlCuKbHhI/s1FDWS3bID8=",
          "dtype": "f8"
         },
         "z": {
          "bdata": "QBdddNFFt79AF1100UW3v0AXXXTRRbe/QBdddNFFt79AF1100UW3v0AXXXTRRbe/QBdddNFFt79AF1100UW3v0AXXXTRRbe/QBdddNFFt79AF1100UW3v0AXXXTRRbe/QBdddNFFt79AF1100UW3v0AXXXTRRbe/QBdddNFFt79AF1100UW3v0AXXXTRRbe/QBdddNFFt79AF1100UW3v0AXXXTRRbe/QBdddNFFt79AF1100UW3v0AXXXTRRbe/QBdddNFFt79AF1100UW3v0AXXXTRRbe/QBdddNFFt79AF1100UW3v0AXXXTRRbe/QBdddNFFt79AF1100UW3v0AXXXTRRbe/QBdddNFFt79AF1100UW3v0AXXXTRRbe/QBdddNFFt79AF1100UW3v0AXXXTRRbe/QBdddNFFt79AF1100UW3v0AXXXTRRbe/QBdddNFFt79AF1100UW3v0AXXXTRRbe/QBdddNFFt79AF1100UW3v0AXXXTRRbe/QBdddNFFt79AF1100UW3v0AXXXTRRbe/QBdddNFFt79AF1100UW3v0AXXXTRRbe/QBdddNFFt79AF1100UW3v0AXXXTRRbe/QBdddNFFt79AF1100UW3v0AXXXTRRbe/QBdddNFFt79AF1100UW3v0AXXXTRRbe/QBdddNFFt79AF1100UW3v0AXXXTRRbe/QBdddNFFt79AF1100UW3v0AXXXTRRbe/QBdddNFFt79AF1100UW3v0AXXXTRRbe/QBdddNFFt79AF1100UW3v0AXXXTRRbe/QBdddNFFt79AF1100UW3v0AXXXTRRbe/QBdddNFFt79AF1100UW3v0AXXXTRRbe/QBdddNFFt79AF1100UW3v0AXXXTRRbe/QBdddNFFt79AF1100UW3v0AXXXTRRbe/QBdddNFFt79AF1100UW3v0AXXXTRRbe/QBdddNFFt79AF1100UW3v0AXXXTRRbe/QBdddNFFt79AF1100UW3v0AXXXTRRbe/QBdddNFFt79AF1100UW3v0AXXXTRRbe/QBdddNFFt78=",
          "dtype": "f8"
         }
        },
        {
         "mode": "lines",
         "type": "scatter3d",
         "x": {
          "bdata": "aVxRFE2CKD/faWs53zYkP8eJlP81rR8/cSvhZQbMFj/kDRrLraYLP7g56t6bMfM+ENpL5uz98L5ACRvW+I0Kv+T889zNQBa/wplC664jH7+TKqxLO/MjvzosnnwOQCi/ANhjR+JzLL8QqcbXMEUwvw6KPPqqPzK/CSSqdFUnNL+nQLuUOfo1vwylYRJ2tje/tJny/0BaOb9FyzGi6eM6v+LsYi7aUTy/tkqWbJmiPb+qG4E8zNQ+v8y9UPs25z+/ZAGEZF9sQL/9kwtWNdRAv63yAEmyKkG/A4IFFn1vQb/zAYHTTqJBvx6suh7zwkG/y0PZUUjRQb9YbZKmP81BvyCMZUXdtkG/4XNSQTiOQb+hWBCAelNBv/GB3Y7gBkG/ikYUZLmoQL/Qp8UNZjlAv7rpWpuycj+/sCzORS5SPr9i57mDaBI9v81n/fWqtDu/VLq4IV46Or9g6ar8B6U4v6FTN1tK9ja/BnewQeEvNb9+LKQaoVMzvzgjAdR0YzG/hLAOyrfCLr9VZRp+0J4qv29+cVZ4Xya/1VHALhAJIr/RoldRIUAbv7W70B8LUhK/cEw9qiSiAr8A2vlDvZ+xvlweYSy6iAE/fDiPly/GET9+DdGqr7UaPyQeXafTxCE/X23ecX4cJj8G/bJGXl0qP4nVbrYQgy4/W6i9qqdEMT8GBR8S+jUzP14A6up+EzU/kDl8+EnbNj9U/GpjhYs4P3Hh1Z1zIjo/OEKwLnGeOz/mDShi9v08PyBGbN2YPz4/UeoyFA1iPz9DpD7PEzJAP4MznTZvokA/YrBE7qQBQT9Vf0DRUk9BP980w8woi0E/hDGxMum0QT/GajX5aMxBP6PWHueP0UE/Jr7YrFjEQT+pOeTp0KRBPyMyzR4Zc0E/T2Gpi2QvQT/92UP7+NlAP+eNK3suc0A/RvTdAd72Pz+FFcX5a+Y+P/+ZxLUftj0/pjQk4zJnPD+c5GLB/vo6P0hWU776cjk/VM0b87rQNz9ghaiD7hU2P3jtPeJdRDQ/Nt/0+OhdMj+n1QU7hWQwP8Qvwj93tCw/blxRFE2CKD8=",
          "dtype": "f8"
         },
         "y": {
          "bdata": "HKequCITGz/iIVO3MzIlP4hiA6D8xCw/1GjoxQ4dMj9RNxFB88Q1P+MFfgRnVjk/hkL4dLzNPD9819hxsBNAP/grkh7wr0E/dOIyTPQ5Qz9m+6DRJrBEP8yMy/MFEUY/MF9J8yVbRz/Jbk6DMo1IP9DMdSjwpUk/LEf2fT2kSj/jm/JfFIdLP1u2sfmKTUw/82mottT2TD95MlwVQ4JNP6KXRVtG700/88X4KG49Tj9ao/vtaWxOP2330TsJfE4/8Avq9ztsTj8DTzZsEj1OP2faYja97k0/yy64FY2BTT/Ky96X8vVMP9hx2aR9TEw/Oqet6tyFSz8LalMp3aJKP1ispV9opEk/NCst2oSLSD8dRb4kVFlHP0aHAOARD0Y/V50TfBKuRD+jBaHZwTdDP3hJxNKhrUE/e2BMrUgRQD/ZgODvvsg8P72ZTKhAUTk/6qHEXKm/NT/koR/NphcyP2kIu6r7uSw/yAYcFg0nJT8SX5kbofwaP3SU2vSsHgc/AFVGm/VO776b7nIhC18Tv8zd59UfYCG/5gII4tD+KL9OLDfy3kEwv0EE402T8zO/QV69qbaQN78ShcJejxU7v9LhQNB8fj6/Ml+KlP3jQL/nspx9U3dCv/i8+V6g90O/xmJ9E1hjRb+B+petA7lGvysqyvlC90e/qmOz6c0cSb8LvzzmdShKv5GbgwcnGUu/GIBCMentS7+WDZMS4aVMv+lfAQhRQE2/wNEH35m8Tb9MoSl6OxpOv2pMA1XVWE6/v4HI5yZ4Tr/nF8npD3hOv9h4uHKQWE6/ajOV+sgZTr9ZzDA4+rtNv+dOet6EP02/4WDQOOmkTL+qmsGmxuxLvxh2w/faF0u/1y2JpwEnSr8OPsT7MhtJv+m+NwSD9Ue/PGkmfiC3Rr9RnECcU2FFv4AVVLR89UO/1BYa1BJ1Qr/TYJo+ouFAvwQNY6eVeT6/dlm/xnwQO786ODPdfYs3v+E60q457jO/BJh1BGo8ML8cRRupu/Mov74ePazqVCG/XRzSB3hIE7/Av6rF0Jnuvofz3n3qSwc/C6equCITGz8=",
          "dtype": "f8"
         },
         "z": {
          "bdata": "aGdIzNsZsr9oZ0jM2xmyv2hnSMzbGbK/aGdIzNsZsr9oZ0jM2xmyv2hnSMzbGbK/aGdIzNsZsr9oZ0jM2xmyv2hnSMzbGbK/aGdIzNsZsr9oZ0jM2xmyv2hnSMzbGbK/aGdIzNsZsr9oZ0jM2xmyv2hnSMzbGbK/aGdIzNsZsr9oZ0jM2xmyv2hnSMzbGbK/aGdIzNsZsr9oZ0jM2xmyv2hnSMzbGbK/aGdIzNsZsr9oZ0jM2xmyv2hnSMzbGbK/aGdIzNsZsr9oZ0jM2xmyv2hnSMzbGbK/aGdIzNsZsr9oZ0jM2xmyv2hnSMzbGbK/aGdIzNsZsr9oZ0jM2xmyv2hnSMzbGbK/aGdIzNsZsr9oZ0jM2xmyv2hnSMzbGbK/aGdIzNsZsr9oZ0jM2xmyv2hnSMzbGbK/aGdIzNsZsr9oZ0jM2xmyv2hnSMzbGbK/aGdIzNsZsr9oZ0jM2xmyv2hnSMzbGbK/aGdIzNsZsr9oZ0jM2xmyv2hnSMzbGbK/aGdIzNsZsr9oZ0jM2xmyv2hnSMzbGbK/aGdIzNsZsr9oZ0jM2xmyv2hnSMzbGbK/aGdIzNsZsr9oZ0jM2xmyv2hnSMzbGbK/aGdIzNsZsr9oZ0jM2xmyv2hnSMzbGbK/aGdIzNsZsr9oZ0jM2xmyv2hnSMzbGbK/aGdIzNsZsr9oZ0jM2xmyv2hnSMzbGbK/aGdIzNsZsr9oZ0jM2xmyv2hnSMzbGbK/aGdIzNsZsr9oZ0jM2xmyv2hnSMzbGbK/aGdIzNsZsr9oZ0jM2xmyv2hnSMzbGbK/aGdIzNsZsr9oZ0jM2xmyv2hnSMzbGbK/aGdIzNsZsr9oZ0jM2xmyv2hnSMzbGbK/aGdIzNsZsr9oZ0jM2xmyv2hnSMzbGbK/aGdIzNsZsr9oZ0jM2xmyv2hnSMzbGbK/aGdIzNsZsr9oZ0jM2xmyv2hnSMzbGbK/aGdIzNsZsr9oZ0jM2xmyv2hnSMzbGbK/aGdIzNsZsr9oZ0jM2xmyv2hnSMzbGbK/aGdIzNsZsr9oZ0jM2xmyv2hnSMzbGbK/aGdIzNsZsr8=",
          "dtype": "f8"
         }
        },
        {
         "mode": "lines",
         "type": "scatter3d",
         "x": {
          "bdata": "N2r95qeyJT/TEcfonOchP/wKxQ46FBw/18xchEg8FD8g+HcO9p4IP/CeR7PzV/E+MFShBcs/7b60cWO3VUQHvx6REWFekBO/JCZTKmdqG79W42idFpQhv5D4ztvaYCW/R4unkJUXKb9UiamzcrQsv6wUGnPcGTC/ffoHpebIMb9dX1+cm2Uzv7XwwutR7jS/fkFBwnRhNr/63p+Mhb03vx8xuX8dATm/EaFWCu8qOr9hxQktxzk7v6ghoraOLDy/5UL5Y0sCPb+kjezhILo9v5bQerBRUz6/CX4b5j/NPr/CL4bSbSc/vzCpQoB+YT+/38l7FDZ7P7/2qLIMenQ/v+I/ElpRTT+/6XhHWuQFP78FAuWtfJ4+v4rIfeyEFz6/71nENohxPb9abSCnMa08v/5rTqFLyzu/Xci+Ab/MOr9iM4wtkrI5v+ceAATofTi/lF+8sv4vN7/4Ab9tLso1v1JrkgzoTTS/GIUXjrO8Mr9y4XGELhgxv+bAbNUUxC6/M5cnzBU4K7+vCIToB5Anv0pgLxKwzyO/sKvedNj1H79dmFu/XisYv9Kiovb6RxC/AJtSeJ2nAL+AUNGQP8O1voDs9O05mP4+xCwMGo82Dz/uUuMyaoAXP0hh/P5STR8/QZccvvt8Iz8ylTQ8Nz8nP8x68BV86So/9l8zGwN4Lj9mWUzakPMwPza1fNWmmTI/0MPIZpAsND8eeYE5rqo1P8qFzGh2Ejc/tyatFXZiOD9ZblHlUpk5PxDyGWbMtTo//dLrWb22Oz+WoXjkHJs8PzCDRJz/YT0/HClRfZgKPj+jc3O8OZQ+P5nneXpV/j4/u0prVn5IPz8ZpkbeZ3I/PyB10N3mez8/GMYbi/FkPz+0Y6GQny0/P9ug2vQp1j4/aex43+pePj8UxXY8Xcg9P9HZYT0cEz0/dPRgueI/PD+ylppsik87P97SwhcLQzo/Sr23gHkbOT/puDNVBto3P0S4u/D8fzY/aDINB8IONT8m5Ws00oczP8trSnXA7DE/4BnihjQ/MD8cn8xk0gEtP1UVKwlVZyk/O2r95qeyJT8=",
          "dtype": "f8"
         },
         "y": {
          "bdata": "z+ryVphlFT+GxoqPAkgiP0YHLLJgyik/SqqLehSZMD9EltWQ3Ds0P5U8riPJyTc/JBnmOjA/Oz99xEQlgZg+PzLQrRIk6UA/gCRAAJl0Qj843iG2B+1DP+zabivsUEU/4vSUg9eeRj/4Pn+IcdVHP2YLaA1680g/ZfvjOMr3ST/G4NG0VeFKP0Ej9sIrr0s/m4ckNXhgTD/ciPhHhPRMP1DNOl+3ak0/aoMxo5fCTT8DfTl+yvtNP6KQJvoUFk4/2/8K/VsRTj+uOydlpO1NP7k65QMTq00/gY3kd+xJTT9HUD7mlMpMP2PkSZOPLUw/PdtMW35zSz9WjqELIZ1KP4liAJ1Uq0k/FYW3TxKfSD8s8LuqbnlHPxaRnF6YO0Y/KWZ9DdfmRD8VN1z5iXxDPwEM+5km/kE/iKHlGzdtQD9uZD2UsZY9P7HbL8h0NDo/CJFXwzS3Nj94rcVNiiIzP0aEfKVM9C4/RJBaJZyDJz8sKpgAXfUfP2GUui+QwhA/MGKvCsnn1z4A69CpQo4Lv0L442KL/hy/SL6JDwkMJr+yHzRvEoItv6gQHXTYbDK/tFumdqkFNr9EBaUMx4c5vwnLEmqT7zy/aHrk8cUcQL9cJO9GJrFBv1yTKd1JM0O/bcY4qqKhRL9dk7UKt/pFv/W/c0cjPUe/ouUvBJtnSL/XJCqW6nhJv9l9TEH4b0q/ceKVWsVLS7/OoZ5ObwtMv+iSJ4swrky/TTvDSmEzTb85AsdBeJpNv0sq0isL402/Ga5YOc8MTr9zFMFcmRdOvwq+xXZeA06/A+3rYTPQTb/2tATdTH5Nv/37zVT/DU2/8ZjrjL5/TL88RJIoHdRLv/FdXxPMC0u/Klr5ypknSr8W0jSKcShJvzqkmVZaD0i/ChhC8XXdRr/wgCus/5NFv/pELCVLNES/k1Xe58K/Qr9i+ub35jdBvzVWOoqWPD+/4QpNFizpO7+oLnA8/Hg4v75Od02S7zS/J45Xm5NQMb+g8yJudz8rv8GRWC+xwSO/sKznuBpfGL/Wl3ZXZ0MCvwBqg4l0lPg+vuryVphlFT8=",
          "dtype": "f8"
         },
         "z": {
          "bdata": "IG9nSMzbqb8gb2dIzNupvyBvZ0jM26m/IG9nSMzbqb8gb2dIzNupvyBvZ0jM26m/IG9nSMzbqb8gb2dIzNupvyBvZ0jM26m/IG9nSMzbqb8gb2dIzNupvyBvZ0jM26m/IG9nSMzbqb8gb2dIzNupvyBvZ0jM26m/IG9nSMzbqb8gb2dIzNupvyBvZ0jM26m/IG9nSMzbqb8gb2dIzNupvyBvZ0jM26m/IG9nSMzbqb8gb2dIzNupvyBvZ0jM26m/IG9nSMzbqb8gb2dIzNupvyBvZ0jM26m/IG9nSMzbqb8gb2dIzNupvyBvZ0jM26m/IG9nSMzbqb8gb2dIzNupvyBvZ0jM26m/IG9nSMzbqb8gb2dIzNupvyBvZ0jM26m/IG9nSMzbqb8gb2dIzNupvyBvZ0jM26m/IG9nSMzbqb8gb2dIzNupvyBvZ0jM26m/IG9nSMzbqb8gb2dIzNupvyBvZ0jM26m/IG9nSMzbqb8gb2dIzNupvyBvZ0jM26m/IG9nSMzbqb8gb2dIzNupvyBvZ0jM26m/IG9nSMzbqb8gb2dIzNupvyBvZ0jM26m/IG9nSMzbqb8gb2dIzNupvyBvZ0jM26m/IG9nSMzbqb8gb2dIzNupvyBvZ0jM26m/IG9nSMzbqb8gb2dIzNupvyBvZ0jM26m/IG9nSMzbqb8gb2dIzNupvyBvZ0jM26m/IG9nSMzbqb8gb2dIzNupvyBvZ0jM26m/IG9nSMzbqb8gb2dIzNupvyBvZ0jM26m/IG9nSMzbqb8gb2dIzNupvyBvZ0jM26m/IG9nSMzbqb8gb2dIzNupvyBvZ0jM26m/IG9nSMzbqb8gb2dIzNupvyBvZ0jM26m/IG9nSMzbqb8gb2dIzNupvyBvZ0jM26m/IG9nSMzbqb8gb2dIzNupvyBvZ0jM26m/IG9nSMzbqb8gb2dIzNupvyBvZ0jM26m/IG9nSMzbqb8gb2dIzNupvyBvZ0jM26m/IG9nSMzbqb8gb2dIzNupvyBvZ0jM26m/IG9nSMzbqb8gb2dIzNupvyBvZ0jM26m/IG9nSMzbqb8=",
          "dtype": "f8"
         }
        },
        {
         "mode": "lines",
         "type": "scatter3d",
         "x": {
          "bdata": "4MkEld13Iz9rhGvd5SogP/LpRl2Hmhk/gCXhct7EEj/0+PMjubcHP1ALEwqFmvM+AOJCzTqd4L5E1BvXlxcCv0TiNaI69Q+/unD+BPbYFr+/OZB8wZ8dv4mUHLoBJCK/JmFqkW9lJb/w+08mz5Aov30wNRfcoiu/XQr0HGyYLr/MrAwnObcwv6rn7yEBETK/0fPTjilYM7/psOgvYYs0v5FjgFVrqTW/WSaCJCGxNr8OhlvGcqE3v5b5N4FoeTi/yFpdtyM4Ob/7JKbM39w5v1/sLPHyZjq/hSNY0M7VOr8kvpEjASk7v8pzEyg0YDu/3jRO9y57O7/BsJHB1Xk7v+p2t+opXDu/lyW0CEoiO78aIBDEccw6vwRNaJr5Wjq/fUA2g1bOOb9o2j13GSc5vy+iHNvuZTi/yOuUzZ2LN78m9UtaB5k2v2SRzpEljzW/koPLhwpvNL9yQI043zkzv+xS1lbi8DG/BfZbA2eVML+SFGPeplEuvxiCGtU+WSu/aDXFwqVEKL+VG8SOCBclv0qW/Omt0yG/Sg+c3OX7HL/mIdtNjzIWv/gU7BSupA6/eL7YFqfEAL8ghX0ZuZrWvpA8B+bEQfY+8NwXWKMJCT/0LMyFSmwTP1p989O9Pxo/jVycIxF8ID/pbVY6RccjP+to5/wV/iY/BDZBPjMdKj8SpNk/ZSEtPxZJZgHIAzA/qMAxPltmMT/mXVrV/rYyP4mSFsNX9DM/Gvd95h4dNT9MW79SIjA2P3txe4pGLDc/1wL/o4cQOD+rby9V+ts4P65NFebMjTk/wR8LCUglOj/jTrGXz6E6PzCd5DPjAjs/miYRzB5IOz8/iFkCO3E7P0vZJ3YNfjs/45/c74huOz+Xum5uvUI7P9Ay7hbY+jo/pPf6BSOXOj9keV8DBRg6PzDmHRgBfjk/KT5dB7bJOD8jfMGq3fs3P82F1zJMFTc/KF9aTO8WNj/AGTMrzQE1PwgNMHwD1zM/PvWJPsaXMj8uh2aGXkUxP65+P1NSwi8/sjNbsCrZLD9svUlDRtIpP6lbotLDsCY/5MkEld13Iz8=",
          "dtype": "f8"
         },
         "y": {
          "bdata": "5DTngXzjED8P+AJrouQfP0Zf+QV0Yic/AkxC33u6Lj/Hv7Zja/kyP3rTtbUJgjY/ssuMZXTzOT+K993dHko9P3v4Sg5MQUA/T5KKH8fMQT/zKSL36EVDPyR+htMsq0Q/2KHpbSL7RT8ontt1bzRHP9FrR/bQVUg/sEZcohxeST/vLgwJQkxKP1+f4q1LH0s/KfoRBmDWSz/r0bJYwnBMP2jmTYHT7Uw/AUzokxJNTT9Lo+hhHY5NPwFjTN+wsE0/ceDEZ6m0TT8N2HTjAppNP7aWKMvYYE0/OmoEDGYJTT8jisbKBJRMPxEW2wYuAUw/AvOhHXlRSz+SGWcum4VKPzwsrl9mnkk/D8uRBsmcSD/a8hWxzIFHP8+nahSVTkY/Fhk54F4ERT9mNDF4fqRDP1csKJVeMEI/8KIxz36pQD/zy2kk5CI+P+yuK/250zo/ck07b+hoNz/mnMRC9eUzP4Wf+R9/TjA/mhy1p3NMKT9wwGT+1OEhPz85286OyRQ/EPfVNBjo9j5kltXT07YCv8tMf6I0Zxi/5rXtzOusI7+G0ccd9RErv8CB5HCLLTG/CB5TPWfANL/LXNfl3j04v51lBWlZoju/eGDCh1fqPr/irg2wOwlBv4ey6/S7i0K/VUuWKB77Q79WmRGW51VFvwDpq8Oymka/I/974zDIR7+uuoAsK91IvzxJ/hqE2Em/rbHOlji5Sr/cUXb+YH5Lv6L/6BUyJ0y/FawJ2P2yTL9MlAwqNCFNvxQWA3BjcU2/yAj4ATmjTb+84SOBgbZNv/HP4Awpq02/BzkoVzuBTb9neISY4zhNv+ZNg2Ns0ky//+jWVz9OTL9CznS15KxLv/rSItAC70q/aPYCZF0VSr+I1c7L1CBJv8e1khllEki/sozWEiXrRr+J3UARRaxFv4al28gNV0S//rw+9d7sQr/o9PzuLW9Bv2Rgk1UIvz+/ZGDHR/t+PL9ZUs5mjiE5v2HIeaw5qjW/yD3cxo8cMr8xw9PSdPgsv1K0vAztmSW/1Z4v0UFKHL8W7mUeAIcKv+B/DqjdDt0+1DTngXzjED8=",
          "dtype": "f8"
         },
         "z": {
          "bdata": "AB988MEHn78AH3zwwQefvwAffPDBB5+/AB988MEHn78AH3zwwQefvwAffPDBB5+/AB988MEHn78AH3zwwQefvwAffPDBB5+/AB988MEHn78AH3zwwQefvwAffPDBB5+/AB988MEHn78AH3zwwQefvwAffPDBB5+/AB988MEHn78AH3zwwQefvwAffPDBB5+/AB988MEHn78AH3zwwQefvwAffPDBB5+/AB988MEHn78AH3zwwQefvwAffPDBB5+/AB988MEHn78AH3zwwQefvwAffPDBB5+/AB988MEHn78AH3zwwQefvwAffPDBB5+/AB988MEHn78AH3zwwQefvwAffPDBB5+/AB988MEHn78AH3zwwQefvwAffPDBB5+/AB988MEHn78AH3zwwQefvwAffPDBB5+/AB988MEHn78AH3zwwQefvwAffPDBB5+/AB988MEHn78AH3zwwQefvwAffPDBB5+/AB988MEHn78AH3zwwQefvwAffPDBB5+/AB988MEHn78AH3zwwQefvwAffPDBB5+/AB988MEHn78AH3zwwQefvwAffPDBB5+/AB988MEHn78AH3zwwQefvwAffPDBB5+/AB988MEHn78AH3zwwQefvwAffPDBB5+/AB988MEHn78AH3zwwQefvwAffPDBB5+/AB988MEHn78AH3zwwQefvwAffPDBB5+/AB988MEHn78AH3zwwQefvwAffPDBB5+/AB988MEHn78AH3zwwQefvwAffPDBB5+/AB988MEHn78AH3zwwQefvwAffPDBB5+/AB988MEHn78AH3zwwQefvwAffPDBB5+/AB988MEHn78AH3zwwQefvwAffPDBB5+/AB988MEHn78AH3zwwQefvwAffPDBB5+/AB988MEHn78AH3zwwQefvwAffPDBB5+/AB988MEHn78AH3zwwQefvwAffPDBB5+/AB988MEHn78AH3zwwQefvwAffPDBB5+/AB988MEHn78AH3zwwQefvwAffPDBB5+/AB988MEHn78AH3zwwQefvwAffPDBB5+/AB988MEHn78=",
          "dtype": "f8"
         }
        },
        {
         "mode": "lines",
         "type": "scatter3d",
         "x": {
          "bdata": "UazfhOxNIj/zHTF6bPoeP9BYaBARORk/SzAZkbVdEz9GMWgcx9wKP2g9w7bkxP0+YBkvsi3G1j5olp5VrGfyviq+Xpn1NgW/S4oaVxuSEL8PxoIGp3cWv9oGZMgJRhy/B4bytKP7IL+a5aHhwMIjv1rbJGJ/dSa/+NjFLRcRKb807y8Z2JIrv9MG0Jss+C2/oJbgPE4fML8ogsKn5zExvwtDdH7HMjK/a5JL9uQgM7/CWwGbSvszv6K7tksXwTS/pTUGI39xNb8n6TFJzAs2v1Yclq9fjza/3uOetLH7Nr/w45evUlA3v7ULxmPrjDe/N6VUWj2xN789B7kiI703v0CJSnmQsDe/DPHmU5KLN7/hUZbUTk43v58iPCIF+Ta/DRB+Jw2MNr8DpiM41wc2v/Y6TJ3rbDW/jHnyCOq7NL8pWU7xiPUzv2Q2v9SUGjO/Xe3/Zu8rMr8OQX6ojioxvwxkxeh7FzC/uxECaqXnLb8KymVnf4Erv2bmj93+/ii/CNqZGrpiJr9MrCT8Ya8jv9T0Pym/5yC/MHOXZ14dHL/H4ZRIQ04Wv/VIXeYpaBC/PCALy03iBL+gsc1mgb3xvmBjpA+Jb9k+wMHM37du/j6UmTFSFzELP93t44dlhxM/V+Q06h1iGT8PPz/mqyIfPza+iMWQYSI/XIen/tgeJT/+3+e4W8YnPwpU/X9cVSo/yjXuIjjJLD/IFBRsZx8vP2sMIt7AqjA/+sM3w5+0MT/cn5ZUPqwyPyAH4FGdkDM/Jr0pUtFgND+OQqi2Axw1PyoO64dzwTU/8I/GPHZQNj+S8h5qeMg2P8Fl3lr+KDc/4kt6j6RxNz/R14MkIKI3P+Bg2h8/ujc/gNkvpOi5Nz/ATaoKHaE3P9T9h+L1bzc/bHPG1qUmNz+duud5eMU2P0eVC/jRTDY/c/asry69NT/cNm6xIhc1PxUqeCdZWzQ/h2kJpZOKMz/1teteqaUyP98gnU2GrTE/xqoROiqjMD9YKBBsTw8vPzRZAwJGuCw/CsMBtqFDKj98LoqM6rMnP3W+l3LECyU/VKzfhOxNIj8=",
          "dtype": "f8"
         },
         "y": {
          "bdata": "Nx3dbQFfCz907TutxoUcP7MtredSnyU/Ak88injlLD+mftdZ6gYyP+rG9EaDiDU/QVovyenzOD9GrM9+l0U8P1kb34kgej8/jGWCixtHQT/Da7ViV79CPwOOFPY/JEQ/BCrrXGV0RT+er4MVba5GP7JkV2oT0Uc/wRi+vyzbSD+Yz8XIpstJP4oG9KGJoUo/4RvN0PhbSz8DcRonNPpLP7n/BImYe0w/Di04laDfTD8/iF8u5SVNPx67ceUdTk0/RRpbRCFYTT973br45ENNP7nxht59EU0/JG2L6h/BTD8kz9v0HVNMP+VBbWPpx0s/8+QxtREgSz/Iny3uQ1xKP9H2HOVJfUk/HrtlcwmESD/gDSiIg3FHPwz0Yx/TRkY/gX5EHiwFRT/vOL0V2q1DP7MKwew+QkI/ONtyc9HDQD/9D5DBN2g+P03kVXh0KTs/Cg+BabHONz9mMQ3QY1s0P4fxIzMa0zA/buAKd/FyKj899kjlaiQjP4LwU71RhBc/4zvxnx9PAT+di/Lad/j4vtq2yl1cHRW/UkArZ2vzIb87C5yQp0Upv6jOWVXrPjC/Ii3Fx0PKM78dqtnPNUE3v7XJQSUvoDq/smB/NbbjPb8ljXTcNoRAvxr2PhWMBUK/j6R9j010Q7/pT+I7Ac9Ev0ABKLdBFEa/rEF6ur9CR79VYRF1Q1lIv9eTn82tVkm/9IxDivk5Sr+Oi89dPAJLv3o/T9mnrku/QJLTQIo+TL9E+KhCT7FMvyhuO5CABk2/WIgKWMY9Tb8g3i+g51ZNv9N/GoHKUU2/EO1CQHQuTb92BLxKCe1Mv8aGpg/NjUy/IOKtuiERTL8r7dXOh3dLv8LiAaKdwUq/fyy9uR7wSb87O+4J4wNJv7CvOhbe/Ue/zksC9x3fRr80bvNCyqhFv2IYWN4iXES/fpZVsX76Qr8ys3JGSoVBv4WsoaUM/D+/1NM2U4zMPL+voIw4XH85v0H3j5LjFza/JpEbtqSZMr/o/OXjchAuv5wCFbGezia/Chq91Y/qHr+O8+HIAxgQvzh9sb4LTtO+Fx3dbQFfCz8=",
          "dtype": "f8"
         },
         "z": {
          "bdata": "QL9SoNavhL9Av1Kg1q+Ev0C/UqDWr4S/QL9SoNavhL9Av1Kg1q+Ev0C/UqDWr4S/QL9SoNavhL9Av1Kg1q+Ev0C/UqDWr4S/QL9SoNavhL9Av1Kg1q+Ev0C/UqDWr4S/QL9SoNavhL9Av1Kg1q+Ev0C/UqDWr4S/QL9SoNavhL9Av1Kg1q+Ev0C/UqDWr4S/QL9SoNavhL9Av1Kg1q+Ev0C/UqDWr4S/QL9SoNavhL9Av1Kg1q+Ev0C/UqDWr4S/QL9SoNavhL9Av1Kg1q+Ev0C/UqDWr4S/QL9SoNavhL9Av1Kg1q+Ev0C/UqDWr4S/QL9SoNavhL9Av1Kg1q+Ev0C/UqDWr4S/QL9SoNavhL9Av1Kg1q+Ev0C/UqDWr4S/QL9SoNavhL9Av1Kg1q+Ev0C/UqDWr4S/QL9SoNavhL9Av1Kg1q+Ev0C/UqDWr4S/QL9SoNavhL9Av1Kg1q+Ev0C/UqDWr4S/QL9SoNavhL9Av1Kg1q+Ev0C/UqDWr4S/QL9SoNavhL9Av1Kg1q+Ev0C/UqDWr4S/QL9SoNavhL9Av1Kg1q+Ev0C/UqDWr4S/QL9SoNavhL9Av1Kg1q+Ev0C/UqDWr4S/QL9SoNavhL9Av1Kg1q+Ev0C/UqDWr4S/QL9SoNavhL9Av1Kg1q+Ev0C/UqDWr4S/QL9SoNavhL9Av1Kg1q+Ev0C/UqDWr4S/QL9SoNavhL9Av1Kg1q+Ev0C/UqDWr4S/QL9SoNavhL9Av1Kg1q+Ev0C/UqDWr4S/QL9SoNavhL9Av1Kg1q+Ev0C/UqDWr4S/QL9SoNavhL9Av1Kg1q+Ev0C/UqDWr4S/QL9SoNavhL9Av1Kg1q+Ev0C/UqDWr4S/QL9SoNavhL9Av1Kg1q+Ev0C/UqDWr4S/QL9SoNavhL9Av1Kg1q+Ev0C/UqDWr4S/QL9SoNavhL9Av1Kg1q+Ev0C/UqDWr4S/QL9SoNavhL9Av1Kg1q+Ev0C/UqDWr4S/QL9SoNavhL9Av1Kg1q+Ev0C/UqDWr4S/QL9SoNavhL9Av1Kg1q+Ev0C/UqDWr4S/QL9SoNavhL8=",
          "dtype": "f8"
         }
        },
        {
         "mode": "lines",
         "type": "scatter3d",
         "x": {
          "bdata": "kMJhAUaiIj+SFM1K1kwgPxwlo0EyzRs/ToROXg/kFj9VprvNU+MRPz5TzIlPoAk//DUA6xm//j4IH58dxjvkPpAZDweDG+W+3EiUDoUu/75A9uEFktcJv6LtqwWf/hG/4caQbej+Fr8pV1F7fecbv/J4gW+nWSC/bmatd7WuIr935SxhgfAkvyBoE5G3HCe/4NR9rBoxKb85YZnnhSsrv/uUWTvvCS2/bFCWf2nKLr/FkLMzkzUwv9zw1y489TC/qq/5H2qjMb8uzdF6aT8yvw7bJXGZyDK/nwaLmGw+M78pVSx8aaAzv+rN/Rkr7jO/7oLbSmEnNL/zIykV0Us0vxbwnOlUWzS/cFv3ydxVNL+rf39Zbjs0v/hYM9ckDDS/+syxATHIM79Pb/vk2G8zv2DPPZJ3AzO/373zwXyDMr9pTrtgbPAxv/dLWAfeSjG/rk5vXnyTML/iETXdCJYvvxxGG7uJ5C2/HAYjMjoULL+YK2fh+CYqv0YGLD7CHii/Qi++h679Jb/TD6ye78Ujv+Hrk8HOeSG/YPi2Y1Q3Hr/48H2F5VsZv/KLd6pSZhS/8uO6DXG3Dr8Uozv4koIEv+wg4/UgcfS+AHyTaTj7iz50GYgn1OD0Pua1xyYWugQ/ju3OmGTuDj/fJbVLaIEUP3YtGRd7dhk/Kvlbfk5RHj8qMOKvcIYhPwz4Wmgp0iM/UvSMknMJJj/I6jFoBiooP2EflY2wMSo/ylc8VFoeLD94CxnjB+4tP/SJCELbni8/f7pDI4uXMD9vVc4vjk4xP8XEkB+68zE/PZNYr2SGMj+6x1av9gUzP3ae+J7scTM/xrR1NNfJMz+V64fPWw00P5y/1tY0PDQ/2cq1/zFWND+leux/OFs0PwKqUylDSzQ/iKgsb2ImND/cLCxVvOwzP3mtSkiMnjM/toSC4SI8Mz8oBbuS5cUyP+oiNj5OPDI/OX3suOqfMT+XS1k4XPEwP1LkTKxWMTA/2VHiCkDBLj9eF37SHgAtPxwFb6gYISs/QAmJVhsmKT+6F3B6MREnPx7o3mqA5CQ/ksJhAUaiIj8=",
          "dtype": "f8"
         },
         "y": {
          "bdata": "BESiluNMBz9Ui2J3RlEaP4nGyhp9cCQ/2h2qNkWjKz98GIP9x1wxP9ou3JgH1jQ/OZ5Lxcw5OD+JIKT+mIQ7P8cUtn4Hsz4/rU1uXujgQD8fOLPn5lZCP9c2r9X9uUM/5SWtH78IRT+TJw6z0UFGPyUB/9byY0c/ClEjefdtSD9tst9hzV5JP3EDBU98NUo/jWy58ybxSj/DXJfcC5FLP6dTFzeGFEw/Iup2ew57TD9E9m34OsRMP5XGIUDA70w/JibmdXH9TD/AAnx8QO1MP7cJngQ+v0w/8DvMe5lzTD9NNWjboApMP/GMVFjAhEs/Pylq84HiSj88gjbrjCRKP7R2lQ+lS0k/Y2rY96lYSD/WvkoclkxHP/s8AdR9KEY/V5X+N47tRD/DmdLsC51DP70i9NNROEI/opYups/AQD+3VSfxEHA+P/Y38FoiPzs/Flktph3yNz/9SA/jaYw0P3x1mJOHETE/ys3yHhoKKz/nDNaiRdUjPyoDW8f+Fxk/1PB8lSjXBD83QRX5Ty7xvqzgPs9O/hK/iCASurrOIL9Bp8mz+gwovyoUIu5vMi+/0mtqSN4bM79If/j00Yo2v6DE0/GI4jm/WJkdKJEfPb+9iSMBSh9Avz3Dfu4snkG/dU8YrOYKQ7+6cWNC/2NEvz3p3PUSqEW//E29tdPVRr9uvFV0CuxHv7HVs2eY6Ui/pY5CMXjNSb9BEDfrvpZKv57usxqdREu/zRyphV/WS78DJpTrb0tMvys6YqBVo0y/vmXUCLbdTL8eu+X3VPpMv14m0+wU+Uy/OPqEMffZTL+f3DrZG51Mv5Vxe5/BQky/WNlpp0XLS7/LqsMbIzdLv4ph6q/yhkq/GSB7Amq7Sb9iCBfiWtVIv10nHXWy1Ue/beQ0RXi9Rr/z8qQvzY1Fv5vOjjvqR0S/O7RBVx/tQr+itvH90X5Bv4bIb473/D+/8LKuw1HbPL8J8rD27Js5v/mMPiwiQja/8dhnn2XRMr9DDhNkhpouv92O3om1cie/+Gyz9rgyIL9kLga3E8QRv7BAaPgpg+i+5EOiluNMBz8=",
          "dtype": "f8"
         },
         "z": {
          "bdata": "gL9SoNavhD+Av1Kg1q+EP4C/UqDWr4Q/gL9SoNavhD+Av1Kg1q+EP4C/UqDWr4Q/gL9SoNavhD+Av1Kg1q+EP4C/UqDWr4Q/gL9SoNavhD+Av1Kg1q+EP4C/UqDWr4Q/gL9SoNavhD+Av1Kg1q+EP4C/UqDWr4Q/gL9SoNavhD+Av1Kg1q+EP4C/UqDWr4Q/gL9SoNavhD+Av1Kg1q+EP4C/UqDWr4Q/gL9SoNavhD+Av1Kg1q+EP4C/UqDWr4Q/gL9SoNavhD+Av1Kg1q+EP4C/UqDWr4Q/gL9SoNavhD+Av1Kg1q+EP4C/UqDWr4Q/gL9SoNavhD+Av1Kg1q+EP4C/UqDWr4Q/gL9SoNavhD+Av1Kg1q+EP4C/UqDWr4Q/gL9SoNavhD+Av1Kg1q+EP4C/UqDWr4Q/gL9SoNavhD+Av1Kg1q+EP4C/UqDWr4Q/gL9SoNavhD+Av1Kg1q+EP4C/UqDWr4Q/gL9SoNavhD+Av1Kg1q+EP4C/UqDWr4Q/gL9SoNavhD+Av1Kg1q+EP4C/UqDWr4Q/gL9SoNavhD+Av1Kg1q+EP4C/UqDWr4Q/gL9SoNavhD+Av1Kg1q+EP4C/UqDWr4Q/gL9SoNavhD+Av1Kg1q+EP4C/UqDWr4Q/gL9SoNavhD+Av1Kg1q+EP4C/UqDWr4Q/gL9SoNavhD+Av1Kg1q+EP4C/UqDWr4Q/gL9SoNavhD+Av1Kg1q+EP4C/UqDWr4Q/gL9SoNavhD+Av1Kg1q+EP4C/UqDWr4Q/gL9SoNavhD+Av1Kg1q+EP4C/UqDWr4Q/gL9SoNavhD+Av1Kg1q+EP4C/UqDWr4Q/gL9SoNavhD+Av1Kg1q+EP4C/UqDWr4Q/gL9SoNavhD+Av1Kg1q+EP4C/UqDWr4Q/gL9SoNavhD+Av1Kg1q+EP4C/UqDWr4Q/gL9SoNavhD+Av1Kg1q+EP4C/UqDWr4Q/gL9SoNavhD+Av1Kg1q+EP4C/UqDWr4Q/gL9SoNavhD+Av1Kg1q+EP4C/UqDWr4Q/gL9SoNavhD+Av1Kg1q+EP4C/UqDWr4Q/gL9SoNavhD8=",
          "dtype": "f8"
         }
        },
        {
         "mode": "lines",
         "type": "scatter3d",
         "x": {
          "bdata": "qaIo34WFJD/1ZxB2xqsiPwcOc/THviA/T0FtFQ2BHT8f87doIGYZP2gimjMFMRU/Z24FxBHmED98CQXZZRMJPzx76OjOQAA/6HnBrtt17T5ACo9WitfIvhhuW/uc7fS+1ObB9lpVA79czcSI+R8MvyVFfhvNZhK/lCOqc6WqFr/l/YVNINcav5QmjD/w5x6/hKi2MnJsIb9CLgNZ9lIjv7vpvQ+PJSW/J/yUXFviJr/oyJ+9kIcov++lAgJ9Eyq/YqGBCYiEK79J/jRpNdksv0G8rfMlEC6/eO/1IhkoL78z4Hsx9w8wv5A+ex1TezC/IIxzqrHVML9kT8ywtR4xvzi6YOwTVjG/3q4VSpN7Mb+0Ma8iDY8xvwCiqGJtkDG/FqfmnrJ/Mb++fC0W7lwxv/IcWp9DKDG/GppwhOnhML/evqVKKIowv4yjnWdaITC/npBYyNdPL7+3pvDZszwuvxt+5aJkCi2/wPRQ4yW6K78gVwk3Uk0qv2WtVrBhxSi/eR5JVOgjJ785BUB6lGolv94GTxAtmyO/4nFKxo+3Ib+3mbxCXoMfv+BXV/Qgdxu/ugv8zpNOF78Eh3wvAA4Tv+g5bG2Qcw2/dJa1icSsBL/cLm1/UaH3vmAR/5r4Qte+EIOJpacL6D5ofFobAdD9PoAJ25O5vQc/eeSQxnw9ED+X5m4iX4sUPzeK7QQUxBg/LHYFakHjHD90+03PU3IgP/k13tASYiI/gq0Ws94+JD/w//73ywYmP7Qo56QEuCc/AH3eJspQKT9bOwofd88qP0woARWBMiw/AXlsDXp4LT/g4koDEqAuP9zrUEIYqC8/O7eAUL5HMD87RZ1MqKowP/vnCh9k/DA/IxgPh508MT8WgoFQEmsxPxWNCpiShzE/M42A/ACSMT+QvTC9UooxP9XK9MSPcDE/A4EJotJEMT82Bq9qSAcxPzTaro4wuDA/foP3ldxXMD8lpCKZX80vP8y0hbg9yi4/SFedqF6nLT/YcIw/7mUsP8K6/9U3Bys/AKae8aSMKT97K2HQu/cnP1OvStYdSiY/q6Io34WFJD8=",
          "dtype": "f8"
         },
         "y": {
          "bdata": "yljUoqh0BD9mJ7caW7oYPz4CHzZykCM/bqRSDoyvKj/OVZ3lkdkwP32aoT7/STQ/yTD+gYKlNz8kX5aupeg6PyWfuOMLED4/xPZDbDqMQD/f1PUaYP9BP9XRyGf4X0M/B/RX3JesRD8JnayY5+NFP5/mr7SmBEc/pMn2iqsNSD+8EJTr5P1IP+DPszVb1Ek/UxfeVjGQSj9OwdmupTBLP09xRNcStUs/VgYSTvAcTD9Iv0MC02dMPwkERsJtlUw/oA6Di5GlTD8Cbti6LZhMP4duvR1QbUw/WboI5CQlTD+O3GNy9r9LP66amxUtPks/hzEcl06gSj9QSQiz/eZJP0HKeHD5Ekk/mX2SXBwlSD/sdjypWx5HPx2BXzDG/0U/2hmzXIPKRD9jyTf50X9DP22/mOgGIUI/FnTHxYuvQD8rDHfeulk+P7MmrvwUNTs/JYMIWWP0Nz8kBmdPAJs0PyaO5q9fLDE/1oCkXxZYKz+KygeIPTskP4Dk0qETExo/1OqjxpYpBz8etH8+aKvnvqO6kK2YfBG/zh/EwL3xH78ShYWE+iInv4+d0Z88NS6/KmlOki2UMr/6VEMPlvo1v2BQeYpWSjm/KuFnIgWAPL+dFR3VUpg/vw5SrXQHSEG/A7I9HBWyQr9ko94q3QhEvw3T10f+SkW/pGBWZCx3Rr9ovrcRMoxHvz7agcDxiEi/J8O/5mZsSb/YW5MMpzVKv65B573i40q/9MJHYGZ2S79LdAbsmuxLv6yM6YcGRky/eYzGBk2CTL+mtYZGMKFMv+tiM3CQoky/VjjIGGyGTL/xV6lC4ExMv+cYvD8o9ku/PBRBdJ2CS7+pj676tvJKvy9D6igJR0q/UQhh90SASb/rEZpKN59Iv4y4ASDIpEe/W5PFnvmRRr8LYLgN52dFv+kJUK/DJ0S/w9HqhNnSQr/NFKL6h2pBv663EvqE4D+/Ezye9B3LPL9txpOgCJg5v/Y4IFKRSja/rBCWjx/mMr+j5BQeZdwuv4seDze7zCe/gkMXy4ikIL8wV4QKXdYSv5QA3v71QPG+qljUoqh0BD8=",
          "dtype": "f8"
         },
         "z": {
          "bdata": "QB988MEHnz9AH3zwwQefP0AffPDBB58/QB988MEHnz9AH3zwwQefP0AffPDBB58/QB988MEHnz9AH3zwwQefP0AffPDBB58/QB988MEHnz9AH3zwwQefP0AffPDBB58/QB988MEHnz9AH3zwwQefP0AffPDBB58/QB988MEHnz9AH3zwwQefP0AffPDBB58/QB988MEHnz9AH3zwwQefP0AffPDBB58/QB988MEHnz9AH3zwwQefP0AffPDBB58/QB988MEHnz9AH3zwwQefP0AffPDBB58/QB988MEHnz9AH3zwwQefP0AffPDBB58/QB988MEHnz9AH3zwwQefP0AffPDBB58/QB988MEHnz9AH3zwwQefP0AffPDBB58/QB988MEHnz9AH3zwwQefP0AffPDBB58/QB988MEHnz9AH3zwwQefP0AffPDBB58/QB988MEHnz9AH3zwwQefP0AffPDBB58/QB988MEHnz9AH3zwwQefP0AffPDBB58/QB988MEHnz9AH3zwwQefP0AffPDBB58/QB988MEHnz9AH3zwwQefP0AffPDBB58/QB988MEHnz9AH3zwwQefP0AffPDBB58/QB988MEHnz9AH3zwwQefP0AffPDBB58/QB988MEHnz9AH3zwwQefP0AffPDBB58/QB988MEHnz9AH3zwwQefP0AffPDBB58/QB988MEHnz9AH3zwwQefP0AffPDBB58/QB988MEHnz9AH3zwwQefP0AffPDBB58/QB988MEHnz9AH3zwwQefP0AffPDBB58/QB988MEHnz9AH3zwwQefP0AffPDBB58/QB988MEHnz9AH3zwwQefP0AffPDBB58/QB988MEHnz9AH3zwwQefP0AffPDBB58/QB988MEHnz9AH3zwwQefP0AffPDBB58/QB988MEHnz9AH3zwwQefP0AffPDBB58/QB988MEHnz9AH3zwwQefP0AffPDBB58/QB988MEHnz9AH3zwwQefP0AffPDBB58/QB988MEHnz9AH3zwwQefP0AffPDBB58/QB988MEHnz8=",
          "dtype": "f8"
         }
        },
        {
         "mode": "lines",
         "type": "scatter3d",
         "x": {
          "bdata": "2HFDASyfJz+eGpxrhkMmP8YsVqTt0CQ/mYxbsN9IIz8g2RGz8KwhPwx5hJuS/R8/TlLD00mAHD9Kcfnfn+UYP4uvPNpLMRU/RfI0UR9nET9af9iwBBYLP+yG0ALfQQM/4LrPBr+z9j7waDihZDHbPmgKmmYdROK+LIwicAwH+b5ual3THmkEv0I12kOtOQy/NzcCqZH2Eb/KvSZiyL0Vv7Tw+8aVbhm/bt5M6ysFHb/alX/06z4gv2NEFNiC6iG/Z1Ot26GDI79NIyxEowglv9ZUxRL2dya/15Fboh/QJ7/2TdAtvQ8pv88muD2FNSq/yen5+0hAK7+eKPpr9S4svxaSEYaUAC2/4NspNU60Lb+Kz3s1aUkuvyTfiNNLvy6/52SLinwVL7/AO7qBoksvv4iQ3ueFYS+/qoPdLBBXL79sS/oYTCwvv1HduMFl4S6/kpNsXKp2Lr+ZpqHuh+wtv/yEs9yMQy2/hPIEV2d8LL9GPHGm5Jcrv1GZr1jwliq/YNqCTZN6Kb+ktK+l8kMov7sb05RO9Ca/yCRQFwGNJb/qsKmNfA8kv8uDtz5KfSK/TVVAwgjYIL/chjWr1EIevxteGzhmthq/Q996mW4OF79Imwygsk4Tv7Yn1zgf9g6/CDCNxu4uB7+Asq7xsJ/+vgBQ9Abmg+2+AOHS8BSwsj4c1wRpwRbxPtRwofVxeAA/LqiZz4hUCD/gab+TxQsQP7tkZV683BM/mLBftDmZFz9GxVCdYz0bPwaoODR5xR4/gdr7QusWIT/Ekv0ofLkiP46FmtS/SCQ/chrSsxrDJT/DhmvCBicnP0Bj/xsVcyg/Kvsqdu+lKT/+eGeBWb4qP/Y5GS8yuys/6iuH23SbLD9AD4daOl4tPwypyeW5Ai4/YkDR60mILj/TD72+YO4uPyR8NSKVNC8/hsTmt55aLz9IWRpKVmAvP3HzIfS1RS8/BsNqKNkKLz/xcDKU/K8uP8Ie++B9NS4/2t3+U9ubLT9EJAZMs+MsP9FrJ57DDSw/A0QY0ugaKz+5jdk+HQwqP+A1qQh44ig/2XFDASyfJz8=",
          "dtype": "f8"
         },
         "y": {
          "bdata": "Jljzu5Q/AT+2mmPQy/YWP4fPo6IQmyI/2KA9fo2nKT/mtQ4wzEwwPwRAAjgEtTM/JavWvOsINz/1IzaVFEU6P6gb0hEpZj0/7Tmxtnc0QD+6Me+PJqVBP43PwAilA0M/+8Ao1YlORD99RX3df4RFPzMuA55HpEY/UK1KcLisRz+mcfq8wZxIP3TWzRRsc0k/AoCkL9ovSj8XeZzQSdFKPzqvS44UV0s/dGhKfrDASz+m3l3DsA1MPxB0sP3FPUw/VNOjnL5QTD9co+gRh0ZMPy4kp+UpH0w/EO2jq8/aSz/x/GvZvnlLP+s6s31b/Eo/rkUw2SZjSj+Q41/Zvq5JP19ruXXd30g/1/X771f3Rz8+81n4HfZGPw/AZbY43UU/nOm9t8mtRD8G45LFCWlDPwrYOaJHEEI/qvoYsOakQD/KBKIGu1A+P6T7Or9oODs/SPrzRwcEOD9jzVlL5LY0P/DI0/hmVDE/sds0BRnAKz+GJPsJybokPxCZvGo1QBs/tg3aDoPdCT/gvYuGcgDXvtiicPKomg+/IcCFxlcaHr/2si+bKSQmv3BxxHVUJC2/KDurhToDMr+efMN1uWE1v2jg1/Ytqji/AwjtrDXZO7+gLW9xiOs+v47lntr97kC/oSgb4sJWQr+NUXBzoKtDvwZ6gS837ES/vXEEnjwXRr/ajSmCfCtHvwGSWBjaJ0i/Wyu7O1ELSb+WZmZy99RJv/KzDt/8g0q/0VFNF60XS7/6PZrdb49Lvw34Or7J6ku/PFCEjlwpTL9fFOzN50pMv6aLhuhIT0y/EDerWns2TL9sGJy1mABMvwa0KoXYrUu/6Pd1FpA+S7+eDvwfMrNKv1XBWktODEq/LE44oZBKSb8rWu3XwG5Iv0jMpoXBeUe//8fTNo9sRr9ajNBpP0hFv9uS2nD/DUS/4cp0OxO/Qr9YIHwI1FxBv7UHiQRe0T+/oZ5ajEfIPL8cGWKyhaE5v0J9EBZYYDa/3IgRkxkIM7+Kre6XeTgvv6QDxziRQCi/sk+v7KgvIb+orbK5EhoUv6YrG6xrAPe+B1jzu5Q/AT8=",
          "dtype": "f8"
         },
         "z": {
          "bdata": "QG9nSMzbqT9Ab2dIzNupP0BvZ0jM26k/QG9nSMzbqT9Ab2dIzNupP0BvZ0jM26k/QG9nSMzbqT9Ab2dIzNupP0BvZ0jM26k/QG9nSMzbqT9Ab2dIzNupP0BvZ0jM26k/QG9nSMzbqT9Ab2dIzNupP0BvZ0jM26k/QG9nSMzbqT9Ab2dIzNupP0BvZ0jM26k/QG9nSMzbqT9Ab2dIzNupP0BvZ0jM26k/QG9nSMzbqT9Ab2dIzNupP0BvZ0jM26k/QG9nSMzbqT9Ab2dIzNupP0BvZ0jM26k/QG9nSMzbqT9Ab2dIzNupP0BvZ0jM26k/QG9nSMzbqT9Ab2dIzNupP0BvZ0jM26k/QG9nSMzbqT9Ab2dIzNupP0BvZ0jM26k/QG9nSMzbqT9Ab2dIzNupP0BvZ0jM26k/QG9nSMzbqT9Ab2dIzNupP0BvZ0jM26k/QG9nSMzbqT9Ab2dIzNupP0BvZ0jM26k/QG9nSMzbqT9Ab2dIzNupP0BvZ0jM26k/QG9nSMzbqT9Ab2dIzNupP0BvZ0jM26k/QG9nSMzbqT9Ab2dIzNupP0BvZ0jM26k/QG9nSMzbqT9Ab2dIzNupP0BvZ0jM26k/QG9nSMzbqT9Ab2dIzNupP0BvZ0jM26k/QG9nSMzbqT9Ab2dIzNupP0BvZ0jM26k/QG9nSMzbqT9Ab2dIzNupP0BvZ0jM26k/QG9nSMzbqT9Ab2dIzNupP0BvZ0jM26k/QG9nSMzbqT9Ab2dIzNupP0BvZ0jM26k/QG9nSMzbqT9Ab2dIzNupP0BvZ0jM26k/QG9nSMzbqT9Ab2dIzNupP0BvZ0jM26k/QG9nSMzbqT9Ab2dIzNupP0BvZ0jM26k/QG9nSMzbqT9Ab2dIzNupP0BvZ0jM26k/QG9nSMzbqT9Ab2dIzNupP0BvZ0jM26k/QG9nSMzbqT9Ab2dIzNupP0BvZ0jM26k/QG9nSMzbqT9Ab2dIzNupP0BvZ0jM26k/QG9nSMzbqT9Ab2dIzNupP0BvZ0jM26k/QG9nSMzbqT9Ab2dIzNupP0BvZ0jM26k/QG9nSMzbqT8=",
          "dtype": "f8"
         }
        },
        {
         "mode": "lines",
         "type": "scatter3d",
         "x": {
          "bdata": "KHjCYb1tKz9mQMnQDZUqP1AozHP3oCk/XusW53WSKD/P1pgCoGonP8KudLqmKiY/Mlum5NPTJD+HZwLliGcjP/TP7UA95yE/MJ9FHH1UID9ZxgpCz2EdP9HQoqZa/Bk/scQ7pxx8Fj9BL30hseQSP3b97K6Xcw4/qqBNPWn+Bj9Um0vpDeP+PvCabSnlUu8+AK0LaY7slz7g4XaN4dTtvkibh6UzJf6+bWypunGgBr8Janeo9hYOv6nfTJo7txK/lzFN+LBPFr+3XyOaJtEZv4qG6mD/Nx2/y0lKzlxAIL/EsaJU+dMhvzNaVjY1VSO/hgTjV4PCJL8PJ8Uoaxomv4upoyeKWye/JGm+T5WEKL/60SZuWpQpv3rRYl3BiSq/tsM0Js1jK7+trV4EnSEsv073U05twiy/08/qPphFLb8xUz2glqotv4pLClcA8S2/zuEFzowYLr9qnqtAEyEuv2aZROWKCi6/U4j29QrVLb9yU9KYyoAtv27g+qYgDi2/daweU4N9LL9dfqCvh88rv53J7BThBCu/LCmaaGAeKr9vhBNG8xwpv0PXqQmjASi/xBcKv5PNJr+EMjH0AoIlvypwFHJGICS/ZrNP3MqpIr93vEQ5EiAhv0bSXchkCR+/v0GL1aayG78LYDmwWz8Yvw5VCt0RsxS/YOmFpHEREb/6y+qbcrwKv4xMJodyOgO/GHggkEBJ976o5iYqNgvgvuAk1TI9Gd0+uMLu+LmK9j6FWxcH9NsCPzgifU8aXwo/PumItIjjED9P13V2G4YUPy/3OCyGExg/PoWAYx+IGz95dkw/V+AeP/sw85FdDCE//KVYovyWIj/RuxMIcg4kPxChP7s6cSU/TkTLA+m9Jj/0CnfyJfMnP/DvVcKyDyk/VKNlIWoSKj+Q8upeQfoqP6zKWn5Jxis/4HK0LbB1LD8EDU+ewActPwDgOj/key0/MEx2WKPRLT9TbFaGpQguP2cspBSyIC4/quoPObAZLj/IYb8sp/MtP7uE2yS+ri0/M/klKjxLLT8N2r/Ph8ksP608bckmKiw/KXjCYb1tKz8=",
          "dtype": "f8"
         },
         "y": {
          "bdata": "EMxr/SNz+D7G8s+lQ00UPyxKN2xoNCE/3xvS3HIwKD+jOgf+jRMvP8GrmS5Q6zI/Mvqbxlg5Nj/7HvSqeHA5P6HaAV1fjTw/paFAZteMPz9M4IfT5DVBP38cGkOgk0I/KtnlfjXeQz9IvUXBTxRFPzq3JmGvNEY/vUqLGys+Rz9qDfhFsS9IP3pzjehICEk/IyGsvhLHST81MxsdSmtKP8dAw7xF9Eo/RBstaXhhSz9gbRCScbJLP7gtXL/d5ks/MElB54b+Sz+F0+alVPlLP01SjlZM10s/wzcODpGYSz96Pqh2Yz1LP97sYI0hxko/DfccQUYzSj8IXujzaIVJPwrt6d48vUg/yPCjWZDbRz+emUAFTOFGP49Kxdxxz0U/6wUkKxynRD9hGD1ofGlDPwf5/P3ZF0I/yfTa9pCzQD+tGykuIXw+P5bELsSzcTs/+7Y/G/xKOD9KhUvIOQs1P24bgjDGtTE/C9UCKyKcLD9vbuwUOq8lP6VyW1fvVx0/JrWWG1ZmDj/QgAVRddfPPnS2p5x0bQq/wwIBSpFeG78VJRfgGLUkv8ss1p6QpSu/fHZHVMQ8Mb96r5KS+5Q0v/mzOG/71ze/8I/uLWcCO78gM3Zo+xA+v4oi4rVIgEC/cCnIOxHnQb80EntuZTtDv4l9eHzme0S/4F7PA0qnRb9iwrBmW7xGv52ykAn9uUe/KU+PeSmfSL/3l/p59GpJvxod0/eLHEq/4oxY4jizSr8L577nXy5Lv+jOSRWCjUu/4fEoWj3QS79SnY7sTPZLv51PmJCJ/0u/UCzAwOnrS7/yoq23gbtLvzUqW1uDbku/bI6mCT4FS7/h2IBGHoBKv5AlEkyt30m/ELZEfZAkSb/qEkm7iE9IvxT4wp5xYUe/zABslUBbRr/waRXlAz5Fv5K1DZXhCkS/CGAJPxbDQr+lFcfI82dBv3Snfw/A9T+/awKUoKb6PL/tc1fjreE5v4hfWEEHrja/ohyMpP9iM7+KWFoQ/AMwv169oUPsKCm/oGA29fAvIr8g3bxpbEgWv9Kmk1X9MwC/0str/SNz+D4=",
          "dtype": "f8"
         },
         "z": {
          "bdata": "cGdIzNsZsj9wZ0jM2xmyP3BnSMzbGbI/cGdIzNsZsj9wZ0jM2xmyP3BnSMzbGbI/cGdIzNsZsj9wZ0jM2xmyP3BnSMzbGbI/cGdIzNsZsj9wZ0jM2xmyP3BnSMzbGbI/cGdIzNsZsj9wZ0jM2xmyP3BnSMzbGbI/cGdIzNsZsj9wZ0jM2xmyP3BnSMzbGbI/cGdIzNsZsj9wZ0jM2xmyP3BnSMzbGbI/cGdIzNsZsj9wZ0jM2xmyP3BnSMzbGbI/cGdIzNsZsj9wZ0jM2xmyP3BnSMzbGbI/cGdIzNsZsj9wZ0jM2xmyP3BnSMzbGbI/cGdIzNsZsj9wZ0jM2xmyP3BnSMzbGbI/cGdIzNsZsj9wZ0jM2xmyP3BnSMzbGbI/cGdIzNsZsj9wZ0jM2xmyP3BnSMzbGbI/cGdIzNsZsj9wZ0jM2xmyP3BnSMzbGbI/cGdIzNsZsj9wZ0jM2xmyP3BnSMzbGbI/cGdIzNsZsj9wZ0jM2xmyP3BnSMzbGbI/cGdIzNsZsj9wZ0jM2xmyP3BnSMzbGbI/cGdIzNsZsj9wZ0jM2xmyP3BnSMzbGbI/cGdIzNsZsj9wZ0jM2xmyP3BnSMzbGbI/cGdIzNsZsj9wZ0jM2xmyP3BnSMzbGbI/cGdIzNsZsj9wZ0jM2xmyP3BnSMzbGbI/cGdIzNsZsj9wZ0jM2xmyP3BnSMzbGbI/cGdIzNsZsj9wZ0jM2xmyP3BnSMzbGbI/cGdIzNsZsj9wZ0jM2xmyP3BnSMzbGbI/cGdIzNsZsj9wZ0jM2xmyP3BnSMzbGbI/cGdIzNsZsj9wZ0jM2xmyP3BnSMzbGbI/cGdIzNsZsj9wZ0jM2xmyP3BnSMzbGbI/cGdIzNsZsj9wZ0jM2xmyP3BnSMzbGbI/cGdIzNsZsj9wZ0jM2xmyP3BnSMzbGbI/cGdIzNsZsj9wZ0jM2xmyP3BnSMzbGbI/cGdIzNsZsj9wZ0jM2xmyP3BnSMzbGbI/cGdIzNsZsj9wZ0jM2xmyP3BnSMzbGbI/cGdIzNsZsj9wZ0jM2xmyP3BnSMzbGbI/cGdIzNsZsj8=",
          "dtype": "f8"
         }
        },
        {
         "mode": "lines",
         "type": "scatter3d",
         "x": {
          "bdata": "wRL7XN10Lz9a9J6kpSYvP5IA7ntRuC4/bPeYnVIqLj/h8eJoO30tP7Exv0q+sSw/alfkBa3IKz+ZlpLa98IqPwbM646soSk/FcDcWPVlKD8PPraqFxEnPwDhsuNypCU/NmfD5X4hJD/i6RaSyokiPzxi7i363iA/+ajGYotFHj9SacAD7q0aP0IOPDTQ+hY/QJcbQwIwEz/aYZXU2aIOPw5uWY4axgY/9HwZ+MKj/T76pABlhjnrPqgkFfIlwsO+9M927cCK8r703B0HEEUBv3ifx0PyMgm/IRoBXW2DEL8vR+neW1wUv6Typ11NIBi/ucjmMWDLG7+7IDVXzFkfvzo18ajzYyG/VWkz+xMJI79QcjoHlZokv5Uq+evYFia/JLQerVd8J78KsCfHoMkov5d0Patc/Sm/Tq5bIU4WK78bW0+PUxMsvyENPiNo8yy/ALqB4KS1Lb/D8cONQVkuvyILY4OV3S6/sYNMWRhCL7+rXZlzYoYvv4yJW20tqi+/fkMuYVStL79tlz4P1I8vv2HXpODKUS+/IpALyHjzLr9+TMT/PnUuv6gajqWf1y2/2iN1ND0bLb8emVXd2UAsv5Gbrr5WSSu/EHmT/LI1Kr+ycqq5Cgcpv84pSPKVvie/557VOqddJr88RsxiquUkv5j3r/0iWCO/pk6J06q2Ib+tUXw68AIgvyyaXbZofRy/1FKPw5LXGL8RBMk6IRgVv/2r6R/xQhG/Jg3pweu3Cr9SB+2Gas4Cv77oDfwMo/W+oCMVkdxL1r4QSMxLuwXlPuIIkqLcjfo+teeTHr4+BT/QzjaMpyANPzxUYD9FchI/ADkS5zJBFj+R5wTDL/kZP59O2n5mlh0/B+/Kr46KID/GYl4N3TgiP0HQhsZi1CM/gsR9pndbJT8L9J6KiMwmPyW/9wEZJig/PvRx1cRmKT/MjgV3QY0qPybwdlZfmCs/DVNCGguHLD/t6XG7TlgtP6sROoNSCy4/+CtW6V2fLj/T6UBS2BMvP+nwg6xJaC8/ArN87FqcLz8K4hZm1q8vP04CIASooi8/wRL7XN10Lz8=",
          "dtype": "f8"
         },
         "y": {
          "bdata": "dkwpZnJZ4T6a1T2WjjcQPzJ+7Fs3Mx4/KscnUN8HJj8sbYQ+bd8sP5iEYPebzDE/R4BTQigXNT+TXtL79ks4P1gEsAi6Zzs/bkQKHz1nPj+oDu6JtKNAPw+qRYWjAkI/RF6UwQFPQz9raB6ieIdEP5jojw7GqkU/TKYCv723Rj8rSIdxSq1HP4Hr8gdvikg/y37KjEdOST9E6T4eCvhJPxPFR74Hh0o/fScGB636Sj/xhLXCglJLPysRjmYujks/g+8ZcHKtSz+6/ZykLrBLPzjdTTJglks/lfs9syFgSz9lm+0Rqw1LP6QhqE9Rn0o/TxLkLIYVSj9yDwG013BJP/653KbvsUg/wmLVz5LZRz+U7e42oOhGP1UC6zsQ4EU/z4lBlvPARD/SYQE8coxDP10SuzDKQ0I/7/+vPU7oQD+YDTApyfY+P3r5yrwK/Ts/BW4Ib3LmOD9KkUY2L7Y1PxpSVX6KbzI/lvw2iskrLj++cuc+ZFknP63ar1PtbiA/QIYaogvnEj/NruqtAXPzPhJCKdIbZQK/vvt9HWE4F78LgM1cIpMiv1Ez3Xjudim/2r/tXD0gML+hadcCZHQzv/+RwsN8tDa/p2Bn4S3dOb8yVc29Nes8v2rFmjZu2z+/2PEH8mdVQb96WiqcOqtCvyYD8b3O7UO/fLT40dcbRb/esAOAHjRGv8qP6t2BNUe/9gdumfgeSL9HqLYJku9IvxySaCd3pkm/mHtLautCSr8ffaKLTcRKv6lUaywYKku/EcDZXuJzS78UNoESYKFLv+p+vWJisku/OVkJx9emS79NVxElzH5Lvx5TcMRoOku/aR0iJPTZSr8XRdix0V1Kv0Pfe2OBxkm/FPdFM58USb+hnfZ+4khIv2FX0EodZEe/Vb8aaTtnRr9CiQuHQVNFvz14ECBMKUS/kkePWI7qQr8i0EnBUJhBvyvIrATwM0C/XH7M/rZ9Pb9EpmyLJ3U6vwn1AC5SUTe/dxNsgnMVNL/SgYbr4MQwvwJ63EYKxiq/O3eta7nmI7+Q9OqfyeUZv0KjIo/cxge//EspZnJZ4T4=",
          "dtype": "f8"
         },
         "z": {
          "bdata": "UBdddNFFtz9QF1100UW3P1AXXXTRRbc/UBdddNFFtz9QF1100UW3P1AXXXTRRbc/UBdddNFFtz9QF1100UW3P1AXXXTRRbc/UBdddNFFtz9QF1100UW3P1AXXXTRRbc/UBdddNFFtz9QF1100UW3P1AXXXTRRbc/UBdddNFFtz9QF1100UW3P1AXXXTRRbc/UBdddNFFtz9QF1100UW3P1AXXXTRRbc/UBdddNFFtz9QF1100UW3P1AXXXTRRbc/UBdddNFFtz9QF1100UW3P1AXXXTRRbc/UBdddNFFtz9QF1100UW3P1AXXXTRRbc/UBdddNFFtz9QF1100UW3P1AXXXTRRbc/UBdddNFFtz9QF1100UW3P1AXXXTRRbc/UBdddNFFtz9QF1100UW3P1AXXXTRRbc/UBdddNFFtz9QF1100UW3P1AXXXTRRbc/UBdddNFFtz9QF1100UW3P1AXXXTRRbc/UBdddNFFtz9QF1100UW3P1AXXXTRRbc/UBdddNFFtz9QF1100UW3P1AXXXTRRbc/UBdddNFFtz9QF1100UW3P1AXXXTRRbc/UBdddNFFtz9QF1100UW3P1AXXXTRRbc/UBdddNFFtz9QF1100UW3P1AXXXTRRbc/UBdddNFFtz9QF1100UW3P1AXXXTRRbc/UBdddNFFtz9QF1100UW3P1AXXXTRRbc/UBdddNFFtz9QF1100UW3P1AXXXTRRbc/UBdddNFFtz9QF1100UW3P1AXXXTRRbc/UBdddNFFtz9QF1100UW3P1AXXXTRRbc/UBdddNFFtz9QF1100UW3P1AXXXTRRbc/UBdddNFFtz9QF1100UW3P1AXXXTRRbc/UBdddNFFtz9QF1100UW3P1AXXXTRRbc/UBdddNFFtz9QF1100UW3P1AXXXTRRbc/UBdddNFFtz9QF1100UW3P1AXXXTRRbc/UBdddNFFtz9QF1100UW3P1AXXXTRRbc/UBdddNFFtz9QF1100UW3P1AXXXTRRbc/UBdddNFFtz9QF1100UW3P1AXXXTRRbc/UBdddNFFtz8=",
          "dtype": "f8"
         }
        },
        {
         "mode": "lines",
         "type": "scatter3d",
         "x": {
          "bdata": "rpFGtQeiMT+i1qJ+IcUxP7BcTvDp1TE/Pg9rvU/UMT9ebdCMVMAxP/CpV/cMmjE/3E2gcqBhMT9RP2MoSRcxP9EbfrpTuzA/9rL08x5OMD8pH3TONqAvP5mSS/SVgy4/iHkawIBHLT/AYxUFPe0rPyCkHLMvdio/YxXMZtvjKD+Z/vPa3jcnP+vmFT3zcyU//gieZuqZIz/5MK78rKshP1AO0vBwVh8//wSKMzo1Gz+KvwiO9/cWP/vbBrYHoxI/DMeAksN1DD/T9TZmIYgDP5WclPe5DPU+8Jf7jvKbxz6M/II2kFHuvsvxyhG3mgC/dldLW+yPCb/fNFMDZDURv+oA9KwUkRW/NG+xForWGb9qqV4XXQEev9G/L/2gBiG/1Qihdgb7Ir8YXj0m29skv9nPaWUvpya/+MWjtylbKL+KepWyCPYpvyVaWs0kdiu/yr0VFfLZLL888xnFASAuv+TX+sADRy+/eSaD9+MmML8Hr964n5kwvzZ8hd8++zC/JzAMylxLMb87BmLipokxv/+F8vLctTG/ubnVaNHPMb9GrsqCadcxv/vOy2ydzDG/p68gSHivMb818+QfGIAxv5AiEMqtPjG/UmAetXzrML+23Y2i2oYwv+O3eE4vETC/FLpMCegVL7/EZwVHZuktv2nR9xoPniy/ms+zEjg1K7/OMmgkVbApvxOtdS/3ECi/wGs0X8pYJr+NWJZxlIkkv5L5bOMypSK/qBU1BJmtIL9C+cbmm0kdvwQIixLVGRm/hKs5Wy7QFL80CGI8E3EQv+h1h54KAgi//ECdll4S/r7+vqKVUAPovvio6JW5bdg+bJtedzky+D4z6Z+yCRgFPytRuS84AQ4/35WYWrxlEz/AG6DT3bYXPyZKnlGN7xs/cWoNa7gFID+VK+cIJgMiP86WLmEC7iM/zVx8dlPEJT+ihsV4NIQnPyTXHLnXKyk/346chYi5Kj/2/Y3rrCssPzHc/l3HgC0/tMsQP3i3Lj+Nl21Kf84vP+5GtW9eYjA/vFLDlJnMMD+f5giTgyUxP8TW98LAbDE/rpFGtQeiMT8=",
          "dtype": "f8"
         },
         "y": {
          "bdata": "UMUpn2wE7L4oZ4ZSC9IEP64f07zdRxg/uN2rLtcGIz9QHCeHItYpPyRpqfBlRTA/0JBk1fSOMz8h2rFyWsQ2P/DI2RFI4jk/uSNQLYflPD/ueZPA/Mo/P6JN2T3WR0E/EpyV612YQj8kwnqCutVDP+tM2t2k/kQ/1zCV7OoRRj+k4ZvscA5HP4pUb48y80c/zmd1BkS/SD/6FQz20nFJP6bjYE4nCko/dQEtCaSHSj8DjZLLx+lKP2EWdGstMEs/g/a8V4xaSz9j9y7juGhLPw4yaHGkWks/b7nyhV0wSz9hi061D+pKPw40BXgDiEo/kXL1350KSj+L4CMwYHJJPxgCfFfnv0g/dBgLT+vzRz/qeFtcPg9HPwflszjMEkY/CVMaHpn/RD/qoBS7wNZDPw+2Ow51mUI/lYPOKv1IQT+uEhTPZ80/Py/XQ/IM6Dw/O0yU8+XkOT812qu+Dcc2P1+CA8O6kTM/xRkepDtIMD+tA5mh59spP8b/BAqwDCM/oLpX56pTGD9EMaM6xOkEP+T6vYJwpeu+vnyDS65aEb8j4B7qyi4fv4k2bVlhcSa/2mxuxzo0Lb9ChVPGfOwxvyT+bT9iLDW/aDibRXRWOL8AmhnPb2c7v1PVl64rXD6/wnSp6s2YQL+W6Jc7avJBv+b+yYaGOUO/QgLxmtFsRL94rlK0DotFvydMUMMWk0a/YHGOnNmDR79d34MRX1xIv/1ITvDHG0m/dkrF6U7BSb8CaN5cSUxKv6FqkAYovEq//cuAlXcQS79l9uIg4UhLvw/QDoIqZUu/+TdykDZlS78Tqp8/BUlLv9IOW5+zEEu/9aikvXu8Sr8OA+FqtExKv92MW+DQwUm/LCiASWAcSb+4FEYwDV1Iv6BcZM2chEe/OPgEPe6TRr/2OciY+YtFvwOWBfjObUS/QGZRV5U6Q79jymhoifNBv04XvUv8mUC/m7TeaaRePr/HVET3AWo7v8uOODQdWTi/WImSNh8vNb+RRW3zSu8xv6XU7MTzOS2/JsERFDF3Jr+FkIneizofv4KvXaGEZhG/ycUpn2wE7L4=",
          "dtype": "f8"
         },
         "z": {
          "bdata": "IMdxHMdxvD8gx3Ecx3G8PyDHcRzHcbw/IMdxHMdxvD8gx3Ecx3G8PyDHcRzHcbw/IMdxHMdxvD8gx3Ecx3G8PyDHcRzHcbw/IMdxHMdxvD8gx3Ecx3G8PyDHcRzHcbw/IMdxHMdxvD8gx3Ecx3G8PyDHcRzHcbw/IMdxHMdxvD8gx3Ecx3G8PyDHcRzHcbw/IMdxHMdxvD8gx3Ecx3G8PyDHcRzHcbw/IMdxHMdxvD8gx3Ecx3G8PyDHcRzHcbw/IMdxHMdxvD8gx3Ecx3G8PyDHcRzHcbw/IMdxHMdxvD8gx3Ecx3G8PyDHcRzHcbw/IMdxHMdxvD8gx3Ecx3G8PyDHcRzHcbw/IMdxHMdxvD8gx3Ecx3G8PyDHcRzHcbw/IMdxHMdxvD8gx3Ecx3G8PyDHcRzHcbw/IMdxHMdxvD8gx3Ecx3G8PyDHcRzHcbw/IMdxHMdxvD8gx3Ecx3G8PyDHcRzHcbw/IMdxHMdxvD8gx3Ecx3G8PyDHcRzHcbw/IMdxHMdxvD8gx3Ecx3G8PyDHcRzHcbw/IMdxHMdxvD8gx3Ecx3G8PyDHcRzHcbw/IMdxHMdxvD8gx3Ecx3G8PyDHcRzHcbw/IMdxHMdxvD8gx3Ecx3G8PyDHcRzHcbw/IMdxHMdxvD8gx3Ecx3G8PyDHcRzHcbw/IMdxHMdxvD8gx3Ecx3G8PyDHcRzHcbw/IMdxHMdxvD8gx3Ecx3G8PyDHcRzHcbw/IMdxHMdxvD8gx3Ecx3G8PyDHcRzHcbw/IMdxHMdxvD8gx3Ecx3G8PyDHcRzHcbw/IMdxHMdxvD8gx3Ecx3G8PyDHcRzHcbw/IMdxHMdxvD8gx3Ecx3G8PyDHcRzHcbw/IMdxHMdxvD8gx3Ecx3G8PyDHcRzHcbw/IMdxHMdxvD8gx3Ecx3G8PyDHcRzHcbw/IMdxHMdxvD8gx3Ecx3G8PyDHcRzHcbw/IMdxHMdxvD8gx3Ecx3G8PyDHcRzHcbw/IMdxHMdxvD8gx3Ecx3G8PyDHcRzHcbw/IMdxHMdxvD8gx3Ecx3G8PyDHcRzHcbw/IMdxHMdxvD8=",
          "dtype": "f8"
         }
        },
        {
         "mode": "lines",
         "type": "scatter3d",
         "x": {
          "bdata": "Ka/lDPQ5Mz8MaTuWBK0zP7JOMNvMCzQ/OwyiJ+tVND/qfXIUE4s0P2GmSdYNqzQ/Jl8Rdrq1ND8WivDyDas0P1y8ok0TizQ/8bEgfetVND9wOqVMzQs0P7CmMSMFrTM/OfDLtPQ5Mz/XycedErMyPw9rgujpGDI/KR8PfhlsMT9aVmiCU60wP7YonDm5ui8/7A0eWhb6LT/YdRrdjBosP0J0xBMLHio/So8wLJ0GKD9Ytf4Ua9YlP1KuaES2jyM/4IL/ZNc0IT9G6vrUd5AdP66cVSLHmBg/rrbTlLuHEz/dfEdkHMUMP2TQRYEZXQI/yFPrfaKI7z5Agy33RAfVvhhDWW6IQvq+Rhqy8RaUB7/7eDvFTfcQv9k/suUSExa/S2JcxhYYG78s8RFklgAgvyBIGIuiZCK/LrjW7ri1JL/24z8xdvEmv8WB2fWMFSm/rhhDQcgfK7+lR5u/DQ4tv4U9a+9f3i6/VS5uF3BHML/OUY1U6A4xvxai8xDLxDG/5NXAzlxoMr+fAZnx9Pgyv+FYc2z+dTO/PEc/W/jeM78Qf8GHdjM0v+gIINkhczS/M1eqrbidNL/q0YAeD7M0v7Ac1iwPszS/H3Gb2LidNL8OroAgInM0v5obSOt2MzS/QkOF2vjeM78sgvUG/3Uzv+cSuKb1+DK/+hrCnV1oMr9euAH5y8QxvzYEuVTpDjG/4GuvLnFHML+aFdlJYt4uv3p9h0MQDi2/UucV7MofK7+mCtPEjxUpv6AEeyF58Sa/IAZM/bu1JL81MKG0pWQiv+/2a6WZACC/Xpb8cR0YG796Wl6zGRMWv7wf8K1U9xC/Dg/u6iSUB7+UgKeTpEL6vlA+suO1B9W+oNc2FmqI7z4yWoV5C10CPzAkKn0OxQw/EgHBuLSHEz+bENFkwJgYPx479zxxkB0/HB8kL9Q0IT967gIos48jPxCLQxVo1iU/X183TJoGKD/35oNWCB4qP9poZUWKGiw/Laug6hP6LT8iJdn0trovP9pYj3ZSrTA/XcDSiRhsMT9sbt4M6RgyP2aYntsRszI/KK/lDPQ5Mz8=",
          "dtype": "f8"
         },
         "y": {
          "bdata": "d1A5gZDXBb905aVPz9DmPsaw3HkLnRA/PuxQ6NxOHj9dcuQquPAlP7IDoAtkoyw/w1SRSEWcMT+ynT5SsdQ0P4+J1U2k9zc/y3/PiOIBOz+U+VbISfA9P6waHkLqX0A/h2oqgs62QT/lOYgucPtCP9wGF6SALEQ/ZodRa8VIRT/1bnZ8GU9GP6pLmG1uPkc/+xtdic0VSD/LRU7NWNRIP1LIss5LeUk/+sAHhfwDSj8UjUb523NKP0nbQ9l2yEo/6cKP7nUBSz8OV1x4nh5LP54JDmjSH0s/5W83gBAFSz+veOBVdM5KP1DCFzQ2fEo/7V/r4aoOSj/h3gRLQ4ZJP9ehQguM40g/uo7G3SwnSD9leA/w51FHP+Z+zxmZZEY/Y7tN+jRgRT/k0Tz8x0VEP1pYCkF1FkM/TErEdHXTQT8C5MmLFX5AP0lGKNdqLz4/V3Hv/4xDOz8msKx8lDs4P/PejzChGjU/rryqvuzjMT8olbZtjjUtP73cMFcnhSY/AvOX0BJ7Hz8IECZ7Y8sRP3rKmmpxJfA+sxeK96d5A7/gRfGo+ngXvwJrR5N3jiK/zDG071BNKb+gw/RWFfIvv5bJf8z1OjO/NoHiOw5pNr/IbbXJDIA5v66OMxbCfDy/QVdB2hlcP78Hyf8Jjw1Bv/4XFQp9W0K/RMeOtH6WQ78lFUBST71Ev/iZWvy+zkW/tPmy1bPJRr/8D04tK61Hv/8UC4k6eEi/6NhXlxAqSb997vUG9sFJv0dZ8kNOP0q/rfQMGZihSr/ZMuk0buhKv+znfpKHE0u/kXhfxLciS7/d1IEi7xVLvyYKZto67Uq/3Mh/4cSoSr8u3/XJ00hKvws+43nKzUm/x4VkxSc4Sb/2MNvrhYhIv/8h7fiZv0e/gXrkCTPeRr8PHTB4OeVFv5Dt4Omt1US/ibQaSaiwQ78tXImjVndCv3z2A/P7KkG/lwQ9od2ZP79XQAMnML08v4+E6Lniwjm/iIgtJgeuNr9OX8GXyoEzv6lUBVRyQTC/lmJytbDgKb/oJhPjzyMjv/Y+QHdophi/lVA5gZDXBb8=",
          "dtype": "f8"
         },
         "z": {
          "bdata": "gDtDYt7OwD+AO0Ni3s7AP4A7Q2LezsA/gDtDYt7OwD+AO0Ni3s7AP4A7Q2LezsA/gDtDYt7OwD+AO0Ni3s7AP4A7Q2LezsA/gDtDYt7OwD+AO0Ni3s7AP4A7Q2LezsA/gDtDYt7OwD+AO0Ni3s7AP4A7Q2LezsA/gDtDYt7OwD+AO0Ni3s7AP4A7Q2LezsA/gDtDYt7OwD+AO0Ni3s7AP4A7Q2LezsA/gDtDYt7OwD+AO0Ni3s7AP4A7Q2LezsA/gDtDYt7OwD+AO0Ni3s7AP4A7Q2LezsA/gDtDYt7OwD+AO0Ni3s7AP4A7Q2LezsA/gDtDYt7OwD+AO0Ni3s7AP4A7Q2LezsA/gDtDYt7OwD+AO0Ni3s7AP4A7Q2LezsA/gDtDYt7OwD+AO0Ni3s7AP4A7Q2LezsA/gDtDYt7OwD+AO0Ni3s7AP4A7Q2LezsA/gDtDYt7OwD+AO0Ni3s7AP4A7Q2LezsA/gDtDYt7OwD+AO0Ni3s7AP4A7Q2LezsA/gDtDYt7OwD+AO0Ni3s7AP4A7Q2LezsA/gDtDYt7OwD+AO0Ni3s7AP4A7Q2LezsA/gDtDYt7OwD+AO0Ni3s7AP4A7Q2LezsA/gDtDYt7OwD+AO0Ni3s7AP4A7Q2LezsA/gDtDYt7OwD+AO0Ni3s7AP4A7Q2LezsA/gDtDYt7OwD+AO0Ni3s7AP4A7Q2LezsA/gDtDYt7OwD+AO0Ni3s7AP4A7Q2LezsA/gDtDYt7OwD+AO0Ni3s7AP4A7Q2LezsA/gDtDYt7OwD+AO0Ni3s7AP4A7Q2LezsA/gDtDYt7OwD+AO0Ni3s7AP4A7Q2LezsA/gDtDYt7OwD+AO0Ni3s7AP4A7Q2LezsA/gDtDYt7OwD+AO0Ni3s7AP4A7Q2LezsA/gDtDYt7OwD+AO0Ni3s7AP4A7Q2LezsA/gDtDYt7OwD+AO0Ni3s7AP4A7Q2LezsA/gDtDYt7OwD+AO0Ni3s7AP4A7Q2LezsA/gDtDYt7OwD+AO0Ni3s7AP4A7Q2LezsA/gDtDYt7OwD+AO0Ni3s7AP4A7Q2LezsA/gDtDYt7OwD8=",
          "dtype": "f8"
         }
        },
        {
         "mode": "lines",
         "type": "scatter3d",
         "x": {
          "bdata": "RPkT/zZWND+7N26F5x41P4+g8H3S0TU/55zpeT9uNj8dmhw6jfM2P4eR+VQyYTc/hNNCxL22Nz82Eo9Z1/M3P52SLxlAGDg/rNAce9IjOD92qaaRghY4P/EpwBVe8Dc/ilXaWIyxNz9beVwcTlo3P4TT40796jY/m12PrwxkNj/+SbdXB8Y1P7ghiiuQETU/TFEjMmFHND+3OsjVSmgzP6J4EQ0zdTI/rMjdbRRvMT9I+AIr/VYwP+YyjvsbXC4/SzeC+PHqKz+jKae7AF0pP0zyDV7qtCY/XUgz7Gv1Iz9OsVeTWiEhP/G38GtBdxw//tDW1HWOFj/FbnHNaY4QP5THbnOZ+gQ/oH1UVX6F8T4gw3TqF/HbvpDgfebWdv++BIEEXHzoC79Uq/9JZPwTv/YZn0/w7xm/pqWMvb/IH7/EIgHRZcAiv2L4o2gXiSW/1Jqx/JU7KL9KUlnGGdUqv8Hhrb70Ui2/KnHRYZWyL7/9t16qxPgwv0fidfW/BjK/TNyjRCYCM7+Hbvhx9Okzv+Q5QIo7vTS/u1BVwyF7Nb8SzJ9c4yI2v+zw3mjTsza/mORqgFwtN7+WLzdbAY83v3ZN91Fd2De/LirgxSQJOL+jmJtuJSE4v/5nHY5GIDi/pqkkCokGOL9q3U5rB9Q3v+73vcH1iDe/OnVtb6ElN7+wyW3YcKo2v3xrWPniFza/HkFp5I5uNb+tZMQlI680v4fCiA9l2jO/xwxp7i/xMr9Hr5wndPQxvwjLEUE25TC/N1S/qRuJL7+oAR3iSCctv9Qsu8lopyq/gwaI+Q4MKL+lAPRc61clvyRy0mzHjSK/ynPGnwZhH792BffHJYYZv/bEt2X1kBO/ZApcVzMPC79Yt+1bLsH9vkD1eVIoFdW+2PYfEwk88z7kirw2xNQFPyjhNW+B+hA/sm80SiD5Fj8w3dDAEOAcPwxoYKieVCE/EB0+k1cnJD+gB5AhSuUmP6vdLL6iiyk/8goWKKYXLD+GCUZDtIYuP/DJwWYlazA//MA3+gOCMT8AbhFl1oYyP4mS6sqPeDM/Q/kT/zZWND8=",
          "dtype": "f8"
         },
         "y": {
          "bdata": "CyIhTu3DE79cP6K/QpX4vgSV+fOG/v0+SHmbXdkcFT86C2DHJlIhP1LTMg4GBCg/sdz10COdLj90FBlxWYsyP1TzEE4DtTU/2wMA4UzIOD8f8FucCsI7P7KLA0grnz4/XE1VlV2uQD+yBG+K8/tBP3zGPqX/NkM/SR3VIz1eRD/BpSeve3BFP75xyZSgbEY/lAhU6qdRRz9HoFSZpR5IP0xgqVLG0kg/ddBTaFBtST/Z6t+MpO1JP3SDmnc+U0o/X7/tbLWdSj85C1eqvMxKP/dGh7Uj4Eo/mpZbjtbXSj+nVHvD3bNKP87lhWledEo/e4XZ9JkZSj8ichr27aNJP34GwLnTE0k/pSsLy99pSD8YCOdawaZHP1rDUYtBy0Y/JoYHoELYRT80cEUVv85EPwPxlJ3Ir0M/ba2pB4d8Qj+UxnQNNzZBP92oTxtSvD8/DkPwYX/rPD8zKA/53Pw5P4NB2KVw8zY/MRnBylvSMz9cMnMt2JwwPyZ/JUdprCo/El2eU6MDJD/ofQWjd4waPyQNcVmV7Ak/YGGxVtunxb4QCaOYK6AMv2MeP7kr5Bu/WlsItMCtJL99zTihGlQrv4HYEGkk7zC/b5Nbv8YiNL+H2fRtp0E3v7Arw/SOSDq/ZBb9iV40Pb+e2MioCQFAv0CE47tkV0G/9Kntld+bQr9HbMu7K81Dv2E7cHgO6kS/ZQdHIWLxRb8e9ulEF+JGvwSQ8cI1u0e/TvW6y917SL8Fcx3HSCNJv9elISHKsEm/miTn+88jSr/KUAHG43tKvxpOsLSquEq/dCN4IebZSr8qjLXKc99Kv5nm7fZNyUq/9dm1eouXSr/enSihX0pKv0QmCPcZ4km/jrS8+CVfSb9+VYijCsJIv5GCYOppC0i/NFf9DgA8R7+3b8rfolRGv398gdtAVkW/oLlRO+BBRL97t5HknRhDvzIXEkOs20G/pvU/DVKMQL/sPLnm0Vc+vz9iS3a4dzu/zBa6kk57OL8Q+GQ1qGU1vyDDRFvzOTK/Cm6ve+n2Lb9kFzzpCFsnv3IsPwUVpyC/GiIhTu3DE78=",
          "dtype": "f8"
         },
         "z": {
          "bdata": "aJNNNtlkwz9ok0022WTDP2iTTTbZZMM/aJNNNtlkwz9ok0022WTDP2iTTTbZZMM/aJNNNtlkwz9ok0022WTDP2iTTTbZZMM/aJNNNtlkwz9ok0022WTDP2iTTTbZZMM/aJNNNtlkwz9ok0022WTDP2iTTTbZZMM/aJNNNtlkwz9ok0022WTDP2iTTTbZZMM/aJNNNtlkwz9ok0022WTDP2iTTTbZZMM/aJNNNtlkwz9ok0022WTDP2iTTTbZZMM/aJNNNtlkwz9ok0022WTDP2iTTTbZZMM/aJNNNtlkwz9ok0022WTDP2iTTTbZZMM/aJNNNtlkwz9ok0022WTDP2iTTTbZZMM/aJNNNtlkwz9ok0022WTDP2iTTTbZZMM/aJNNNtlkwz9ok0022WTDP2iTTTbZZMM/aJNNNtlkwz9ok0022WTDP2iTTTbZZMM/aJNNNtlkwz9ok0022WTDP2iTTTbZZMM/aJNNNtlkwz9ok0022WTDP2iTTTbZZMM/aJNNNtlkwz9ok0022WTDP2iTTTbZZMM/aJNNNtlkwz9ok0022WTDP2iTTTbZZMM/aJNNNtlkwz9ok0022WTDP2iTTTbZZMM/aJNNNtlkwz9ok0022WTDP2iTTTbZZMM/aJNNNtlkwz9ok0022WTDP2iTTTbZZMM/aJNNNtlkwz9ok0022WTDP2iTTTbZZMM/aJNNNtlkwz9ok0022WTDP2iTTTbZZMM/aJNNNtlkwz9ok0022WTDP2iTTTbZZMM/aJNNNtlkwz9ok0022WTDP2iTTTbZZMM/aJNNNtlkwz9ok0022WTDP2iTTTbZZMM/aJNNNtlkwz9ok0022WTDP2iTTTbZZMM/aJNNNtlkwz9ok0022WTDP2iTTTbZZMM/aJNNNtlkwz9ok0022WTDP2iTTTbZZMM/aJNNNtlkwz9ok0022WTDP2iTTTbZZMM/aJNNNtlkwz9ok0022WTDP2iTTTbZZMM/aJNNNtlkwz9ok0022WTDP2iTTTbZZMM/aJNNNtlkwz9ok0022WTDP2iTTTbZZMM/aJNNNtlkwz8=",
          "dtype": "f8"
         }
        },
        {
         "mode": "lines",
         "type": "scatter3d",
         "x": {
          "bdata": "QVlw2XXbND86PMxnNv41P6SuczdLCjc/v0dW8J/+Nz/4XeC1ONo4P9vgmioznDk/HOmCWcdDOj9ddiiESNA6P0Thv9QlQTs/nXNu8+qVOz/YPzh+QM47P8KXE2Ps6Ts/YkjFG9LoOz8o5kfL8so7P4vanzxtkDs/1mcdw305Oz/uWy38fcY6P9KL+HLkNzo/UlExJkSOOT+uAY3wS8o4PyyPhdTF7Dc/SSIdLJb2Nj/qUXq9uug1P6mfT7VJxDQ/0OAbiHCKMz8zKmu7cjwyP8iRWJio2zA/eRdRkfvSLj+hcdO/384rPyomPaQZrig/7N0Ks+JzJT+GWkuajiMiPwS4YqcPgR0/hApMPpicFj8o1vOlo0EPP+wf/4veKQE/YGLqMkED2D5w29GsTFj2vjDVSYUwTQm/xFs08BKqE78Oi0NiSJkavzvFL1aJtiC/WHTKEjQPJL+8LdBUMVMnvyM8wVojfyq/YOYQLMWPLb8v/PT79kAwv8q2ditKqTG/muVHtmj/Mr/1jG3y8UE0v6wRwGWZbzW/QbykHCiHNr9b15bqfYc3v8T+NZOSbzi/GWmn2nY+Ob9wZTF8VfM5v+XXEgZ0jTq/vBa0mTMMO7/uCmuPEW87v7rDKf2ntTu/CKiMH67fO794+tuk+Ow7v8Zes9l53Tu/slght0GxO79lNTDSfWg7v3hY6Sx5Azu/4lsD6ZuCOr/+torcauY5v6OS8wiHLzm/SPEh9axeOL9CQBPrs3Q3vzKm8RmNcja/K9J1nUJZNb+ak5dr9ik0v6b+pynh5TK/bzkJ6lCOMb/6KNDTpyQwv2jzZWu1VC2/YKp5C99BKr/w06We9xMnv4JHUiJGziO/dASrGSp0IL/YO/8mMBIav5ro4TQsIRO/nKhkTOA4CL8YpWJf4Cz0vkDzDdaXWeA+eDZSdAU/Aj8QTtz6aioQP/zgDEOpJBc/rtdgRgwHHj9zwf+nPWUiP91josn+syU/mjjIrWDsKD9Pg+SJEQssP16XKQ/aDC8/v+mbXVD3MD8jiAqFtlYyP3aqEEM1ozM/QFlw2XXbND8=",
          "dtype": "f8"
         },
         "y": {
          "bdata": "XAxwkq9cHb8m00OSntUPv0BNNsc0ROO+zBcNPXs4Bj+/lE3ujZUYP/CX7VrD+iI/46YMOi+XKT8wQW7/nAwwPx4neiIXPTM/tn++YbxZNj/Z8S2KV185P1vpmyjLSjw/ierDvxQZPz+OIUPxp+NAP6Wwk5dcKUI/lIU/lFhcQz/Y5hN1X3tEP0OPclpJhUU/NtdPKAR5Rj/CkcGglFVHPxdZ+2YXGkg/p1Kt6cHFSD/t0tMz41dJP4+hIKPkz0k/VNVBg0otSj/uN2aNtG9KP/6+e0velko/zMzBXp+iSj+beWap65JKPwEABFvTZ0o/PGzx34IhSj97wXezQsBJP1bJGhV3REk/HZJCoZ+uSD/uIbDNVv9HP7D3REpRN0c/9HrBRl1XRj+oWTqeYWBFP5DrH+lcU0Q/eunMdmQxQz+WAKsvo/tBP4bsE2FYs0A/DW1Z6KyzPj98xhwiA+E7P3pOR1+c8Tg/ESpsL3/oNT+JGm2jzMgyP9HYcSd6Ky8/wlUVnTmlKD9WEStjkQUiP5KXesqqphY/Hpq71LJVAj/oP2qSrGnxvnXISe8y2xG/XZi3opJJH78Rf5/y2Esmv0kBE87s2yy/ixC8gyCnMb+eVnY2GM40v4CsRaid3ze/mFCwHYfYOr828GU5xLU9v7HvZJIwOkC//cOKzcSIQb9G9ffpRcVCv/xKPKVt7kO/lJD0rgkDRb+85Ivk/AFGv3seKHdA6ka/b0yS+uS6R79CDARcE3NIv4tR278NEkm/MhNQRTCXSb8sIWKv8QFKvxUAUfLjUUq/YfYLpbSGSr8rXCVWLaBKv+qb8cMznkq/TQqY98mASr/PrvlCDkhKv9kmcCE79Em/BduE+6aFSb8uq97Nw/xIvzbiwbMeWki/2ZCbVV+eR7/FPy48R8pGvwggEgmx3kW/nV9WlY/cRL8s8yv37MRDvzzhm2/pmEK/DM1jQbpZQb+gDCtyqAhAv37Rse4eTj2/+kjTn7dsOr/9AmcZE3A3v6UgPpFFWzS/dlDNJHwxMb/OMP8l8+srv2b5eb8lWCW/awxwkq9cHb8=",
          "dtype": "f8"
         },
         "z": {
          "bdata": "UOtXCtT6xT9Q61cK1PrFP1DrVwrU+sU/UOtXCtT6xT9Q61cK1PrFP1DrVwrU+sU/UOtXCtT6xT9Q61cK1PrFP1DrVwrU+sU/UOtXCtT6xT9Q61cK1PrFP1DrVwrU+sU/UOtXCtT6xT9Q61cK1PrFP1DrVwrU+sU/UOtXCtT6xT9Q61cK1PrFP1DrVwrU+sU/UOtXCtT6xT9Q61cK1PrFP1DrVwrU+sU/UOtXCtT6xT9Q61cK1PrFP1DrVwrU+sU/UOtXCtT6xT9Q61cK1PrFP1DrVwrU+sU/UOtXCtT6xT9Q61cK1PrFP1DrVwrU+sU/UOtXCtT6xT9Q61cK1PrFP1DrVwrU+sU/UOtXCtT6xT9Q61cK1PrFP1DrVwrU+sU/UOtXCtT6xT9Q61cK1PrFP1DrVwrU+sU/UOtXCtT6xT9Q61cK1PrFP1DrVwrU+sU/UOtXCtT6xT9Q61cK1PrFP1DrVwrU+sU/UOtXCtT6xT9Q61cK1PrFP1DrVwrU+sU/UOtXCtT6xT9Q61cK1PrFP1DrVwrU+sU/UOtXCtT6xT9Q61cK1PrFP1DrVwrU+sU/UOtXCtT6xT9Q61cK1PrFP1DrVwrU+sU/UOtXCtT6xT9Q61cK1PrFP1DrVwrU+sU/UOtXCtT6xT9Q61cK1PrFP1DrVwrU+sU/UOtXCtT6xT9Q61cK1PrFP1DrVwrU+sU/UOtXCtT6xT9Q61cK1PrFP1DrVwrU+sU/UOtXCtT6xT9Q61cK1PrFP1DrVwrU+sU/UOtXCtT6xT9Q61cK1PrFP1DrVwrU+sU/UOtXCtT6xT9Q61cK1PrFP1DrVwrU+sU/UOtXCtT6xT9Q61cK1PrFP1DrVwrU+sU/UOtXCtT6xT9Q61cK1PrFP1DrVwrU+sU/UOtXCtT6xT9Q61cK1PrFP1DrVwrU+sU/UOtXCtT6xT9Q61cK1PrFP1DrVwrU+sU/UOtXCtT6xT9Q61cK1PrFP1DrVwrU+sU/UOtXCtT6xT9Q61cK1PrFP1DrVwrU+sU/UOtXCtT6xT9Q61cK1PrFP1DrVwrU+sU/UOtXCtT6xT8=",
          "dtype": "f8"
         }
        },
        {
         "mode": "lines",
         "type": "scatter3d",
         "x": {
          "bdata": "zuv9bMHHND9EJXMl5UY2P0y9+DISrzc/B9SXTtX+OD8yo+1b1DQ6P83P8s3PTzs/DM9h8KNOPD8z0WgUSjA9P747cZ/Z8z0/6pLl+oiYPj+8qP5jrh0/P9HcwZrAgj8/2gl8b1fHPz+OSScuLOs/P/XZTOcZ7j8//gIYlh3QPz8ZvXIjVpE/P7HjKEYEMj8/lcsyQIqyPj9EAWx5axM+P2mXHvhLVT0/Bqfut+94PD8HTNTfOX87Pxxe9NcraTo/zERJQOQ3OT+Uay3Jnew3P7nm9+6tiDY/6qv5mYMNNT/IOkakpXwzPwCVzUax1zE/CNdmb1ggMD+UDwUDwLAsP6dsowY8Ayk/GESGcu87JT99vpNjv14hP1xwxA1P3xo/3iY7/WvlEj/MR5fPHLAFP8BAYZ8Z/OU+mNZtyHRv9b4cVu7kbuMKv4q0Due1eRW/wuTuMpFrHb/5i3xljJ8iv8hhhrMddia/UK97qYc1Kr9ACUxL7dktv6mtM7vGrzC/jRNAYGNhMr93nM2aDQA0v8GdyPgZijW/nSCmSPL9Nr+Zbho8F1o4vzrHN/MhnTm/uvJdbsXFOr/8Wn3lz9I7v7nTSwMswzy/WiUmA+KVPb/2qXewGEo+v/S0oEYW3z6/1Ph0MEFUP79YhYymIKk/vygsxCtd3T+/CvVs58DwP7+7qs3cN+M/v9xIvf/PtD+/2g1BJrllP7+CBD3XRPY+v2bZafblZj6/vp3mTTC4Pb8tjOD11+o8v9PZ7Zqw/zu/pPHao6z3Or9vBss33NM5v5yOrSVslTi/t9kprqQ9N7/CYkAx6M01v++r/sCxRzS/MDK+mpOsMr/rRIGINf4wv5xYMlimfC6/396va3TdKr9CQUoRkSInv+KLwJrUTyO/6Ksy3l/SHr+oSkb1UOUWv2SBNidQwQ2/+EQLmaQy+76gvENqgeXUPgStu1oB0AI/QoJzC/d3ET+A+Sid63UZP3KcUa/QrCA/15n2LHuNJD8ilYwE9lgoP0ku7clXCyw/BzwM8NCgLz/zIkvb14oxP4iSa/wxMzM/zOv9bMHHND8=",
          "dtype": "f8"
         },
         "y": {
          "bdata": "gt5VdtxqI7/cECNQwpUZvxzM6CLYdgi/IKGS1GG40j7E3iEVhyINP6jfI8P85xs/MN855/iQJD9auIwtwBgrP2eMLnNMwjA/ELc3R/LmMz8DvRsgFPc2P76Q77CJ7zk/uOXZE0PNPD9jQiLyS40/Pwm/60dnFkE/N/70W4tUQj+9PttCyn9DP7L8kITvlkQ/o8pGYduYRT+kkQn6g4RGP1BU02L2WEc/hPHznFcVSD8/xs945bhIP9l6C173Qkk/SqRW+f6yST+pEyLPiAhKP/GXqrI8Q0o/+3vdIN5iSj8YD7l+TGdKP27r6DqDUEo/01R70pkeSj951aq4w9FJP90N1SFQakk/vGPVsanoSD94uRcOVk1IP59+1FP1mEc/lBwEc0HMRj8N4rNuDehFPxgBgoNE7UQ/lNcgNencQz+AeNtDFLhCP+cnLovzf0E/shydysg1QD8ikRS00LU9P6wSwJVv4To/INL07ljxNz9gwJUElOg0P6ykhoxByjE/zq+Q6DAzLT+1KlwhxbMmP2OiLHTyHCA/fWyWYgfrEj9Q7yhBpiL2PjCKFVaiff++DIh8NF0/Fb+qRedntUQhvzDVQT/v1ye/oFw8BZVSLr9Lm2J6/FYyv0M1ocDGcTW/W1vpC3Z2OL+SrDDc7WE7v9u6368rMT6/fpgJD6VwQL/wV2/pwbdBv8nIPjWb7EK/Huw/lPINRL9eVxPEnRpFv9/xpdGHEUa/1EGtNrLxRr/8/wXgNbpHvw195htEaki/X0/vbicBSb+Upj5PRH5JvxxuxcQZ4Um/Ovg47kEpSr8TJxhqclZKv7XRV6N8aEq/7VtnAU5fSr9gAVz77zpKv18RLw6I+0m/KioZllehSb9pSTKLuyxJv00lnCEsnki/M5iZTTz2R78f2RIsmTVHv/6nIlAJXUa/hGBk9mttRb/W9NUeuGdEv4wFO477TEO/II0HuFkeQr8ExvCRCt1Av5/6s6SyFD+/mpzRNUZPPL+bcUEhq2w5vwQc8sXabza/pHjjhulbM78O+3aeAzQwv1EUWbLT9im/id5VdtxqI78=",
          "dtype": "f8"
         },
         "z": {
          "bdata": "QENi3s6QyD9AQ2LezpDIP0BDYt7OkMg/QENi3s6QyD9AQ2LezpDIP0BDYt7OkMg/QENi3s6QyD9AQ2LezpDIP0BDYt7OkMg/QENi3s6QyD9AQ2LezpDIP0BDYt7OkMg/QENi3s6QyD9AQ2LezpDIP0BDYt7OkMg/QENi3s6QyD9AQ2LezpDIP0BDYt7OkMg/QENi3s6QyD9AQ2LezpDIP0BDYt7OkMg/QENi3s6QyD9AQ2LezpDIP0BDYt7OkMg/QENi3s6QyD9AQ2LezpDIP0BDYt7OkMg/QENi3s6QyD9AQ2LezpDIP0BDYt7OkMg/QENi3s6QyD9AQ2LezpDIP0BDYt7OkMg/QENi3s6QyD9AQ2LezpDIP0BDYt7OkMg/QENi3s6QyD9AQ2LezpDIP0BDYt7OkMg/QENi3s6QyD9AQ2LezpDIP0BDYt7OkMg/QENi3s6QyD9AQ2LezpDIP0BDYt7OkMg/QENi3s6QyD9AQ2LezpDIP0BDYt7OkMg/QENi3s6QyD9AQ2LezpDIP0BDYt7OkMg/QENi3s6QyD9AQ2LezpDIP0BDYt7OkMg/QENi3s6QyD9AQ2LezpDIP0BDYt7OkMg/QENi3s6QyD9AQ2LezpDIP0BDYt7OkMg/QENi3s6QyD9AQ2LezpDIP0BDYt7OkMg/QENi3s6QyD9AQ2LezpDIP0BDYt7OkMg/QENi3s6QyD9AQ2LezpDIP0BDYt7OkMg/QENi3s6QyD9AQ2LezpDIP0BDYt7OkMg/QENi3s6QyD9AQ2LezpDIP0BDYt7OkMg/QENi3s6QyD9AQ2LezpDIP0BDYt7OkMg/QENi3s6QyD9AQ2LezpDIP0BDYt7OkMg/QENi3s6QyD9AQ2LezpDIP0BDYt7OkMg/QENi3s6QyD9AQ2LezpDIP0BDYt7OkMg/QENi3s6QyD9AQ2LezpDIP0BDYt7OkMg/QENi3s6QyD9AQ2LezpDIP0BDYt7OkMg/QENi3s6QyD9AQ2LezpDIP0BDYt7OkMg/QENi3s6QyD9AQ2LezpDIP0BDYt7OkMg/QENi3s6QyD8=",
          "dtype": "f8"
         }
        },
        {
         "mode": "lines",
         "type": "scatter3d",
         "x": {
          "bdata": "IMDNwKAyND/1zwRINQ42P6A+cZMN0zc/2sqt1VZ/OT9nPyWSVxE7P06DKmRxhzw/P/siqiLgPT9a5woTCBo/Pzj8XAbvGUA/BEe3CEGWQD805aPpeQFBP6njPCIrW0E/YMmVPfiiQT/MBwo4l9hBP8SeiMvQ+0E/Yk6OqIAMQj8Gm5OblQpCPyoOyJ4R9kE/2mwI2AnPQT/D/RGDppVBP2dXCcgiSkE/HHd/fszsQD+7/DPdA35AP/6Dzi12/D8/+hNFyevbPj/MQt/7kZs9P4/OF/+yPDw/yYlpgrjAOj8xDno2Kik5P6uFVjmsdzc/d75iZf2tNT+g9LiE9c0zPzoj1WqD2TE/Pl8C7VWlLz8Qdh/8BXcrPxeHE1BmLCc/asoOZePJIj+ao/etBKgcP1BEc3G4nhM/4EIFW2UCBT/AqzxDjY3VPpiKlPuRQ/++CmzFQZPyEL/244y4yQIav6m0vxQYfCG/CxY7P8XkJb9Yo+nk4DYqv0nPk9L2bS6/ZZ34V9dCMb+k4iQ96DwzvwX24G4kIzW/s21rtJbzNr9fyNpKYKw4v+LtodK6Szq/aOXwI/rPO79g8A4Ijjc9vxYW59UDgT6/ztsd8AerP7+uJpORM1pAvz279vAHzkC/jO/qr4kwQb//LnBDU4FBv21BgmQRwEG/omXwZYPsQb8G1Ah3ewZCv8/v0tLeDUK/33en26UCQr9+RQoj3ORBvxeBvV2gtEG/B5gaRCRyQb8olNFerB1BvzCqQ8CPt0C/ztHBqjdAQL8I2hdIPnA/v8SvAO2kPz6/ATP9QN3vPL9rkSRlQYI7v//sGTpK+Dm/uQeO241TOL/qPZ/9vZU2v+VVxy2mwDS/X/8j+SnWMr9nUwL6Qtgwv55MXp39kS2/B9hK9/lUKb9IZpJ22f0kv9WB4XoVkSC/SCM4ZHsmGL/QSMiSzSMOv2Dedn4lt/e+wPoY24Tj6T54VDg6qcYIP6CfVotzfRU/RFWxdWuBHj+cn8yg+LIjP1v6Wx/tECg/ohn8zBJWLD9ws1hpAT8wP2S80Do6QjI/HsDNwKAyND8=",
          "dtype": "f8"
         },
         "y": {
          "bdata": "HOcHjP+vJ7/f8Ac1OCohvw7C3Gt+JRW/gJm0UwCD/77AmcKrdLD1Pj4c8oRjsxI/LtVM7WLnHz9RO6GbP30mP/RhWA6f7yw/1eWrSBWiMT9WoTrTLbo0P1atZaTovDc/OrUJQCunOj8Sq0tj9HU9PzmvyI4vE0A/pS0k5tJaQT/T3zN7kpBCP059XQIvs0M/x9kT6nzBRD8NJaSPZbpFP2Ulb17onEY/3Vhm2BtoRz+KWbyGLhtIPydp0NFntUg/2ZB2vyg2ST+kL9iW7JxJP+EJRGlJ6Uk/QdJgf/AaSj8YnFGqrjFKP1ySeHhsLUo/TZChTS4OSj9vsnteFNRJPxKKZo9af0k/GSy1NlgQST8Qv6bCf4dIP29WcUNe5Uc/1rLY2ZoqRz/gy+YK9ldGP226d/lIbkU/MJVlhoRuRD/m+TpYsFlDP7A3bMvpMEI/BUIvzGL1QD8MSkM2wVA/P44bA/x0ljw/TgWnu7C+OT+pHMOnYsw2P7yaJE6UwjM/0+RMdmekMD/kdefNJeoqP2wHySu+byQ/ffKDFovAGz8s+zKi/AkNP8AKUNCfp9M+HH3ABJ0iCL/42pN7plAZv5RO4AfzOiO/RXYuI8C5Kb+4rUNBBA8wvzysW7eaMDO/KBGcKGk+Nr8jZdutSTU5vyLixwIuEjy/VR9IrCLSPr+glZ8BKblAvzinSJAD+EG/UzKzU1gkQ7/awmS18TxEvy++9XWuQEW/CA4714IuRr+v4ESweQVHv/X9FWq1xEe/1S8P5HBrSL+3SCM/APlIvy5QAo/RbEm/7zSFcG3GSb+x9b6EdwVKv3JkNNCuKUq/RF3Y/e0ySr/dY4eFKyFKv5f82rV59Em/EKBKoQatSb9Mva3uG0tJvym/T40ez0i/GFjkTI45SL/CVMdZBYtHv3rFD543xEa/DVEaCPLlRb8s3km3GfFEv4FV2A+r5kO/R/OqtrjHQr/JWDZ2apVBv8Qzlg38UEC/VpMl1nf3Pb8K08emEy47v5xCKe6qSDi/PQH77jlKNb+YObi51jUyv2GLd/xbHS6/I+cHjP+vJ78=",
          "dtype": "f8"
         },
         "z": {
          "bdata": "KJtssskmyz8om2yyySbLPyibbLLJJss/KJtssskmyz8om2yyySbLPyibbLLJJss/KJtssskmyz8om2yyySbLPyibbLLJJss/KJtssskmyz8om2yyySbLPyibbLLJJss/KJtssskmyz8om2yyySbLPyibbLLJJss/KJtssskmyz8om2yyySbLPyibbLLJJss/KJtssskmyz8om2yyySbLPyibbLLJJss/KJtssskmyz8om2yyySbLPyibbLLJJss/KJtssskmyz8om2yyySbLPyibbLLJJss/KJtssskmyz8om2yyySbLPyibbLLJJss/KJtssskmyz8om2yyySbLPyibbLLJJss/KJtssskmyz8om2yyySbLPyibbLLJJss/KJtssskmyz8om2yyySbLPyibbLLJJss/KJtssskmyz8om2yyySbLPyibbLLJJss/KJtssskmyz8om2yyySbLPyibbLLJJss/KJtssskmyz8om2yyySbLPyibbLLJJss/KJtssskmyz8om2yyySbLPyibbLLJJss/KJtssskmyz8om2yyySbLPyibbLLJJss/KJtssskmyz8om2yyySbLPyibbLLJJss/KJtssskmyz8om2yyySbLPyibbLLJJss/KJtssskmyz8om2yyySbLPyibbLLJJss/KJtssskmyz8om2yyySbLPyibbLLJJss/KJtssskmyz8om2yyySbLPyibbLLJJss/KJtssskmyz8om2yyySbLPyibbLLJJss/KJtssskmyz8om2yyySbLPyibbLLJJss/KJtssskmyz8om2yyySbLPyibbLLJJss/KJtssskmyz8om2yyySbLPyibbLLJJss/KJtssskmyz8om2yyySbLPyibbLLJJss/KJtssskmyz8om2yyySbLPyibbLLJJss/KJtssskmyz8om2yyySbLPyibbLLJJss/KJtssskmyz8om2yyySbLPyibbLLJJss/KJtssskmyz8om2yyySbLPyibbLLJJss/KJtssskmyz8om2yyySbLPyibbLLJJss/KJtssskmyz8=",
          "dtype": "f8"
         }
        },
        {
         "mode": "lines",
         "type": "scatter3d",
         "x": {
          "bdata": "Xe9hVXBCMz92abB10Xg1P6Bmw1gQmTc/txxv+fugOT/WXLllfI47P/5XUOeUXz0/lNruD2YSPz9yuMjTl1JAPwSCPz0pC0E/elSkAimyQT9zuIP+6kZCPy7zIdnVyEI/Y6+MpmM3Qz+qn6dwIpJDP3jMpay02EM/iHV2m9EKRD/wIMKURShEPy6LKjzyMEQ/EpSWoM4kRD+i5WlF5wNEP5bUnhVezkM/XsbPQGqEQz8dJ1QCWCZDP46Tq1KItEI/lzeIg3AvQj8JbN/GmZdBPwY9faGg7UA/cKGsSTQyQD+iaDXlK8w+P8s7XgowFD0/Ae9Njjo+Oz84faPiL0w5P1qdwmsRQDc/qIecb/sbNT/mE8PoIuIyP0JHBEDTlDA/QVTN3ddsLD8jJe0avJInP5PH05tToCI/WOnJom81Gz+gKZ7uKw4RP9AxuO9NVfs+gCMuqIFU6774TlTC3E0Lv74UuuY51Re/A5/QEnr1IL9MQ3Xo2+4lv43FCdOh0Sq/y6qcf8KYL7+fKk6NqB8yv/13wzFBYDS/LjD/ztiLNr9IFpStMqA4v6IYNQsqmzq/ZINhULR6PL+Y7hcr4zw+v+aaZIzm3z+/xPxeQwexQL9uIqGF5mBBv1iZBcLb/kG/iGP4JESKQr/A/xz6jwJDv8qmcEBDZ0O/K70dKva3Q79stXyHVfRDv5oV1BwjHES/gjt/4jUvRL+uvjkvei1Ev/LWY8zxFkS/bOMq9LPrQ7+095c57atDv+MdnVrfV0O/dqpQ/ODvQr+mfZxRXXRCv5JDvazT5UG/65sD/NZEQb+Fc14yDZJAvy5hlThdnD+/Qw+xQwr0Pb+rnRTt1iw8vyy2xm+YSDq/qpUe90FJOL8+Fzac4jA2v2GekUajATS/+PctcsS9Mb/3aX+6N88uvxAhEUAkAyq/tBJ8YkAcJb9NvyCzmR8gv8QwymOoJBa/KK2TApTmB79AziSfoFnbvhzFhQiyEwE/xBBe2n7AEj96WxI80OMcP4ojBu2sdCM/thbbi2NjKD9E26tY9jgtP9qN5c00+DA/W+9hVXBCMz8=",
          "dtype": "f8"
         },
         "y": {
          "bdata": "XA7OvPQ7K7+vuM4Vtc8kvyvMlggDnBy/BG8mSzz2Dr8grX7wH1LivsAej/7k0QU/KvDQ9OkQGD/zTVdOCZAiP7NHxyF7BCk/AL2KFCNfLz/S4ectuswyPxq8TMGB1jU/VjXug8bJOD/g7bXpfaM7P8L1h723YD4/fIpTlFB/QD9hfenNQ71BPwcfkMvt6EI/YzPWphkBRD8EvDqRpgRFP5RB4v2I8kU/UL9itcvJRj+H5InSkIlHP1IbGacSMUg/souLh6S/SD9DDRR9szRJPymNG93Gj0k/br6jxYDQST++3A1+nvZJPw2/4bv4AUo/kFROy4PyST/JyzmbT8hJP3P01KyHg0k/dMrC5nIkST8rZAJMc6tIP86a5pYFGUg/cZKDuMBtRz+HqhY9VapGP886CZaMz0U/oLVJSkjeRD9CPdENgddDP6VQRcFFvEI/ANW9WrqNQT9CUc+4Fk1AP84vH8JK9z0/DobAVoQ1Oz83cby2sVc4P9Koz1LHYDU/xoB4edNTMj+4gBdh9mcuP6rLve7tCCg/VoC+6R6RIT+z5QdUaA4WPwC/UsisxwE/ED3vHJY/8b6CwvqGL38Rv4jR5EhwnB6/fmIsiRHNJb8P59PXcTUsv/24fBBfQDG/CnBRtzxUNL/Uejm6JVM3v1IAA40DOjq/5M5ibNgFPb8MyVFzwrM/vwEV2El/IEG/3kaPt3VVQr8Ato4GhndDv0nB0zWFhUS/gCvR81x+Rb/Vr1S9DGFGv7ss8uWqLEe/ptPjiGXgR7+9EGdhg3tIv5Mit4lk/Ui/QITgH4NlSb8rQsPPc7NJv/P1tUHm5km/sl1XbaX/Sb+KLznQl/1Jv0rPK4i/4Em/4coPUTqpSb+PXS9mQVdJv/ORP0cp60i/edNFYWFlSL+8uLubc8ZHv4NtZ8oDD0e/aUV7BM8/Rr85jKrhqllFvyGB/J2EXUS/EnNAJWBMQ7+AEx8HVydCv6ow3VSX70C/zwz208RMP7+mPuJBF5o8v8x9wOrtyTm/NNo5Ki/fNr+EziHD3Nwzv+S++cUQxjC/Yw7OvPQ7K78=",
          "dtype": "f8"
         },
         "z": {
          "bdata": "GPN2hsS8zT8Y83aGxLzNPxjzdobEvM0/GPN2hsS8zT8Y83aGxLzNPxjzdobEvM0/GPN2hsS8zT8Y83aGxLzNPxjzdobEvM0/GPN2hsS8zT8Y83aGxLzNPxjzdobEvM0/GPN2hsS8zT8Y83aGxLzNPxjzdobEvM0/GPN2hsS8zT8Y83aGxLzNPxjzdobEvM0/GPN2hsS8zT8Y83aGxLzNPxjzdobEvM0/GPN2hsS8zT8Y83aGxLzNPxjzdobEvM0/GPN2hsS8zT8Y83aGxLzNPxjzdobEvM0/GPN2hsS8zT8Y83aGxLzNPxjzdobEvM0/GPN2hsS8zT8Y83aGxLzNPxjzdobEvM0/GPN2hsS8zT8Y83aGxLzNPxjzdobEvM0/GPN2hsS8zT8Y83aGxLzNPxjzdobEvM0/GPN2hsS8zT8Y83aGxLzNPxjzdobEvM0/GPN2hsS8zT8Y83aGxLzNPxjzdobEvM0/GPN2hsS8zT8Y83aGxLzNPxjzdobEvM0/GPN2hsS8zT8Y83aGxLzNPxjzdobEvM0/GPN2hsS8zT8Y83aGxLzNPxjzdobEvM0/GPN2hsS8zT8Y83aGxLzNPxjzdobEvM0/GPN2hsS8zT8Y83aGxLzNPxjzdobEvM0/GPN2hsS8zT8Y83aGxLzNPxjzdobEvM0/GPN2hsS8zT8Y83aGxLzNPxjzdobEvM0/GPN2hsS8zT8Y83aGxLzNPxjzdobEvM0/GPN2hsS8zT8Y83aGxLzNPxjzdobEvM0/GPN2hsS8zT8Y83aGxLzNPxjzdobEvM0/GPN2hsS8zT8Y83aGxLzNPxjzdobEvM0/GPN2hsS8zT8Y83aGxLzNPxjzdobEvM0/GPN2hsS8zT8Y83aGxLzNPxjzdobEvM0/GPN2hsS8zT8Y83aGxLzNPxjzdobEvM0/GPN2hsS8zT8Y83aGxLzNPxjzdobEvM0/GPN2hsS8zT8Y83aGxLzNPxjzdobEvM0/GPN2hsS8zT8Y83aGxLzNPxjzdobEvM0/GPN2hsS8zT8Y83aGxLzNPxjzdobEvM0/GPN2hsS8zT8=",
          "dtype": "f8"
         }
        },
        {
         "mode": "lines",
         "type": "scatter3d",
         "x": {
          "bdata": "6mDFdaAeMj+aXN8cVK00PzD4sEm3Jjc/XM1oEz2IOT8ftuUqcc87P7KAY2L6+T0/nhqYjM4CQD8kj3XEHvhAP9AV9/jw20E/7g9SUlqtQj+DENnygmtDPzrLgNWmFUQ/QsnvlxarRD8WmkgvOCtFP3oj9IaHlUU/dGHICJfpRT9GPf8NECdGPygJiTizTUY/ko1etFhdRj+WUo9g8FVGPx/T4d+BN0Y/kHb0kCwCRj8UbudtJ7ZFP77KsNPAU0U/qDdVMV7bRD+gnFife01EP9Vx0l+rqkM/caGpR5XzQj8AYZMR9ihCP55Yh5ueS0E/DqNxD3NcQD/ALgHw07g+P26cAYUWmTw/wLeaXd5bOj+dY9lcegM4P2rjB2hVkjU/s0S16PMKMz+/LW808W8wP/Witbn5hys/e0Xk1a8TJj+7xX8QpIggP/zUHmQa2RU/0G23Us4UBT+ATF18NOXJvqRB0MnJTwi/7C4gVxh0F7+Oa1JRD1Qhv8yJvK013Ca/QCCKdMtMLL8S0P2RGtAwv5xQS6Z6aDO/uFzzHNnsNb8csTS7nVo4v7q8epJHrzq/fGENlW/oPL/ipxMQywM/v1rsLQSXf0C/LMi8u0ZsQb8JgnWzAEdCv6rajHPjDkO/FAkY8CDDQ79jbHJd/2JEv94tw+/Z7US/RWbdhCFjRb8Jqss3XcJFv4vkbt0qC0a/VgywaT89Rr8bYNw8Z1hGv85t3FiGXEa/CAkPfphJRr/xcaovsR9GvxYpn5/73kW//SsRgrqHRb+TgJXIRxpFv27wekUUl0S/yoZ9N6f+Q783s1y+nVFDvyDH4ziqkEK/Y8MLjZO8Qb8x//NaNNZAvw4CCjf0vD+/yLJLV8isPb94qgCKBX47v7jBxsrrMjm/br7JS9jNNr8O9OkFQ1E0v4LpSC28vzG/TBe3GdM3Lr+QaHaXB9Eov4p5Cz6nUCO/2HvDrLt4G7/O1Bhf1zMQv3Dlsoj9ePO+gPTMDXXx+T4qW/heStARP/yp3qHaER0/6Ayv1bkaJD+oSiz/zJcpP1RZuGt++i4/52DFdaAeMj8=",
          "dtype": "f8"
         },
         "y": {
          "bdata": "DEYG2Z75Lb/UC64AjKQnv0i8qw8aNyG//vofXtJvFb9Yf4FLr7YAv/A0omkBB/M+PAu+EfHZET8ETZv9ut8eP6GSrMnY4iU/DeVhi0Q/LD/O6q8TST8xPwgMf4IoTTQ/rEBxmRpGNz+MlFDyDic6P2CY8eEN7Tw/vphIhzuVPz8uuOxebQ5BP6AiPPinQEI/nBS55BFgQz+RH6zegmtEP4NF5zbnYUU/TmX08EBCRj9kuuXIqAtHP9WNuiFPvUc/x1pi23xWSD+ryoEPlNZIP93yNrQQPUk/1wo1JImJST+5TauLrrtJP5/EhjlN00k/Hje71EzQST9RVFx1sLJJP3Q1baGWekk/iINpLTkoST8+r6gA7btIP0iu2L0hNkg/03XqT2GXRz/B0eZbT+BGP4YlPpioEUY/5PlACkIsRT/u3YkqCDFEP/r1OvH9IEM/Yn4Kyzv9QT/LbzF47sZAP5Z+zKyr/j4/U5tGLodPPD9N0hnHM4M5P1xsu96TnDY/yaaj+KSeMz8uETKffIwwP5PemmuK0io/xCkMa3VwJD9GYF9enfIbP0w524kBzw0/gJF8EXHQ3D5g3fK+m54Gv0rbOkX6Xxi/tZWULsOrIr82+mclShQpv6Hmzu/2Yi+/olxUjqTIMr+kg13KcMw1v0haB5bEuTi/2WYThZuNO7+4MDtxC0U+v0bzqr2jbkC/BvInd9GpQb9LLH0AytJCvze/7Tlb6EO/c3YmBGfpRL/NuS5n5NRFvy83i6PgqUa/S7t4LIBnR7+NRz2K/wxIv6EapiO0mUi/pvfi7QwNSb8yZQkCk2ZJv1DFpRfqpUm/Ae7b49DKSb9rM7VcIdVJv16CVuDQxEm/xR/2P/CZSb/EwIWuq1RJv0baIpNK9Ui/Dh98Py98SL+aC3iK1ulHvxj5hE/XPke/cl4X0+F7Rr+PjPYMv6FFv2wyE9lPsUS/VzW9D4yrQ78gzCeGgZFCvzU5Q/hSZEG/htwK3TYlQL/KF/lM7Ko9v/guBt3V7Dq/WgdjJP4SOL/od315VSA1v1uEhMflFzK/E0YG2Z75Lb8=",
          "dtype": "f8"
         },
         "z": {
          "bdata": "gKVArV8p0D+ApUCtXynQP4ClQK1fKdA/gKVArV8p0D+ApUCtXynQP4ClQK1fKdA/gKVArV8p0D+ApUCtXynQP4ClQK1fKdA/gKVArV8p0D+ApUCtXynQP4ClQK1fKdA/gKVArV8p0D+ApUCtXynQP4ClQK1fKdA/gKVArV8p0D+ApUCtXynQP4ClQK1fKdA/gKVArV8p0D+ApUCtXynQP4ClQK1fKdA/gKVArV8p0D+ApUCtXynQP4ClQK1fKdA/gKVArV8p0D+ApUCtXynQP4ClQK1fKdA/gKVArV8p0D+ApUCtXynQP4ClQK1fKdA/gKVArV8p0D+ApUCtXynQP4ClQK1fKdA/gKVArV8p0D+ApUCtXynQP4ClQK1fKdA/gKVArV8p0D+ApUCtXynQP4ClQK1fKdA/gKVArV8p0D+ApUCtXynQP4ClQK1fKdA/gKVArV8p0D+ApUCtXynQP4ClQK1fKdA/gKVArV8p0D+ApUCtXynQP4ClQK1fKdA/gKVArV8p0D+ApUCtXynQP4ClQK1fKdA/gKVArV8p0D+ApUCtXynQP4ClQK1fKdA/gKVArV8p0D+ApUCtXynQP4ClQK1fKdA/gKVArV8p0D+ApUCtXynQP4ClQK1fKdA/gKVArV8p0D+ApUCtXynQP4ClQK1fKdA/gKVArV8p0D+ApUCtXynQP4ClQK1fKdA/gKVArV8p0D+ApUCtXynQP4ClQK1fKdA/gKVArV8p0D+ApUCtXynQP4ClQK1fKdA/gKVArV8p0D+ApUCtXynQP4ClQK1fKdA/gKVArV8p0D+ApUCtXynQP4ClQK1fKdA/gKVArV8p0D+ApUCtXynQP4ClQK1fKdA/gKVArV8p0D+ApUCtXynQP4ClQK1fKdA/gKVArV8p0D+ApUCtXynQP4ClQK1fKdA/gKVArV8p0D+ApUCtXynQP4ClQK1fKdA/gKVArV8p0D+ApUCtXynQP4ClQK1fKdA/gKVArV8p0D+ApUCtXynQP4ClQK1fKdA/gKVArV8p0D+ApUCtXynQP4ClQK1fKdA/gKVArV8p0D8=",
          "dtype": "f8"
         }
        },
        {
         "mode": "lines",
         "type": "scatter3d",
         "x": {
          "bdata": "7tP3ydzmMD/S4SDlRsszP7Ex2YpJmzY/FGpah/5TOT/Sgmasl/I7P9izmLVhdD4/uRd8iGNrQD9yD3dEqYtBPznzb+bYmUI/aYzo6tuUQz8sy0qSr3tEP3r5oetlTUU/2h/hySYJRj8dxrmiMK5GPyJbHVbZO0c//pub3Y6xRz92NOni1w5IP3Bu8zxUU0g/vQEAU71+SD9u1nJl5pBIP4q17ru8iUg/sFuhuEdpSD82CafQqC9IPzpojWkb3Uc//VUZnPRxRz/ArI7cou5GP4F61IitU0Y/2QLrXLShRT/UYkPObtlEP3OSok6r+0M/CLVSd04JQz8LFn4dUgNCP/66plDE6kA/LAWIiIyBPz+fkEpLFg09P4uzmb6tejo/JEsTlvnMNz+CqE+ovAY1P4vGQRbTKjI/1C8LsV54Lj+3xExrrnsoP6Cx/UjBZSI/WKmkd7p5GD+kczMIbx0IPwDjVI1SLrq+/G/XSXy/Cb9cC/SsfUkZv9TOoBiWzCK/SOu7bwzhKL8ccW9s3dsuv3dfiodvWzK/eIouEQQ2Nb8/jhM6u/o3v6q3DnO6pjq/StPup0A3Pb+erksWqak/v6AukgO3/UC/apE+tBUVQr80cCei0BlDv3rRHgnbCkS/JijZcDznRL9IIg6tEa5Fv1ZqpceNXka/d/b90/r3Rr+BG3aqunlHv+ITc4tH40e/juw/qTQ0SL85uTWYLmxIv59yuaT7iki/nNq2DnyQSL+rFVsqqnxIvzE97WWaT0i/reO+NHsJSL+fQErflKpHv6FfrzhJM0e/kiHdOROkRr9mAs6Chv1FvwlPW8JOQEW/2ahDBS9tRL+wRBvtAIVDv24n9c+ziEK/K6GswUt5Qb8vWM2H4FdAv2t9XPI4Sz6/BHnRlHbHO7+aHtKQESc5v2WzzgS/bDa/GeRTyU6bM7/SYwKLqLUwv2nm7JeRfSu/TRJrn3tzJb9m5DnTkaYev1RIrf2TRhK/SFY7gv1O97647lfZW5T6Pgq/FsgTFxM/kAta5WJ1Hz/cFeAzotklP5BjMesM4is/69P3ydzmMD8=",
          "dtype": "f8"
         },
         "y": {
          "bdata": "Y3D2DTb1L79mdQB+9LMpv4rddCs0WCO/LDVTBAbRGb/EJ4nwDa4JvwBwXkM1Gqg+FNwaOXxuCj9YCIdJqDAaPy3tFpSJhyM/5orHYZ3iKT8sweopgREwPzk001gjITM/sFxLdA0dNj/i86sGLAI5P/AosxmDzTs/NM4GSjF8Pj/v+KhfuYVAP0kr9wJSvEE/idKUY6LgQj8oTqwuffFDPwvqhyDJ7UQ/FNqAJoLURT9C8RVruqRGPz+6FUubXUc/ADnfMmb+Rz++QtVidYZIPxrrOZo89Ug/tObBp0lKST8h20rfRIVJPyNFO3TxpUk/OMwuuC2sST+EaK4985dJPy6R0N5WaUk/h566p4ggST9fiBml071IP3gOxZadQUg/bArdhmasRz8vCc1FyP5GPys6vst1OUY/2CQbgDpdRT8EUeNn+WpEP0gEpzusY0M/nk8cZmJIQj/pxlbsPxpBPz+VhIH4tD8/JF8uBMIUPT9ibCVPkVY6P/0ipDc6fTc/6UmAj6yLND8BFi0e8YQxP75SBQBN2Cw/YNcI3vuIJj9YqO3wbyIgPywcpIqEVhM/UPtuZuhQ+T6YS6wGWtL6vko6+Z19thO/Pz8QWQlSIL9BTqgTAbgmv7hY6oqNBi2/vveDN5ebMb9sOO0jwaE0v2/oWYSmkje/vVPOPj9rOr+7yK9FnCg9v59D+J3qxz+/cAI9JDsjQb8Ha5mF1lBCvxbX54uQa0O/xaNSxkVyRL+1dsRm52NFv8cRD1l8P0a/mNKsQyIER78NMhRxDrFHv5W/rKCORUi/VjKOvgnBSL9+J0yBACNJv7vkK+0Na0m/6d08vOeYSb8hsOiqXqxJv/elq6hepUm/EIzD7O6DSb/wg7/uMUhJv/l/+EJl8ki/YggXW+GCSL8+uOcqGfpHv45t3LGZWEe/8FG0aQmfRr/mjuCaJ85Fv/aSVpfL5kS/Lymb3OPpQ78tL+sdddhCv+1UfzeZs0G/1Or/C358QL/VfaiayGg+v9yhHGQ8uTu/qkSPMRztOL9LCK01Sgc2v7veqB/DCjO/anD2DTb1L78=",
          "dtype": "f8"
         },
         "z": {
          "bdata": "eNFFF1100T940UUXXXTRP3jRRRdddNE/eNFFF1100T940UUXXXTRP3jRRRdddNE/eNFFF1100T940UUXXXTRP3jRRRdddNE/eNFFF1100T940UUXXXTRP3jRRRdddNE/eNFFF1100T940UUXXXTRP3jRRRdddNE/eNFFF1100T940UUXXXTRP3jRRRdddNE/eNFFF1100T940UUXXXTRP3jRRRdddNE/eNFFF1100T940UUXXXTRP3jRRRdddNE/eNFFF1100T940UUXXXTRP3jRRRdddNE/eNFFF1100T940UUXXXTRP3jRRRdddNE/eNFFF1100T940UUXXXTRP3jRRRdddNE/eNFFF1100T940UUXXXTRP3jRRRdddNE/eNFFF1100T940UUXXXTRP3jRRRdddNE/eNFFF1100T940UUXXXTRP3jRRRdddNE/eNFFF1100T940UUXXXTRP3jRRRdddNE/eNFFF1100T940UUXXXTRP3jRRRdddNE/eNFFF1100T940UUXXXTRP3jRRRdddNE/eNFFF1100T940UUXXXTRP3jRRRdddNE/eNFFF1100T940UUXXXTRP3jRRRdddNE/eNFFF1100T940UUXXXTRP3jRRRdddNE/eNFFF1100T940UUXXXTRP3jRRRdddNE/eNFFF1100T940UUXXXTRP3jRRRdddNE/eNFFF1100T940UUXXXTRP3jRRRdddNE/eNFFF1100T940UUXXXTRP3jRRRdddNE/eNFFF1100T940UUXXXTRP3jRRRdddNE/eNFFF1100T940UUXXXTRP3jRRRdddNE/eNFFF1100T940UUXXXTRP3jRRRdddNE/eNFFF1100T940UUXXXTRP3jRRRdddNE/eNFFF1100T940UUXXXTRP3jRRRdddNE/eNFFF1100T940UUXXXTRP3jRRRdddNE/eNFFF1100T940UUXXXTRP3jRRRdddNE/eNFFF1100T940UUXXXTRP3jRRRdddNE/eNFFF1100T940UUXXXTRP3jRRRdddNE/eNFFF1100T8=",
          "dtype": "f8"
         }
        },
        {
         "mode": "lines",
         "type": "scatter3d",
         "x": {
          "bdata": "eIpwknVhLz9KOVwtgugyP3b4Dt7LDDY/LLqEx1oaOT+eGBFECQ48P/ORoVrM5D4/ynvccNvNQD8uCNhB/hdCP9Wvj1B6T0M/o3I8hw5zRD8+Tv9UjoFFP1WutePieUY/qaxnNwxbRz+I1ic2IiRIPwJ2VJdV1Eg/rr1DufBqST/plH5cWOdJP20EyUMMSUo/LExTuKePSj8+Xovx4bpKP0u6I2COyko/g1IC3Jy+Sj/9IOi0GZdKP0dCwKUtVEo/W6qjqh32ST96u7y5Sn1JP24MVF8x6kg/BmZtPWk9SD/3T3lvpHdHP7dMvNKumUY/1AUpNG2kRT+8CIZk3JhEPzQz0jMQeEM/NHP0VDJDQj8F7tsqgftAP/nGmQCdRD8/vjxZV/xxPD9CwmZACYI5PyfX/NvKdzY/IrkbZWNWMz+GhJT2DCEwP8pG8G4stik//bev5L0PIz9ejmxrUqsYP7iSBCp2OwY/QBs1ko3a476Ww/qSzxEQv9abvNi8lx2/3bo+cZR/Jb80EY5AIR0sv9dsZo3ZTjG/TWQNEEt9NL9GunycnZY3v/I3kmyflzq/1krDyjd9Pb8Tp6AhNSJAv++R/tssdUG/2+cuqiW2Qr+Eic+u1ONDv1e7eO4C/US/ak5OkI4ARr/IescIbO1Gv9pteS2nwke/KELIMGR/SL+z7XqE4CJJvxyXSKJzrEm/05WQuY8bSr+rCopBwm9Kv7hfVG+0qEq/dPtujyvGSr9x7TtCCchKv4w0T5tLrkq/XFhqIw15Sr9vSiK9hChKv4fBS2wFvUm/omBoAP42Sb8M4Gyi+JZIv4L3VUaa3Ue/O9geAaILR78TfshD6CFGv4fiPPxdIUW/9g70nAsLRL+bEFsMEOBCvwPOFX2foUG/B5pMMAJRQL80AppGJt89v6A8tVN9/Tq/MlpB7QEAOL/X844myek0v6pgg5MBvjG/+QnTAeD/LL/fx7Qr2GUmv8SI2oZzaR+/zrz4aNXmEb/QpTrWDEfxvhgS0quFjwI/wOL55LfXFj/gk9N/ECgiP6OP2bmN0Sg/cYpwknVhLz8=",
          "dtype": "f8"
         },
         "y": {
          "bdata": "aWQ2oROmML/SmithCBsrv1TIMpj4zSS/bofNXe3WHL+kLA0gXugPv8ChpYz1B+i+WEZhvpTqAz8Q+9CST+EWP/LgV3ff2iE/9WUQZK8yKD8qiDazjXEuP7CCbh+FSDI/Sp87nWpFNT+gfDnaYiw4P6ZI4vdv+jo/nfpsx62sPT/GM2ZiKiBAP9m0EHpeWUE/6AZWT7CAQj8dnTR275RDPx5X1yv/lEQ/0DIffNd/RT+JGrpRhlRGP8BVrm8wEkc/BWBZUxK4Rz8bMPn9gEVIP9Ev8KTquUg/vzEOSNcUST9DekMt6VVJP4pYPkHdfEk/2rePXIuJST/iYg9t5ntJPz9OVYP8U0k/pwY6xPYRST+ONG0+GbZIP5rtTaTCQEg/8CRN6muyRz892j7KpwtHPxCOGiwiTUY/dOTGdJ93RT9sIKe7+4tEPw8ou+cpi0M/lu87tTJ2Qj9iZrakM05BP3g0vtRdFEA/XE/PjumTPT/4EJopmuA6P1ww7heWETg/5EQlh8IpNT/rfNs3HiwyP/EiGs98Ny4/iNQKRpf3Jz+qK80J/Z4hP6T9kI5xaBY/9Mzykp/3Aj9wJVj9xNTrvigdFP1qbRC/KilRUU5PHb+DwsuJfQklv+F0CXCkVSu/VMAGAs/CML/CwhS9hMkzv6T2udLUuza/yosXs7WWOb+uxmv2NVc8vxhismV/+j6/dNSe8+y+QL/aTSImV+9Bv4Y7QX5EDUO/AnSTPo4XRL91Bz7oIQ1Fv4n351UC7UW/2fiswEi2Rr/LPwGuJWhHv0wgkcXhAUi/FAlAjt6CSL9tCIQRl+pIv9B1dWSgOEm/U3cFFqpsSb/KxumBfoZJv4I86AcDhkm/wh9JJzhrSb878lN+OTZJv5Y9160950i/C7zYIJZ+SL8K6Ke4rvxHv9F2qV0NYke/oV9OdVGvRr/0ucQ9M+VFvxrSCxCDBEW/3ToviSgORL97P4abIQNDv5jS7YiB5EG/lNEKx2+zQL/AMXKdTeI+v3S6wq/lPTy/5OMHBmF8Ob8T/7LjlqA2v2U6+KB5rTO/bGQ2oROmML8=",
          "dtype": "f8"
         },
         "z": {
          "bdata": "bP1KgVq/0j9s/UqBWr/SP2z9SoFav9I/bP1KgVq/0j9s/UqBWr/SP2z9SoFav9I/bP1KgVq/0j9s/UqBWr/SP2z9SoFav9I/bP1KgVq/0j9s/UqBWr/SP2z9SoFav9I/bP1KgVq/0j9s/UqBWr/SP2z9SoFav9I/bP1KgVq/0j9s/UqBWr/SP2z9SoFav9I/bP1KgVq/0j9s/UqBWr/SP2z9SoFav9I/bP1KgVq/0j9s/UqBWr/SP2z9SoFav9I/bP1KgVq/0j9s/UqBWr/SP2z9SoFav9I/bP1KgVq/0j9s/UqBWr/SP2z9SoFav9I/bP1KgVq/0j9s/UqBWr/SP2z9SoFav9I/bP1KgVq/0j9s/UqBWr/SP2z9SoFav9I/bP1KgVq/0j9s/UqBWr/SP2z9SoFav9I/bP1KgVq/0j9s/UqBWr/SP2z9SoFav9I/bP1KgVq/0j9s/UqBWr/SP2z9SoFav9I/bP1KgVq/0j9s/UqBWr/SP2z9SoFav9I/bP1KgVq/0j9s/UqBWr/SP2z9SoFav9I/bP1KgVq/0j9s/UqBWr/SP2z9SoFav9I/bP1KgVq/0j9s/UqBWr/SP2z9SoFav9I/bP1KgVq/0j9s/UqBWr/SP2z9SoFav9I/bP1KgVq/0j9s/UqBWr/SP2z9SoFav9I/bP1KgVq/0j9s/UqBWr/SP2z9SoFav9I/bP1KgVq/0j9s/UqBWr/SP2z9SoFav9I/bP1KgVq/0j9s/UqBWr/SP2z9SoFav9I/bP1KgVq/0j9s/UqBWr/SP2z9SoFav9I/bP1KgVq/0j9s/UqBWr/SP2z9SoFav9I/bP1KgVq/0j9s/UqBWr/SP2z9SoFav9I/bP1KgVq/0j9s/UqBWr/SP2z9SoFav9I/bP1KgVq/0j9s/UqBWr/SP2z9SoFav9I/bP1KgVq/0j9s/UqBWr/SP2z9SoFav9I/bP1KgVq/0j9s/UqBWr/SP2z9SoFav9I/bP1KgVq/0j9s/UqBWr/SP2z9SoFav9I/bP1KgVq/0j9s/UqBWr/SP2z9SoFav9I/bP1KgVq/0j8=",
          "dtype": "f8"
         }
        },
        {
         "mode": "lines",
         "type": "scatter3d",
         "x": {
          "bdata": "OMk9uXkSLT/kDA4lcBIyP1oOK2UCiTU/ciNct2HpOD9nsx0YEzA8P+c8fPy1WT8/oGmi5oMxQT/iwqqhc6RCP2tuy9ArBEQ//H6l5EFPRT/E7cKSYIRGPzP3ZTVJokc/ZhUBFNWnSD+GAAWT9pNJP/SJy0m6ZUo/lNaA/UccSz8ZUwiA47ZLP9Oe93HtNEw/XXff5uOVTD8TTDnrYtlMP/Jqb+sk/0w/v5GV+wIHTT8a9Yf/9PBMP6xhR7MRvUw/ltmJk45rTD9E1pemv/xLP24EryUXcUs/GcNDByXJSj/2xJpqlgVKP4TNU+U0J0k/U3+ds+UuSD8gb+jLqB1HP0cRDdeX9EU/cn30DeW0RD+wUu/92V9DP6cfADXW9kE/En131017QD8E065AkN09P42sEpy7pTo/LDoN+m5SNz/dZUvkF+czP22Qnqw8ZzA/ZEi2lfGsKT/Vi9RJ8nAiP8ynjxPhQxY/EHyREag7/j6woLVfXrf8vhZ8c7cy4xW/306O+P5AIr/MnOGOk30pv5SsT7jwTzC/rOXdAkfQM78GFmmwMDw3v09oA9gmkDq/CMhAQbvIPb9qYcD2TXFAv070D0JL7UG/arsEz81WQ7/y3qH2YKxEv/Nnm56k7EW/TcJKpE4WR7+pRP4wLChIv/rxRPYiIUm/72jwUDIASr9MB6FRdMRKv6aNy6kebUu/we9DfIP5S78iWXYQEmlMv9amlWdXu0y/y44ls/7vTL83Q2as0QZNv7p0R8y4/0y/twapY7vaTL/OddCT/5dMv6K2GifKN0y/ExETSn66S7+7EDglnSBLvy3s11fFakq/RaGNVLKZSb9+UwegO65Iv3Ma3fJTqUe/3EJdPwiMRr/m60+cfldFv4vIzxX1DES/iIRwZcCtQr8QwQSTSjtBv5Bt2/4ibj+/fFvqtUpFPL9kJ48RTv84v7fabuKMnzW/VjwKiYEpMr9K3de/ekEtv+9xThzKESa/SAbIF7OWHb/IBMiZo9YNvwArbju8R6i+EJou1ckUDT9twcQtXDYdP37x+Uob4iU/MMk9uXkSLT8=",
          "dtype": "f8"
         },
         "y": {
          "bdata": "aRFCj3cQMb9rd20oaPwrvw6BkPgHuyW/iLYHlYLGHr+M2TbiO/cRv4BL9MfAVfS+cBXmLGRG/z4Wjxr+krAUP00IG48cvSA/SFqbb64QJz/gOrijeUwtP678cJgItTE/Kpw+n5OxND+CqrzKyZg3PxAsjvysZzo/2Mc8KVgbPT+IVhtUArE/P9MiHrcAE0E/uhjDiuY7Qj+o+oiYAFJDP3KdEDQwVEQ/kI+ROGtBRT+C2DIbvRhGP5NXH+dH2UY/0ehRIkWCRz+Idi2aBhNIPxwRDhf3ikg/L/MZ9prpSD9k47OokC5JP9qTCxmRWUk/dFVk829qST8AlsbTG2FJP2QP7VeePUk/9SxbFRwAST/23qZz1KhIP+y7HGshOEg/TM8BKHeuRz+Qr9KSYwxHP3ZN+72NUkY/1UaeObWBRT+WRB1OsZpEP4DxLR5wnkM/BkxgsfWNQj9pXRPoWmpBP7Sk7FnMNEA/0FT5PxLdPT/SSqAXwzE7P0GGgZlrajg/quPVCemJNT9Oz32eMpMyPz7tyeCsEi8/trGcquzeKD+4ho9KiZEiP04CY7wDYhg/SFCU+KQPBz8AktkSGeTVvuR24CLZhQy/fL8XHuQYG786Vhh8dukjv9vE71X0MSq/WASWxbgvML9wWw3wxzUzvxj0m78JKDa/uLQZs3QDOb/DTHDUFsU7v9tNzsEYaj6/QiS6TeB3QL8dgYtpuqlBv6ib+GxfyUK/edhg1abVQ79g1IsWfM1Evxuru7ffr0W/gXcFW+h7Rr92luCtwzBHv5Wz9EG3zUe/mCJHTSFSSL8ibAFReb1IvwsjJaZQD0m/ffib71JHSb+qei5xRmVJvyrZB0sMaUm/w1WJmaBSSb/rkkx5GiJJvySeUO+r10i/KUVqtaFzSL9Y3CzrYvZHv7r9nKtwYEe/ltQaiGWyRr9eJQ3p9OxFvyZQ8VTqEEW/4PCOnigfRL/6YCf7qBhDv+YfkgF6/kG/AfFOk77RQL9Ua1phWSc/v6Eze3IYizy/JvauM2vROb883xzTIP02v+zQC+4jETS/bBFCj3cQMb8=",
          "dtype": "f8"
         },
         "z": {
          "bdata": "YClQ61cK1D9gKVDrVwrUP2ApUOtXCtQ/YClQ61cK1D9gKVDrVwrUP2ApUOtXCtQ/YClQ61cK1D9gKVDrVwrUP2ApUOtXCtQ/YClQ61cK1D9gKVDrVwrUP2ApUOtXCtQ/YClQ61cK1D9gKVDrVwrUP2ApUOtXCtQ/YClQ61cK1D9gKVDrVwrUP2ApUOtXCtQ/YClQ61cK1D9gKVDrVwrUP2ApUOtXCtQ/YClQ61cK1D9gKVDrVwrUP2ApUOtXCtQ/YClQ61cK1D9gKVDrVwrUP2ApUOtXCtQ/YClQ61cK1D9gKVDrVwrUP2ApUOtXCtQ/YClQ61cK1D9gKVDrVwrUP2ApUOtXCtQ/YClQ61cK1D9gKVDrVwrUP2ApUOtXCtQ/YClQ61cK1D9gKVDrVwrUP2ApUOtXCtQ/YClQ61cK1D9gKVDrVwrUP2ApUOtXCtQ/YClQ61cK1D9gKVDrVwrUP2ApUOtXCtQ/YClQ61cK1D9gKVDrVwrUP2ApUOtXCtQ/YClQ61cK1D9gKVDrVwrUP2ApUOtXCtQ/YClQ61cK1D9gKVDrVwrUP2ApUOtXCtQ/YClQ61cK1D9gKVDrVwrUP2ApUOtXCtQ/YClQ61cK1D9gKVDrVwrUP2ApUOtXCtQ/YClQ61cK1D9gKVDrVwrUP2ApUOtXCtQ/YClQ61cK1D9gKVDrVwrUP2ApUOtXCtQ/YClQ61cK1D9gKVDrVwrUP2ApUOtXCtQ/YClQ61cK1D9gKVDrVwrUP2ApUOtXCtQ/YClQ61cK1D9gKVDrVwrUP2ApUOtXCtQ/YClQ61cK1D9gKVDrVwrUP2ApUOtXCtQ/YClQ61cK1D9gKVDrVwrUP2ApUOtXCtQ/YClQ61cK1D9gKVDrVwrUP2ApUOtXCtQ/YClQ61cK1D9gKVDrVwrUP2ApUOtXCtQ/YClQ61cK1D9gKVDrVwrUP2ApUOtXCtQ/YClQ61cK1D9gKVDrVwrUP2ApUOtXCtQ/YClQ61cK1D9gKVDrVwrUP2ApUOtXCtQ/YClQ61cK1D9gKVDrVwrUP2ApUOtXCtQ/YClQ61cK1D8=",
          "dtype": "f8"
         }
        },
        {
         "mode": "lines",
         "type": "scatter3d",
         "x": {
          "bdata": "MBHRlcTuKj9052mueFAxP7hThvu1FzU/vTAXJTXJOD/mKaiHJ2E8P/fhJNbY2z8/ajmwddmaQT+IikO+oDVDPwcpVdSavEQ/2g3esDQuRj+Ac7pV8YhHP2wjZlZry0g/jyxtSFb0ST8kNxUagAJLP7M83k3S9Es/JmqVGVPKTD/3P9JnJoJNP52D1LqOG04/TSbZ7+2VTj/VxhzixfBOP+zF4+y4K08/4OIBTIpGTz9X331aHkFPP0qYEK96G08/TjRiFsbVTj9VVwtrSHBOP2mWg0tq600/RIVJrrRHTT+6iLNU0IVMP/T2+hyFpks/Mdc0NLmqSj+qoQwpcJNJPz6VNeDJYUg/dHCmawEXRz/sd9HFa7RFP5eUJ3J2O0Q/StxQBKatQj+l6J6PlAxBP9DFqwDgsz4/MwUAwfAuOz9yqSgU/I03P8rAmZC/1DM/Pigz1BEHMD8e+rIevVEoP8GKrPREfCA/kkmn5JwrET9ATt6CzM/UPjA87Cj1JQ2/qTzT9+tjHr9co33SxAonv6dC8hTTyy6/qEsgQ5E2M7+4H1fRavM2v6czsN2bmDq/luTrc2IiPr/DXUlxjMZAv8YGt76cakK/4Fl/H7H7Q7+I35kiLHhFv2V25JKF3ka/UhxvC0wtSL/wg0N0JmNJvw/zH2bVfkq/5re2czR/S78a0B5XO2NMvyQGPwL/KU2/wrQakbLSTb+mawYdqFxOv3S+6m9Rx06/qHTclkAST7+a/XJTKD1Pv+NTaGvcR0+/BDww1lEyT79B31fInvxOv2wJopz6pk6/+KH3mr0xTr8IMmedYJ1NvxxGkZN86ky/wBUC5ckZTL++8xqzHyxLv/F4T/tyIkq/kAKbmtX9SL8f1zIzdb9Hv/Xyl/WZaEa/egBJTqX6RL/4NnF5EHdDvxisC/5q30G/l/ALElk1QL8sA2nSI/U8vwYjs+C7YTm/2bTF7Sm0Nb+e7+KQOPAxvxeAfOKSMyy/xKNpi6JpJL9AJoADTxUZv4Q+sG37egK/MBc88GeP+j6Jc5FwWX4WP5vDJYjUICM/KBHRlcTuKj8=",
          "dtype": "f8"
         },
         "y": {
          "bdata": "HdaMvkZKMb8YEHb7dHksv8QCiVgCQSa/YNPUNz7jH7+uXJnlmCMTv3Dg5dvjQPm+EE+mBKQm+j4QY4u6zVwTP5aMqW/+DSA/lWRcVgldJj9nuzq/BpUsP/DXwc3GVzE/ECC+nSlTND8W8WHlmDk3Pwx5VVMXCDo/JU8BRMC7PD8w8AW9ylE/P/7gFybG40A/RgF54z0NQj+4vMnzGSRDP1aPreI6J0Q/LIeYkpUVRT8CcihQNO5FPyfpas83sEY/9yYLEthaRz/dX3o1Ze1HPxccPihIZ0g/HK2pRQPISD+SOGLXMg9JP8zWJ3yNPEk/vtB5c+RPST9DBMjNI0lJPyLB/4BSKEk/ru9eYZLtSD+p5pT+H5lIP4DiVGVSK0g/OniaxZqkRz9sg/z9gwVHPyHVhgyyTkY/UTOuZeGART/o6gwy5pxEP3Q0sHOro0M/2NvXEzKWQj+Z4iHaj3VBP/4aM07uQkA/5MwHChP/PT9jfRq2XVk7P4LOSzl3lzg/eAPkOze8NT9LXLCHj8oyP7lF+/0Riy8/DvqH94BgKT9qDHs0xxsjPyCv2ci1hhk/5Ke4Exp3CT8AuC8jubucvqTKZLvN6Qm/TPrm37a/Gb8DjS0A/jcjvwBQ/O1QfCm/4QzIc16mL7/mZlXw5dcyvzo2ohIwyTW/vd3xHgWkOL9ABLS5c2U7vwpeNLakCj6/ooQYAm9IQL+jYre/wnpBv8+hMs8Rm0K/zd2f/jKoQ7/YV0nhEKFEvx6mp+2qhEW/yGXThRZSRr9IV17pfwhHv5qXmg8rp0e//fRuaXQtSL9ykfCJ0ZpIv/UGFLXR7ki/evbiUx4pSb86N75Ne0lJv8ijUEbHT0m/UKnyv/s7Sb89JlsiLQ5Jv26ylqWKxki/yf9aIV5lSL/Tf+jAC+tHvznFyJsRWEe/rBHUMwetRr8LDATZnOpFv32ctPOaEUW/q0cONuEiRL+d/G61ZR9DvxcIv+wzCEK/4qm3qGveQL86Cm++f0Y/v2N3reXqrzy/tsMByMP7Ob9DBNzh0yw3vzYky0sARjS/INaMvkZKMb8=",
          "dtype": "f8"
         },
         "z": {
          "bdata": "WFVVVVVV1T9YVVVVVVXVP1hVVVVVVdU/WFVVVVVV1T9YVVVVVVXVP1hVVVVVVdU/WFVVVVVV1T9YVVVVVVXVP1hVVVVVVdU/WFVVVVVV1T9YVVVVVVXVP1hVVVVVVdU/WFVVVVVV1T9YVVVVVVXVP1hVVVVVVdU/WFVVVVVV1T9YVVVVVVXVP1hVVVVVVdU/WFVVVVVV1T9YVVVVVVXVP1hVVVVVVdU/WFVVVVVV1T9YVVVVVVXVP1hVVVVVVdU/WFVVVVVV1T9YVVVVVVXVP1hVVVVVVdU/WFVVVVVV1T9YVVVVVVXVP1hVVVVVVdU/WFVVVVVV1T9YVVVVVVXVP1hVVVVVVdU/WFVVVVVV1T9YVVVVVVXVP1hVVVVVVdU/WFVVVVVV1T9YVVVVVVXVP1hVVVVVVdU/WFVVVVVV1T9YVVVVVVXVP1hVVVVVVdU/WFVVVVVV1T9YVVVVVVXVP1hVVVVVVdU/WFVVVVVV1T9YVVVVVVXVP1hVVVVVVdU/WFVVVVVV1T9YVVVVVVXVP1hVVVVVVdU/WFVVVVVV1T9YVVVVVVXVP1hVVVVVVdU/WFVVVVVV1T9YVVVVVVXVP1hVVVVVVdU/WFVVVVVV1T9YVVVVVVXVP1hVVVVVVdU/WFVVVVVV1T9YVVVVVVXVP1hVVVVVVdU/WFVVVVVV1T9YVVVVVVXVP1hVVVVVVdU/WFVVVVVV1T9YVVVVVVXVP1hVVVVVVdU/WFVVVVVV1T9YVVVVVVXVP1hVVVVVVdU/WFVVVVVV1T9YVVVVVVXVP1hVVVVVVdU/WFVVVVVV1T9YVVVVVVXVP1hVVVVVVdU/WFVVVVVV1T9YVVVVVVXVP1hVVVVVVdU/WFVVVVVV1T9YVVVVVVXVP1hVVVVVVdU/WFVVVVVV1T9YVVVVVVXVP1hVVVVVVdU/WFVVVVVV1T9YVVVVVVXVP1hVVVVVVdU/WFVVVVVV1T9YVVVVVVXVP1hVVVVVVdU/WFVVVVVV1T9YVVVVVVXVP1hVVVVVVdU/WFVVVVVV1T9YVVVVVVXVP1hVVVVVVdU/WFVVVVVV1T8=",
          "dtype": "f8"
         }
        },
        {
         "mode": "lines",
         "type": "scatter3d",
         "x": {
          "bdata": "fY4B1Mb8KD8Iza6MLqYwP1YxviLQvDQ/HNhRSBG+OD9mi6gi0aU8P/xWxZAEOEA/C/nOkmgMQj9OAazDMc5DP6KyNH2Qe0U/cj7PJMoSRz9Yqq7zOpJIPz7LiadX+Ek/50gMGq9DSz/qqV2963JMP6YmNvzUhE0/QlQWfFB4Tj+wgVVAY0xPP+JfbVYZAFA/AfG6s4JJUD95FngLIoJQP+/eh/+8qVA/tGx2vCrAUD8vi44jVMVQP7LQruIzuVA/i7vFedabUD/+Iu8tWm1QP05EQOruLVA/DyzFHKy7Tz/lmGBWxPpOP8EMMFvtGU4/gLw+8A4aTT8CC9zWMPxLP5Ububx5wUo/sAMmDC5rST+Eu6edrvpHPyuGP0x3cUY/47/abR3RRD8OtH4xThtDPxsw3+TMUUE/fr5PRuLsPj9++a/dSRY7P+n4SnHFIzc/wbDgqmYZMz+NmoCVr/YtPwecVbmumyU/uDIoX89UGj84+vVxOa4CP0AocfLawP6+AOiVUZ2vGL9KpKnAyMokvy3xMQFUKC2/evzPbuizMr/qqV1iX8A2v+ITP3JitTq/cbZhYt2OPr+gcwcsbCRBvz3+ivi970K/W9y+nIqnRL9cBtS9DEpGv0z6fPOU1Ue/Mv2hhItISb+YRasLcqFKv0jRrwDl3ku/2pDyJ53/TL96IDTjcAJOv0NWfWRV5k6/UGcmwV+qT78Ekf/x4iZQv2xPz67vZ1C/+NUBCROYUL/ifGlhG7dQv4xD0rroxFC/JWz72mzBUL8G/0FZq6xQv4sX7Zq5hlC/acsfvb5PUL9+aIds8wdQv0Ay31VDX0+/PE/xBUmOTr+LCX1Uz51Nv2SdoiTOjky/Qpfj0VxiS7+bGCsQsRlKv3pDjqwdtki/xuMNMBE5R7/8V8FlFKRFv+kz8MXI+EO/Mf67x+Y4Qr/CohUbPGZAv0tGpZlTBT2/dDWZrUQgOb9IfxQ8TyE1v6ccB8KRDDG/bLuMYILMKb8rTdUqSWUhv9rbAdRC2BG/AKArTMhxyr7Oq8BiADIQP7LqEJ9ukyA/dI4B1Mb8KD8=",
          "dtype": "f8"
         },
         "y": {
          "bdata": "j0/eTPlhMb+EGoOBla8sv6hjZXymfSa/doD3Wog0IL9ap6+na7UTv9Buxa7Wtfu+IJ6xvJGG9z5gyZJ9rqoSPwaaDZR6YB8/9xN6Tvf6JT8C5O/sCC8sP2cCsZAGIzE/M/83bd4cND8UZfy4+gE3P1X0FIBfzzk/RnM/QSmCPD+z4izojxc/P70sxNV0xkA/SvDh5dbvQT+9bOuXuwZDP99Jnm4DCkQ/Z8xTJKP4RD/iWoO+pNFFP1HhUYsolEY/ZrMoCGY/Rz8OO2awrNJHP8FjU7NkTUg/fDGikA+vSD/yMdSaSPdIP6VcAl/FJUk/OGeb8VU6ST/+cckf5TRJP20hTIV4FUk/+p2whjDcSD/Tb+0vSIlIP0GihPcUHUg/uOxqZgaYRz+JsQ6lpfpGP3FW9e2URUY/MLWA5o55RT9JBoneZZdEP/+ZkfcCoEM/kdl3NGWUQj+gSZRyoHVBPziHXE3cREA/3MFW26UGPj8MUdKLn2Q7P9gfxHhcpjg/HYZVirDONT8GxwjaieAyP8IHAlvbvS8/iG/OsuqZKT/wz0MfllsjP8oaqnCaEho/AH7rnlCmCj+AJO5XPL/APiBI70l9jwi/mqHRiM4IGb/cIzsLCNgivznmwBo8GCm/Bu3D7JE+L79YprNSWaIyv5oPBE40kjW//Yzy4NJrOL+55fnvRCw7vxY1ulK00D2/NHZB4DMrQL8zqYzPYl1Bv1hJa1irfUK/mQytT+SKQ7+gvBgw+INEv/wqfzjmZ0W/IEJmdMM1Rr9yXzuuu+xGv0FNE0oSjEe/jl4WCCMTSL+gQtCtYoFIv2wItZVf1ki/iGBHJMIRSb8PW2ciTTNJvxeKbPzdOkm/snzK5WwoSb/c1BrhDPxIv66uhKzrtUi/LIyVklFWSL+5YLwfod1HvzaNs7xWTEe/SIRCLgijRr8GSdv6Y+JFv87ssrYwC0W/Mn8ON0weRL8YcpetqhxDvzQqo6xVB0K/OjZxFWvfQL+KvfTiN0w/v7apAHBWuTy/bEFEAtkIOr8//phPhT03v8QN3rc8WjS/kk/eTPlhMb8=",
          "dtype": "f8"
         },
         "z": {
          "bdata": "TIFav1Kg1j9MgVq/UqDWP0yBWr9SoNY/TIFav1Kg1j9MgVq/UqDWP0yBWr9SoNY/TIFav1Kg1j9MgVq/UqDWP0yBWr9SoNY/TIFav1Kg1j9MgVq/UqDWP0yBWr9SoNY/TIFav1Kg1j9MgVq/UqDWP0yBWr9SoNY/TIFav1Kg1j9MgVq/UqDWP0yBWr9SoNY/TIFav1Kg1j9MgVq/UqDWP0yBWr9SoNY/TIFav1Kg1j9MgVq/UqDWP0yBWr9SoNY/TIFav1Kg1j9MgVq/UqDWP0yBWr9SoNY/TIFav1Kg1j9MgVq/UqDWP0yBWr9SoNY/TIFav1Kg1j9MgVq/UqDWP0yBWr9SoNY/TIFav1Kg1j9MgVq/UqDWP0yBWr9SoNY/TIFav1Kg1j9MgVq/UqDWP0yBWr9SoNY/TIFav1Kg1j9MgVq/UqDWP0yBWr9SoNY/TIFav1Kg1j9MgVq/UqDWP0yBWr9SoNY/TIFav1Kg1j9MgVq/UqDWP0yBWr9SoNY/TIFav1Kg1j9MgVq/UqDWP0yBWr9SoNY/TIFav1Kg1j9MgVq/UqDWP0yBWr9SoNY/TIFav1Kg1j9MgVq/UqDWP0yBWr9SoNY/TIFav1Kg1j9MgVq/UqDWP0yBWr9SoNY/TIFav1Kg1j9MgVq/UqDWP0yBWr9SoNY/TIFav1Kg1j9MgVq/UqDWP0yBWr9SoNY/TIFav1Kg1j9MgVq/UqDWP0yBWr9SoNY/TIFav1Kg1j9MgVq/UqDWP0yBWr9SoNY/TIFav1Kg1j9MgVq/UqDWP0yBWr9SoNY/TIFav1Kg1j9MgVq/UqDWP0yBWr9SoNY/TIFav1Kg1j9MgVq/UqDWP0yBWr9SoNY/TIFav1Kg1j9MgVq/UqDWP0yBWr9SoNY/TIFav1Kg1j9MgVq/UqDWP0yBWr9SoNY/TIFav1Kg1j9MgVq/UqDWP0yBWr9SoNY/TIFav1Kg1j9MgVq/UqDWP0yBWr9SoNY/TIFav1Kg1j9MgVq/UqDWP0yBWr9SoNY/TIFav1Kg1j9MgVq/UqDWP0yBWr9SoNY/TIFav1Kg1j8=",
          "dtype": "f8"
         }
        },
        {
         "mode": "lines",
         "type": "scatter3d",
         "x": {
          "bdata": "XD4ry4Q+Jz+rajGT3BQwP4JayADjeTQ/EMcX+83JOD+nYduQKwA9PwCd6BNSjEA/WHZLe3+HQj8PZmEvk29EPyhKXhGWQkY/FEx/uab+Rz9RF0ln+6FJP1wmZNnjKks/Yb4wC8uXTD8VSkfWOOdNPwS1NnbTF08/z4p4djAUUD95njsj5ItQP2bDOl2J8lA/ELBTVbZHUT+LpH0+E4tRP786S6havFE/4Ll+xlnbUT8UJGel8OdRP/sD0EoS4lE/eQZiw8TJUT+clmYcIZ9RPyLp9ElTYlE/dxaj+ZkTUT9w9+lRRrNQP8Jefp67QVA/INTr091+Tz902kEKzVlOP0msK/lyFU0/3oP5+R2zSz8wiXdNOzRKPwkNa6NVmkg/bY24gxPnRj9v59WaNRxFPyixSeuUO0M/cn0U5iBHQT9vT/XXuoE+P9I2enPBVTo/EIXKgqIONj+VkLflxrAxP+pZTNhdgSo/FUZ1ZNuFIT+2X5CkkfAQP+AiDaebwNO+ZcARUl9nE7/VgQ44Wr8ivz6LVICxtyu/FlbUMbtJMr8WTNebw6Q2v3iuy5d06Dq/gkHkzmgQP7+MEfrAK4xBv2TW/XkMfkO/plpXWdVbRb8o8ETcmSNHv9AkGjKE00i/iW+LINdpSr9ye6HO7+RLv9n4enRHQ02/Q+Mf7nSDTr8n/8YvLqRPvw7oBs0kUlC/uylill/BUL9DH4jLVB9Rvyad55Gja1G/ejiiQP2lUb8izKGxJc5RvxQnmX/z41G/5fmvMFDnUb/iBq5NONhRv8iyjWW7tlG/TUdy/fuCUb/PbxJtLz1Rv2ueu6ed5VC/8gcn8qB8UL8Fq2yFpQJQv8Ca6D5S8E6/kt2uAnW7Tb98nHO48WdMv/9jYFom90q/GTW9EY9qSb8Low+vxMNHv0CesAR7BEa/AVOLJX8uRL+gNtSJtUNCv5AxohsYRkC/l2TZWmhvPL8gehC5UDU4v+9an8NE4jO/i/XqSnP1Lr+szclUcwYmv3wlDkR+ARq/ABt+uRxt/75YS1JYEqYEP54eEQe1dhw/Uj4ry4Q+Jz8=",
          "dtype": "f8"
         },
         "y": {
          "bdata": "4QyJKMJjMb9unppqpLcsv9LHwEgqiia/iFkLJHRFIL8ik69Q8N8Tv/hGk13ugfy+4HkgZUeZ9j4M6iZkTGcSP9q84GxOFR8/ETWo8qLRJT88C1njIAIsPyC5MdrfCjE/mA9L6h0DND+q5lX1uuY2Pxi3eZK8sjk/OJmQrkBkPD9eFPqEgPg+P6X5I75ptkA/yu3o8VjfQT+AOq7H2/VCP7HyESfT+EM/zJFfHTTnRD8GAL3wCMBFPxBJdx1ygkY/C+ppPKctRz9WNZPR98BHP+rZAALMO0g/SgZZMKWdSD+5yl5/HuZIP4Yw6zntFEk/D9nvH+EpST8AwjOY5CRJP9Dplsb8BUk/EOHFhknNSD/KvmJLBXtIPyVSxeGED0g/b6yQGjeLRz/WH3hXpO5GPwxzqf5tOkY/+DRt1E1vRT/WsKg7FY5EP8jnBl6sl0M/3w2nPBGNQj+EPEeqVm9BP2hB+S+jP0A/CSELu1/+PT/Ao2oNjl47P2lmoN2Fojg/F/1ZxxjNNT/myomTMuEyP0OQI2uswy8/DCAaYTWkKT+51NbPT2ojP4JfnXrNOBo/uK2IQ+cDCz+AscMbqKXHPmil6EO4EAi/rmaNN37BGL/Sffm8jbAivzItrFgY7Si/lTsBL/EPL786rk5+YokyvyGx6b+wdzW/KQPl7d1POL9yBINp+w47vw98dmk0sj2/oVqBcmgbQL8wF7wwHE1BvzAglU/6bEK/DdaNEdp5Q790LWJNpnJEv9bYvIteVkW/xjiWDxgkRr8Wji3I/tpGv2P/oitWeke/IxtR+XkBSL9Tfx3j3m9Iv/gdEh0TxUi/UBir0r4ASb8zRWCBpCJJv8AODTihKkm/KUv1uqwYSb+i70GM2exIv7fd7NhUp0i/znUvSmZISL+v76O7b9BHv6CeZdbsP0e/qhyYkXKXRr+5w9iYrtdFv7m+OJlmAUW/ND14dXcVRL/i1VRi1BRDv57O1euFAEK/ZLeY5KjZQL80526A2kI/v/Cv7LMpsjy/7q76UeQDOr+Mf+TGzTo3v49XtyPFWTS/5AyJKMJjMb8=",
          "dtype": "f8"
         },
         "z": {
          "bdata": "RK1fKVDr1z9ErV8pUOvXP0StXylQ69c/RK1fKVDr1z9ErV8pUOvXP0StXylQ69c/RK1fKVDr1z9ErV8pUOvXP0StXylQ69c/RK1fKVDr1z9ErV8pUOvXP0StXylQ69c/RK1fKVDr1z9ErV8pUOvXP0StXylQ69c/RK1fKVDr1z9ErV8pUOvXP0StXylQ69c/RK1fKVDr1z9ErV8pUOvXP0StXylQ69c/RK1fKVDr1z9ErV8pUOvXP0StXylQ69c/RK1fKVDr1z9ErV8pUOvXP0StXylQ69c/RK1fKVDr1z9ErV8pUOvXP0StXylQ69c/RK1fKVDr1z9ErV8pUOvXP0StXylQ69c/RK1fKVDr1z9ErV8pUOvXP0StXylQ69c/RK1fKVDr1z9ErV8pUOvXP0StXylQ69c/RK1fKVDr1z9ErV8pUOvXP0StXylQ69c/RK1fKVDr1z9ErV8pUOvXP0StXylQ69c/RK1fKVDr1z9ErV8pUOvXP0StXylQ69c/RK1fKVDr1z9ErV8pUOvXP0StXylQ69c/RK1fKVDr1z9ErV8pUOvXP0StXylQ69c/RK1fKVDr1z9ErV8pUOvXP0StXylQ69c/RK1fKVDr1z9ErV8pUOvXP0StXylQ69c/RK1fKVDr1z9ErV8pUOvXP0StXylQ69c/RK1fKVDr1z9ErV8pUOvXP0StXylQ69c/RK1fKVDr1z9ErV8pUOvXP0StXylQ69c/RK1fKVDr1z9ErV8pUOvXP0StXylQ69c/RK1fKVDr1z9ErV8pUOvXP0StXylQ69c/RK1fKVDr1z9ErV8pUOvXP0StXylQ69c/RK1fKVDr1z9ErV8pUOvXP0StXylQ69c/RK1fKVDr1z9ErV8pUOvXP0StXylQ69c/RK1fKVDr1z9ErV8pUOvXP0StXylQ69c/RK1fKVDr1z9ErV8pUOvXP0StXylQ69c/RK1fKVDr1z9ErV8pUOvXP0StXylQ69c/RK1fKVDr1z9ErV8pUOvXP0StXylQ69c/RK1fKVDr1z9ErV8pUOvXP0StXylQ69c/RK1fKVDr1z8=",
          "dtype": "f8"
         }
        },
        {
         "mode": "lines",
         "type": "scatter3d",
         "x": {
          "bdata": "LuJtbYyzJT/qa+XlAzkvPwU6bP8lTzQ/itvXptrsOD8Oe37I3XA9PxvS9N9D60A/vj2hGKgMQz+2mrhaaRpFPy8NlrBpEkc/AaclkaHySD+Py3D3IblKP54F5WAWZEw/Fk5HsMbxTT+47WHzmGBPPyWozISJV1A/AhfaFO7tUD/Ln6Ii33JRP2QPJKTT5VE/de7TGVVGUj+pCcYIAJRSP51MOGGEzlI/dDoa0aX1Uj+D8ToCPAlTP12h3cMyCVM/v5aJH4r1Uj8VaQBZVs5SP7JTWtm/k1I/SkNeBQNGUj8tiED/b+VRP+VZCFRqclE/c1LxlGjtUD9KqTLd81ZQP6JWVIlOX08/EED5f17wTT++0aDdkWJMP5Q1s7GCt0o/rhABNenwSD8yMvkDmhBHP0ykmjuEGEU/KhAVe68KQz8XkCXMOelAP3MpsOiqbD0/raraYo3oOD+Zg3XGwko0P1oZtJUaMC8/WDKZbomqJT/gsvuTRR0YP2BL4P9yMvM+hmbuHf0RDb/DerYXz+cgvzKt9bSxeSq/AtEW3ST4Mb8ntyDy6qA2v/ETH5BdMju/22McOcenP79QZKaqR/5Bv9rG9HcfFkS/nh+wqEIZRr9/ags5ngVIv5mJl6A22Um/IFBw3SmSS79vmhllsS5NvwBGDPkjrU6/fAWIrvsFUL+LLc/24KRQvyCuVQqeMlG/UFyqzaCuUb9cFo1raRhSv0yptNiKb1K/OH82RKuzUr/cNxx0hORSvzO7xw3kAVO/9CbbyasLU79mFW+T0QFTv/UQd5Jf5FK/K35JIXSzUr+uxlWtQW9Sv/sFKYMOGFK/Vs32hTSuUb8JsvDSIDJRv1MpzFBTpFC/zqPqK14FUL/loFd/yqtOv32zCts6LU2/aXQcxZeQS7++t3uYitdJvz8PYfrZA0i//EKmBWgXRr+4fs9ZMBREv957xg9G/EG/wBvGLKOjP79az+rxHC47v547OiSSnDa/5GyYWrjzMb+c151lunAqvzO3EbzC3iC/hJ4pzZztDL+YECFnRnvzPvMsuFpsLxg/JOJtbYyzJT8=",
          "dtype": "f8"
         },
         "y": {
          "bdata": "/O6yyb9ZMb+aiiRlR6Ysv30Oh+GGeya/8X71cZk5IL8MWUHH5M0Tv0DofAqyUPy+sMvEJF+z9j5eMst1AmgSP8b+keQzEB8/kvjtAjDMJT/aMfrlzfkrP7fLBZ9KBTE/jOzqsyL8Mz92pQ32YN42PyInLmYMqTk/lm/fUURZPD9+ge5KQ+w+P6seVwGxr0A//AIbAw3YQT+GrmAsBO5CP9HGwPR38EM/9RQs8V3eRD9JtozmwLZFP6cmkMbBeEY/yo+VlZgjRz8aWdM4lbZHP+R33ysgMUg/MV/fHLuSSD8Uj75uAdtIP0OJ5aCoCUk/5kEGnIAeST8B4q7jcxlJP7HBb6yH+kg/dcV91tvBSD9tptbMqm9IP68ECUlJBEg/p1be+yWARz+mvEAbyeNGP0RX0tXTL0Y/9NzGrP9kRT9StKq0HYREP7ew3L0VjkM/H5yYZeWDQj8J4YgQn2ZBP7jR7M9oN0A/HTzuZPbuPT9P4zkEQFA7P+mxQ+BhlTg/RLh9YSzBNT80SKgPitYyP1OnjyD5sC8/ekSNGjOUKT+VXugND10jPwIjpVLqIxo/SEtPu4jlCj+A9B32MHjGPhz8RjT1Fwi/MDe4s0u/GL/z2vkejawivzATyn405ii/wO9zMzEGL7/pSSd2GYMyv1yFASgFcDW/OmRZrtdGOL+0I8jPowQ7v0CNwB6Wpj2/+U2k8fsUQL/Gg43zGEZBvxFBp5BnZUK/6fZgn79xQ7+GkViCDGpEvwJwfkVOTUW/UQPtpZoaRr+bGmQDHtFGv5HwbjoccEe/QxpUZvH2R7+AbQeKEmVIv5O3bx8Ouki/VZRsjIz1SL9hxCN9UBdJv4bsOCM3H0m/7pOuWTgNSb/YZEutZuFIv4EIe0nvm0i/HFS+yRk9SL8sxtrvR8VHvy9rFT/1NEe/qwnhfLaMRr8+1IIXOc1Fv+W2S3NC90S/4ogeH68LRL9f4hTxcQtDvxjzLAyT90G/QWMC0C7RQL871FVn6TI/vy2NyRlMozy/hx+ziSn2Ob9KoJX3Qy43vyP2Hjp5TjS//+6yyb9ZMb8=",
          "dtype": "f8"
         },
         "z": {
          "bdata": "ONlkk0022T842WSTTTbZPzjZZJNNNtk/ONlkk0022T842WSTTTbZPzjZZJNNNtk/ONlkk0022T842WSTTTbZPzjZZJNNNtk/ONlkk0022T842WSTTTbZPzjZZJNNNtk/ONlkk0022T842WSTTTbZPzjZZJNNNtk/ONlkk0022T842WSTTTbZPzjZZJNNNtk/ONlkk0022T842WSTTTbZPzjZZJNNNtk/ONlkk0022T842WSTTTbZPzjZZJNNNtk/ONlkk0022T842WSTTTbZPzjZZJNNNtk/ONlkk0022T842WSTTTbZPzjZZJNNNtk/ONlkk0022T842WSTTTbZPzjZZJNNNtk/ONlkk0022T842WSTTTbZPzjZZJNNNtk/ONlkk0022T842WSTTTbZPzjZZJNNNtk/ONlkk0022T842WSTTTbZPzjZZJNNNtk/ONlkk0022T842WSTTTbZPzjZZJNNNtk/ONlkk0022T842WSTTTbZPzjZZJNNNtk/ONlkk0022T842WSTTTbZPzjZZJNNNtk/ONlkk0022T842WSTTTbZPzjZZJNNNtk/ONlkk0022T842WSTTTbZPzjZZJNNNtk/ONlkk0022T842WSTTTbZPzjZZJNNNtk/ONlkk0022T842WSTTTbZPzjZZJNNNtk/ONlkk0022T842WSTTTbZPzjZZJNNNtk/ONlkk0022T842WSTTTbZPzjZZJNNNtk/ONlkk0022T842WSTTTbZPzjZZJNNNtk/ONlkk0022T842WSTTTbZPzjZZJNNNtk/ONlkk0022T842WSTTTbZPzjZZJNNNtk/ONlkk0022T842WSTTTbZPzjZZJNNNtk/ONlkk0022T842WSTTTbZPzjZZJNNNtk/ONlkk0022T842WSTTTbZPzjZZJNNNtk/ONlkk0022T842WSTTTbZPzjZZJNNNtk/ONlkk0022T842WSTTTbZPzjZZJNNNtk/ONlkk0022T842WSTTTbZPzjZZJNNNtk/ONlkk0022T842WSTTTbZPzjZZJNNNtk/ONlkk0022T8=",
          "dtype": "f8"
         }
        },
        {
         "mode": "lines",
         "type": "scatter3d",
         "x": {
          "bdata": "1RcA4xlaJD9uplrZznguP+Hw6EgNPDQ/mMx6b9cmOT+tmfRJtPc9PxZX433WVEE/VA0kQPWbQz8CzfVT3c5FP1VjvndK60c//RI0lg/vST9ycZ4EGdhLP9sn5KZupE0/iqUw9zVSTz8JDY332W9QP8++J2inJVE/8PJ75cfJUT/u4QdAkltSP07iGi9w2lI/7OO/695FUz91RYy3b51TP3wNyE7I4FM/P9p5RaMPVD/+nfZO0ClUP3Vjq280L1Q//MftGMofVD8tf7YuoftTP434P/fewlM/ogma9L11Uz8iOFqojRRTP6fPpkGyn1I/rT7xNaQXUj8dL8rE73xRP1RaT2c00FA/Oh/IKyQSUD9pnjT8BYdOP0DKqLtLykw/r6s6BeTvSj9indjft/lIP5Ll9/HM6UY/vND5a0PCRD8sejXXU4VCP1uC6MtMNUA/EKbVICGpOz/FADJIJcs2P2qC+3Cq1TE/3Q5VbZqbKT8WHaag9OIeP7Qy2nq73QQ/5k0qq/QfBL/AfukIc4Qev9MiKD+7bCm/EqU/0YO+Mb9Gjht9X7Q2vyDE3qPTkju/+Dw4s20qQL9opTCZx3pCv9hGGOgUuES/f9MTpwbgRr+J2FzhY/BIv4TGv/AL50q/85wLr/jBTL/9ejCMQH9Ov0dAc0OMDlC/eGXqAuvMUL9raKhH+HlRvydo+K4BFVK/NiIoaGedUr8DpEXZnBJTv1mhDjApdFO//Qh83qfBU78edWkCyfpTv1Se7bdRH1S/CO8OVhwvVL+Wo5WVGCpUv9hy06FLEFS/AnNPE9DhU7/ruFvU1Z5Tv4j0sO+hR1O/n/RCSY7cUr/abpdBCV5Sv2aQ/kOVzFG/gaAiQMgoUb8BSnkPS3NQv+i7a46xWU+/UvXf7nusTb/Hw4qwr+BLv+a4oMsm+Em/iXe719j0R7+UlrwE2dhFvxKAPvdTpkO/drzHio1fQb+mSyD4vA0+vzBVgPtjPTm/nOxQdAZTNL8T1Q8Sa6cuvxR7nPEviSS/EpNtMJOrFL8AjDUO6bunvjbdkHrUTBQ/yhcA4xlaJD8=",
          "dtype": "f8"
         },
         "y": {
          "bdata": "iNLwvUlMMb/ZGUvEhowsvwhWK0MMYya/MJ3bEX4iIL+aIPYmnKITvwgSi4H6r/u+YBrWCQZH9z7Okxz5gYkSP9xiHaomLh8/Fi1Hl1PZJT86xaYgDgUsP5RvBUPzCTE/dpMtEc//Mz8kQTpDDeE2P7Ir4OG1qjk/2PV9RelZPD+YZHAM4+s+P8OwpHr+rkA/7on8zNjWQT92LYyET+xCP9ZuU51E7kM/XkjaLq7bRD9Ibkt+l7NFP2UkuvohdUY/V0qPIoYfRz+wHjFRFLJHP8q6EXQ1LEg/HaRppmuNSD/M6/2yUtVIP1AWbHugA0k/W1CRRCUYST/ILr7nyxJJP8lBhOiZ80g/igEHb6+6SD9g8NUmR2hIP8gdcgK2/Ec/CWK942p4Rz8Elq0p7ttGP/yZuSPhJ0Y/YRORa/1cRT/5ScolFHxEPw5cSyoNhkM/ngVNFeZ7Qj9BVe1BsV5BPyTLX6+UL0A/LtK8o5HfPT9mNCihLkE7P3TpmGOzhjg/8j+O7e+yNT/FCTxRzsgyP3lN816fli8/FvzYPRJ7KT+EVj79QEUjP+5pL90k9xk/nBiRdQeSCj8AT4ovGKbBPhC2N4VnXgi/ymZf7wjfGL/8mY9qnboiv5/U3vhn8ii/PFJISHsQL7/m+k6ARIcyv7o/+eUxczW/Q2BW2gJJOL+g5YEtywU7vy7Rvn24pj2/SJgOkIoUQL/rKcN1JUVBv0ZIp/HyY0K/vHpGX8tvQ7/y0c6kmmdEv2xBrU9hSkW/M8TfmzUXRr9w3O1kRM1Gv2sIj//Ra0e/5NAe+zryR7+QBhfK9F9Iv+2C4lCOtEi/0jJ1WrDvSL/EOjHyHRFJv5OKvKK0GEm/5hqGmWwGSb8vN9auWNpIvyKEYVKmlEi/9chyXJ01SL8Zw9vDn71HvxNc+TgpLUe/61kzps6ERr+X+HqWPcVFvwOpZoI770S/fF2jBKUDRL8xOI32bANDv6IF2nWb70G/jI9X1EzJQL+u3KzlYCM/v+zs3hAPlDy/akDMrkfnOb/wd/qhzB83v2KySVN7QDS/i9LwvUlMMb8=",
          "dtype": "f8"
         },
         "z": {
          "bdata": "MAVq/UqB2j8wBWr9SoHaPzAFav1Kgdo/MAVq/UqB2j8wBWr9SoHaPzAFav1Kgdo/MAVq/UqB2j8wBWr9SoHaPzAFav1Kgdo/MAVq/UqB2j8wBWr9SoHaPzAFav1Kgdo/MAVq/UqB2j8wBWr9SoHaPzAFav1Kgdo/MAVq/UqB2j8wBWr9SoHaPzAFav1Kgdo/MAVq/UqB2j8wBWr9SoHaPzAFav1Kgdo/MAVq/UqB2j8wBWr9SoHaPzAFav1Kgdo/MAVq/UqB2j8wBWr9SoHaPzAFav1Kgdo/MAVq/UqB2j8wBWr9SoHaPzAFav1Kgdo/MAVq/UqB2j8wBWr9SoHaPzAFav1Kgdo/MAVq/UqB2j8wBWr9SoHaPzAFav1Kgdo/MAVq/UqB2j8wBWr9SoHaPzAFav1Kgdo/MAVq/UqB2j8wBWr9SoHaPzAFav1Kgdo/MAVq/UqB2j8wBWr9SoHaPzAFav1Kgdo/MAVq/UqB2j8wBWr9SoHaPzAFav1Kgdo/MAVq/UqB2j8wBWr9SoHaPzAFav1Kgdo/MAVq/UqB2j8wBWr9SoHaPzAFav1Kgdo/MAVq/UqB2j8wBWr9SoHaPzAFav1Kgdo/MAVq/UqB2j8wBWr9SoHaPzAFav1Kgdo/MAVq/UqB2j8wBWr9SoHaPzAFav1Kgdo/MAVq/UqB2j8wBWr9SoHaPzAFav1Kgdo/MAVq/UqB2j8wBWr9SoHaPzAFav1Kgdo/MAVq/UqB2j8wBWr9SoHaPzAFav1Kgdo/MAVq/UqB2j8wBWr9SoHaPzAFav1Kgdo/MAVq/UqB2j8wBWr9SoHaPzAFav1Kgdo/MAVq/UqB2j8wBWr9SoHaPzAFav1Kgdo/MAVq/UqB2j8wBWr9SoHaPzAFav1Kgdo/MAVq/UqB2j8wBWr9SoHaPzAFav1Kgdo/MAVq/UqB2j8wBWr9SoHaPzAFav1Kgdo/MAVq/UqB2j8wBWr9SoHaPzAFav1Kgdo/MAVq/UqB2j8wBWr9SoHaPzAFav1Kgdo/MAVq/UqB2j8wBWr9SoHaPzAFav1Kgdo/MAVq/UqB2j8=",
          "dtype": "f8"
         }
        },
        {
         "mode": "lines",
         "type": "scatter3d",
         "x": {
          "bdata": "3Z+ZPbgvIz/g649M5eYtP4z5PcOfPzQ/Rlvge+12OT8QH3Za+5M+PyUhH/zByEE/z9w2NjE1RD+qjNfMy4xGP65IVqonzUg/socqr/LzSj+dfV0W9f5MPy73zr4T7E4/OTJ6K6lcUD/mmGq0ajJRP3kmFCJy9lE/gM5MYvWnUj/ukzF5PUZTP186xj2n0FM/3qUlAqRGVD/TiZUmuqdUP8zK5ZaF81Q/plaaMbgpVT8kG3UYGkpVP6MVDeqJVFU/PR435PxIVT9a9hzvfidVP9Er95Ay8FQ/0Hd2ylCjVD/TSAHcKEFUP8YJAvQfylM/vVyaxrA+Uz/VzCYPa59SP75ZFfzy7FE/QZenhQAoUT8k1k6wXlFQPwaly3bV004/jkI/eiblTD9O6i1ZrthKP26B9rWJsEg/20PVufFuRj8OqC/KORZEP6kY1SLNqEE/Q1xar1hSPj/yzMqA1TM5P9YPjqFX+zM/lyvHgYFcLT82HCSTD6QiPzCE9f6ZYQ8/qMsACcfa9746FhXECpgbvwTVuAB5jii/evL9Mc6bMb9kqU0lOd42v00Rpm8RCTy/exWFuYGLQL8WbeWtbAFDv1x3uz/AY0W/7D/GSwewR7/I00Np4+NJv6nJClsP/Uu/BpixZmH5Tb8tGVqPzdZPv2Zt6tizyVC/k7f3v7KWUb+4Z3EskFFSv1FofX6L+VK/P8tajfeNU7+g0+BZOw5Uv+dQNazSeVS/GLgXnE7QVL/tfDQDVhFVv0nRCtmlPFW/VBAGeBFSVb9amoPLglFVv6ywlWb6OlW/6Nprg48OVb8McmHrb8xUv43/ysffdFS/rBezWzkIVL9qHM+m7IZTv5zSC/J+8VK/UssoRopIUr+LQvDMvIxRv8Afrx3YvlC/glJM62C/T7/0PoS6V+BNv/CM+HWC4ku/0pevqe7HSb82yQSDx5JHv+azXpRTRUW/ivynfPLhQr/uGPZ0GmtAv/gbx42rxju/Mq92XICaNr/u8FBRCFcxvxPjvNhgAyi/XFIqauB/Gr8AR1mtuHbzvi7pgCaIyRA/0Z+ZPbgvIz8=",
          "dtype": "f8"
         },
         "y": {
          "bdata": "TB0ASzhCMb9F/mjjXHgsv0RnQjDwTia/utOqh4QOIL9kYFBSF3sTv2jxeiBDFPu+AJ5W9cDf9z5G+Jc6yq4SP4QfxwNiUh8/gYuVI9jqJT/Et6l95xUsPwK9uaoBEjE/Juwb5HYHND+cCCidRug2P81wc1B5sTk/fI7qzy9gPD+EvKc6pvE+P+TJUmubsUA/kjeuZS7ZQT92gD1dW+5CPwpiBpoE8EM/Z2PDgSDdRD+wzK2purRFP5/2cNL0dUY/vjpDzQcgRz/KWzhJRLJHP7y/+YcTLEg/WDEq+feMSD9o+9S7jdRIPzHxYgWLAkk/4EKrbcAWST/JtNEfGRFJP7bZv++a8Ug/pC0jVGa4SD8wQvZEtmVIP5h7t/7f+Uc/NgeMqlJ1Rz+xnanrlthGP2cvfVJOJEY/jqsftjJZRT+Oj8R0FXhEP16355vegUM/IegY+Yt3Qj/EqFsUMFpBPzIZKRXxKkA/DP5uJg/WPT/iMYCoejc7P1LCHvDXfDg/YlJ8KPeoNT9uoQWCwr4yP8rcZGJ2gi8/EGw3q+xmKT9mSxOZMzEjPy4f/8hjzxk/5Lv9qopDCj8ADgLJX6e5Pkh8wjzoqQi/rgZXes8DGb/qEUnTcMwiv/BfxiSZAym/ZUqLfvggL78KpfWgII8yv6oRAHKjejW/luh1JQJQOL8OGjkBUQw7vyJ5wiC+rD2/AB+jLkoXQL+fAhwMn0dBv8fhpvIjZkK/RlKhiLFxQ7+nkV8BNGlEv9xXeTmsS0W/fGDKvTAYRr+Ujhe87s1Gv0+bYNwqbEe/AUv+AULyR7+1FsbzqV9Iv7L3herxs0i/GXVFBcPuSL8+HdSi4A9Jv5EZSaAoF0m/cHAzfJMESb/6rlZeNNhIvxgB7AM5kki/mBJ8kOkySL9QU4JDqLpHv+9FJhPxKUe/Jz9zLFmBRr+4TZJZjsFFv9nOpE5W60S/51n43Y3/Q79QF2YUKP9Cv8AnyD4t60G/vl6H2bnEQL/DUbTW+hk/v7zQxZhyijy/IZ3gtX7dOb+DT2o+4RU3v0g6vb53NjS/Tx0ASzhCMb8=",
          "dtype": "f8"
         },
         "z": {
          "bdata": "JDFvZ0jM2z8kMW9nSMzbPyQxb2dIzNs/JDFvZ0jM2z8kMW9nSMzbPyQxb2dIzNs/JDFvZ0jM2z8kMW9nSMzbPyQxb2dIzNs/JDFvZ0jM2z8kMW9nSMzbPyQxb2dIzNs/JDFvZ0jM2z8kMW9nSMzbPyQxb2dIzNs/JDFvZ0jM2z8kMW9nSMzbPyQxb2dIzNs/JDFvZ0jM2z8kMW9nSMzbPyQxb2dIzNs/JDFvZ0jM2z8kMW9nSMzbPyQxb2dIzNs/JDFvZ0jM2z8kMW9nSMzbPyQxb2dIzNs/JDFvZ0jM2z8kMW9nSMzbPyQxb2dIzNs/JDFvZ0jM2z8kMW9nSMzbPyQxb2dIzNs/JDFvZ0jM2z8kMW9nSMzbPyQxb2dIzNs/JDFvZ0jM2z8kMW9nSMzbPyQxb2dIzNs/JDFvZ0jM2z8kMW9nSMzbPyQxb2dIzNs/JDFvZ0jM2z8kMW9nSMzbPyQxb2dIzNs/JDFvZ0jM2z8kMW9nSMzbPyQxb2dIzNs/JDFvZ0jM2z8kMW9nSMzbPyQxb2dIzNs/JDFvZ0jM2z8kMW9nSMzbPyQxb2dIzNs/JDFvZ0jM2z8kMW9nSMzbPyQxb2dIzNs/JDFvZ0jM2z8kMW9nSMzbPyQxb2dIzNs/JDFvZ0jM2z8kMW9nSMzbPyQxb2dIzNs/JDFvZ0jM2z8kMW9nSMzbPyQxb2dIzNs/JDFvZ0jM2z8kMW9nSMzbPyQxb2dIzNs/JDFvZ0jM2z8kMW9nSMzbPyQxb2dIzNs/JDFvZ0jM2z8kMW9nSMzbPyQxb2dIzNs/JDFvZ0jM2z8kMW9nSMzbPyQxb2dIzNs/JDFvZ0jM2z8kMW9nSMzbPyQxb2dIzNs/JDFvZ0jM2z8kMW9nSMzbPyQxb2dIzNs/JDFvZ0jM2z8kMW9nSMzbPyQxb2dIzNs/JDFvZ0jM2z8kMW9nSMzbPyQxb2dIzNs/JDFvZ0jM2z8kMW9nSMzbPyQxb2dIzNs/JDFvZ0jM2z8kMW9nSMzbPyQxb2dIzNs/JDFvZ0jM2z8kMW9nSMzbPyQxb2dIzNs/JDFvZ0jM2z8=",
          "dtype": "f8"
         }
        },
        {
         "mode": "lines",
         "type": "scatter3d",
         "x": {
          "bdata": "BZEGQZQxIj9apfQ7pIAtP5yF3WSlWDQ/vdhcfP/bOT+WW1SKsUQ/P7PQfheURkI/2P8movjXRD/sc4q94FNHPyR5COi8t0k/HLutaRYBTD/2zVzekS1OP++g5dF4HVA/PQxpFIwTUT/0CNgNBfhRPyUtfzr4yVI/Z0KeLo2IUz+OqH91/zJUP/sl+1ufyFQ/s2STpdJIVT/aaXMrFbNVP3UjqGT5BlY/MaAJ1yhEVj/pjF9wZGpWPy4UZceEeVY/4RppRHpxVj8d+WAxTVJWP+kdXbEdHFY/amxonyPPVT+4ePRUrmtVPzj+DVgk8lQ/n+Ct8QJjVD9ZqJOs3b5TP+iaLr1dBlM/ITYyU0E6Uj8l2onVWltRPxu5dQmQalA/qT5hS7LRTj8edSWlf65MP6ZBcjC8bUo/cb+Yd7oRSD+WhyMa6ZxFP65wBkvQEUM/GhhxNA9zQD829OmHsoY7PzaMkMPmCjY/+EYILGJ4MD/xvD57xqklP+IcxNPnmBQ/8Hx83sW34b5M6Q3ZkAQZv76Pnn8v3Ce/jIzFD7+OMb/wr5YXTR03v45ryXAHlDy/UNVJIqb2QL/89hANzJFDv2uPyMLFGEa/h37fWPiISL9N051f4N9Kv2tyaXkUG02/P+oq10c4T7/DOKFLpppQv4mzTQILiFG/isLGWV1jUr+3HS89uytTv1ARrSFW4FO/QwhT23OAVL/QbghdbwtVv4MarWK5gFW/gtXHBNnfVb920Sc1bChWvyyJ+CMoWla/pN/fjNl0Vr/B/dbrZHhWv+l0h5nGZFa/m2kPzxI6Vr8I5CiRdfhVv/vDyYIyoFW/+x1rn6QxVb+R4D/dPa1Uv/Nuu7eGE1S/bUnhoh1lU7/4ye5ntqJSvwRUB2wZzVG/kgGi4SLlUL+6exvLg9dPvyKR6xDvw02/FmvJi6uRS7/YIq7T/EJJv+6YAcxD2ka/N7fyL/xZRL/tHiQDusRBv86SodJNOj6/Jt1Lz/7LOL/S/0wlIEQzv39VAq7KUCu/DuFxfln6H78cVJHsTWQCvx7Nzo8MPws/+ZAGQZQxIj8=",
          "dtype": "f8"
         },
         "y": {
          "bdata": "Iv0CNhtBMb/mxf5dJXUsvwZ+T6C+Sia/dPLVP10JIL+mfcXy524TvwC/3KA03Pq+QISZreYe+D7kitMwScASP9TFKnmEZR8/S3UjQTH1JT9dvU/T/SAsP8pDsLrlFzE/5N+qxq0NND8kOmTqye42P4QPrFFCuDk/MtKUhjdnPD9AoJRn5fg+P2gZvQBTtUA/gqgiJfrcQT80MgldN/JCPzvitd/s80M/R4U8BhHhRD8Di1Zdr7hFP4kYX6HpeUY/0Wpwo/gjRz8TXLYWLbZHP2llIkXwL0g/8dbGqsSQSD9oITl3RthIP/fRdfQrBkk/iTDc0kUaST9cLfNZfxRJPzZYxX3e9Eg/kdy92IO7SD9s1gyKqmhIP0yktfin/Ec/TgmGe+t3Rz913lDm/dpGP2qi4vyAJkY/rEtBzC5bRT9mQePq2HlEP/kso6Bng0M/OFlP99h4Qj8tccu0P1tBP+mO0j/CK0A/RSb74DLXPT/wM42bHjg7P0jzq3L7fDg/gPXuFZqoNT+zo0465b0yPz0B1zC9fy8/slY4pjdjKT/WEeiShiwjP7SVJl4jxBk/VCGtSlQpCj8A/GwRQ+21PoRLw+s0ywi/JKzCjCIWGb9POSBIZ9YivwMMLkBSDim/fj7MMmksL7/AZQbiLpUyv2P/91sBgTW/jncuKKlWOL/UOzJBOhM7vzk4NH7isz2/Al68PfYaQL/zJI0yYUtBv8rEoVD4aUK/royQK5R1Q7/DLvjnIG1Ev3K821efT0W/zReuASYcRr/Csv0Q4tFGv7SFyC8YcEe/izaYRyX2R7+EYJ8pf2NIv8ywKh21t0i/FgPTU3DySL8Jt/hCdBNJv2YBLOKeGkm/2uNBzugHSb/6ofFQZdtIv7jZ8kxClUi/Lr6wDsg1SL+qNsMBWb1Hv/G0ektxLEe/XlfnSqaDRr+BQd/+pcNFv9DjolI27US/TBXYUTQBRL/ATa5EkwBDv2fiFrVb7EG/UMcTXqrFQL8P3WsMXhs/v5Gk84xWizy/fOmJfeLdOb/iHrRyxBU3vy94Vn3aNTS/Jf0CNhtBMb8=",
          "dtype": "f8"
         },
         "z": {
          "bdata": "GF100UUX3T8YXXTRRRfdPxhddNFFF90/GF100UUX3T8YXXTRRRfdPxhddNFFF90/GF100UUX3T8YXXTRRRfdPxhddNFFF90/GF100UUX3T8YXXTRRRfdPxhddNFFF90/GF100UUX3T8YXXTRRRfdPxhddNFFF90/GF100UUX3T8YXXTRRRfdPxhddNFFF90/GF100UUX3T8YXXTRRRfdPxhddNFFF90/GF100UUX3T8YXXTRRRfdPxhddNFFF90/GF100UUX3T8YXXTRRRfdPxhddNFFF90/GF100UUX3T8YXXTRRRfdPxhddNFFF90/GF100UUX3T8YXXTRRRfdPxhddNFFF90/GF100UUX3T8YXXTRRRfdPxhddNFFF90/GF100UUX3T8YXXTRRRfdPxhddNFFF90/GF100UUX3T8YXXTRRRfdPxhddNFFF90/GF100UUX3T8YXXTRRRfdPxhddNFFF90/GF100UUX3T8YXXTRRRfdPxhddNFFF90/GF100UUX3T8YXXTRRRfdPxhddNFFF90/GF100UUX3T8YXXTRRRfdPxhddNFFF90/GF100UUX3T8YXXTRRRfdPxhddNFFF90/GF100UUX3T8YXXTRRRfdPxhddNFFF90/GF100UUX3T8YXXTRRRfdPxhddNFFF90/GF100UUX3T8YXXTRRRfdPxhddNFFF90/GF100UUX3T8YXXTRRRfdPxhddNFFF90/GF100UUX3T8YXXTRRRfdPxhddNFFF90/GF100UUX3T8YXXTRRRfdPxhddNFFF90/GF100UUX3T8YXXTRRRfdPxhddNFFF90/GF100UUX3T8YXXTRRRfdPxhddNFFF90/GF100UUX3T8YXXTRRRfdPxhddNFFF90/GF100UUX3T8YXXTRRRfdPxhddNFFF90/GF100UUX3T8YXXTRRRfdPxhddNFFF90/GF100UUX3T8YXXTRRRfdPxhddNFFF90/GF100UUX3T8YXXTRRRfdPxhddNFFF90/GF100UUX3T8YXXTRRRfdPxhddNFFF90/GF100UUX3T8=",
          "dtype": "f8"
         }
        },
        {
         "mode": "lines",
         "type": "scatter3d",
         "x": {
          "bdata": "0uXKGaRcIT/O3TwZJkMtPztZbge/hTQ/LtJcVcNUOj9G8YSOUQRAP8UH47++zUI/GH1p1MmDRT/SvMZcpyNIP5olM8aiqko/tHRcJCEWTT+eWODgo2NPP8+/yKZlyFA/rklwi6zNUT/stPFJmcBSP7ESzHgxoFM/hPGTm45rVD/IZYoQ3yFVP7LZtOhmwlU/7eOWqYBMVj+Ecsb3nb9WP+tzqilIG1c/qLnMwSBfVz+w/UDQ4YpXP7CivDpenlc/294U64GZVz8sZPPjUXxXPw8urDvsRlc/Xcc5/Yf5Vj88AYDvdJRWP7CXD0MbGFY/PYm/JvuEVT+g14pDrNtUP2zmOiDdHFQ/yp5/bVJJUz+uyy475mFSP96uexeHZ1E/B4UOGTdbUD/M6vKpFXxOP/RWOoNQIkw/KP9FD4urST9hFoqETxpHPzV3W2BDcUQ/SK+QrCSzQT/qq6lXjsU9P7RTLN8iBjg/iAkjtfMtMj/gyz5MDoYoP+BA1D/bLRk/AMSO/lVa0z5kwJiwz8MWv6QC/6jmUie/xPxKRe2VMb+XuBOHRnA3v6NhHJJ2Mj2/C+xA40ZrQb/EtljFXStEv94D8iSq1ka/AjA4pmtqSb/k9/Yx+uNLvx7Sp7LIQE6/JkLU2jM/UL83fvL2Q01RvzP7rkp+SVK/gA6M1d4yU7+1A5IFdQhUv41CS69kyVS/hvu48OZ0Vb9oZ1b+SgpWvy5FV9n2iFa/krll7mfwVr8K7jucM0BXv1yvjqEHeFe/H77XcaqXV7+Zaahw+55Xv2dORxPzjVe//ZF26KJkV79Kl1qGNSNXv7vUk17uyVa/Dgy5eClZVr9njnkTW9FVv79WySwPM1W/SYCS8eh+VL/B2YAVorVTv175lBMK2FK/vSREWAXnUb9fhAFWjONQv/+2RgpVnU+/SYdYoPpSTb+hRCnbZepKv4BBh1ASZki/sI3xL5jIRb930O+VqRRDvwKKsMQPTUC/2BSWiVDpOr8QDDbiwxw1v/HjBMPndC6/y9WbieKQIr8wfRq/52YKv1CEC+LxkAU/xeXKGaRcIT8=",
          "dtype": "f8"
         },
         "y": {
          "bdata": "9hxByF9NMb9X4EVA64ssv9Rlz8apXya/nDBaGlgcIL8Il53u1ZATv2i1rsRBU/u+gNnUDf+49z4atdHsMqsSP4RvvpXnVB8//h60DyjvJT8mxfgaQB0sP76Ar4guFzE/6k+s+x4OND/GnbURY/A2P9G4icUBuzk/TmjccRprPD9Mm7DI5/0+P9KGQVdhuEA/fhcqe5LgQT9O19/9VfZCPzuGOYyN+EM/RSk9+S7mRD8CPIFQRb5FP+PgrdLxf0Y/wcYZ22wqRz/0EpatBr1HP00slSsoN0g/0arxb1OYSD8Z2LRQJOBIP9j5VsZQDkk/r/cOOKkiST9YsuKsGB1JP954ReGk/Ug/tVIuQW7ESD8mN6zGr3FIP36lGr2+BUg/Kkk1aQqBRz+8S2WWG+RGP66QvgmUL0Y/JDY+2y1kRT8OQPa1uoJEP3gr7P8ijEM/9DSJ6mSBQj/iQ5Nsk2NBP1qVvCbVM0A/gqbcZ8bmPT8mUw7ND0c7P1wbtec6izg/jG6fHhm2NT9zVyDtlcoyP1mMFMFnly8/dqXD+xJ5KT8SgPYlfEAjPz4BK9kZ6Bk/0IAKxg1pCj8AH2AezdW8PuDntL6enAi/MmnJikYDGb993NKJOs8iv37J6iluCSm/Ub5Az9IpL79GiQPfC5Uyv55Kz6sGgjW/KDyCvdVYOL8qhEXeixY7vzwzOrdVuD2/PMQNXb4dQL8Rv5r2tE5BvwrMZkvUbUK/Ar2eYvR5Q7/dmJHYAHJEvwQbmfv5VEW/79ys0/UhRr+udpATIdhGv2n5o/K/dke/szx27i79R78sdVFz42pIv7hVFGtsv0i/NXvEsXL6SL91+GFvuRtJvxZqn1YeI0m/b+s9yJkQSb9geejaPuRIv+iphkc7nki/3AAbOtc+SL9Ud10HdcZHv2HmXseQNUe/VdGd1b+MRr8SbBA3sMxFv2SSwuYn9kS/mJnACQQKRL/VWyELOAlDv+55GqHM9EG/PHshvN7NQL/oJmbCPCs/vxap3uCamjy/LLObsnzsOb+F4H97pSM3v3++UAv0QjS/+RxByF9NMb8=",
          "dtype": "f8"
         },
         "z": {
          "bdata": "EIl5O0Ni3j8QiXk7Q2LePxCJeTtDYt4/EIl5O0Ni3j8QiXk7Q2LePxCJeTtDYt4/EIl5O0Ni3j8QiXk7Q2LePxCJeTtDYt4/EIl5O0Ni3j8QiXk7Q2LePxCJeTtDYt4/EIl5O0Ni3j8QiXk7Q2LePxCJeTtDYt4/EIl5O0Ni3j8QiXk7Q2LePxCJeTtDYt4/EIl5O0Ni3j8QiXk7Q2LePxCJeTtDYt4/EIl5O0Ni3j8QiXk7Q2LePxCJeTtDYt4/EIl5O0Ni3j8QiXk7Q2LePxCJeTtDYt4/EIl5O0Ni3j8QiXk7Q2LePxCJeTtDYt4/EIl5O0Ni3j8QiXk7Q2LePxCJeTtDYt4/EIl5O0Ni3j8QiXk7Q2LePxCJeTtDYt4/EIl5O0Ni3j8QiXk7Q2LePxCJeTtDYt4/EIl5O0Ni3j8QiXk7Q2LePxCJeTtDYt4/EIl5O0Ni3j8QiXk7Q2LePxCJeTtDYt4/EIl5O0Ni3j8QiXk7Q2LePxCJeTtDYt4/EIl5O0Ni3j8QiXk7Q2LePxCJeTtDYt4/EIl5O0Ni3j8QiXk7Q2LePxCJeTtDYt4/EIl5O0Ni3j8QiXk7Q2LePxCJeTtDYt4/EIl5O0Ni3j8QiXk7Q2LePxCJeTtDYt4/EIl5O0Ni3j8QiXk7Q2LePxCJeTtDYt4/EIl5O0Ni3j8QiXk7Q2LePxCJeTtDYt4/EIl5O0Ni3j8QiXk7Q2LePxCJeTtDYt4/EIl5O0Ni3j8QiXk7Q2LePxCJeTtDYt4/EIl5O0Ni3j8QiXk7Q2LePxCJeTtDYt4/EIl5O0Ni3j8QiXk7Q2LePxCJeTtDYt4/EIl5O0Ni3j8QiXk7Q2LePxCJeTtDYt4/EIl5O0Ni3j8QiXk7Q2LePxCJeTtDYt4/EIl5O0Ni3j8QiXk7Q2LePxCJeTtDYt4/EIl5O0Ni3j8QiXk7Q2LePxCJeTtDYt4/EIl5O0Ni3j8QiXk7Q2LePxCJeTtDYt4/EIl5O0Ni3j8QiXk7Q2LePxCJeTtDYt4/EIl5O0Ni3j8QiXk7Q2LePxCJeTtDYt4/EIl5O0Ni3j8=",
          "dtype": "f8"
         }
        },
        {
         "mode": "lines",
         "type": "scatter3d",
         "x": {
          "bdata": "y9Gl0rmtID/IhJJXWCstP1JIIK5yxTQ/QDtO2c/fOj9dFUmUPG9AP2ogzlKgXUM/YCWjow04Rj9uwSWWk/tIP+HeydVYpUs/X+vomZ4yTj9k2Rm9YVBQP0UMbhKjdlE/YJDV+eOKUj9P6ayuB4xTP6wqVCAFeVQ/7gtrA+hQVT+t2aPN0RJWP46uKZv6vVY/VHut/LFRVz92d0WtX81XP5h/Yy+EMFg/KJVAULl6WD+WBjaRsqtYP92nl3Y9w1g/1dK9u0HBWD/ZiglswaVYPxz6yODYcFg/3nT+o74iWD8fIig4w7tXP5U9QsVQPFc/rX9Zq+qkVj9yeB77LPZVP6N2BdXLMFU/YNCYr5JVVD889LyFY2VTP4J1vu01YVI/rTMaGhZKUT+RsgbFIyFQP+s+tw8iz00/Kn8SP0I9Sz8GFco+To9IP3jRRScJyEU/RsbGKVDqQj/hwjk5L/I/P2W2Ad/P7jk/80dsFrXQMz8ecLd+WjwrP9Qzrx9vdh0/OM+5aSlX8T4S38xpUs8Uv5RindR97ya/MYA2/9avMb9tRuuus9U3v40wbpr+4j2/XoIwW73oQb84XaVchc1Ev/LMj7TbnEe/VM/G4NpTSr81Jlt2tu9Mv2MOFwS+bU+/ZsAT7K/lUL9vugnTFQNSv+MjI4XqDVO/+/NK9BoFVL/WxqlRqOdUv3E6TxSptFW/m4rt6UlrVr/VRK+QzgpXv5aHRpmSkle/fMJtEAoCWL9CPSsPwlhYv6uvQjFhlli/RNJa8ae6WL8663fqcMVYvyzYh/6wtli/09jXYXeOWL8dSmiL7UxYv955LgpX8le/XKJwPxF/V79Q14P+kvNWv+sdTxJsUFa/K/MRqUSWVb+7Cwen3MVUvz0CluAK4FO/SNvfPLzlUr/apYrB8tdRv3Pzx4jEt1C/9KdQRbUMT7/3r8bF34lMv8aCnzif6Um/VNa0lqguR79+77dhzFtEv9bler3zc0G/2tGq3zr0PL+5nnmUteI2v85mfACZuTC/cF10uH3+JL+YGUuXSugQv6J5OOmnewA/vdGl0rmtID8=",
          "dtype": "f8"
         },
         "y": {
          "bdata": "jOLW0GpqMb+wmhwtn8Msv9HK4CPClCa/DctYLJ5OIL/kufbWVe8Tv1DuV9GKs/y+YHKautdz9j4mS5hRBWESP1Tp/6oiEh8/2iZyXJzRJT9sh6eeqQMsP3EwMBZrDDE/9jg2bW4FND/muGdczuk2PzxABrKPtjk/3q5Klc9oPD+NvAOAxv0+P78qBY5luUA/2N3LgKriQT/FuNSpf/lCP9v34JvF/EM/fHY9E3HrRD8LMUMJjMRFP40m87E2h0Y/GS2oYqgyRz/r6vBgMMZHPxW6vJg2QUg/aqwfOTyjSD/IFgw33OtIP5LierXLGkk/ekeXUtovST+mYJ5Z8ipJP2I0P9kYDEk/kh1knm3TSD++9moTK4FIPyzR7QOmFUg/aEpaRU2RRz+amrFEqfRGPx8h53lbQEY/XmZuwR11RT9AJqScwZNEP+rh11kvnUM/LJfUJGWSQj9pdt8AdnRBP5GrOq2IREA/Uuig6qwHPj+XaX/bU2c7P+rqLT+7qjg/hhU6RrXUNT9zSy9XLugyP5XyPRZU0C8/QLJ+JICvKT9CFqkHMnQjPyALtXKsSRo/bN5xfLcfCz+A/RV7BQLJPoT5iEITAQi/CGthMcS8GL+WQ85mv68iv7zyHYTZ7Si/UmLwFEESL7/y1nKdUIsyvy6B4A1jejW/psYZo1FTOL/oxAP3LBM7vyIGn3wftz2/Tqz4NTgeQL8T0CNIQ1BBv3ie9Xp1cEK/oxdEuqV9Q79gw9KJvnZEv61hXCO/WkW/8DlDf7woRr+jL9dG4t9GvxTfN69zf0e/4yDxO8wGSL9EWIloYHVIv8jDUji+yki/pJDrq40GSb89kfMbkShJv5MVmnilMEm/M2LCbcIeSb8AhJlr+vJIv2anlJN6rUi/aIrriYpOSL9Y/r4rjNZHvz6ZNyr7RUe/ZZQEi2ydRr8JR74Ojt1Fv/SWyn0lB0W/tv973A8bRL8GWj2HQBpDv2Y9tTfABUK/1ZPj86veQL+aVqXQZ0w/v/xDFV00uzy/RsgUAmMMOr9g/Di8t0I3v6Ji3zUSYTS/j+LW0GpqMb8=",
          "dtype": "f8"
         },
         "z": {
          "bdata": "BLV+pUCt3z8EtX6lQK3fPwS1fqVArd8/BLV+pUCt3z8EtX6lQK3fPwS1fqVArd8/BLV+pUCt3z8EtX6lQK3fPwS1fqVArd8/BLV+pUCt3z8EtX6lQK3fPwS1fqVArd8/BLV+pUCt3z8EtX6lQK3fPwS1fqVArd8/BLV+pUCt3z8EtX6lQK3fPwS1fqVArd8/BLV+pUCt3z8EtX6lQK3fPwS1fqVArd8/BLV+pUCt3z8EtX6lQK3fPwS1fqVArd8/BLV+pUCt3z8EtX6lQK3fPwS1fqVArd8/BLV+pUCt3z8EtX6lQK3fPwS1fqVArd8/BLV+pUCt3z8EtX6lQK3fPwS1fqVArd8/BLV+pUCt3z8EtX6lQK3fPwS1fqVArd8/BLV+pUCt3z8EtX6lQK3fPwS1fqVArd8/BLV+pUCt3z8EtX6lQK3fPwS1fqVArd8/BLV+pUCt3z8EtX6lQK3fPwS1fqVArd8/BLV+pUCt3z8EtX6lQK3fPwS1fqVArd8/BLV+pUCt3z8EtX6lQK3fPwS1fqVArd8/BLV+pUCt3z8EtX6lQK3fPwS1fqVArd8/BLV+pUCt3z8EtX6lQK3fPwS1fqVArd8/BLV+pUCt3z8EtX6lQK3fPwS1fqVArd8/BLV+pUCt3z8EtX6lQK3fPwS1fqVArd8/BLV+pUCt3z8EtX6lQK3fPwS1fqVArd8/BLV+pUCt3z8EtX6lQK3fPwS1fqVArd8/BLV+pUCt3z8EtX6lQK3fPwS1fqVArd8/BLV+pUCt3z8EtX6lQK3fPwS1fqVArd8/BLV+pUCt3z8EtX6lQK3fPwS1fqVArd8/BLV+pUCt3z8EtX6lQK3fPwS1fqVArd8/BLV+pUCt3z8EtX6lQK3fPwS1fqVArd8/BLV+pUCt3z8EtX6lQK3fPwS1fqVArd8/BLV+pUCt3z8EtX6lQK3fPwS1fqVArd8/BLV+pUCt3z8EtX6lQK3fPwS1fqVArd8/BLV+pUCt3z8EtX6lQK3fPwS1fqVArd8/BLV+pUCt3z8EtX6lQK3fPwS1fqVArd8/BLV+pUCt3z8=",
          "dtype": "f8"
         }
        },
        {
         "mode": "lines",
         "type": "scatter3d",
         "x": {
          "bdata": "AmsAzI0hID8ijDgwCDYtP5hOAwgzFjU/RHg/Y6V7Oz8sBLmfYeJAP9j8IfOI9UM/FhGeQR30Rj9LLUxWCNtJP1CgNmBMp0w/WJ6+BwdWTz/I0tozOvJQP8waivP4J1I/ydIueABLUz/8IvLBJFpUPyCgI1FOVFU/FlNWRns4Vj8f2jJswAVXPxGg7ClKu1c/PztgXV1YWD+rHPobWNxYP862nlmyRlk/xA7odP6WWT/rJyio6cxZP57Lu1486Fk/RblVbtroWT9SLwc0w85ZP5ff55QRmlk/3KFc4vtKWT+8eBmi0+FYP4OgGDoFX1g/MUjdgBfDVz9nI3Uyqw5XP4scyEp6QlY/o/LgRVdfVT8hY/RGLGZUP0qIBif6V1M/cjcnbNc1Uj9wS1Yq7wBRP3mhb57/dE8/p76rs7PHTD9O/YT/vPxJP/NE/oH8Fkc/XiRC2G4ZRD9ClnQoKQdBP3RrdOirxjs/wtp2qmNiNT8ZewOcINAtP0DiZYa+vCA/UC1MEd3A/D7XhlhzdyATv8bNYmS3ria/uKtdr+jaMb8GT9LhDUw4v6AMC1AnpD6/vnHzaFVuQr+18DRnl3dFv7Vx92u4aki/qHf8D65ES7+ytv7dhwJOvwhALC25UFC/iPdl9lyPUb/xCLbU5rtSv1MW5Pog1VO/0YXPg+nZVL82AUSdM8lVv2TBFJ0Iola/BQBh/4hjV7+mdPtM7QxYv/FbB+mGnVi/ghX3xMAUWb+HzTL6H3JZvyjPyEhEtVm/3uekeujdWb9Kleiq4utZv6FyGnEk31m/W2EA8Lq3Wb/qHRXIznVZv6k1p+2jGVm/eInMYpmjWL9eknLVKBRYv2lc8CHma1e/zIObun6rVr+xUf30uNNVv1lGYD1z5VS/UtCIMaPhU7/piIWjVMlSv6Tzm4WonVG/51VuwNNfUL8kXxvpOyJOv4UlgFHAZUu/4PquzAaNSL/1pw+K/ppFvyA/d8+wkkK/UKnar3vuPr8mv401s5c4v8co0vyQJzK/4BJu6G9JJ7/2IhJTeVcUv2g2KZOU4/c+9GoAzI0hID8=",
          "dtype": "f8"
         },
         "y": {
          "bdata": "S4Ccv6yaMb8xQbR5QSEtvyRsaloi7ya/fD6FI1+lIL9OR55r5pQUv3jdahFdJ/++wEwMufwk9D4QpRmlJNcRP2p0+TKmkh4/Vnnb71GXJT8+A9kXD88rP24peOIQ9TA/PDOjWx/xMz/MtElcn9g2P2r58nmSqDk/IkPbkBJePD/OSvfAVPY+P6tzbidWt0A/fp7MskbiQT+Wbk7bx/pCP5CahHq4/0M/ejTolAvwRD/1jSBvycpFPzJBYY0Qj0Y/zSHZmxY8Rz+ufEI/KdFHP/qovcyuTUg/3mQ46CaxSD8Gtb4IK/tIP8nhLOJuK0k/IJ7Vs8BBST+uRct7CT5JP/RTlw5NIEk/C6JHE6roSD/gfNXjWZdIPxImB1KwLEg/m7AIURupRz/aSRWEIg1HP0zEpbJmWUY/aoS0IqGORT+Qp8HZoq1EP55DXMVTt0M/Q9oOzLGsQj/CcaXHz45BP10e22nUXkA/XRQmGfI7Pj8QP6zdEJs7PyqZxL+63Tg/0qZVs8IGNj9TVXQYFhkzP2QS67a5FzA/+wJBQ40LKj/q6iUKzswjPz6YzZBL8xo/tBvmN2ZiDD9AxM+MlwfWPoiU7QFX4wa/ZvgggwQ4GL+UNkM0s3Iiv5ltCuRftii/5ySsNpPgLr+TpyUqeXUyv0oCMpqhZzW/Db96hLlDOL9+A55AzgY7vwpiw+4Grj2/6GF5s1MbQL+UbGiFCU9BvwqLbLvncEK/+2AniMN/Q7/zgKG2hXpEv2BtGsorYEW/0OZ8CMkvRr8v3GRuh+hGvytyu4uoiUe/l7gFSIYSSL+SspuNk4JIvxMzF9tc2Ui/zaNkuogWSb/s+foc2DlJv0rJ25wmQ0m//HQYomoySb8Q0LVstQdJv9/84wIzw0i/Pt+cAyplSL9T6ddd++1Hv5hNnuwhXke/NpZm+DG2Rr9+LTqe2PZFv+hnQh3bIEW/vgJ1CxY1RL8KrzFyfDRDv5QNu9MWIEK/pFuNGgL5QL94wlfn3IA/v0rBJyo87zy/K30w48c/Or/bh/i2RHU3v95Fay6TkjS/ToCcv6yaMb8=",
          "dtype": "f8"
         },
         "z": {
          "bdata": "fvDBBx984D9+8MEHH3zgP37wwQcffOA/fvDBBx984D9+8MEHH3zgP37wwQcffOA/fvDBBx984D9+8MEHH3zgP37wwQcffOA/fvDBBx984D9+8MEHH3zgP37wwQcffOA/fvDBBx984D9+8MEHH3zgP37wwQcffOA/fvDBBx984D9+8MEHH3zgP37wwQcffOA/fvDBBx984D9+8MEHH3zgP37wwQcffOA/fvDBBx984D9+8MEHH3zgP37wwQcffOA/fvDBBx984D9+8MEHH3zgP37wwQcffOA/fvDBBx984D9+8MEHH3zgP37wwQcffOA/fvDBBx984D9+8MEHH3zgP37wwQcffOA/fvDBBx984D9+8MEHH3zgP37wwQcffOA/fvDBBx984D9+8MEHH3zgP37wwQcffOA/fvDBBx984D9+8MEHH3zgP37wwQcffOA/fvDBBx984D9+8MEHH3zgP37wwQcffOA/fvDBBx984D9+8MEHH3zgP37wwQcffOA/fvDBBx984D9+8MEHH3zgP37wwQcffOA/fvDBBx984D9+8MEHH3zgP37wwQcffOA/fvDBBx984D9+8MEHH3zgP37wwQcffOA/fvDBBx984D9+8MEHH3zgP37wwQcffOA/fvDBBx984D9+8MEHH3zgP37wwQcffOA/fvDBBx984D9+8MEHH3zgP37wwQcffOA/fvDBBx984D9+8MEHH3zgP37wwQcffOA/fvDBBx984D9+8MEHH3zgP37wwQcffOA/fvDBBx984D9+8MEHH3zgP37wwQcffOA/fvDBBx984D9+8MEHH3zgP37wwQcffOA/fvDBBx984D9+8MEHH3zgP37wwQcffOA/fvDBBx984D9+8MEHH3zgP37wwQcffOA/fvDBBx984D9+8MEHH3zgP37wwQcffOA/fvDBBx984D9+8MEHH3zgP37wwQcffOA/fvDBBx984D9+8MEHH3zgP37wwQcffOA/fvDBBx984D9+8MEHH3zgP37wwQcffOA/fvDBBx984D9+8MEHH3zgP37wwQcffOA/fvDBBx984D8=",
          "dtype": "f8"
         }
        },
        {
         "mode": "lines",
         "type": "scatter3d",
         "x": {
          "bdata": "efXfPZFpHz94l9g27l8tPyhB3AxmdjU/AeiQP7UmPD/vc9HO/1xBP87Ge/2+lEQ/FAD0CEe3Rz/TbO+sXMFKPz7Jb9jdr00/aGlGdOI/UD/quPfiFZdRP2Y15HAn3FI/mAaXB8gNVD9rg/iavCpVPzQeEG7fMVY/Ag/PQSEiVz9MnKtsivpXP27I7Nk7ulg//Tmf729gWT+KU0Zae+xZP5qCd73NXVo/6ripSPKzWj+Mqp8vkO5aP0iw8AVrDVs/UfNR/WIQWz+SrV8GdfdaP6myxNO6wlo/JgG9v2pyWj9/qg6U1wZaP93SsjRwgFk/LsGGLb/fWD9Q1HojaiVYPzqV0ikxUlc/Z+kl/O1mVj+Ffu8dk2RVP+bLj+AqTFQ/TVvGUNYeUz+0VbwMzN1RP8x40wNXilA/kggHQ6pLTj9Ki0vJa2NLP/ooRcnxXkg/6H4OjFhBRT+SBjhA1g1CP0hzhFRvjz0/LiCfe7nkNj9i/B9GaiIwP4zk76/yniI/Yqpb0HuXAz8cxFyYgrARv1WbaIFDjSa/w+UNQYMVMr9xx7aNwNE4v9q+i0RodD+/i/FusVH7Qr9pqzYp3ihGv7fw9+mSP0m/QiMB4EA8TL/8EMfL0xtPv5gFOLeq7VC/oMi4S/g7Ur+zbA0IendTv5DRBLHqnlS/HHzWuhmxVb/PVxGD7KxWv/Y89HNfkVe/wegDEIddWL91kcrkkBBZvzDcxmPEqVm/TJWqoIMoWr+tDyX0S4xavzNckYK21Fq/VIT9pXgBW78MfB07ZBJbvxx52tBnB1u/26hNuo7gWr80vBMDAZ5avzhSBUYDQFq/os5+ZvbGWb+CgoAsVzNZv8UaDsS9hVi/VuxRIN2+V78J0CVDgt9WvwS1v2mT6FW/jcBbHw/bVL+uodg2C7hTv+GSVKyzgFK/JkDyb0k2Ub+zqQg2QrRPv9Zv6SFD20y/XMOiGoXkSb8qSvhAFtNGvyVaGTkgqkO/CHEI6ORsQL8r9wQwdj06vzoFuA4WhjO/cCiClSt1Kb/+x5cG2ocXv1je0xAll+8+W/XfPZFpHz8=",
          "dtype": "f8"
         },
         "y": {
          "bdata": "djCvYrXfMb8CsPM+C6gtvxRaeK0Zcie/v5OwA/0jIb90UVY8aogVv9j1cUBQZQG/4FVmFEWw8D64TLytfQYRP7bxtUJdzx0/LXItIsE8JT9zaARQ73srP6jaTllkzzA/qLoGA33PMz8iQfXfKbs2P8jE0zdojzk/4grDeU1JPD94z949CuY+P5ACaZV2sUA/c6433rLeQT98yzh0g/lCP+T/VM/EAEQ/EpgEkWfzRD+LQAuccdBFP8O+Shb/lkY/7OOiU0NGRz9znOyoid1HP3mgNiY2XEg/F8uDN8bBSD/AZWUr0Q1JP2un5p4IQEk/gihazjhYST+HALbKSFZJP1+MR5M6Okk/ll6kEysEST/8eNoFUrRIP56K/rgBS0g/DmlTvKbIRz8EO2Jvxy1HPyCvdncDe0Y/iQcOGxOxRT/cneKDxtBEP5+uV+gE20M/t50incvQQj/wYicQLbNBP+ROla1Pg0A/nIbPYNmEPj85cge/neM7P+XTfXGiJTk/mjFgFrtNNj/PXnIE1l4zP29Kl0X5WzA/b1zX8X6QKj/+N1I/qU0kP3oWd2DL6xs/2Jq+UPg+Dj8AtEMGsRziPtBkI7RKNQW/hhcWhPJtF7/9Ed5ujBQivyASbmZ8Xyi/lOvqkUyRLr8a0kYgzVEyv+i5VZ4RSDW/6LSmH2YoOL+AF9Od0+86v6xg9L18mz2/XcZMYlAUQL/8jB02T0pBvxl0oE17bkK/HkRne6d/Q7/XcNcnunxEv8OPb3OuZEW/NzqxQ5U2Rr9wJ5o5lvFGv9ZsrpDwlEe/Qvqt5fsfSL8OfSjkKJJIvza8PNoB60i/oiDrMSsqSb+sWX7PY09Jv1bMqFSFWkm/QJ4RSIRLSb8klyghcCJJv8inNDhz30i/kIWtmtKCSL99WQ3E7QxIv7HiYzs+fke/woEQFlfXRr9cTyRg5BhGv3aICGuqQ0W/+iAgA4VYRL/1FzWNZlhDv/IbmwxXREK/MBAJE3MdQb9j+YM21ck/v/KUd5//Nz2/EpwNfQuIOr+N6Zj3vbw3vxO4mmj42DS/eTCvYrXfMb8=",
          "dtype": "f8"
         },
         "z": {
          "bdata": "eIbEvJ0h4T94hsS8nSHhP3iGxLydIeE/eIbEvJ0h4T94hsS8nSHhP3iGxLydIeE/eIbEvJ0h4T94hsS8nSHhP3iGxLydIeE/eIbEvJ0h4T94hsS8nSHhP3iGxLydIeE/eIbEvJ0h4T94hsS8nSHhP3iGxLydIeE/eIbEvJ0h4T94hsS8nSHhP3iGxLydIeE/eIbEvJ0h4T94hsS8nSHhP3iGxLydIeE/eIbEvJ0h4T94hsS8nSHhP3iGxLydIeE/eIbEvJ0h4T94hsS8nSHhP3iGxLydIeE/eIbEvJ0h4T94hsS8nSHhP3iGxLydIeE/eIbEvJ0h4T94hsS8nSHhP3iGxLydIeE/eIbEvJ0h4T94hsS8nSHhP3iGxLydIeE/eIbEvJ0h4T94hsS8nSHhP3iGxLydIeE/eIbEvJ0h4T94hsS8nSHhP3iGxLydIeE/eIbEvJ0h4T94hsS8nSHhP3iGxLydIeE/eIbEvJ0h4T94hsS8nSHhP3iGxLydIeE/eIbEvJ0h4T94hsS8nSHhP3iGxLydIeE/eIbEvJ0h4T94hsS8nSHhP3iGxLydIeE/eIbEvJ0h4T94hsS8nSHhP3iGxLydIeE/eIbEvJ0h4T94hsS8nSHhP3iGxLydIeE/eIbEvJ0h4T94hsS8nSHhP3iGxLydIeE/eIbEvJ0h4T94hsS8nSHhP3iGxLydIeE/eIbEvJ0h4T94hsS8nSHhP3iGxLydIeE/eIbEvJ0h4T94hsS8nSHhP3iGxLydIeE/eIbEvJ0h4T94hsS8nSHhP3iGxLydIeE/eIbEvJ0h4T94hsS8nSHhP3iGxLydIeE/eIbEvJ0h4T94hsS8nSHhP3iGxLydIeE/eIbEvJ0h4T94hsS8nSHhP3iGxLydIeE/eIbEvJ0h4T94hsS8nSHhP3iGxLydIeE/eIbEvJ0h4T94hsS8nSHhP3iGxLydIeE/eIbEvJ0h4T94hsS8nSHhP3iGxLydIeE/eIbEvJ0h4T94hsS8nSHhP3iGxLydIeE/eIbEvJ0h4T94hsS8nSHhP3iGxLydIeE/eIbEvJ0h4T8=",
          "dtype": "f8"
         }
        },
        {
         "mode": "lines",
         "type": "scatter3d",
         "x": {
          "bdata": "zYDfPB/IHj+S07oWvKUtP4f0qnJs5DU/DOO0sGnfPD/rUCTaUd5BP/ExIo2DOkU/lV1nPNOASD9LpLTB4K1LP0QMQQBmvk4/V8xVIp3XUD+3y03Dqj5SP6oRWsTpklM/wB/RafvSVD94fJnElf1VP3QXRAaFEVc/GGtXvqwNWD/cSIT/CPFYPy4Slmuvulk/ZisKJdBpWj8an1Wltv1aP6cR/HbKdVs/ejG40o/RWz/NoxMfqBBcPwjn6lHSMlw/kKV4M+s3XD+YXKOC7R9cP/bqZ/rx6ls/mHJbOC+ZWz/y016E+SpbPwnMvXnCoFo/mkMTkhj7WT/4hmuSpjpZP1nLO9syYFg/33bkm55sVz/B9pDq5GBWPxhrZMEZPlU/Ifb94WgFVD/47nmgFLhSPwx9Lpd0V1E/DDr0iOjJTz84VyIoI8RMPwZqmaq2oEk/nLkgQN9iRj+BR95T9A1DP888HDXKSj8/W7NoEGpZOD+MRuBh8E4xP1ygrWI+ZSQ/GOxKV1deCD8UKw69tHgQv3RU4jzNhya/4u8JRANeMr+pLuL5MGU5v+X6EI8YKUC/zkuIBfCOQ79pkoc5nuBGvxDplUy3Gkq/s1xur+c5Tb9UJefHex1QvzTv1RRnjVG/c6Y0fDrrUr/FNF1ijTVUv0ZLC0YLa1W/9FlcH3WKVr9utayoopJXv4bq/o+Dgli/7m6yjyBZWb80UWhtnBVavzooD940t1q/5C4rTkM9W79vF4yNPadbvwSWv1229Fu/0Mut4l0lXL+/fev0ATlcvyY7bVWOL1y/JClmwgwJXL947zztpMVbv94goVGcZVu/lkzr7VXpWr8ZjhHdUVFav4HLmdIsnlm/ecIReZ/QWL8pZrOzfelXv6LH+cO16Va/bq8HVE/SVb9wE91maqRUvzOUcy8+YVO/lgv0zxcKUr+a2k8CWaBQv/7kP1ftSk6/aO6Ct+41S7+Lbnh14wRIv4X3I8sVu0S/R5hNeOlbQb+tfAaIsNU7vxgDys7c1jS/Bk23lRuFK797GO2bPoAav3CWj2FaKOE+roDfPB/IHj8=",
          "dtype": "f8"
         },
         "y": {
          "bdata": "zALJBEs6Mr+KjEbcnVkuv7QdMZhcHyi/9RTNoT3MIb9qQ/f+i80WvwjiMIQ21gO/QCOaw3YM6D5geyZYP9YPP6gB6cVHxBw/JIWkTuS/JD9r9GEdQQgrP2g/6y9gmjA/SR8LcIKfMz+GVYZYapA2PzYmxcwPajk/0L4qqoIpPD+EbWbP7cs+PxY89wNNp0A/FAdRbHjXQT9QzleVP/VCP07J/+h7/0M/455E9hr1RD9p2Q+MH9VFPyPCN76inkY/spmJ09RQRz8Qzekb/upHP2htra1/bEg/R7tpCdTUSD8S6ZCjjyNJPyk6TlNhWEk/+jcvphJzST+Jv0MYiHNJP6oMezDBWUk/BoYggdglST9DyXeMA9hIP3QzlI2ScEg/X8GkJfDvRz9uiAnuoFZHP/wVpO9CpUY/LJvv/4zcRT+A0ogETv1EP1jm5x1sCEQ/SjEouuP+Qj9CYNKQxuFBP44xtYg6skA/WlTfEfHiPj/GG8pslkE8P5ctzj0bgzk/uYfrplOqNj//CQvmLrozPz7/mE60tTA/TjaYVABAKz8aj6EIgfgkP2aMm4jHNh0/3r9Ltm9eED+gnGJiwqnrPvi9Xj0f7wK/BApTR5VaFr8qa8b8R5Mhv0AVCWEn5ye/USC0A2MiLr9SDRs/Rx8yv7p7n7euGjW/s8xp/FQAOL++E1eLPc06v5hkMWOFfj2/oQS8/rIIQL8iJmYVnEFBvwfsh2e7aEK/IXwxveB8Q78DoCpu73xEv9wHYYffZ0W/twP+2r48Rr80Ogv6sfpGv40GpRb1oEe/klLRzdwuSL9d3SrY1qNIv0HRqqBq/0i/0Tn1wDlBSb+kOKhiAGlJv+epSYWVdkm/RiOLKOtpSb/Bu7haDkNJv7i7QysnAkm/qBR3gXinSL8XMoDXXzNIv9k6E9pUpke/4RYO7egAR7/bY5mVxkNGv0PWYcqwb0W/cDifKoKFRL9GMrgcLIZDvxkoa9W1ckK/MrN8SDtMQb9nYgME7BNAv574/O4Tlj2/OqP0T9DlOr9RazCl0hk4v7m0xP38NDW/zwLJBEs6Mr8=",
          "dtype": "f8"
         },
         "z": {
          "bdata": "chzHcRzH4T9yHMdxHMfhP3Icx3Ecx+E/chzHcRzH4T9yHMdxHMfhP3Icx3Ecx+E/chzHcRzH4T9yHMdxHMfhP3Icx3Ecx+E/chzHcRzH4T9yHMdxHMfhP3Icx3Ecx+E/chzHcRzH4T9yHMdxHMfhP3Icx3Ecx+E/chzHcRzH4T9yHMdxHMfhP3Icx3Ecx+E/chzHcRzH4T9yHMdxHMfhP3Icx3Ecx+E/chzHcRzH4T9yHMdxHMfhP3Icx3Ecx+E/chzHcRzH4T9yHMdxHMfhP3Icx3Ecx+E/chzHcRzH4T9yHMdxHMfhP3Icx3Ecx+E/chzHcRzH4T9yHMdxHMfhP3Icx3Ecx+E/chzHcRzH4T9yHMdxHMfhP3Icx3Ecx+E/chzHcRzH4T9yHMdxHMfhP3Icx3Ecx+E/chzHcRzH4T9yHMdxHMfhP3Icx3Ecx+E/chzHcRzH4T9yHMdxHMfhP3Icx3Ecx+E/chzHcRzH4T9yHMdxHMfhP3Icx3Ecx+E/chzHcRzH4T9yHMdxHMfhP3Icx3Ecx+E/chzHcRzH4T9yHMdxHMfhP3Icx3Ecx+E/chzHcRzH4T9yHMdxHMfhP3Icx3Ecx+E/chzHcRzH4T9yHMdxHMfhP3Icx3Ecx+E/chzHcRzH4T9yHMdxHMfhP3Icx3Ecx+E/chzHcRzH4T9yHMdxHMfhP3Icx3Ecx+E/chzHcRzH4T9yHMdxHMfhP3Icx3Ecx+E/chzHcRzH4T9yHMdxHMfhP3Icx3Ecx+E/chzHcRzH4T9yHMdxHMfhP3Icx3Ecx+E/chzHcRzH4T9yHMdxHMfhP3Icx3Ecx+E/chzHcRzH4T9yHMdxHMfhP3Icx3Ecx+E/chzHcRzH4T9yHMdxHMfhP3Icx3Ecx+E/chzHcRzH4T9yHMdxHMfhP3Icx3Ecx+E/chzHcRzH4T9yHMdxHMfhP3Icx3Ecx+E/chzHcRzH4T9yHMdxHMfhP3Icx3Ecx+E/chzHcRzH4T9yHMdxHMfhP3Icx3Ecx+E/chzHcRzH4T9yHMdxHMfhP3Icx3Ecx+E/chzHcRzH4T8=",
          "dtype": "f8"
         }
        },
        {
         "mode": "lines",
         "type": "scatter3d",
         "x": {
          "bdata": "8mPWXihYHj8J2TvQLAQuPzkyvDaqXjY/ukrM2S6kPT8F1lO2kmVCP4Vg50QX5kU/dE498ghQST/gvPDc4p9MP08CQQk70k8/N7v+8uJxUT+XVQvZrOhSP15cqt/4S1Q/ChZrx1iaVT8yRhHic9JWP5gP43UI81c/LDRNCe36WD/11YeVEelZP8Gg/56AvFo/sk5iMmB0Wz+urknF8g9cP92UnfmXjlw/oU3jQs3vXD9SK9BsLjNdPzl2lAJ2WF0//UR0ln1fXT+ab2TpPUhdP3vHgvLOEl0/e+Fhxme/XD8A6UFeXk5cP0sDcT8nwFs/6J0uA1UVWz+3eI2/l05aP7ox8FG8bFk/gG7bi6twWD8vU/dCaVtXP0arN0UTLlY/l90+MuDpVD+pXCs7HpBTPxylGcoxIlI/muW9EpShUD9aFCAbox9OP+70Nb4Q3Uo/H6koWs1+Rz/3aenFUQhEP9Y8s88vfUA/dfYkHh3COT9iKfZBTW8yP3ilPEf5EiY/lrejlFvCDD8yC8Q60+QOvwwW51wKmya/4kKDQcmyMr+l3fABxwQ6v+DXxlf5nUC/ZMTuF24oRL/5mnBcG55Hv/zxvCtw+0q/sc3RpPQ8Tr+1pjzJpq9Qv18pffCfL1K/ORNV+dmcU7/NIPhn3PVUv6+IuZdDOVa/xM2mKcJlV7/PGi1cInpYvyjqZkpHdVm/wdTIES5WWr9Qzv7c7htbv9W35tK9xVu/RPCx6OtSXL+uR1WW58Jcv15VjWw9FV2/04zci5hJXb+caAj8wl9dv6B7u+OlV12/xw8ToEkxXb+TCgC81excv8r6g8eQily/p1P0DuAKXL+J0I4yR25bv0mkyp5ntVq/6VHy5f/gWb+btbH76vFYvwG+YlMf6Ve/+n0B4q3HVr9Ed80EwY5Vv+oouk2bP1S/cOvrNpbbUr/X3Ze+IGRRv3T6a9l7tU+/RbwWiAaCTL/NkU9ALjFJvzk8CwRexkW/gJwZmhtFQr/JICfZB2I9v3fq3Z6OGza/CIE+zJZ8Lb9t3gU2Vkcdv4DbcO3wFcE+0mPWXihYHj8=",
          "dtype": "f8"
         },
         "y": {
          "bdata": "+rerUIaqMr9a73S8OzYvv+iQKlY+9yi/YwtytISeIr/i1B9JM2UYv+wfnvJu6Aa/gJ6+4i6J2D7IrVtSkQcNP+jxuBQIcBs/07AWff8fJD8DzE0lPHMqP4Y9Am+aVTA/DYGnTsBgMz/sv/iH7Fc2P8TOmogQODk/vmQmfDX+Oz+u719af6c+P8fl5+yXmEA/ZIHYoVTMQT9lLCaTuO1CPz7+e3GZ+0M/V92MCuH0RD/i3NhnjthFPytDj9e2pUY/Wix83oZbRz8cZwgSQ/lHP1nTatlIfkg/Dx1EFQ/qSD9CDfisJjxJP1a8MgE7dEk//pgjQxKSST+FWBSwjZVJP0RjHrGpfkk/qA3e3n1NST9lzR/pPAJJP4J9oGI0nUg/S40WccweSD/Sh9Zhh4dHP7qegSMB2EY/Va1Ipe4QRj+cZWkcHTNFPzzppTBxP0Q/ZNyQEOY2Qz/H6aBujBpCP6qfFmiJ60A/VdOsrSpWPz+hO9we9bQ8P8sGJBko9jk/eavgEpgcNz+A6pcYNSs0P9dcvsUHJTE/xplYSFwaLD9tJPbqsM0lP0K4a6YX1R4/2gMTGAXvET9gEK0P2NnzPiDPPl1tDgC/sCUl0pz8FL9qpIxgMO4gv9IEa5GeTCe/IbPVTAiTLb8zyfXSet0xvxSOXA4H3zS/mRdllA/LN7/SZkxOkZ46v/h4oW2iVj2/WmMQbXXwP7+QkQL6rTRBv0nZFc1kX0K/cAr6Qyt3Q784jbL44HpEv7y8VzR6aUW/kSoOAwFCRr92II8xlgNHv3sHPTNyrUe/mYjW7+U+SL/IXPR3W7dIv2y+l59WFkm/MioqfnVbSb/EfWrTcIZJv8hq31Acl0m/HIiDx2aNSb8Y7Xs5WmlJvzMUx88bK0m/1Kfus+vSSL+CtePNJGFIv0R1SWY81ke/0z2PrcEyR79mRVYoXXdGvzlWuwHQpEW/oYc3RPO7RL8CPuX5tr1DvyQSEDUhq0K/RbAOAk2FQb+oKH1DaU1Av5zqCPRuCT6/XRri8RRZO781StwRiow4v49Nm/SwpjW//berUIaqMr8=",
          "dtype": "f8"
         },
         "z": {
          "bdata": "brLJJpts4j9usskmm2ziP26yySabbOI/brLJJpts4j9usskmm2ziP26yySabbOI/brLJJpts4j9usskmm2ziP26yySabbOI/brLJJpts4j9usskmm2ziP26yySabbOI/brLJJpts4j9usskmm2ziP26yySabbOI/brLJJpts4j9usskmm2ziP26yySabbOI/brLJJpts4j9usskmm2ziP26yySabbOI/brLJJpts4j9usskmm2ziP26yySabbOI/brLJJpts4j9usskmm2ziP26yySabbOI/brLJJpts4j9usskmm2ziP26yySabbOI/brLJJpts4j9usskmm2ziP26yySabbOI/brLJJpts4j9usskmm2ziP26yySabbOI/brLJJpts4j9usskmm2ziP26yySabbOI/brLJJpts4j9usskmm2ziP26yySabbOI/brLJJpts4j9usskmm2ziP26yySabbOI/brLJJpts4j9usskmm2ziP26yySabbOI/brLJJpts4j9usskmm2ziP26yySabbOI/brLJJpts4j9usskmm2ziP26yySabbOI/brLJJpts4j9usskmm2ziP26yySabbOI/brLJJpts4j9usskmm2ziP26yySabbOI/brLJJpts4j9usskmm2ziP26yySabbOI/brLJJpts4j9usskmm2ziP26yySabbOI/brLJJpts4j9usskmm2ziP26yySabbOI/brLJJpts4j9usskmm2ziP26yySabbOI/brLJJpts4j9usskmm2ziP26yySabbOI/brLJJpts4j9usskmm2ziP26yySabbOI/brLJJpts4j9usskmm2ziP26yySabbOI/brLJJpts4j9usskmm2ziP26yySabbOI/brLJJpts4j9usskmm2ziP26yySabbOI/brLJJpts4j9usskmm2ziP26yySabbOI/brLJJpts4j9usskmm2ziP26yySabbOI/brLJJpts4j9usskmm2ziP26yySabbOI/brLJJpts4j9usskmm2ziP26yySabbOI/brLJJpts4j8=",
          "dtype": "f8"
         }
        },
        {
         "mode": "lines",
         "type": "scatter3d",
         "x": {
          "bdata": "lt5rzUgTHj/S+Vb9FXguP7GnUYqP4zY/ni1+7HtzPj9nF9tGAvJCP5dL9hi/lkY/dGEg8DIkSj+eI55QtJZNP14i5cJadVA/FvTpJWQOUj8fIYqs0JRTP3YJq+ENB1U/YHTHHp5jVj/ib1kVGqlXPzbkO0Ey1lg/QQ+GQrDpWT+TY3wdeOJaP639TF+Jv1s/Ru1pJgCAXD960nANFiNdP7yprfciqF0/HfZlvp0OXj92pzm+HFZeP+z/B0RWfl4/wDjo2CCHXj9bludsc3BePzXcYGBlOl4/d3/jay7lXT9Tb8NmJnFdP06ojOzE3lw/oum34aAuXD+opB/Yb2FbP7N81VMFeFo/q0YZ8VFzWT/MSVJsYlRYPzltCo1eHFc/HOEI9YfMVT82jsbUOGZUP7EPkobi6lI/rBLTEQxcUT8iKesvoXZPP1ECOVm7FEw/+xuhNeOVSD/Ek+cxs/1EP642qNrfT0E/7wgbFWggOz+qTBMDGoUzP2LfY6RZqyc/ynFKTTJoED8vZ/iqcC4Nvzf74U/Mwya/IGmyhEISM79DoDwk9q46v0cZgiEUGEG/qicDPA7HRL9y8h1XnWBIv3cQTXwL4Uu/rUVHnLxET78Q+cQjGURRv7L9LKQH1FK/p2JCjY1QVL/ODaeeIrhVv6h2Dy5UCVe/k55ZpcZCWL9MxtnoNmNZv4CIa6R7aVq/lgTwfYZUW78IKf0rZSNcvyjXnm9C1Vy/g2wo8GZpXb/rGTT4Od9dv3s1DRNCNl6/ZUPjiSVuXr9dpkTAqoZev4ejgW+4f16/EoK6wFVZXr8A631FqhNev84k/879rl2/mzYOJLgrXb8KQx6WYIpcvyFgyHWdy1u/XbZaZzPwWr9YoCSYBPlZv0e+UNUP51i/AFM9hW+7V79qqmGEWHdWvxad7OYYHFW/SmJkoBarU78+rqoSziVSv7B34YXQjVC/0iuJFYXJTb+YOkWStFhKvwS9Z3i7zEa/oDlCvUEpQ78QhnEgD+Q+v6DG9PnCVTe/VFjy4tFeL7+i5V30juMfv6Bm6NNeE82+dN5rzUgTHj8=",
          "dtype": "f8"
         },
         "y": {
          "bdata": "NjAfLPIvM78y+apmhB4wv2y/Xdrx+Cm/X2cZBxWaI79OhdjoBk4av2RFn12MmQq/AICj4d7nrr6YIXvVzKIJP0y0dQlm0xk/wo75PWNdIz/JBX9IHb0pP+KWr48nATA/jjKdC0ETMz/kYPTDsBE2P0bhiqlg+Tg/ByiJIFLHOz8ABKcWoXg+P6yoBn9DhUA/HCrl1C69QT8F2nIE0eJCP3i7oV779EM/OVbVRZPyRD9fQjZRk9pFP/ybKVoMrEY/TJnWciZmRz+QJLzEIQhIP8sHcVZXkUg/2tHCtzkBST/6B4KTVVdJP/xYZSZSk0k/I0WJmvG0ST/V6C1HEbxJP4o1cdSpqEk/wcTgQs96ST+Bd9vWsDJJP2gj2OeY0Eg/FYfDk+xUSD+fhMRWK8BHP1QU0ofuEkc/qmaiuuhNRj9+JZYH5XFFP8SVXTrGf0Q/kmgv6IV4Qz8QOYJuM11CPyTsUdvyLkE/vpYigPfdPz9eYvzgLz09PzSwRl1Efjo/VIzMigmkNz9UlSMmcLE0PzsNvAqCqTE/prQXIr4eLT9HBh6sc8wmP6se396oYiA/HJzqPvTPEz+wxpPhqRj7PnB1Ca9rKvm+NGTEEORUE7/IoqLknyUgv2LPSLkokCa/wJtXXW/jLL8TjcNQd4wxv8UhcwQglTS/jxHsMJGIN795tU8cwGM6v4qCaQ67Iz2/T1miWazFP7/q+oWjbiNBv42zQHFcUkK/Oy39UWduQ7/2c6l5anZEv/8f+MFVaUW/yv3pwi5GRr+U1+3UEQxHv09MjPsyuke/Qsytt95PSL+B+qHAesxIv5W3KaOGL0m/p+TfRZx4Sb+gYXhScKdJv73IaIPSu0m/L9qq1a21Sb+qTGWeCJVJv0qvZIQEWkm/RxdrXd4ESb+YW3rv7ZVIvyGDWZalDUi/vqmyzZFsR7+W4EKgWLNGv1FQsfy44kW/xQy+8In7RL/fe5PLuf5Dv/LTHihN7UK/6ups4F3IQb9wQSDrGZFAvzaQV0iEkT6/r3gmBFLhO78vHAxyYhQ5v4joeJqYLTa/OTAfLPIvM78=",
          "dtype": "f8"
         },
         "z": {
          "bdata": "aEjM2xkS4z9oSMzbGRLjP2hIzNsZEuM/aEjM2xkS4z9oSMzbGRLjP2hIzNsZEuM/aEjM2xkS4z9oSMzbGRLjP2hIzNsZEuM/aEjM2xkS4z9oSMzbGRLjP2hIzNsZEuM/aEjM2xkS4z9oSMzbGRLjP2hIzNsZEuM/aEjM2xkS4z9oSMzbGRLjP2hIzNsZEuM/aEjM2xkS4z9oSMzbGRLjP2hIzNsZEuM/aEjM2xkS4z9oSMzbGRLjP2hIzNsZEuM/aEjM2xkS4z9oSMzbGRLjP2hIzNsZEuM/aEjM2xkS4z9oSMzbGRLjP2hIzNsZEuM/aEjM2xkS4z9oSMzbGRLjP2hIzNsZEuM/aEjM2xkS4z9oSMzbGRLjP2hIzNsZEuM/aEjM2xkS4z9oSMzbGRLjP2hIzNsZEuM/aEjM2xkS4z9oSMzbGRLjP2hIzNsZEuM/aEjM2xkS4z9oSMzbGRLjP2hIzNsZEuM/aEjM2xkS4z9oSMzbGRLjP2hIzNsZEuM/aEjM2xkS4z9oSMzbGRLjP2hIzNsZEuM/aEjM2xkS4z9oSMzbGRLjP2hIzNsZEuM/aEjM2xkS4z9oSMzbGRLjP2hIzNsZEuM/aEjM2xkS4z9oSMzbGRLjP2hIzNsZEuM/aEjM2xkS4z9oSMzbGRLjP2hIzNsZEuM/aEjM2xkS4z9oSMzbGRLjP2hIzNsZEuM/aEjM2xkS4z9oSMzbGRLjP2hIzNsZEuM/aEjM2xkS4z9oSMzbGRLjP2hIzNsZEuM/aEjM2xkS4z9oSMzbGRLjP2hIzNsZEuM/aEjM2xkS4z9oSMzbGRLjP2hIzNsZEuM/aEjM2xkS4z9oSMzbGRLjP2hIzNsZEuM/aEjM2xkS4z9oSMzbGRLjP2hIzNsZEuM/aEjM2xkS4z9oSMzbGRLjP2hIzNsZEuM/aEjM2xkS4z9oSMzbGRLjP2hIzNsZEuM/aEjM2xkS4z9oSMzbGRLjP2hIzNsZEuM/aEjM2xkS4z9oSMzbGRLjP2hIzNsZEuM/aEjM2xkS4z9oSMzbGRLjP2hIzNsZEuM/aEjM2xkS4z8=",
          "dtype": "f8"
         }
        },
        {
         "mode": "lines",
         "type": "scatter3d",
         "x": {
          "bdata": "1CvlbXXzHT9XBC75d/4uP0bA4hqhcTc/ef8rndtLPz84Wcap6YJDP/S2u6fIS0c/P+q+DKT8Sj8rWyzerZFOP5zZOWeaA1E/hRjEBdSsUj8ulup1zUJUP41q9jrkw1U/T9KmX4suVz/7kWIPTYFYP5U1khfMulk/9PGVT8XZWj+bGeTlEN1bP1fC+JCjw1w/zkXcoo+MXT+vmCT+BTdeP7npdOtWwl4/rHSfzvItXz/90a66anlfP+spPuRwpF8/m2yq8diuXz9A5ckomJhfP/AH+3nFYV8/NhR/aJkKXz8/7DjQbZNeP3EtDIm9/F0/NQY86CNHXT9TUUwgXHNcPwgFCoBAgls/JuCBkcl0Wj8aTs0ZDUxZP1eavfo8CVg/gpuM96WtVj833dddrjpVPyTgR5TUsVM/KitgkK0UUj8PhA4142RQP+A7TzdlSE0/KpIrktSoST+bMiWi0O5FPxD3rdIwHkI/ROr2usd1PD8CwYt515E0P3MKuiZmMSk/ddZ/WEpKEj/0YFdvJMILvxDYVhkQ/ya/G2LnSfF6M7/ceyvhRWI7v3DrjRCwlkG/qRi3uBtqRb8IuHJNdCdJv8qUYvTeyky/MubWxk0oUL+bLtxIhNpRv3eIqGdTelO/jQY9gw4GVb/KZwquHXxWv3VXcVH/2le/93g7u0khWb9AhnOSrE1av30qHDLyXlu/5TJg6ABUXL+lDvMY3Ctdv2lKdkGl5V2/X5vX3pyAXr/VCbsyI/xev527Jei4V1+/SKC/lv+SX7+isSQkuq1fv4x34QLNp1+/meHZTj6BX79+L/3GNTpfvxVmTaT80l6/4IxkTv1LXr85gsXtwqVdv+R2adz44Fy/XO8d9Wn+W7+TXmnC//5av1XnzY3B41m/SW1iUNOtWL+4udmFdF5Xv//zLeP+9lW/WehD8uR4VL/6dfWTsOVSv4TfDGoBP1G/zwynVRYNT79Obdu/J3xLv/f+pCTkzke/TxuEyhUJRL/qCF1EoC5Av/dXa974hji/5TQCtGiXML+IWMZufC0hv0BF7fYmp+G+sSvlbXXzHT8=",
          "dtype": "f8"
         },
         "y": {
          "bdata": "OkJtSK3JM7+Wb3MZJ7Ywv6hRlM7NIiu/A3TLf1S9JL/izSpw9IQcvzBdj8qz4w6/4GUXGp124r5AVHBQJ60FP7hPr9vO8Bc/1q/zLC55Ij8aqgn76eYoP9QN5WL6Oi8/PhGhsmy3Mj87DiMZEb41P6P8YOBLrjg/iGs6nhWFOz/eY1YigT8+P0eONT1fbUA/5nEw7A6qQT+MnakridRCPzSlSk6a60M/6vMBqSLuRD9dqou7F9tFP3GrKEOFsUY/WahoNo5wRz9QnwOpbRdIP7nt15Z3pUg/27U7lRkaST/Mz+pp23RJP5Ww9YZftUk/8IYxa2PbST9+JMbmv+ZJP5YIk0Np10k/FelBUW+tST8tR/pU/WhJP17dxtxZCkk/DeHaduaRSD9aEAJNHwBIP5g1o6SaVUc/yA/ZQwiTRj94TUG8MLlFP55gPJz0yEQ/A0tzh0vDQz/X/5E3Q6lCP0h+PWb+e0E/tEBkobM8QD/C2TsWWNk9Pz6GyAyEGjs/kxEGpL8/OD98/l0m/Es1P7eliaJEQjI/TeoAkXVLLj/ZwyReJ/MnP4TYBAspgiE/SMAm0jz+FT+gy+SR98IBP+CEajqzEfG+oMm9Te9lEb88OYKWgnUevxDY1QPYsiW/tG3JrpAULL+MLGmcqywxvz45lrJaPTS/Ahlpuyw5N7/wGwtaDh06v/AL894E5jy/848WWjGRP79kj0DI6Q1Bv/TIIWmmQUK/CwToVpFiQ7+ftvy+gG9Ev8U/+mdfZ0W/L7Jwzy1JRr+7UkgxAxRHv5ZKsncOx0e/+DawEpdhSL9ealS2/eJIv7vB9v68Skm/Usm0+mmYSb/8c6+XtMtJv3HBlPZn5Em/jz4goWriSb8tMVqkvsVJvyNheo6Bjkm/eaxwUOw8Sb+DzjIDU9FIv1PbC5EkTEi/9ctGQ+qtR78X96k0R/dGv0hXVan3KEa/JO+wTNBDRb8qWDNWvUhEv7Z34pXBOEO/bVqJafUUQr+EObabhd5Av/AnVVtkLT+/2PT5Gpp9PL8JLYFzcbA5vzoFM6jNyDa/PUJtSK3JM78=",
          "dtype": "f8"
         },
         "z": {
          "bdata": "ZN7OkJi34z9k3s6QmLfjP2TezpCYt+M/ZN7OkJi34z9k3s6QmLfjP2TezpCYt+M/ZN7OkJi34z9k3s6QmLfjP2TezpCYt+M/ZN7OkJi34z9k3s6QmLfjP2TezpCYt+M/ZN7OkJi34z9k3s6QmLfjP2TezpCYt+M/ZN7OkJi34z9k3s6QmLfjP2TezpCYt+M/ZN7OkJi34z9k3s6QmLfjP2TezpCYt+M/ZN7OkJi34z9k3s6QmLfjP2TezpCYt+M/ZN7OkJi34z9k3s6QmLfjP2TezpCYt+M/ZN7OkJi34z9k3s6QmLfjP2TezpCYt+M/ZN7OkJi34z9k3s6QmLfjP2TezpCYt+M/ZN7OkJi34z9k3s6QmLfjP2TezpCYt+M/ZN7OkJi34z9k3s6QmLfjP2TezpCYt+M/ZN7OkJi34z9k3s6QmLfjP2TezpCYt+M/ZN7OkJi34z9k3s6QmLfjP2TezpCYt+M/ZN7OkJi34z9k3s6QmLfjP2TezpCYt+M/ZN7OkJi34z9k3s6QmLfjP2TezpCYt+M/ZN7OkJi34z9k3s6QmLfjP2TezpCYt+M/ZN7OkJi34z9k3s6QmLfjP2TezpCYt+M/ZN7OkJi34z9k3s6QmLfjP2TezpCYt+M/ZN7OkJi34z9k3s6QmLfjP2TezpCYt+M/ZN7OkJi34z9k3s6QmLfjP2TezpCYt+M/ZN7OkJi34z9k3s6QmLfjP2TezpCYt+M/ZN7OkJi34z9k3s6QmLfjP2TezpCYt+M/ZN7OkJi34z9k3s6QmLfjP2TezpCYt+M/ZN7OkJi34z9k3s6QmLfjP2TezpCYt+M/ZN7OkJi34z9k3s6QmLfjP2TezpCYt+M/ZN7OkJi34z9k3s6QmLfjP2TezpCYt+M/ZN7OkJi34z9k3s6QmLfjP2TezpCYt+M/ZN7OkJi34z9k3s6QmLfjP2TezpCYt+M/ZN7OkJi34z9k3s6QmLfjP2TezpCYt+M/ZN7OkJi34z9k3s6QmLfjP2TezpCYt+M/ZN7OkJi34z9k3s6QmLfjP2TezpCYt+M/ZN7OkJi34z8=",
          "dtype": "f8"
         }
        },
        {
         "mode": "lines",
         "type": "scatter3d",
         "x": {
          "bdata": "drn5dxXzHT+yTFIFi5QvP3Ef6sp+Bzg/9hh9ffkVQD/Q5s2vnhdEP+oYhLqNBEg/LLlPtbrYSz+dNUo9M5BPPwfJPkORk1E/Gph1p+pMUz8o/3/XXvJUP72/w2E7glY/6GirFuT6Vz85Noqx1FpZPz9O2GiioFo/O84qZP3KWz9QJGYWsthcPzHaxXqqyF0/AgNzM++ZXj/Q4IGIqEtfP9vnT0Yf3V8/pHMuvd4mYD/4Ve6Gh05gP//jsB5hZWA/RhKT9lNrYD+vPc3sWWBgPzhVBVJ+RGA/fOyk3d0XYD/neX4gTbVfPyszSwgvGl8/vGy2WAFfXj/jolYEhYRdP4FjbUObi1w/9/y9q0R1Wz/KLw8ooEJaPx2IaNDp9Fg/ij88pHmNVz8siM0nwg1WP8rIQOZOd1Q/G3/f2cLLUj/hFTS81gxRP8LEdX+ueE4/XzL5aUa4Sj9hhfc5U9xGP0fx41XP6EI/rKSr3ZrDPT+WyWib6JY1PzyFsC7qpyo/XHK40hENFD+k3t3+t5QKv/D050sLSie/0hEeZXPrM7/woXqEWB08v8ZT5zohGUK/d4JcRe4QRr/TO45F/PFJv47o8ZFLuE2/j8hbCfyvUL/EmEqinnJSv48sgg09IlS/Qpr4Xhq9Vb/e5n8Pj0FXvxf8WrEKrli/GOoCjRUBWr9993IkUjlbv+1CbJt+VVy/kJg9A3ZUXb9hebmIMTVev/kPI4PJ9l6/BMz6YnaYX7/LPdq/yAxgv55qweHKPGC/2K1DGhBcYL9XmGwteGpgv7XVfEH0Z2C/pBg57oZUYL/t4D06RDBgv2G4tQyj9l+/ElIWzsprX7+daGTYjsBev+herq6f9V2/YVVWgc4LXb9aNW9WDARcv5TbSBFp31q/kH4rWhKfWb9VOGNnUkRYv/U93KiO0Fa/DqauV0ZFVb8HjhXrEKRTv7bTaHSc7lG/+FvK46smUL80xZ9uKpxMv8f7EC1/zUi/ZX2iuELlRL8RJv0hfOdAv13cwFuRsDm/gArOLq93Mb8gWx3/llkivzhJkABUDuu+Urn5dxXzHT8=",
          "dtype": "f8"
         },
         "y": {
          "bdata": "+4v3rIp2NL+Yn2nl3WAxvx6XxEGOciy/VECatA0GJr9AxSCnsgUfv6KmsGtP3xG/0PxIcP+Z8r6YbLXJNS4BP8Q4MsPayxU/6K3oZRF1IT8mblmaNvInP0HstaasVi4/nIxaUu5NMj/EY2/1p101P1J+GltbVzg/EOzhVfc3Oz+plbGVhPw9P8FGSVsUUUA/NQfJmBSTQT9EBmgW98JCPyuM55OC30M/PxaiwJHnRD9+V+ZpFNpFPxymjZMQtkY/p5mseaN6Rz/mN1R6AidIP+K6cuZ7ukg/K5/8uHc0ST8sLKEzeJRJP2rtaGAa2kk/pX+4dxYFSj8Qik4qQBVKP8yd8M6GCko/b+aXc/XkST9w9wvSsqRJP2x19ycBSkk/wcGf8j3VSD97C4aO4UZIP/scVbt+n0c/acubBMLfRj889+8PcQhGPx52MdFpGkU/3Oq+paEWRD/UY4hXJP5CP/Z4BAkT0kE/JHYkC6OTQD+Em/U8OYg+PwABuUGzyTs/NY60UYjuOD+2AwIhqvk1P+1cxOEk7jI/rFTTPzieLz/LwrUJjz8pP6r13gzfxiI/bFhAEqh1GD+QoSnItogGP8A1qcDoiN+++IX7wOBmDr8sLsjTpl4cv4DKuGNPtiS/SDAgofEnK78UONjTyr4wv+40C+xZ2DO/xlmdFHTdNr9eyVtf/Mo5v3y+6inunTy/50A4OmBTP7+kJ1ffQ/RAv6RPhpddLUK/qzF5hbpTQ7/W8qE5K2ZEvycI382UY0W/gYMZCfJKRr8DTotsVBtHvze9lynl00e/VRY5/+VzSL9evx7+sfpIvwX0sTK+Z0m/crxRNJq6Sb+jfzKZ8PJJv6q/aU6HEEq/JD3L0z8TSr+wzFlbF/tJvzp1K8wmyEm/Ydy9qKJ6Sb/4dtXY2hJJv5RJH1c6kUi/TiHqwkb2R7+X8WjWn0JHv7BTDML+dka/RuGcbTWURb8hMtufLZtEv0KIhA3ojEO/GJO0UHtqQr8gELXJEjVBv+mlxtTa2z+/fKXT2rgsPb/ASkH1g186vxh99nMfdze//ov3rIp2NL8=",
          "dtype": "f8"
         },
         "z": {
          "bdata": "XnTRRRdd5D9edNFFF13kP1500UUXXeQ/XnTRRRdd5D9edNFFF13kP1500UUXXeQ/XnTRRRdd5D9edNFFF13kP1500UUXXeQ/XnTRRRdd5D9edNFFF13kP1500UUXXeQ/XnTRRRdd5D9edNFFF13kP1500UUXXeQ/XnTRRRdd5D9edNFFF13kP1500UUXXeQ/XnTRRRdd5D9edNFFF13kP1500UUXXeQ/XnTRRRdd5D9edNFFF13kP1500UUXXeQ/XnTRRRdd5D9edNFFF13kP1500UUXXeQ/XnTRRRdd5D9edNFFF13kP1500UUXXeQ/XnTRRRdd5D9edNFFF13kP1500UUXXeQ/XnTRRRdd5D9edNFFF13kP1500UUXXeQ/XnTRRRdd5D9edNFFF13kP1500UUXXeQ/XnTRRRdd5D9edNFFF13kP1500UUXXeQ/XnTRRRdd5D9edNFFF13kP1500UUXXeQ/XnTRRRdd5D9edNFFF13kP1500UUXXeQ/XnTRRRdd5D9edNFFF13kP1500UUXXeQ/XnTRRRdd5D9edNFFF13kP1500UUXXeQ/XnTRRRdd5D9edNFFF13kP1500UUXXeQ/XnTRRRdd5D9edNFFF13kP1500UUXXeQ/XnTRRRdd5D9edNFFF13kP1500UUXXeQ/XnTRRRdd5D9edNFFF13kP1500UUXXeQ/XnTRRRdd5D9edNFFF13kP1500UUXXeQ/XnTRRRdd5D9edNFFF13kP1500UUXXeQ/XnTRRRdd5D9edNFFF13kP1500UUXXeQ/XnTRRRdd5D9edNFFF13kP1500UUXXeQ/XnTRRRdd5D9edNFFF13kP1500UUXXeQ/XnTRRRdd5D9edNFFF13kP1500UUXXeQ/XnTRRRdd5D9edNFFF13kP1500UUXXeQ/XnTRRRdd5D9edNFFF13kP1500UUXXeQ/XnTRRRdd5D9edNFFF13kP1500UUXXeQ/XnTRRRdd5D9edNFFF13kP1500UUXXeQ/XnTRRRdd5D9edNFFF13kP1500UUXXeQ/XnTRRRdd5D8=",
          "dtype": "f8"
         }
        },
        {
         "mode": "lines",
         "type": "scatter3d",
         "x": {
          "bdata": "wilg8RMNHj/EwIsl5BswP+cEsU/oozg/Eq39EkOJQD8y2i1Bhq9EPw7bnbF2wEg/FZZ/XuO3TD96LI3H2khQP3FHY4f6JFI/9E46ImbuUz+FjUMTRqNVP4CldgPYQVc/nO/JmXDIWD8DcLczfTVaP5lJSISFh1s/xdj6Fy29XD84m/O7NNVdP5GhBsd7zl4/Nl1GQwGoXz/lh3J7cjBgP1noqyU0fGA/DHPmiPe2YD9YdhUSgOBgP4Fs+fCi+GA/SAtCREf/YD9Q5DMzZvRgPy4mt/QK2GA/zTfIw1KqYD+3GFbBbGtgP56VrcOZG2A/scpGJ1h2Xz/TJoQvDpVePy5Ppts9lF0/g1Na5u90XD/1yIN4TDhbP04Z8/eZ31k/507wtjtsWD8hMfWFsN9WP3ZBECmRO1U/hF+Hso6BUz+ObmzEcLNRP3ZT4HUnpk8/Hp2ugs3ESz9NlRin08ZHP3ott1xXsEM/aBrrwR4LPz+8DSi6jpU2P9KNaOJtESw/ayJC1p61FT/WElIF/psJv+SjB+o0oie/oSvP0YZiNL/gq9PP7948v5JDggjLnkK/Yxtycuy6Rr8qI6SWn79Kv4pJKQ3AqE6/AcYn7SI5Ub8gLjbLJAxTv/r3CDqEy1S/88JEEHR1Vr8Zx0k9PQhYv1jUzI1Aglm/KLDWV/jhWr+/oXAM+iVcv3UeYK33TF2/IVZwJcFVXr8nueaBRT9fv0St7wVKBGC/uJI3oG5YYL8fD0bTuZtgv3+X70DmzWC/R5XjMMDuYL+DzfzFJf5gv5a4KSEH/GC/ws7IcWboYL8X7GfzV8Ngvx8e6dgBjWC/GlsiJZxFYL9vc0Hi4Npfv1RblUCzCV+/6/peBYcYXr+gCsnLVAhdvxatxSk12lu/UJLSjl+PWr/RJPACKSlZv+auFscCqVe/aNiT2HgQVr8f29hYMGFUvzs0XtvlnFK/jVBcm2vFUL8ENWM2T7lNv8eoyl4jyUm/S1mX7mK+Rb+m1MSKOJ1Bv6RbOebL0zq/EWrAPX9RMr+SKJwYoXgjv2wujJGL0fG+nSlg8RMNHj8=",
          "dtype": "f8"
         },
         "y": {
          "bdata": "NhPh3y41Nb//hCVpUR0yv74K9mWP5S2/WRcHhapxJ7/eN2H+muUgv6DbdxRBkBS/AIRVqWYA/b6g6+w6HF74PtyciC/gaBM/xhIDpRtTID/QBQZI8+AmPzxqanI1Vy0/buutcpzXMT98AbHHOfE0P4WbBaVA9Tc/gENAOJXgOj8joxwkNbA9PyWcTE2dMEA/DzfRrG94QT88b5zDP65CPzwCEDXO0EM/Fpwjfu/eRD/VHyMqjddFP1N4uPGmuUY/ig4Zw1OERz+pk0aywjZIP152a9A70Eg/mgN16SBQST+qwCcn7rVJP4rjBZk6AUo/vNJ7oLgxSj96KuNANkdKPw3NCVOdQUo/m+AHnPMgSj8xME3HWuVJP7ER7EMQj0k/iJdFBW0eST+cVVgn5ZNIP08+EHcH8Ec/5PcS33wzRz+oZ6C5B19GP/rvOgiDc0U/8OXlkeFxRD9E9eLoLFtDP+Zr8FiEMEI/154ivxvzQD+EXxOZdEg/P9Kq1Wlyijw/GqbRlQSvOT+v2xQWHbk2P6ixPi7JqzM/wlkoRy6KMD87BlJhDa8qP4NCnJs8LiQ/cEDXuzwxGz/YWWDq8NMLPwCoPp2Ni8I++GXPFLGDCb8IWosA5woav2LNxYmOnCO/ltfTRnIfKr8WXa85tEMwv3E9r0brZjO/4Xa4USJ2Nr8Dhur/MW45v+aoctQKTDy/Ba4uWLgMP7+ybboSstZAvwKPbmqsFUK/sNEDZAJCQ7+oB8BnflpEv9xCgVT/XUW/xEvIqXlLRr8Cz3eb+CFHv5YDLA6f4Ee/oqome6iGSL+4duS6aRNJv3UGi7VRhkm/j5R5+OneSb9+MGIw1xxKvy2jbYfZP0q/zvQI58xHSr9qvxgdqTRKv/r0a+SBBkq/72Nl0Ia9Sb/O8PAbA1pJv9wS91td3Ei/JYSeFRdFSL90Jck4zJRHv/y2VX8yzEa/KBjMsRjsRb9oKDXSZfVEvwYD+i0Y6UO/sw3AV0TIQr8eElAKFJRBv9RErvXETUC/jy4/707tPb/uztuBOiA7vzTxoNEvNzi/ORPh3y41Nb8=",
          "dtype": "f8"
         },
         "z": {
          "bdata": "WgrU+pUC5T9aCtT6lQLlP1oK1PqVAuU/WgrU+pUC5T9aCtT6lQLlP1oK1PqVAuU/WgrU+pUC5T9aCtT6lQLlP1oK1PqVAuU/WgrU+pUC5T9aCtT6lQLlP1oK1PqVAuU/WgrU+pUC5T9aCtT6lQLlP1oK1PqVAuU/WgrU+pUC5T9aCtT6lQLlP1oK1PqVAuU/WgrU+pUC5T9aCtT6lQLlP1oK1PqVAuU/WgrU+pUC5T9aCtT6lQLlP1oK1PqVAuU/WgrU+pUC5T9aCtT6lQLlP1oK1PqVAuU/WgrU+pUC5T9aCtT6lQLlP1oK1PqVAuU/WgrU+pUC5T9aCtT6lQLlP1oK1PqVAuU/WgrU+pUC5T9aCtT6lQLlP1oK1PqVAuU/WgrU+pUC5T9aCtT6lQLlP1oK1PqVAuU/WgrU+pUC5T9aCtT6lQLlP1oK1PqVAuU/WgrU+pUC5T9aCtT6lQLlP1oK1PqVAuU/WgrU+pUC5T9aCtT6lQLlP1oK1PqVAuU/WgrU+pUC5T9aCtT6lQLlP1oK1PqVAuU/WgrU+pUC5T9aCtT6lQLlP1oK1PqVAuU/WgrU+pUC5T9aCtT6lQLlP1oK1PqVAuU/WgrU+pUC5T9aCtT6lQLlP1oK1PqVAuU/WgrU+pUC5T9aCtT6lQLlP1oK1PqVAuU/WgrU+pUC5T9aCtT6lQLlP1oK1PqVAuU/WgrU+pUC5T9aCtT6lQLlP1oK1PqVAuU/WgrU+pUC5T9aCtT6lQLlP1oK1PqVAuU/WgrU+pUC5T9aCtT6lQLlP1oK1PqVAuU/WgrU+pUC5T9aCtT6lQLlP1oK1PqVAuU/WgrU+pUC5T9aCtT6lQLlP1oK1PqVAuU/WgrU+pUC5T9aCtT6lQLlP1oK1PqVAuU/WgrU+pUC5T9aCtT6lQLlP1oK1PqVAuU/WgrU+pUC5T9aCtT6lQLlP1oK1PqVAuU/WgrU+pUC5T9aCtT6lQLlP1oK1PqVAuU/WgrU+pUC5T9aCtT6lQLlP1oK1PqVAuU/WgrU+pUC5T9aCtT6lQLlP1oK1PqVAuU/WgrU+pUC5T8=",
          "dtype": "f8"
         }
        },
        {
         "mode": "lines",
         "type": "scatter3d",
         "x": {
          "bdata": "L2ubfOg8Hj+iTGE793IwP2Ewa5a/RTk/EECsZD3/QD9+n/mjFUpFPzLXm9L7fkk/zCZK2ZmZTT9dmiFc2spQP4sF13GYt1I/1H/HPwuRVD/klHm7SlVWP895DbWEAlg/zUzLt/6WWT/27TrSFxFbP31K70NKb1w/0g9KDy2wXT/3oJltddJeP+W3EST41F8/DpwfXFVbYD9InlxBUrtgP1Yces8PCmE/a/qf2zxHYT+DDw9WmnJhPzp4Iov7i2E/7PFjUUaTYT9CvoMkc4hhP2dCGC2Na2E/LGUdNbI8YT+Jhz+JEvxgP7e+EcfwqWA/naJimKFGYD/f8uy3FqVfPzhuAXhLnF4/CC+TZfJzXT+U9v37PC1cP5sYgwJ8yVo/Uu4gMR5KWT+2To22rrBXP+642KDT/lU/XhteKkw2VD/GsL/s7lhSP90rzPunaFA/UoCA1O3OTD/O0N502a5IP5EG53lTdUQ/48kqv7YmQD/kAcO65443P3XWHVsycC0/E2RgjnlIFz8Omm+S484Iv9K01+dJBSi/xmqXDAzfNL9WH79q76U9v1DpJnUhJ0O/hfwY9IxnR79WobU62I9Lv52BETC6m0+/ib5fgoPDUb/vvMQ/2qZTv3D9xBPvdVW/f8Oto+QuV783hJ1i9M9Yv6lWE2ZwV1q/1aMZIcXDW79UQ0MEexNdv+E0zgA4RV6/veVc7cBXX7/eJGtl/SRgv1vyDvR1jWC/LIe7cd7kYL88D0XE3Cphv0VSE8UoX2G/YpeBi4yBYb+QpXCk5JFhv7SY0TYgkGG//t8DFUF8Yb+mfvS6W1Zhv4x+ADmXHmG/31iwCy3VYL8213XgaHpgv6aCqUeoDmC/FhYwqLQkX78lJAZR/gtev03BFudO1Fy/bF0Zted+W7+7dAmoKA1avwLEYOSOgFi/l3YzPbPaVr9dTsOOSB1Vv6IvPP4ZSlO/TCVoIAljUb8xf4USGNROv78O14xWwkq/rQ0ajf+URr+xFcNfYVBCvyWbQKDE8Tu/fYWuPvglM788fE2d3Ywkv3xVzszdxPW+CGubfOg8Hj8=",
          "dtype": "f8"
         },
         "y": {
          "bdata": "O0zqKigENr/gpwBZE+oyv+aVOWz+eC+/H9+W02T9KL+QUYGoCGgiv1DmaXJmfxe/SPmdiwUtBL9gWrETOObqPrwH5XuZzBA/wA6lzhorHj9kvFN+QbUlP/wvMQuVPiw/mhqgk2VVMT9Lj4B3onk0Pwr/nyrEiDc/WjgeaKN/Oj9bUPvsMVs9P0p5O88+DEA/2aK0yVlaQT9KC7p+kZZCP3kQhvefv0M/y0S//VLURD9J5x5XjdNFP3y1detHvEY/ZgLg05KNRz+zghFSlkZIP+Diua6T5kg/Kugc/uVsST/5dBPKAtlJPywyxqB6Kko/sryOh/lgSj+M64hRR3xKPyfyetlHfEo/0q3YHvtgSj88NsRFfSpKPz6wC3oG2Uk/L0pCtepsST90ETBomeZIP67c8QedRkg/yrQ/f5qNRz/l3GyEULxGPzK20NSW00U/SCZjVl3URD/4vXEgq79DPw2LbGydlkI/piPib2ZaQT9O/9kgTAxAP6L7pMtNWz0/SvJ5ZcB/Oj/grsso4og3P+1hkVfBeTQ/dWHCNYVVMT96L2GS1T4sP6rX6gWDtSU/SjSIV58rHj+wet71Hs0QPyArdh9n6uo+uCKyDforBL/o7NRf4X4Xv7aW/bnGZyK/KKPQwyP9KL/A+kF+vngvvxJd3xP06TK/rmDftwkENr8D6eObbQc5v3e7gJUE8Tu/bA/HEs69Pr9O4kOZc7VAv8ZK/d7G+kG/ZpJcgJEtQ78TvQ8+l0xEv+afpDmwVkW/NNWFJspKRr9Mortk6SdHvypXTQQq7Ue/Hsg3sMCZSL8SrQaA+yxJvwzXOK9Cpkm/8jCyORkFSr/zRppcHUlKv1Z9IvsIckq/VhXM5rF/Sr+ef+MKCnJKv0IqBHsfSUq/lNOVZBwFSr8rV1LjRqZJv2LGALkALUm/V0uw6MaZSL+gtto1Me1HvyaO84fxJ0e/OeAEM9NKRr8Y5RYmulZFvzJ9OgCiTES/Xr8oDZ0tQ79H9oIq0/pBv6aD1paAtUC/rhg+V+m9Pr8S7i0HIfE7v9QodR2LBzm/PkzqKigENr8=",
          "dtype": "f8"
         },
         "z": {
          "bdata": "VKDWrxSo5T9UoNavFKjlP1Sg1q8UqOU/VKDWrxSo5T9UoNavFKjlP1Sg1q8UqOU/VKDWrxSo5T9UoNavFKjlP1Sg1q8UqOU/VKDWrxSo5T9UoNavFKjlP1Sg1q8UqOU/VKDWrxSo5T9UoNavFKjlP1Sg1q8UqOU/VKDWrxSo5T9UoNavFKjlP1Sg1q8UqOU/VKDWrxSo5T9UoNavFKjlP1Sg1q8UqOU/VKDWrxSo5T9UoNavFKjlP1Sg1q8UqOU/VKDWrxSo5T9UoNavFKjlP1Sg1q8UqOU/VKDWrxSo5T9UoNavFKjlP1Sg1q8UqOU/VKDWrxSo5T9UoNavFKjlP1Sg1q8UqOU/VKDWrxSo5T9UoNavFKjlP1Sg1q8UqOU/VKDWrxSo5T9UoNavFKjlP1Sg1q8UqOU/VKDWrxSo5T9UoNavFKjlP1Sg1q8UqOU/VKDWrxSo5T9UoNavFKjlP1Sg1q8UqOU/VKDWrxSo5T9UoNavFKjlP1Sg1q8UqOU/VKDWrxSo5T9UoNavFKjlP1Sg1q8UqOU/VKDWrxSo5T9UoNavFKjlP1Sg1q8UqOU/VKDWrxSo5T9UoNavFKjlP1Sg1q8UqOU/VKDWrxSo5T9UoNavFKjlP1Sg1q8UqOU/VKDWrxSo5T9UoNavFKjlP1Sg1q8UqOU/VKDWrxSo5T9UoNavFKjlP1Sg1q8UqOU/VKDWrxSo5T9UoNavFKjlP1Sg1q8UqOU/VKDWrxSo5T9UoNavFKjlP1Sg1q8UqOU/VKDWrxSo5T9UoNavFKjlP1Sg1q8UqOU/VKDWrxSo5T9UoNavFKjlP1Sg1q8UqOU/VKDWrxSo5T9UoNavFKjlP1Sg1q8UqOU/VKDWrxSo5T9UoNavFKjlP1Sg1q8UqOU/VKDWrxSo5T9UoNavFKjlP1Sg1q8UqOU/VKDWrxSo5T9UoNavFKjlP1Sg1q8UqOU/VKDWrxSo5T9UoNavFKjlP1Sg1q8UqOU/VKDWrxSo5T9UoNavFKjlP1Sg1q8UqOU/VKDWrxSo5T9UoNavFKjlP1Sg1q8UqOU/VKDWrxSo5T8=",
          "dtype": "f8"
         }
        },
        {
         "mode": "lines",
         "type": "scatter3d",
         "x": {
          "bdata": "z64mUph+Hj9On0sugc4wP50+pCoJ7Dk/isadSmx3QT+H3pDC0uZFP4JSAZilP0o/MduKq2l9Tj+5yQTh301RP88cKoM0S1M/8mnItKU0VT+ebdDuOghXPwuSpDISxFg/26by+mFmWj8PMlMTe+1bP70xyFTKV10/eBxRRdqjXj9iveeYVNBfP7qILMkBbmA/dDZHoeniYD835H5SaUZhP8IADkwamGE/s3loWKjXYT//twn00QRiP40R/ZBoH2I/nxLbxlAnYj8QJwpvghxiP/KDJa0I/2E/J6iB4wHPYT87StqTn4xhP5f8SSwmOGE/HCPAwOzRYD/A8D2xXFpgP/robXrio18/FVwKCW5yXj9sQefsliFdP0yj6V64sls/9PZYjEwnWj8+4wkR64BYPwFAMlNHwVY/Qm2Xwi7qVD91qeX8hv1SP0e4GtlL/VA/t7oPuBrXTT+clg0w25RJP8IxJfQ8OEU/YfkRDb/FQD+mo6Mf7oM4P9yHkI8xxi4/0O5NuZvJGD/mXIW6cSUIv/7VDbxNcSi/yoi9bwZgNb/cyt5SXXE+vyY6L1KpsUO/D8Iu7VYWSL8fxLoiMGJMvw3Pt5ljSFC/7Sd1ROZOUr+KRrGTiUJUv0iVzH1KIVa/U4FVgDvpV7+K4cCchphZvy3s5DxvLVu/I1FD/VOmXL8xD0pbsAFev/N/z0UePl+/gmMWxystYL+gFD2cm6pgv3pZyVTdFmG/HO3TWIFxYb9BKSk5Krphv6F0mQ+N8GG/bW0uzHEUYr+WOfVusyViv4pqIi5AJGK/pyNoiBkQYr93nGtDVOlhv3aVW1YYsGG/xdG9wKBkYb96DZ5NOwdhv10hXUNImGC/s/1yADoYYL96khMLKQ9fv7ZW19rZzV2/tgqfptFtXL+4FUZQe/Bav3BkBO9fV1m/YZI5OiWkV7/xDbbWi9hVvwxUQoht9lO/Tf1ASbv/Ub8vD8aU9uxPvzrl/LiNuUu/8J1bjZBpR7/XZecVcQFDvxk0vG50Cz2/O9TzEBb2M79cko45SJglvyxCmicNcfm+p64mUph+Hj8=",
          "dtype": "f8"
         },
         "y": {
          "bdata": "a0niawHiNr/mmUJqscUzv2UgvLT/lDC/jbEGUmymKr9+kwOHYAckvybgb6Vepxq/aDH3HgVJCr8ArIoKb/m6PvCvdZ299ws/nIgWrG19Gz96xQcaU3EkP6RdMr7cDis/Mt0nA0HIMD9HO0r7xvczP/w9xp63Ejc/DlKffN8VOj+zBEmoI/48P9zIE+2EyD8/apWDchE5QT/pG/13H3xCP9zN7YMfrEM/+GyfN9jHRD+JdbUbJc5FP5IjqM33vUY/a2h8FlmWRz+tgZnpaVZIPzWBtUpk/Ug/XcPrGZyKST/Q8irFf/1JP+WzQ96YVUo/w0j9lIySSj+RVrIUHLRKPyZMFcUkuko/4KbZbaCkSj/kUh09pXNKP/qKi7BlJ0o/UslQYTDAST8mcBWzbz5JP6+uUmapokg/7K5yDn7tRz/0K0psqB9HPzgRlq38OUY/GJRDkmc9RT9sPWR47SpEP6x0yU+pA0M/qzZcdsvIQT/KnV1+mHtAP5FMp7/POj4/eiT2LEVfOz8/yVZbg2c4PzoPWXeZVjU/voYdnLAvMj8GeJQiEewtP6AUQOPoWSc/M7NIe66vID+EoJ53gegTP8BHIoiBdPk+wC8zKUDT/L40MmTKUr8Uv064xEE5GiG/do9n8yfDJ788Sen+l1Muv6gggpRiYjK/1tf+twWINb/6ggbydpc4v5eJvquOjTu/VwTRbz9nPr/zBfyHzJBAv8d6Ldbl3EG/7xzPTJUWQ79Ji1SRlzxEv6qypJG9TUW/1TuDvO1IRr9Hcc8jJS1HvzhsbYd4+Ue/LGXGRxWtSL/MLuY+QkdJvxUMVn9gx0m/QyXw9+ssSr9suwL8e3dKv0bFNq/Dpkq/RbvKVJK6Sr/55s+B07JKvwxsNjKPj0q/yFiSwOlQSr/rOaLAI/dJvwPTvbyZgkm/x5lx1sPzSL+aSalKNUtIv9A16dmbiUe/6s4yFb+vRr9o+0yQf75FvyJTRPrVtkS/ft8RHdKZQ7+CoHDFmWhCv5SjApRnJEG/qLn7cROdP78kKl43wdA8v7QObN665jm/bkniawHiNr8=",
          "dtype": "f8"
         },
         "z": {
          "bdata": "TjbZZJNN5j9ONtlkk03mP0422WSTTeY/TjbZZJNN5j9ONtlkk03mP0422WSTTeY/TjbZZJNN5j9ONtlkk03mP0422WSTTeY/TjbZZJNN5j9ONtlkk03mP0422WSTTeY/TjbZZJNN5j9ONtlkk03mP0422WSTTeY/TjbZZJNN5j9ONtlkk03mP0422WSTTeY/TjbZZJNN5j9ONtlkk03mP0422WSTTeY/TjbZZJNN5j9ONtlkk03mP0422WSTTeY/TjbZZJNN5j9ONtlkk03mP0422WSTTeY/TjbZZJNN5j9ONtlkk03mP0422WSTTeY/TjbZZJNN5j9ONtlkk03mP0422WSTTeY/TjbZZJNN5j9ONtlkk03mP0422WSTTeY/TjbZZJNN5j9ONtlkk03mP0422WSTTeY/TjbZZJNN5j9ONtlkk03mP0422WSTTeY/TjbZZJNN5j9ONtlkk03mP0422WSTTeY/TjbZZJNN5j9ONtlkk03mP0422WSTTeY/TjbZZJNN5j9ONtlkk03mP0422WSTTeY/TjbZZJNN5j9ONtlkk03mP0422WSTTeY/TjbZZJNN5j9ONtlkk03mP0422WSTTeY/TjbZZJNN5j9ONtlkk03mP0422WSTTeY/TjbZZJNN5j9ONtlkk03mP0422WSTTeY/TjbZZJNN5j9ONtlkk03mP0422WSTTeY/TjbZZJNN5j9ONtlkk03mP0422WSTTeY/TjbZZJNN5j9ONtlkk03mP0422WSTTeY/TjbZZJNN5j9ONtlkk03mP0422WSTTeY/TjbZZJNN5j9ONtlkk03mP0422WSTTeY/TjbZZJNN5j9ONtlkk03mP0422WSTTeY/TjbZZJNN5j9ONtlkk03mP0422WSTTeY/TjbZZJNN5j9ONtlkk03mP0422WSTTeY/TjbZZJNN5j9ONtlkk03mP0422WSTTeY/TjbZZJNN5j9ONtlkk03mP0422WSTTeY/TjbZZJNN5j9ONtlkk03mP0422WSTTeY/TjbZZJNN5j9ONtlkk03mP0422WSTTeY/TjbZZJNN5j8=",
          "dtype": "f8"
         }
        },
        {
         "mode": "lines",
         "type": "scatter3d",
         "x": {
          "bdata": "zF2dC7HOHj/C6UY/pi0xP2CacgrrlTo/MZvHEmTxQT/94taoU4VGP+mo1zgMAks/Pfxsou1iTz/H/gU8utFRPxERA1Of31M/ITqZ+wfZVT+MwEY567tXP6Dwp0ZXhlk/hhWUlnM2Wz96OTu7gspcP/CLTjHkQF4/Qh5aDRaYXz+4sMpEW2dgP9ooSLnC8WA/jrKiuLJqYT+K/52YrtFhP6oaxjBMJmI/eXvdRzRoYj/5fMbtIpdiPxWJi8HnsmI/t8c9I2a7Yj+U6XZRlbBiP9WjX3KAkmI/I48xiEZhYj+7QkBRGh1iP7ueqhNCxmE/DzHqVBddYT8wYYt9BuJgP6mCbWmOVWA/DgD8yX9wXz/M1eovehVeP1+bYLxxm1w/gRqgHuwDWz9M0MNrjVBZP8k6tm0Wg1c/utWS1GKdVT8VqExMZ6FTP4DYk3gvkVE/SJccsrfdTj/4bB8wP3lKPz5zJ4x8+UU/CN+gCBNjQT8xFiWDenU5P0+jY5mQCjA/WIlXM3Y8Gj9SAYDwwpgHv9S1RNWH5Ci/q2+R/prkNb9EvUG5YEA/v/Igwb73PUS/5OKjceHGSL/+fJbDQDZNvzChZqvBw1C/s/Hp6xrbUr/9Rv9JBN9Uv3KTkPVpzVa/Yur7S06kWL8oVGvly2Fav1SoMokXBFy/jKMvB4KJXb92QkT0efBev9eZEKTGG2C/9upabbWuYL8eSN7fcTBhv/ygfj92oGG/DPQBFE/+Yb/moBegm0liv54HEUUOgmK/66nk0mynYr9tUynEkLliv8h0y2VnuGK/4cJT6vGjYr+FO6toRXxivyDVXcaKQWK/hUJyjf7zYb+CPwKu8JNhv2S60yvEIWG/a8tHuO6dYL+ysAg5+Ahgv/y653f0xl6/NAmhsT5cXb/Bj+sCRdNbv9qkK4KcLVq/gQXp1vdsWL91u8F5JZNWv/ZwsNcNolS/uJ2RWrGbUr8sjO5YJoJQv3ZoXd4tr0y/xmfOiH08SL+ZYip60bBDv5BUiniyIT6/KPqSirLCNL88/5M2mJwmv9xodK7i4/y+o12dC7HOHj8=",
          "dtype": "f8"
         },
         "y": {
          "bdata": "dwwhpE/NN7+hBb/4wq40v7ga6ljkejG/vYee0AFqLL9Z3zG78MAlv3BoZSDmAh6/uHiUF/tkEL8gc3rATbHlvthyuWzm9gU/7FpFCr6hGD9g7tZiUhcjP4z/hMsXyik/gX3RzyMxMD+S8n7TimwzP2tmSgnskzY/B5t9LQekOT/2HBf6s5k8P6DS+WflcT8/YlYDatYUQT8ZR3GCHl9CP7JlJYd2lkM/ARJ/h525RD95VTNjZ8dFPyxHrf+9vkY/PPa6ZqKeRz/1V1/NLWZIP8VNuoGSFEk//YURvxypST9npR9nMyNKP1e06p9Ygko/ght/VSrGSj/cdQmfYu5KPxkA5wbY+ko/nFxitX3rSj/+nfB9Y8BKP5by4M61eUo/JcKPg70XSj/Hc0yZ35pJPyBHP8ecA0k/PJC6+ZBSSD/KG4CxcohHP6BqoEcSpkY/kLG1FlmsRT8wAViKSJxEP5OLwhX5dkM/FpC7Epk9Qj/P7uiJa/FAP5RTpcuNJz8/tCrVIydMPD80IQoOlVM5P+eBg43nQDY/ZcTpjkkXMz/C18ZI+7MvP1eok1K1GCk/1HbpoZBjIj+0mqOQ7jYXPzggQYabHQM/wGoOCbWM8L6kQyF15NARv7woijA+bB+/ONX33plzJr+8pkLl7xktv8cBji4j0TG/F5VdsvACNb9E9c17FR84v4A1PdxcIju/xayjxqsJPr8vG5EBAmlAvzrla6JDvEG/NCBoDz39Qr/z+39qoypEvxOaMgNAQ0W/IwHIlvFFRr/8MX56rTFHv84BbK6ABUi/7Fz+15DASL/JvA0jHWJJv3TLowh/6Um/2E6k+ipWSr8WaKjzsKdKvwDdd+q83Uq/32KpKBf4Sr8VnxCEpPZKv0Wqvnpm2Uq/ljh4MXugSr8L/aJUHUxKv8ZPytuj3Em/t2/5r4FSSb/QyEc1Ra5IvzBZEbiX8Ee/5YJyvjwaR7+CL7s+ESxGv68IqbsKJ0W/sJBTRzYMRL+4+85tt9xCv3azowjHmUG/8lBQ/LFEQL909kTCr709v7LKkDFT0zq/egwhpE/NN78=",
          "dtype": "f8"
         },
         "z": {
          "bdata": "SszbGRLz5j9KzNsZEvPmP0rM2xkS8+Y/SszbGRLz5j9KzNsZEvPmP0rM2xkS8+Y/SszbGRLz5j9KzNsZEvPmP0rM2xkS8+Y/SszbGRLz5j9KzNsZEvPmP0rM2xkS8+Y/SszbGRLz5j9KzNsZEvPmP0rM2xkS8+Y/SszbGRLz5j9KzNsZEvPmP0rM2xkS8+Y/SszbGRLz5j9KzNsZEvPmP0rM2xkS8+Y/SszbGRLz5j9KzNsZEvPmP0rM2xkS8+Y/SszbGRLz5j9KzNsZEvPmP0rM2xkS8+Y/SszbGRLz5j9KzNsZEvPmP0rM2xkS8+Y/SszbGRLz5j9KzNsZEvPmP0rM2xkS8+Y/SszbGRLz5j9KzNsZEvPmP0rM2xkS8+Y/SszbGRLz5j9KzNsZEvPmP0rM2xkS8+Y/SszbGRLz5j9KzNsZEvPmP0rM2xkS8+Y/SszbGRLz5j9KzNsZEvPmP0rM2xkS8+Y/SszbGRLz5j9KzNsZEvPmP0rM2xkS8+Y/SszbGRLz5j9KzNsZEvPmP0rM2xkS8+Y/SszbGRLz5j9KzNsZEvPmP0rM2xkS8+Y/SszbGRLz5j9KzNsZEvPmP0rM2xkS8+Y/SszbGRLz5j9KzNsZEvPmP0rM2xkS8+Y/SszbGRLz5j9KzNsZEvPmP0rM2xkS8+Y/SszbGRLz5j9KzNsZEvPmP0rM2xkS8+Y/SszbGRLz5j9KzNsZEvPmP0rM2xkS8+Y/SszbGRLz5j9KzNsZEvPmP0rM2xkS8+Y/SszbGRLz5j9KzNsZEvPmP0rM2xkS8+Y/SszbGRLz5j9KzNsZEvPmP0rM2xkS8+Y/SszbGRLz5j9KzNsZEvPmP0rM2xkS8+Y/SszbGRLz5j9KzNsZEvPmP0rM2xkS8+Y/SszbGRLz5j9KzNsZEvPmP0rM2xkS8+Y/SszbGRLz5j9KzNsZEvPmP0rM2xkS8+Y/SszbGRLz5j9KzNsZEvPmP0rM2xkS8+Y/SszbGRLz5j9KzNsZEvPmP0rM2xkS8+Y/SszbGRLz5j9KzNsZEvPmP0rM2xkS8+Y/SszbGRLz5j8=",
          "dtype": "f8"
         }
        },
        {
         "mode": "lines",
         "type": "scatter3d",
         "x": {
          "bdata": "Gs3TKT8qHz9qdZc0qo8xP9mmMGSqQjs/qNeraMhsQj9ysM91PSVHP4zUUqXWxUs/cICRbeckUD/V4QU/P1ZSP6HnBCKwdFQ/vjKg7Qp+Vj+PkGE1NnBYP/flR3MwSVo/mBAhGRIHXD+CEx+HD6hdP+B8ouV6Kl8/xs8o8GJGYD+48FmgweZgP7TtVDO0dWE/ExyfTqfyYT8BADglGl1iPzWVXvyetGI/nd2tnNv4Yj/nHByviSljP+vjfAV3RmM/yy07zoVPYz+QPBazrERjP8eFweL2JWM/YsNdBYTzYj+sCtcbiK1iP6aMSUpLVGI/NEKkjSnoYT/0K9ZckmlhP+3k5zUI2WA/5fh3FyA3YD8kT0nOAQlfPz3NAovFg10/G/WSoBzgWz+4miantx9aP/tes9VkRFg/07GBJQ5QVj91ehlZt0RUP9YJmuh7JFI/gMVCqxnjTz9ZJwDSXFxLP8WDG7lruUY/PwEO5w3/QT8YQrwPRmQ6PzFT/s07rzA/jhDSq/qjGz+Itcrl7yIHv6wtVel+XSm/aB80Gw5sNr994lHkHwlAv+KyTxSxy0S/nVZ6fdJ4Sb/15KMYsgtOvwXmzHfMP1G/GC2n/PdnU78BnYxqInxVv0glFzAnele/VplIkPhfWb+c73vAoStbv2hRn+xI21y/kNeiHzFtXr/ddyQOvN9fv94pwOC1mGC/TpfGEHIwYb9AlrctdrZhv3p7BxI4KmK/d3B0akCLYr95OQcxK9liv6BkLhSoE2O/IpmJyXo6Y78krg9Me01jv7x4TwWWTGO/vcqg4cs3Y78f0jBPMg9jv+7T6ifz0mK/mwhUhkyDYr8DEoeFkCBiv9YIkewkq2G/S2CHxYIjYb/hxcLgNYpgv7U1f4m4v1+/TjBxFktKXr/DDkdYpLVcv/ZQlW5lA1u/7o+e+k01Wb9WR+ZROk1Xv87hLJMhTVW/fS7PnxM3U78h3J/7Ng1Rv43M1yqNo02/2trl9B4OSb9yS2Tu3F5Ev6Afz582NT+/RrOW7oeMNb9QAD9cRZsnv8DD7kmVFAC/78zTKT8qHz8=",
          "dtype": "f8"
         },
         "y": {
          "bdata": "avzp9brEOL9Fke0W8qM1vxwVyoXabDK/ocUVcYlFLr+8RKhyKZInv1IHL099xiC/jBPTogzTE79grxe7vBL4vtDt8cOJP/8+fEqIimacFT+0AIHcUakhP6qVH8c7cig/zJddkvIhLz9Q1bbiyNgyPxA8Kf4qDTY/s/hP8NEqOT/eenl8hy48PzUWDSQwFT8/DipHLeftQD+f8GDNwj9CP3NP46zOfkM/ujyM6sGpRD/Fb0xcaL9FP9H18MyjvkY/+6sqI22mRz//fsNw1XVIP5Pf6egGLEk/mYiUvEXIST9raBvc8ElKP8QcPp2CsEo/zNzsRJH7Sj9KyUV0zypLP4dJVngMPks/aj5OfDQ1Sz9YTPGdUBBLP2YpMeSGz0o/lZ/6FxpzSj90q11/aftJPzyuV3vwaEk/DfCkCEa8SD9ljBwkHPZHP9k4NxM/F0c/DAd+kZQgRj98MLrjGhNFPwQJ2tHn70M/EUeZiCe4Qj/NzBNkG21BP6nogaQYEEA/bQ7nHA5FPT+H5Onvvks6P+bNNohUNzc/a94TnfsKND8j4h6R+ckwP8T8NiZS7yo/SkKaUe0uJD9QuLSddLMaPyhYBusQ2wk/AIeNj+e2zL6AtmxFFHANv6wXr9swexy/eOrn1H0QJb/K4omJrM0rv5jAYBgZNzG/ugpi/Zx1NL9YW9fWCZ83vxYZQ0UdsDq/boCyAq6lPb+3g3qSVz5Av9geTKEZmUG/LC61u7fhQr9ImrMi3xZEv2fsiydRN0W/m41KdORBRr/nzkM+hjVHv0jIVmE7EUi/WhDPYiHUSL+ocNpab31Jv27uocN2DEq/Ba0wLaSASr9zN2/Vf9lKv7GGliOuFku/kYObBvA3S7+zrzE2Iz1Lvw/yIVZCJku/RBnR+2TzSr+yYfCVv6RKv6QOcTajOkq/Ts3yPn21Sb/PBgPw1hVJv1JbodtUXEi/cx6bO7aJR7+Ys2ws1J5Gv538c82gnEW/+o1aRyaERL+377i5hVZDv3m8DRH2FEK/atc7xsLAQL83N7QRlbY+v/d5aav7yzu/bfzp9brEOL8=",
          "dtype": "f8"
         },
         "z": {
          "bdata": "RGLezpCY5z9EYt7OkJjnP0Ri3s6QmOc/RGLezpCY5z9EYt7OkJjnP0Ri3s6QmOc/RGLezpCY5z9EYt7OkJjnP0Ri3s6QmOc/RGLezpCY5z9EYt7OkJjnP0Ri3s6QmOc/RGLezpCY5z9EYt7OkJjnP0Ri3s6QmOc/RGLezpCY5z9EYt7OkJjnP0Ri3s6QmOc/RGLezpCY5z9EYt7OkJjnP0Ri3s6QmOc/RGLezpCY5z9EYt7OkJjnP0Ri3s6QmOc/RGLezpCY5z9EYt7OkJjnP0Ri3s6QmOc/RGLezpCY5z9EYt7OkJjnP0Ri3s6QmOc/RGLezpCY5z9EYt7OkJjnP0Ri3s6QmOc/RGLezpCY5z9EYt7OkJjnP0Ri3s6QmOc/RGLezpCY5z9EYt7OkJjnP0Ri3s6QmOc/RGLezpCY5z9EYt7OkJjnP0Ri3s6QmOc/RGLezpCY5z9EYt7OkJjnP0Ri3s6QmOc/RGLezpCY5z9EYt7OkJjnP0Ri3s6QmOc/RGLezpCY5z9EYt7OkJjnP0Ri3s6QmOc/RGLezpCY5z9EYt7OkJjnP0Ri3s6QmOc/RGLezpCY5z9EYt7OkJjnP0Ri3s6QmOc/RGLezpCY5z9EYt7OkJjnP0Ri3s6QmOc/RGLezpCY5z9EYt7OkJjnP0Ri3s6QmOc/RGLezpCY5z9EYt7OkJjnP0Ri3s6QmOc/RGLezpCY5z9EYt7OkJjnP0Ri3s6QmOc/RGLezpCY5z9EYt7OkJjnP0Ri3s6QmOc/RGLezpCY5z9EYt7OkJjnP0Ri3s6QmOc/RGLezpCY5z9EYt7OkJjnP0Ri3s6QmOc/RGLezpCY5z9EYt7OkJjnP0Ri3s6QmOc/RGLezpCY5z9EYt7OkJjnP0Ri3s6QmOc/RGLezpCY5z9EYt7OkJjnP0Ri3s6QmOc/RGLezpCY5z9EYt7OkJjnP0Ri3s6QmOc/RGLezpCY5z9EYt7OkJjnP0Ri3s6QmOc/RGLezpCY5z9EYt7OkJjnP0Ri3s6QmOc/RGLezpCY5z9EYt7OkJjnP0Ri3s6QmOc/RGLezpCY5z8=",
          "dtype": "f8"
         }
        },
        {
         "mode": "lines",
         "type": "scatter3d",
         "x": {
          "bdata": "qfpAHMKOHz951BNm7fMxP7KxQbCo8Ts/Ibx36krpQj9maXD6QsZHP67mvzC5ikw/otqpvOGYUD+rRxYKS9tSP4riekNEClU/BVAgNY0jVz86V7gG/CRZP102SHZ/DFs/vqO6+SDYXD8aGOfEBoZeP94x/Ng6CmA/AI0dhenAYD9LeL4WU2ZhPz5TJAvN+WE/yx+3XL96Yj9um7YfpehiPwXKPgsNQ2M/trQO7pmJYz/J/JgOA7xjP+E7+3UU2mM/ruqOJa/jYz+Nltw2ydhjP8d20OVtuWM/Xdwlhb2FYz8/bBVd7T1jP6N8aHRH4mI/hTMqRCpzYj89D0VWCPFhPxk8cc9nXGE/J2zt5OG1YD8VdyF9RPxfP9TasIvMa14/NNBPxfi7XD/NaQhNhu5aPwCuTM5QBVk/ivKhklACVz/FV8x5mOdUP1I9ktZTt1I//MpLMsRzUD8wRRnzfT5MP2bWmihWeEc/9gwg2PyZQj/MWC+K7VA7Pyqh/e24UTE/HxMixacCHT+uiqB4974GvwijtgLz2im/yao+mcD1Nr9B1YdjLnNAv6NrZICHWkW/3DH4mN0rSr+5vrhTOeJOv7WJK5NfvFG/s+/OK1r1U7+53b3vwRlWv65sGZBhJ1i/TdrnORscWr81sJrE6vVbvwb9H8bnsl2/uSdaikdRX7+lsPt1r2dgv+ykYAbSFWG//nPP9VeyYb8ZNlPrnzxiv6Gj4FsbtGK/ItdFHU8YY79CTyDl02hjv6pQVrNWpWO/lealJ5nNY7+3T/HBceFjv++PBg3M4GO/fw22s6jLY7/pfCKAHaJjv8jQSkVVZGO/HFXlso8SY78ld7kTIa1ivwPmu/ZxNGK/mZ1Gw/6oYb8g9ts4Vwthvw/p+NodXGC/5pQekw44X789TKkNs5ddvzZeS1bW2Fu/flChD0X9Wb84mlVz6QZYvwzuyljJ91W/qOVOHwTSU79jT/t90JdRv8UBD3f0lk6/2LzHoL/eSb+TUCDr3wtFv4r4YUVOI0C/Jv3o9zNUNr9y6ZUEjpUov+7KJURypQG/ffpAHMKOHz8=",
          "dtype": "f8"
         },
         "y": {
          "bdata": "GwrT9APHOb+CIVPuAKQ2v4I8ckKnaTO/3dELw0obML8abmfFp3gpv2pHv2J4oCK/8CGxHStqF78QvnkVhfYCv/AKrGqw9fE+XKSi5nlxEj+EOlJZQikgPwySlvgeCSc/nveVtjzRLT+o34L5Tj0yPwgAUV4yfzU/0s2m8uyqOD94ox73Ob07PxpkheLusj4/NIuvUn/EQD8Om4RnPh5CP3hknkhQZUM/vnZqz2OYRD/vO3JxPLZFPw0Np4azvUY/YDEfebmtRz9lrwrdVoVIP4NZv2+tQ0k/IC7V/PjnST/t3mYokHFKP/wCph3l30o/Ff4OIYYySz+q56UFHmlLP36Xw4R0g0s/P1YYeG6BSz+KZaj1DWNLPxyGpU1yKEs/jrMn6tfRSj+SW+YQmF9KP+9CMoco0kk/SfSOGBsqST9e3WgAHWhIPzwGgzf2jEc/63XUpYiZRj9bwak5z45FP8nQ+uTcbUQ/bn7/gds3Qz92NiegCu5BP+cWsDq+kUA/lj9itLpIPj/mbAFFwU47Pyf76ZyhODg/7nIcNooJNT+6H1lHw8QxP5J5B8RW2yw/KTn48WcPJj/wagFQd1keP9TaBM3VdBA/wDUw3Oz54z4AGtAO2/EGvwijcTdFZRm/7L6CoLebI78ikmM2lnAqv7gBzMsZlTC/RQBPi9DgM7+kf8qhCRg3vyRPpXZ0Nzq/aKJd+9g7Pb/K1H5+DRFAv9xnbKyec0G/ncqhiDLEQr8PgIwfbgFEvxZxgm4KKkW/CtDYtNU8Rr96QRGvtDhHv5Rm2LqjHEi/dsqo4rfnSL/8T/7PH5lJv0t1IKMkMEq/VvykryqsSr9IpugcsgxLv+uW2GlXUUu/toaE09N5S78wCBCe/YVLv6Kvtz/IdUu/rMS9bURJS7/uKjELoABLv91CoPklnEq/CoXoyz0cSr9OaXJba4FJv2eoR0BOzEi/NvKPLKH9R7/GrR0sORZHvyMl0cgEF0a/ZH60FAsBRb9j+s2aatVDvyACwDdYlUK/7n1n2x1CQb+uT4FpMro/v9jf4ZJ0zzy/HgrT9APHOb8=",
          "dtype": "f8"
         },
         "z": {
          "bdata": "QPjggw8+6D9A+OCDDz7oP0D44IMPPug/QPjggw8+6D9A+OCDDz7oP0D44IMPPug/QPjggw8+6D9A+OCDDz7oP0D44IMPPug/QPjggw8+6D9A+OCDDz7oP0D44IMPPug/QPjggw8+6D9A+OCDDz7oP0D44IMPPug/QPjggw8+6D9A+OCDDz7oP0D44IMPPug/QPjggw8+6D9A+OCDDz7oP0D44IMPPug/QPjggw8+6D9A+OCDDz7oP0D44IMPPug/QPjggw8+6D9A+OCDDz7oP0D44IMPPug/QPjggw8+6D9A+OCDDz7oP0D44IMPPug/QPjggw8+6D9A+OCDDz7oP0D44IMPPug/QPjggw8+6D9A+OCDDz7oP0D44IMPPug/QPjggw8+6D9A+OCDDz7oP0D44IMPPug/QPjggw8+6D9A+OCDDz7oP0D44IMPPug/QPjggw8+6D9A+OCDDz7oP0D44IMPPug/QPjggw8+6D9A+OCDDz7oP0D44IMPPug/QPjggw8+6D9A+OCDDz7oP0D44IMPPug/QPjggw8+6D9A+OCDDz7oP0D44IMPPug/QPjggw8+6D9A+OCDDz7oP0D44IMPPug/QPjggw8+6D9A+OCDDz7oP0D44IMPPug/QPjggw8+6D9A+OCDDz7oP0D44IMPPug/QPjggw8+6D9A+OCDDz7oP0D44IMPPug/QPjggw8+6D9A+OCDDz7oP0D44IMPPug/QPjggw8+6D9A+OCDDz7oP0D44IMPPug/QPjggw8+6D9A+OCDDz7oP0D44IMPPug/QPjggw8+6D9A+OCDDz7oP0D44IMPPug/QPjggw8+6D9A+OCDDz7oP0D44IMPPug/QPjggw8+6D9A+OCDDz7oP0D44IMPPug/QPjggw8+6D9A+OCDDz7oP0D44IMPPug/QPjggw8+6D9A+OCDDz7oP0D44IMPPug/QPjggw8+6D9A+OCDDz7oP0D44IMPPug/QPjggw8+6D9A+OCDDz7oP0D44IMPPug/QPjggw8+6D9A+OCDDz7oP0D44IMPPug/QPjggw8+6D8=",
          "dtype": "f8"
         }
        },
        {
         "mode": "lines",
         "type": "scatter3d",
         "x": {
          "bdata": "xInFOR/6Hz/qOM6D6VkyP9KohYNgojw/VAnGmalmQz8qtIUzI2hIPxeXIRZ0UE0/2gT6m0YNUT9c9MJav2BTPypIM3Q+oFU/eXBUrHLJVz9MaPbBIdpZP2tmhLoq0Fs/5YPLE4ipXT+yQHDZUWRfP/9/9s1ff2A/Sn6JI5U7YT8VWhTrBuZhPwYd8nEFfmI/XpFSCvQCYz9TUrysSXRjP3R6TYWR0WM//1QpbGsaZD8g7pZIjE5kP4RVal6+bWQ/MsdoheF3ZD9koW5K62xkP/H7NPrmTGQ/m8arlfUXZD8pcPSvTc5jP/MnIDY7cGM/nbfrIB/+Yj+koskQb3hiP2GWodS032E/tifC2400YT+sTZeTqndgP6vFmWObU18/QEwx15aXXT8wQfU1Eb1bP7XbqqXzxVk/XiijxUS0Vz+anB+YJopVPwuje0/USVM/QlBfAaD1UD+vZbSE4B9NP6sIu1h7Nkg/I45FpSA0Qz+hEHyW9Ds8P7szzSaN8jE/ZPqMNZZaHj/qSMuNpGgGv1orhATXWyq/5hLniSyBN7/ourl3Gd5Av0mowHk56kW/p4O3V8LfSr/Og7Bnl7lPvxpQEEdcOVK/E8y3siODVL8+BWQhxrdWv4eZfYn91Fi/Q4Y6BZzYWr/V8rURjsBcv9jj1LLcil6/YYfhvNcaYL9Gq/g1p99gv+P3T+QRk2G/BVSQ1V40Yr/KFBHE58Jiv/CXPcIZPmO/dCgK0nWlY7+kDdxnkfhjv6HTXdgWN2S/m5bOsMVgZL96SHH5cnVkv5p112EJdWS/XODZVolfZL+STSgCCTVkv2H1cDO09WO/eyU3M8yhY79sood/pzljv3cm0HKxvWK/HeY11WkuYr/xLN1YZIxhv1HaqQFI2GC/Aq8Vec4SYL8xx5udhnlev8Cguk0Grly/Luh2rPXEWr9bmlXdTMBYv+1axHUgola/UMIZWJ9sVL+NPXlzECJSv7282NWgiU+/4A06TJ6uSr/02mWcGrhFvyDY1nIzq0C/woFRIDsaN7/idQ+tfYwpvyyfZxS8KAO/l4nFOR/6Hz8=",
          "dtype": "f8"
         },
         "y": {
          "bdata": "V+DtMQbTOr8BKHJZzK03v7eF9N4pcDS/Ok4J93UdMb++f9wbO3Irv8QYLn8/jSS/TLbq8ygmG7+QQMUSrSsKv0CTyHCPf9A+WKNet3BJDj+AGFGL2zEdPyrXDkJzkCU/Pk32JL5xLD+JeyRt25oxP3RgvAOy6jQ/3Irw3fgkOD/XrUs9XEY7P198NAuiSz4/hjA9ltaYQD+mD4FbwPpBPzSvIYMhSkM/hym1VaCFRD/JGwub96tFPw/uaun3u0Y/J5RX3oi0Rz9mX5Y/qpRIPz7yTgN1W0k/ehE0PhwISj9X07/27ZlKP1ltqdxTEEs/sYPX49NqSz80QS/CEKlLPyyIvk/Kyks/9BreyN3PSz+OkAfyRbhLP1YkOh0bhEs/jtHoEJMzSz9ekovQAMdKP43mDEfUPko/ctdr05mbST+QZQm4+d1IPwCINm23Bkg/UYi117AWRz9Ib/5j3Q5GP+5KMgdN8EQ//jbEJie8Qz/FIvlnqXNCPx43eGgmGEE/6Md6wghWPz9Kyatqd1s8P/fAxtuqQzk/KTPrSdMRNj8AmrjBO8kyP6Cni4aN2i4/iiDYidUCKD+68/tCXRIhP8w3ZNaXIBQ/wCEI/dYe+D447QpExy4Avwges8clLha/CIyJYgUXIr+2ooAfUgQpv6AOESbV1y+/7Zpei0JFM7/rTA40vYo2v6nbb0L7uDm/lFXOX7XMPL8c+ZyKv8I/v3rhvy0GTEG/bypkFdikQr9ycpQJcupDv15gQWeEG0W/qIDutNQ2Rr+EEd3mPjtHvycZGIy2J0i/hnIr40f7SL9YkmjVGLVJv7gAttdpVEq/TsoBsJbYSr+IYIseF0FLv1ZnVmp/jUu/ZKk10IC9S7+Qu/vT6dBLv6yefXOmx0u/GcoyO8ChS7+oXF08Xl9LvxqZxOTEAEu/rDEruFWGSr+5GMrrjvBJvwp1N+QKQEm/NNU/ln91SL+UsFXLvZFHv3yOWEqwlUa/dq6R5VqCRb+oqt9u2VhEv7MpJZNeGkO/NjYonjLIQb+/GigosmNAv600DV2Z3D2/WuDtMQbTOr8=",
          "dtype": "f8"
         },
         "z": {
          "bdata": "Oo7jOI7j6D86juM4juPoPzqO4ziO4+g/Oo7jOI7j6D86juM4juPoPzqO4ziO4+g/Oo7jOI7j6D86juM4juPoPzqO4ziO4+g/Oo7jOI7j6D86juM4juPoPzqO4ziO4+g/Oo7jOI7j6D86juM4juPoPzqO4ziO4+g/Oo7jOI7j6D86juM4juPoPzqO4ziO4+g/Oo7jOI7j6D86juM4juPoPzqO4ziO4+g/Oo7jOI7j6D86juM4juPoPzqO4ziO4+g/Oo7jOI7j6D86juM4juPoPzqO4ziO4+g/Oo7jOI7j6D86juM4juPoPzqO4ziO4+g/Oo7jOI7j6D86juM4juPoPzqO4ziO4+g/Oo7jOI7j6D86juM4juPoPzqO4ziO4+g/Oo7jOI7j6D86juM4juPoPzqO4ziO4+g/Oo7jOI7j6D86juM4juPoPzqO4ziO4+g/Oo7jOI7j6D86juM4juPoPzqO4ziO4+g/Oo7jOI7j6D86juM4juPoPzqO4ziO4+g/Oo7jOI7j6D86juM4juPoPzqO4ziO4+g/Oo7jOI7j6D86juM4juPoPzqO4ziO4+g/Oo7jOI7j6D86juM4juPoPzqO4ziO4+g/Oo7jOI7j6D86juM4juPoPzqO4ziO4+g/Oo7jOI7j6D86juM4juPoPzqO4ziO4+g/Oo7jOI7j6D86juM4juPoPzqO4ziO4+g/Oo7jOI7j6D86juM4juPoPzqO4ziO4+g/Oo7jOI7j6D86juM4juPoPzqO4ziO4+g/Oo7jOI7j6D86juM4juPoPzqO4ziO4+g/Oo7jOI7j6D86juM4juPoPzqO4ziO4+g/Oo7jOI7j6D86juM4juPoPzqO4ziO4+g/Oo7jOI7j6D86juM4juPoPzqO4ziO4+g/Oo7jOI7j6D86juM4juPoPzqO4ziO4+g/Oo7jOI7j6D86juM4juPoPzqO4ziO4+g/Oo7jOI7j6D86juM4juPoPzqO4ziO4+g/Oo7jOI7j6D86juM4juPoPzqO4ziO4+g/Oo7jOI7j6D86juM4juPoPzqO4ziO4+g/Oo7jOI7j6D8=",
          "dtype": "f8"
         }
        },
        {
         "mode": "lines",
         "type": "scatter3d",
         "x": {
          "bdata": "wssQW0o1ID9kUVFaLsEyP3Glyl1iVD0/2X2XSa3kQz+YWwrApwpJP7vTevjRFk4/EI2I+vuBUT9fMnbYguZTP1eyHC6GNlY/yg73uKNvWD9uoPbQkI9aPwARQMUclFw/a0EkHjN7Xj9PqQDhbiFgP6ICa32j9GA/hvQ4rV22YT91n6e91WViP3/vI85WAmM/PF6+ij+LYz/y0HfSAgBkP80lvEgoYGQ/wnl00UyrZD/mQTH3IuFkPwHoAjtzAWU/t5uuTRwMZT8VYAQyEwFlP5XwMkhj4GQ/Q9ANQi6qZD+DmVEArF5kPzhcClkq/mM/XmpXxwyJYz9ySN8EzP9iP8Z2XY31YmI/9VvKDCuzYT9Ip7O4IfFgP5L1cJWhHWA/xYvqTwlzXj9wjiMqbItcP+5TI15ihlo/F6NR5QBmWD/X54DoeCxWP1WjeX0V3FM/QFbMSTl3UT8udLMauABOP9ZQNC4Q9Eg/3PSGTa/NQz+WkwH4yCU9P/UN9Y8nkjI/RuDF4YWtHz9MFyTqcxwGvzKAQCtK3yq/MGbtBOINOL+0kTSjqUlBv/DoUTKQeka/gs7E00qUS7+a+SLHy0hQv+ENY9uotlK/ARPXnjsRVb8gQznsFlZXv0r2EwHkglm/KoP45mSVW79xcCbDdotdv8wTQQoUY1+/R0TnSiuNYL//Bq3MvFdhvzecmrptEGK/smh7sn+2Yr920f2DR0ljv0JKKuEtyGO/WCVb+q8yZL8fXhQFYIhkv+VeMK3lyGS/Exjtb/7zZL8ajXvgfQllv9Yqy9VNCWW/g7JhgW7zZL9DLShv9sdkv7YcLW4Sh2S/7N1zYgUxZL+/2wAAKMZjv2GkaW/oRmO/iCNH3MmzYr8ZD//tYw1iv33nbytiVGG/eLEgSoOJYL8NWVXTMFtfvyJXT3gIg12/RowGOXSMW780ij8nenlZvyDCopo9TFe/aySG/PwGVb8Nfc93D6xSv+LqUY/iPVC/sDpGOu99S78ohfl6wmNGv1BJp0+BMkG/pDCB4wvfN78WFySD84Aqv3ijtrD0oQS/q8sQW0o1ID8=",
          "dtype": "f8"
         },
         "y": {
          "bdata": "1FGK0rjnO7929muGTMA4v+xAN6JcfzW/2tX4wUMoMr8gWSaz5nwtv2NsP1Dgiia/wEayXToDH7+UtU8tvNAQvwCKW5dEZ+S+WARvHxhzBz+obQ+j6vMZP7CKf0LECSQ/QJaYU+sEKz9GmkEkHPIwP/B3Z81KUDQ/wiOr44iZNz9ygUU7c8o6P34mIby/3z0/L2zzYiBrQD8E11g7dNVBPzMjhehlLUM/0CD13pJxRD/OHtfzrKBFP1ZugrV7uUY/llWKrd26Rz/0cSCLyaNIP8X0kjRPc0k/c87MvpgoSj/spthJ68JKP6lUg8GnQUs/mT9XgUukSz8Fp0fbcOpLPzT4gIDPE0w/zyryyzwgTD8/TULuqw9MP9bwBPst4ks/9tgf1/GXSz+YEnQIRDFLP2RI/GaOrko/iKOxr1cQSj8ssaf5QldJP7B47g0PhEg/9A7oopWXRz/0YNx7ypJGP66Msm26dkU/js3SSYpERD8ipU6wdf1CP3BlhsrNokE/p36b7/c1QD8xqCto2HA9PzKbb8xnVzo/Y4gh8c8iNz/VbN+4XtYzPxKg0Zt6dTA/Nb28TD4HKj96iUXEsggjP6xNkrMQ7Rc/kH0VCiRgAz+gInCwpFvyvuQapD0p2RK/Zqvhtv2DIL+wUO+AYIonvyj1Tyx/eC6/UH73dZqjMr+tlLypvvc1v6apk8k9NTm/zQNaxcBYPL8NpBhWC18/v2FQ6al/IkG/CG4j9s+DQr9SfKpbCtJDv0xt7FLWC0W/r1r7Y/AvRr93uv1zKz1Hv4oKkftxMki/Of/eJMcOSb+qTj7QR9FJv1lvUn4reUq/HvO4HsUFS79Dcm/Cg3ZLv2khOjHzyku/ihBxYbwCTL/UlLjRpR1Mv9lgSMSTG0y/YjCEW4j8S79wjciXo8BLvzzzbTYjaEu/IFAkcmLzSr8ugeik2WJKvwq49Msdt0m/ba0r7t/wSL/g8Jxl7BBIv2px3gwqGEe/mGMUUZkHRr+/0pwpU+BEv2BXb/aHo0O/b4BbRn5SQr+sXGmGke5Av79Gbjdh8j6/11GK0rjnO78=",
          "dtype": "f8"
         },
         "z": {
          "bdata": "NiTm7QyJ6T82JObtDInpPzYk5u0Miek/NiTm7QyJ6T82JObtDInpPzYk5u0Miek/NiTm7QyJ6T82JObtDInpPzYk5u0Miek/NiTm7QyJ6T82JObtDInpPzYk5u0Miek/NiTm7QyJ6T82JObtDInpPzYk5u0Miek/NiTm7QyJ6T82JObtDInpPzYk5u0Miek/NiTm7QyJ6T82JObtDInpPzYk5u0Miek/NiTm7QyJ6T82JObtDInpPzYk5u0Miek/NiTm7QyJ6T82JObtDInpPzYk5u0Miek/NiTm7QyJ6T82JObtDInpPzYk5u0Miek/NiTm7QyJ6T82JObtDInpPzYk5u0Miek/NiTm7QyJ6T82JObtDInpPzYk5u0Miek/NiTm7QyJ6T82JObtDInpPzYk5u0Miek/NiTm7QyJ6T82JObtDInpPzYk5u0Miek/NiTm7QyJ6T82JObtDInpPzYk5u0Miek/NiTm7QyJ6T82JObtDInpPzYk5u0Miek/NiTm7QyJ6T82JObtDInpPzYk5u0Miek/NiTm7QyJ6T82JObtDInpPzYk5u0Miek/NiTm7QyJ6T82JObtDInpPzYk5u0Miek/NiTm7QyJ6T82JObtDInpPzYk5u0Miek/NiTm7QyJ6T82JObtDInpPzYk5u0Miek/NiTm7QyJ6T82JObtDInpPzYk5u0Miek/NiTm7QyJ6T82JObtDInpPzYk5u0Miek/NiTm7QyJ6T82JObtDInpPzYk5u0Miek/NiTm7QyJ6T82JObtDInpPzYk5u0Miek/NiTm7QyJ6T82JObtDInpPzYk5u0Miek/NiTm7QyJ6T82JObtDInpPzYk5u0Miek/NiTm7QyJ6T82JObtDInpPzYk5u0Miek/NiTm7QyJ6T82JObtDInpPzYk5u0Miek/NiTm7QyJ6T82JObtDInpPzYk5u0Miek/NiTm7QyJ6T82JObtDInpPzYk5u0Miek/NiTm7QyJ6T82JObtDInpPzYk5u0Miek/NiTm7QyJ6T82JObtDInpPzYk5u0Miek/NiTm7QyJ6T8=",
          "dtype": "f8"
         }
        },
        {
         "mode": "lines",
         "type": "scatter3d",
         "x": {
          "bdata": "ZRdkoVZvID+SfWfAXikzPzXsUKBRBz4/UfWDHyhjRD/NKNJpo61JP5Y7dnSm3U4/sPb2Juz2UT+FQXpogGxUPz1Y6wIHzVY/G9o1rgwWWT9JN6hcNkVbP7Sul6hDWF0/K/GJJhFNXz8B+L9MzZBgP/0TjoP+aWE/nu2/VDwxYj94Am9eueViP7EcdJO7hmM/gnww+5wTZD+1CKRczItkP/IpINTN7mQ/5QD9Ujs8ZT9eUs0IxXNlP2K3pLUxlWU/xUEb5V6gZT8lwNERQZVlP6UEUrHjc2U/f/A+KGk8ZT+JceCmCu9kP3X9L+4XjGQ/fk+i/fYTZD9TJwOqI4djP0Vrzx0v5mI/pUKRQ78xYj/8aNgajmphP0gHf/hokWA/aG4BZl9OXz+Zvnt3p1ldPx2DMkyuRls/uJTgOpcXWT+ctQCWos5WP461t1krblQ/aItCvqT4UT+IO9JiL+FOPytsIHNAsUk/hVM4itVmRD9WQqijxQ4+PyQ220LkMDM/yIrNInV+ID+uxX9ne9cFv3KUBuKRZCu/u4hcGoSbOL/lIiPLsLVBv6fr7hteC0e//WCYOkpJTL/PjmPvBrVQv+Q/V+cvNFO/uW/+KI2fVb97kRhAoPRXv+8+b7IBMVq/msJIemNSXL+3S51mk1Zevx3sTa++HWC/dLkUw5b/YL9tr5Ig6c9hvyyFrwnfjWK/HISnrbQ4Y7+uWOXyuc9jv88kiSxTUmS/h7Thuvm/ZL+CaTKWPBhlv3XQNsPAWmW/s8XrsEGHZb+Oez1/kZ1lv+WGUS6ZnWW/wTI8tliHZb+IqggH51plv2XyE/FxGGW/dw3T9T3AZL9KADUBplJkv8J66Qsb0GO/S8bspiM5Y79gA9FwW45iv2qzU3Vy0GG/a+vkdywAYb/8P9spYB5gvw7eSJrsV16/TdGtiNFTXL/yFTcigzJav94u8oMz9le/zhM4oTChVb/R7orj4TVTv17KNLDFtlC/xDxqrN1MTL+uLkfOAw9Hv2NFiPtkuUG/NLBs1AGjOL9MfgeXqHMrv0CG+QcFFAa/TRdkoVZvID8=",
          "dtype": "f8"
         },
         "y": {
          "bdata": "XOz42S0EPb81ufhKlNo5v0PR0yhUlja/hLT5ecs6M7+muzqK4JYvv7IGv/+Zlyi/+l7R0Pl+Ib+ok9k2oagUvxBbBacM+Pi+qEC7ThRmAD9YdTG8o5sWP+iZaqV3diI/kAemRxWMKT9pS46grkMwPwhPyZmOsDM/OC6zqCIJNz975YrS90k6P74R0Zazbz0/sycfsos7QD/h+3b4ga5BP1xXJTk+D0M/kbe12FRcRD8nNlp8bpRFP4SG22tJtkY/R6c73brARz94bLUosLJIP5Zk2+Mvi0k/sj+y4lpJSj+csb0dbexKP/6qEny+c0s/4JyegMPeSz/1J/HZDS1MP5r/89NMXkw/Q8cbq01yTD8eKbzA+2hMP/c0SbBgQkw/Oh5wRaT+Sz9+jhFTDJ5LP/jVR2v8IEs/jCvDePWHSj8iyuU5ldNJP5TnKJ6VBEk/bSNyBswbSD8iAB9pKBpHPw4jqVq0AEY/fFbi+5HQRD/4geLO+opDP5zi23M+MUI/MqUiT8HEQD9kCJkz9o0+P7I5xrzqcjs/EHJwxpM7OD+EdPwHQus0P1QlsPhfhTE/YNyOlNwaLD92kj6ZAA4lPzwQv/jg1hs/8LMMaRzqCj+AmB2SeVTPvuiycuCm0g6/TId5JiDIHb+0dc/fHAQmv7CWp9h3DS2/35y+DnD8Mb9OroTWmV81v+d9p1+7rDi/LqI+fG3gO78ImX82Y/c+v1VM35s290C/9kNziD5hQr+X34IwVLhDv00UWOsV+0S/zNOOBDcoRr+qlwoTgT5Hv7288DjVPEi/eNddSy0iSb/NLqXgnO1Jv4jJA0RSnkq/YtjLTZczS7+qpykf0qxLvx+KwMCFCUy/UDx8o1JJTL/v9hED92tMv7ilyylPcUy/umBXlVVZTL8lNnX8IiRMvwVqfTXu0Uu/qm7Z/QtjS7/G2qmi7tdKv4to84olMUq/hHLMo1xvSb/gTiOvW5NIv2c51HUFnke/yA7j3VaQRr8t1MnlZWtFv1TF6IVgMES/bE4/eYvgQr/O0K7uQH1Bv6ZAICTvB0C/X+z42S0EPb8=",
          "dtype": "f8"
         },
         "z": {
          "bdata": "MLrooosu6j8wuuiiiy7qPzC66KKLLuo/MLrooosu6j8wuuiiiy7qPzC66KKLLuo/MLrooosu6j8wuuiiiy7qPzC66KKLLuo/MLrooosu6j8wuuiiiy7qPzC66KKLLuo/MLrooosu6j8wuuiiiy7qPzC66KKLLuo/MLrooosu6j8wuuiiiy7qPzC66KKLLuo/MLrooosu6j8wuuiiiy7qPzC66KKLLuo/MLrooosu6j8wuuiiiy7qPzC66KKLLuo/MLrooosu6j8wuuiiiy7qPzC66KKLLuo/MLrooosu6j8wuuiiiy7qPzC66KKLLuo/MLrooosu6j8wuuiiiy7qPzC66KKLLuo/MLrooosu6j8wuuiiiy7qPzC66KKLLuo/MLrooosu6j8wuuiiiy7qPzC66KKLLuo/MLrooosu6j8wuuiiiy7qPzC66KKLLuo/MLrooosu6j8wuuiiiy7qPzC66KKLLuo/MLrooosu6j8wuuiiiy7qPzC66KKLLuo/MLrooosu6j8wuuiiiy7qPzC66KKLLuo/MLrooosu6j8wuuiiiy7qPzC66KKLLuo/MLrooosu6j8wuuiiiy7qPzC66KKLLuo/MLrooosu6j8wuuiiiy7qPzC66KKLLuo/MLrooosu6j8wuuiiiy7qPzC66KKLLuo/MLrooosu6j8wuuiiiy7qPzC66KKLLuo/MLrooosu6j8wuuiiiy7qPzC66KKLLuo/MLrooosu6j8wuuiiiy7qPzC66KKLLuo/MLrooosu6j8wuuiiiy7qPzC66KKLLuo/MLrooosu6j8wuuiiiy7qPzC66KKLLuo/MLrooosu6j8wuuiiiy7qPzC66KKLLuo/MLrooosu6j8wuuiiiy7qPzC66KKLLuo/MLrooosu6j8wuuiiiy7qPzC66KKLLuo/MLrooosu6j8wuuiiiy7qPzC66KKLLuo/MLrooosu6j8wuuiiiy7qPzC66KKLLuo/MLrooosu6j8wuuiiiy7qPzC66KKLLuo/MLrooosu6j8wuuiiiy7qPzC66KKLLuo/MLrooosu6j8=",
          "dtype": "f8"
         }
        },
        {
         "mode": "lines",
         "type": "scatter3d",
         "x": {
          "bdata": "dEGfX5qqID8obLTHLZIzP0Lty8Xhuj4/7pHdNPThRD9vYznN8FBKP/jiBNDMpE8/Zx72KwVsUj91UruPpvJUPzjAywOwY1c/Nh3yOp28WT+yGXPCAvtbP1DEl4CQHF4/e5CDC4oPYD+z5DyTPQBhP/8Cubhq32E/T2bibSusYj9GLHKirGVjPzi5gR0vC2Q/5m2oQgicZD/hPdrBohdlP2LcUTF/fWU/6dbnkDTNZT9OOk+2cAZmP4gvyKH4KGY/OEHxuqg0Zj/wmHj1dClmP15hh91oB2Y/BYDai6fOZT+t65SBa39lP7fq8GsGGmU/4WMO0OCeZD+NCzWfeQ5kP159+bNlaWM/tyXMOE+wYj/GJpD49ONhP1IK75kpBWE/bvwzxtIUYD8xyhx50CdeP5nUX6XlBlw/rzaaxxbJWT8XXjRes3BXP4SI3E0mAFU/Bs6OY/N5Uj9CrOB5acFPP1uiUzMwbko/AgoKMbj/RD9kZZiMNfc+PwD0LC0PzzM/mkxh5PokIT9CSiNMU5cFv6DjgB4U6yu/Ojl7BsYpOb9TRPLVCCJCv/oulIx9nEe/oJSReJv+TL8zMhcBayFRv4t7crDfsVO/7TgCGgcuVr8LCuR6UZNYvxuspKFG31q/iqXteYgPXb/UyEd91SFfv3ZFN4MFimC//z9nwhNyYb9MEfVGJkhiv0SXQWVgC2O/0BnG3vi6Y79MtIaxOlZkv/uHqNKF3GS/6WBr009NZb/1vdxvJKhlvwsjsQam7GW/iyrI+Y0aZr9G2Pf2rDFmv14k1CjrMWa/nnVAT0gbZr/qt7G/2+1lv7/KIE3UqWW/+xLGF3hPZb9e8c9EJN9kv4ChXp5MWWS/GXsoHHu+Y78cn0FVTw9jvwCrmdt9TGK/wAbZgc92Yb/OrF2MII9gv0ShWZy/LF+/hOOGZRsbXb9tQodrdutav4PjHZMRoFi/f0ngW0o7Vr/XJw1wmL9Tv6UWahmLL1G/+7SOO40bTb8HHcQLA7pHvw2V5qIDQEK/+h45bWhmOb/5o/+DNWUsv4yG+a1TgQe/XEGfX5qqID8=",
          "dtype": "f8"
         },
         "y": {
          "bdata": "GCnJppAnPr9KqmWqz/s6v/6KWvU9tDe/357Z+TxUNL9acSdaR98wv7EyC6XasSq/rDyxGaKJI7+YE0uHi5oYv2AoAVzsEAS/IAkILttP8j4syQavqysTP7QG1dHO1yA/mNmxF2sIKD9ygchRQSAvP58oJtkADDM/tiE6vz50Nj+k+/A6V8U5P1lwJwjf+zw/yTaCIkMKQD8lgf7tDYZBPz9+DGfI70I/KP4Jrf1FRD+pfY3+TIdFP07sBiVrskY/+p4ryiPGRz8Mfc21WsFIPyvF1fIMo0k/IWc12lFqSj85yLcCXBZLPxi7wBR6pks/UWYbgRcaTD99qB0avXBMP/wdgo4Rqkw/MSV6xdnFTD+N+Jgb+cNMP9ASWYBxpEw/CG8ddGNnTD/qsrDmDQ1MP6bMZPbNlUs/buQVkB4CSz9QlHPwl1JKP8sEEwfvh0k/TrLru/SiSD+OHv8XlaRHPxZpCVLWjUY/Rp41wNdfRT8+Xeyv0BtEPwIn7iQPw0I/oSAEgfZWQT+LaFQr/LE/PxJjWEJflTw/eXmJcUtbOT/u4MBCFAc2P0T0cjEonDI/DHJAQho8Lj/cUkt3uSAnP2RnquwC2x8/LFP+jbxTET/AIlPazdTlPvBTrnKywge/5Bd4Fw1xGr/sxzCjv3IkvyIiDqPklyu/sYbgAkxQMb9rCeHLzMI0v2h0f/jmHzi/TiEr5CJkO7/SRsyMIow+v0/Nq4VSykC/lp8w90Q9Qr8/+pw5ap1Dv/r/IU1X6US/Q5WpCbYfRr/bMYp/Rj9Hv0byUkHgRki/l/JblXM1Sb+z99+NCgpKv8KqfgbKw0q/rRQihvJhS7+bfV4E4eNLv1E7gZEPSUy/fjGh4BWRTL8WsiKzqbtMv7jpPyWfyEy/hvNG2+i3TL+f8V4PmIlMv2H4xX/cPUy/rBqaPQTVS79gUmBce09Lvzo5nILLrUq/XmnrW5vwSb+XyTbtrRhJv+zfqsvhJki/I2RGNzAcR788lusZrPlFv5Ey/euAwES/9SKrf/FxQ7/GIy20Vg9Cv8hjQhIemkC/GynJppAnPr8=",
          "dtype": "f8"
         },
         "z": {
          "bdata": "KlDrVwrU6j8qUOtXCtTqPypQ61cK1Oo/KlDrVwrU6j8qUOtXCtTqPypQ61cK1Oo/KlDrVwrU6j8qUOtXCtTqPypQ61cK1Oo/KlDrVwrU6j8qUOtXCtTqPypQ61cK1Oo/KlDrVwrU6j8qUOtXCtTqPypQ61cK1Oo/KlDrVwrU6j8qUOtXCtTqPypQ61cK1Oo/KlDrVwrU6j8qUOtXCtTqPypQ61cK1Oo/KlDrVwrU6j8qUOtXCtTqPypQ61cK1Oo/KlDrVwrU6j8qUOtXCtTqPypQ61cK1Oo/KlDrVwrU6j8qUOtXCtTqPypQ61cK1Oo/KlDrVwrU6j8qUOtXCtTqPypQ61cK1Oo/KlDrVwrU6j8qUOtXCtTqPypQ61cK1Oo/KlDrVwrU6j8qUOtXCtTqPypQ61cK1Oo/KlDrVwrU6j8qUOtXCtTqPypQ61cK1Oo/KlDrVwrU6j8qUOtXCtTqPypQ61cK1Oo/KlDrVwrU6j8qUOtXCtTqPypQ61cK1Oo/KlDrVwrU6j8qUOtXCtTqPypQ61cK1Oo/KlDrVwrU6j8qUOtXCtTqPypQ61cK1Oo/KlDrVwrU6j8qUOtXCtTqPypQ61cK1Oo/KlDrVwrU6j8qUOtXCtTqPypQ61cK1Oo/KlDrVwrU6j8qUOtXCtTqPypQ61cK1Oo/KlDrVwrU6j8qUOtXCtTqPypQ61cK1Oo/KlDrVwrU6j8qUOtXCtTqPypQ61cK1Oo/KlDrVwrU6j8qUOtXCtTqPypQ61cK1Oo/KlDrVwrU6j8qUOtXCtTqPypQ61cK1Oo/KlDrVwrU6j8qUOtXCtTqPypQ61cK1Oo/KlDrVwrU6j8qUOtXCtTqPypQ61cK1Oo/KlDrVwrU6j8qUOtXCtTqPypQ61cK1Oo/KlDrVwrU6j8qUOtXCtTqPypQ61cK1Oo/KlDrVwrU6j8qUOtXCtTqPypQ61cK1Oo/KlDrVwrU6j8qUOtXCtTqPypQ61cK1Oo/KlDrVwrU6j8qUOtXCtTqPypQ61cK1Oo/KlDrVwrU6j8qUOtXCtTqPypQ61cK1Oo/KlDrVwrU6j8=",
          "dtype": "f8"
         }
        },
        {
         "mode": "lines",
         "type": "scatter3d",
         "x": {
          "bdata": "pzBkE5fmID/TF8M7XPszP+/Up+fTbj8/A3S2XfJgRT84GNAlcfRKP1/79WYTNlA/lhQZPjjhUj+OGD3l5nhVP0PwDDlz+lc/HBcs50djWj9VBesX6bBcPzvjt/324F4/hPDTI5h4YD8crUk6um9hP2aoLwLjVGI/FtWYQiYnYz+jZDk9q+VjP+xA042tj2Q/AeOn9H0kZT/51x4Lg6NlP8G75uE5DGY/ZanthzZeZj9O/6V5JJlmP8zEJPjGvGY/F+O/R/nIZj+PpevVrr1mP9J4MEbzmmY/04wrZupgZj/Nt6YI0A9mP4el7cf3p2U/QeSfr8wpZT8tpVjO0JVkP3Lvna+c7GM/R3ihvt4uYz8YOHWSWl1iP6sSbSToeGE/oGd98XKCYD83EvgO8vVeP6Cme/4Tx1w/q7I9yYt6Wj/zgCsbuBJYP4O6CMMTklU/4ckPJDP7Uj9x8TONwVBQPwiehfH8Kks/DsB2bnWYRT+KJxghVt8/P9ZRLpPmbDQ/0+TC6dHKIT90cVkfAloFv3DGvFpSciy/CJijs2i4Ob87dPxvko5Cv3VyFIjPLUi/GhPsCCC0Tb+P9koF6Y1Rv/0XnpqpL1S/Xme3P5u8Vr8Cdf7iHDJZv0y+ypuljVu/CHNMR8fMXb+uItwJMe1fvwwfDtlY9mC/3Tq7/ZzkYb+EUdBWb8Biv3x7fEvtiGO/U7vXL0g9ZL8Tm+0Zxtxkv0kNYqHCZmW/oATriK/aZb8qD/BQFThmv//QuLKTfma/oWOrA+KtZr+/TDSAz8Vmv2PVCn5Dxma/ffCdhT2vZr9ke49S1YBmvx9ZPbs6O2a/h6Bxf7XeZb8Lsmz+pGtlv6FyldR/4mS/ZQM1YdNDZL/e/rs0Q5Bjv4V0J2iIyGK/AXAz3nDtYb/quh9v3v9gvyKf4f/FAGC/QEllC13iXb8RCAHuX6Rbv5hxq1XkSVm/zV7IT1fVVr8c1tjIQElUv1wzlvBAqFG/N00VChvqTb/SmeIO3mRIv/YZfrt7xkK/BEslj30pOr96OoV4F1Ytv4T9XAjZ6wi/jjBkE5fmID8=",
          "dtype": "f8"
         },
         "y": {
          "bdata": "Cm53ACRRP7/IorvqQSM8vxTP645e2Di/jZUQy95zNb9O7a7jQfkxv6VK19E72Cy/rNVeCDigJb8oaGvI0qMcv7BYc2Vf0wu/AHzUMlvZyz5o2El6v0wPP3BpTcXSXR4/vNxIMPx6Jj/6g+6g4q8tP/xNoXgXYzI/ECvDdEnbNT9rxbay8zw5P3mt2dmZhDw//KTmYtquPz9sGhUKOVxBP5ZLPa8fz0I/Sbq9y6IuRD+h3OwGWHlFP1p9KXrqrUY/GjBDEBzLRz/0SV3Nxs9IPyBg+v3dukk/Iur3S2+LSj9xgly4o0BLPx5E93jA2Us/nNHruCdWTD9AiWQ7WbVMP5sxw9/y9kw/9NnHBrEaTT/iqUXYbiBNP0DFHWkmCE0/2B1ZwfDRTD/X6FrCBX5MPzxRRu27DEw/8MfSCYh+Sz/33Oqt/NNKP4y4kabJDUo/FveqQrssST/YtV+AuTFIP0Lp+R3HHUc/K4AsjwDyRT+wRNvXmq9EPxC8kE3iV0M/Y2HqQDnsQT+uXVyQFm5APz53iksIvj0/mNi/wDqBOj8vXW3ZGik3PzjxlxgbuTM/bJh+ncY0MD8KXQv5ej8pP1pKDwVi+yE/dK+VmX9JFT+wlS/MJhn6PmB7qvBLhwC/5P6NyBAFF78kv9hyYNciv9qy4HbMGCq/salU4qifML+n7bq1yCE0v+fOTecnjze/40UYDT7kOr/+sM/Fmx0+v7bdpyH3m0C/ENPQWwEYQr8zcoPQZIFDv5R+0Pis1kS/ghK7B3oWRr/vb91Ugj9HvwKDOrCTUEi/kcvdnZRISb9fUwR4hSZKv26Wo3aB6Uq/Wrc+m7+QS7+u5RaAkxtMvw1j4QluiUy/7vZL+93ZTL9kwLdpkAxNv1wSshJRIU2/yj7TkQoYTb8Gyct2xvBMvzBEiTutq0y/gAZ9GgZJTL/lsy/FNslLv/JPbfvCLEu/BuZ1A0x0Sr+ixr4DkKBJv2q47z5pski/RCrmMs2qR7+mUqaby4pGv2kXP1uNU0W/v3zBR1MGRL9rEofgdKRCvyZKHOxeL0G/DW53ACRRP78=",
          "dtype": "f8"
         },
         "z": {
          "bdata": "JubtDIl56z8m5u0MiXnrPybm7QyJees/JubtDIl56z8m5u0MiXnrPybm7QyJees/JubtDIl56z8m5u0MiXnrPybm7QyJees/JubtDIl56z8m5u0MiXnrPybm7QyJees/JubtDIl56z8m5u0MiXnrPybm7QyJees/JubtDIl56z8m5u0MiXnrPybm7QyJees/JubtDIl56z8m5u0MiXnrPybm7QyJees/JubtDIl56z8m5u0MiXnrPybm7QyJees/JubtDIl56z8m5u0MiXnrPybm7QyJees/JubtDIl56z8m5u0MiXnrPybm7QyJees/JubtDIl56z8m5u0MiXnrPybm7QyJees/JubtDIl56z8m5u0MiXnrPybm7QyJees/JubtDIl56z8m5u0MiXnrPybm7QyJees/JubtDIl56z8m5u0MiXnrPybm7QyJees/JubtDIl56z8m5u0MiXnrPybm7QyJees/JubtDIl56z8m5u0MiXnrPybm7QyJees/JubtDIl56z8m5u0MiXnrPybm7QyJees/JubtDIl56z8m5u0MiXnrPybm7QyJees/JubtDIl56z8m5u0MiXnrPybm7QyJees/JubtDIl56z8m5u0MiXnrPybm7QyJees/JubtDIl56z8m5u0MiXnrPybm7QyJees/JubtDIl56z8m5u0MiXnrPybm7QyJees/JubtDIl56z8m5u0MiXnrPybm7QyJees/JubtDIl56z8m5u0MiXnrPybm7QyJees/JubtDIl56z8m5u0MiXnrPybm7QyJees/JubtDIl56z8m5u0MiXnrPybm7QyJees/JubtDIl56z8m5u0MiXnrPybm7QyJees/JubtDIl56z8m5u0MiXnrPybm7QyJees/JubtDIl56z8m5u0MiXnrPybm7QyJees/JubtDIl56z8m5u0MiXnrPybm7QyJees/JubtDIl56z8m5u0MiXnrPybm7QyJees/JubtDIl56z8m5u0MiXnrPybm7QyJees/JubtDIl56z8m5u0MiXnrPybm7QyJees/JubtDIl56z8=",
          "dtype": "f8"
         }
        },
        {
         "mode": "lines",
         "type": "scatter3d",
         "x": {
          "bdata": "tEZEYuUiIT/+v/pxtmQ0Pypalkl6EUA/qWEnFwngRT8U/W9BC5hLP2mIX9PNmVA/SxDMO3lWUz/HgA+WNf9VP+3GkipFkVg//jJuoQEKWz+MvKm93mZdPzZclP1spV8/a7W+Dq7hYD+Zvhy9Pt9hPzmzfihjymI/NOMe7SiiYz8a1LOesWVkP/SIt60zFGU/GmotN/usZT/PnxC+ai9mPyS6q837mmY/iU0yhD/vZj/lpA0F3ytnP4+2ZtKbUGc/vA+RDVBdZz9LTxSe7lFnPzjyKz+DLmc/oIevczLzZj9ww29gOaBmP5I7L43tNWY/Zsh3jLy0ZT+FaqeKKx1lP14kqcTWb2Q/10nn5nCtYz+DSh1VwtZiP7zRxluo7GE/mSsBTBTwYD8WKpQFFcRfP6PGOLlCh10/J1f+LAAsWz9sZ147u7RYP1rIOJ7+I1Y/xzwLUG98Uz84ZBnSycBQP4N8qLS+50s/IEDT1yUxRj+s7vO6rGNAP2d7FkCdCjU/aluWzWBwIj/6PMwM6x0Fv46yljHl+Sy/oVWHjDhHOr8HbtL3M/tCv+j/o7A6v0i/oKal675pTr9pI8W3dPpRv1bCDKqBrVS/FmkX8z1LV78A+Soy99BZv/WGDccTPFy/TpkpgBWKXr8apzUWTlxgv1sjGAe0YmG/ygliFi5XYr98rgJBwDhjv8V3+gCCBmS/RI4LPZ+/ZL+DolwjWWNlv0doLO4G8WW/AwTLkRZoZr9RFCZTDchmv4YnTEaIEGe/uDNltDxBZ78Z9LZo+Flnv6PHZeShWme/4re8eDhDZ79jkOFH1BNnvzxN9CumzGa/c4WzhPdtZr9CutnrKfhlv6eCgdC2a2W/60j4+S7JZL8mo4DyORFkv8wdnlqVRGO/Z3+cJRRkYr9OBBzAnXBhvyi6giEta2C/xseRkp+pXr9kJlZSSV1cv8OqwPq181m/YLYKKGJvV7+Xpf0J5tJUv3xdSrfyIFK/4etqzp64Tr9ScegorQ9Jv+ZgXBjmTEO/zPStsHPsOr9ywEuatEYuvygmq+swVQq/mkZEYuUiIT8=",
          "dtype": "f8"
         },
         "y": {
          "bdata": "eNfQ+h9AQL9edk55Q1A9v4MyTm4PAjq/Lh+BHQyZNr+c1ZZyvRgzv/Dcy7h+CS+/fAsGKYTBJ7+qyNmjDGEgvwyM5Kpl3xG/IAjEFy1S574QpNtVtxsIP7TgrwCQ+Ro/BhmZ97rkJD9cl5NYJDcsPwV+E/o7tjE/BfY6y6M+NT+Kgt1XJbE4PyRVKOsyCjw/pTkXDVlGPz+avJMIITFBPyESKsNcrUI/41NowlcWRD/y8AzrnWpFP51eDnrQqEY/d8MtbqfPRz86SBTa8t1IP1CFnh2c0kk/lhkTBaesSj+YWRzNMmtLPy4aeQp7DUw/x8F1dNiSTD956VyRwfpMP87MLUTLRE0/nXMGO6lwTT+PxM89Ln5NP41n2lxMbU0/Ums8/xQ+TT893+DQuPBMPzffW5CHhUw/m8m2vO/8Sz97W4kjfldLP9Qc1U/dlUo/lro42tS4ST8khjCbSMFIP2gxOMA3sEc/rOK/xLuGRj/9xgNQB0ZFP4w88fhk70M/e25f8TWEQj8NqvqZ8AVBPz91swA+7D4/uziWkbqsOz85evkKsFA4P0h4aPmU2zQ/YRy+v/lQMT+mLEbVCWkrP7iSZtreEyQ/QF2uKgNUGT/wEaWIWcwEP4CEFnGHSfK+cEpKCDqGE7/gw0f2+DIhv+42fzoakSi/pK5RjejVL79YsQPj8nwzv80b+cfa+ja/TjhrgBJhOr/DElECGaw9v0tOs6VEbEC/udt78I7xQb9ydJUXWmRDv/vnKOInw0S/ukZ1so4MRr9N6ZL6Oj9Hv1SLeJrwWUi/dqrZJYxbSb9mQI4QBENKv30tTsBpD0u/7iimguq/S7/TrChm0FNMv4/7+vWCyky/gOn81ocjTb9Sa+lFg15NvzPl7XU4e02/MrlWz4l5Tb+4eRAOeVlNv0RO3j8nG02/FmJHotS+TL8cfF5g4ERMv0oDqDDIrUu/HI+D0yf6Sr9ZmZ5yuCpKvyzRFeJPQEm/SNAJxN87SL+eaIqPdB5Hv3VM2Xs06UW/GlYhUV6dRL/LENsfSDxDv+c+MeBdx0G/etfQ+h9AQL8=",
          "dtype": "f8"
         },
         "z": {
          "bdata": "IHzwwQcf7D8gfPDBBx/sPyB88MEHH+w/IHzwwQcf7D8gfPDBBx/sPyB88MEHH+w/IHzwwQcf7D8gfPDBBx/sPyB88MEHH+w/IHzwwQcf7D8gfPDBBx/sPyB88MEHH+w/IHzwwQcf7D8gfPDBBx/sPyB88MEHH+w/IHzwwQcf7D8gfPDBBx/sPyB88MEHH+w/IHzwwQcf7D8gfPDBBx/sPyB88MEHH+w/IHzwwQcf7D8gfPDBBx/sPyB88MEHH+w/IHzwwQcf7D8gfPDBBx/sPyB88MEHH+w/IHzwwQcf7D8gfPDBBx/sPyB88MEHH+w/IHzwwQcf7D8gfPDBBx/sPyB88MEHH+w/IHzwwQcf7D8gfPDBBx/sPyB88MEHH+w/IHzwwQcf7D8gfPDBBx/sPyB88MEHH+w/IHzwwQcf7D8gfPDBBx/sPyB88MEHH+w/IHzwwQcf7D8gfPDBBx/sPyB88MEHH+w/IHzwwQcf7D8gfPDBBx/sPyB88MEHH+w/IHzwwQcf7D8gfPDBBx/sPyB88MEHH+w/IHzwwQcf7D8gfPDBBx/sPyB88MEHH+w/IHzwwQcf7D8gfPDBBx/sPyB88MEHH+w/IHzwwQcf7D8gfPDBBx/sPyB88MEHH+w/IHzwwQcf7D8gfPDBBx/sPyB88MEHH+w/IHzwwQcf7D8gfPDBBx/sPyB88MEHH+w/IHzwwQcf7D8gfPDBBx/sPyB88MEHH+w/IHzwwQcf7D8gfPDBBx/sPyB88MEHH+w/IHzwwQcf7D8gfPDBBx/sPyB88MEHH+w/IHzwwQcf7D8gfPDBBx/sPyB88MEHH+w/IHzwwQcf7D8gfPDBBx/sPyB88MEHH+w/IHzwwQcf7D8gfPDBBx/sPyB88MEHH+w/IHzwwQcf7D8gfPDBBx/sPyB88MEHH+w/IHzwwQcf7D8gfPDBBx/sPyB88MEHH+w/IHzwwQcf7D8gfPDBBx/sPyB88MEHH+w/IHzwwQcf7D8gfPDBBx/sPyB88MEHH+w/IHzwwQcf7D8gfPDBBx/sPyB88MEHH+w/IHzwwQcf7D8=",
          "dtype": "f8"
         }
        },
        {
         "mode": "lines",
         "type": "scatter3d",
         "x": {
          "bdata": "ekJSUDFfIT8MkkBnEs40P4YPtfWMa0A/KPhgmyNfRj96OVyYqjtMP6TO/pKL/VA/jODWPr7LUz85xzb6iIVWP+kZkngcKFk/g6LHW8GwWz8aL+4A2xxePwagyRj1NGA/3IpS28dKYT9ecjBlx05iP8v7X7PnP2M/Bo8BNzAdZD99a5HVvOVkP5D8CdS+mGU/4wv+q301Zj/fJc/JV7tmPz4dPDPDKWc/3PybFU6AZz+oyjI7n75nPyApJ2d25Gc/Mwy6l6zxZz8wP3wuNOZnPy9JWP4Ywmc/HjdiP4CFZz/s23loqDBnPz4T5+7ow2Y/hGYy7LE/Zj8UA5eqi6RlPzEfhRgW82Q/8p/FIwgsZD9w8ej8LlBjPwNyw0NtYGI/LnnRHbpdYT9syXM3IElgP1QVFmJ5R14/hVUb8nvdWz/zOo4oxVZZP3ywA6vvtVY/aP3cC7H9Uz9O31T/1jBRP9LCWO+IpEw/ICPkVt3JRj93jOkRtNdAP91EGmhcqDU/MTkl2voVIz8k7kO7vuEEv08gKJd4gS2/Xmm4mwvWOr/CCqCQ2GdDv9/+0lyqUEm/hjz/v2MfT7/OVv8WBGdSv7q5YRZeK1W/T6sEr+XZV7+gbFsw129av9oR70GI6ly/3em+ompHX78a5NVlB8Jgv6p+GzkTz2G/ETd/dMPJYr8ER8GtFbFjv85qdHEbhGS/G8TKOPtBZb+zA9FJ8ellv+a1MIFQe2a/N7epBIP1Zr/M14rdClhnv/xxinqCome/CBt5GJ3UZ78UgWIRJ+5nvzLlyhEG72e/9U/SMznXZ780hyEA2aZnv7rQn1QXXme/pJMLMT/9Zr961apptIRmv2ZEY0Dz9GW/meKj5I9OZb/DW6TaNZJkv416l0qnwGO/uf6GOLzaYr8vI6elYeFhv4VdB5yY1WC/d1s4S+pwX7+EPmZfOhZdv4WY7LeOnVq/E21vgHMJWL/CEZ0skVxVv4aAwbqpmVK/uQgLuCuHT79F348KhLpJv1dSLtdW00O/b3uZvXOvO7/nwFvNXzcvv3gYLcSpvgu/YEJSUDFfIT8=",
          "dtype": "f8"
         },
         "y": {
          "bdata": "zQhp2ifaQL8MWerIP4I+v6hKseO8MDu/e0/7tjLDN7/CtAvZKT00v6zoHCBEojC/1AnDx3HsKb96YrRRonkiv1QGzeWO5xW/sLz7DhMV+75gY08eAMgAPyybiq2ehBc/yHJAjn9GIz/AAE0v0bYqPxoESJvMBTE/nBLIgaSeND8za3sROyI4P9Sfw/nwjDs/aIj0jkDbPj8INuW14ARBP1RiWfqVikI/6E2kXC79Qz9ILETYK1tFP0ChMqYlo0Y/jG/KsMnTRz9GuEjw3etIP06Mgq5B6kk/lh+BsO7NSj9C1tFE+pVLP1WGczWWQUw/C4xnnBHQTD92kgua2UBNP8QXgOx5k00/FJx/Z53HTT8i8ipMDt1NP6UwcIC2000/VSjTpZ+rTT9S4n8P82RNP9pisZf5/0w/kZmYVBt9TD8K6RAt39xLP4zfkE3qH0s/snnmff9GSj/2cW5Y/lJJPzWWlWPiREg/YryRDsIdRz9zm12Szd5FPxJlH7hNiUQ/KWQ9hqIeQz+e/X3VQaBBP4Qiqc+1D0A/a+ZwsjbdPD+C0XHPQH05P1qDKY0EAzY/yiEdmBdyMj+eZxoBTpwtP84hyODmNSY/ZP+/MzVxHT+Afi5DhrAMPwBfSGMM78m+GJjLFLzsD7/AfdFgzwwfv0x7hHSfASe/lPoIEiBlLr+uk9/dpdQyv/rjTXhSYza/kyYtGuvaOb86i2vP3Dc9v1KLlw5YO0C/l4BVSgbKQb/zB/oiXkZDv4XuoofXrkS/HNen4v4BRr9o0KOYdj5Hv8I+13D4Yki/zZtu5VZuSb8saFNafl9Kv5npRjl2NUu/Fdkh8mHvS7+i2zDegYxMvyBnwwU0DE2/e20hx/RtTb84szteX7FNv3Dyikwu1k2/areyoDvcTb/LHp4dgcNNvwAk7kAYjE2/zt6yKDo2Tb8wxopYP8JMv7SpZF6fMEy/dm9CV/CBS78woHtU5rZKv+5DH6JS0Em/E2Y07yLPSL+IprdYYLRHv4JnUlgugUa/YU3ll8k2Rb+eyBurhtZDv8YlWbDQYUK/zwhp2ifaQL8=",
          "dtype": "f8"
         },
         "z": {
          "bdata": "HBLzdobE7D8cEvN2hsTsPxwS83aGxOw/HBLzdobE7D8cEvN2hsTsPxwS83aGxOw/HBLzdobE7D8cEvN2hsTsPxwS83aGxOw/HBLzdobE7D8cEvN2hsTsPxwS83aGxOw/HBLzdobE7D8cEvN2hsTsPxwS83aGxOw/HBLzdobE7D8cEvN2hsTsPxwS83aGxOw/HBLzdobE7D8cEvN2hsTsPxwS83aGxOw/HBLzdobE7D8cEvN2hsTsPxwS83aGxOw/HBLzdobE7D8cEvN2hsTsPxwS83aGxOw/HBLzdobE7D8cEvN2hsTsPxwS83aGxOw/HBLzdobE7D8cEvN2hsTsPxwS83aGxOw/HBLzdobE7D8cEvN2hsTsPxwS83aGxOw/HBLzdobE7D8cEvN2hsTsPxwS83aGxOw/HBLzdobE7D8cEvN2hsTsPxwS83aGxOw/HBLzdobE7D8cEvN2hsTsPxwS83aGxOw/HBLzdobE7D8cEvN2hsTsPxwS83aGxOw/HBLzdobE7D8cEvN2hsTsPxwS83aGxOw/HBLzdobE7D8cEvN2hsTsPxwS83aGxOw/HBLzdobE7D8cEvN2hsTsPxwS83aGxOw/HBLzdobE7D8cEvN2hsTsPxwS83aGxOw/HBLzdobE7D8cEvN2hsTsPxwS83aGxOw/HBLzdobE7D8cEvN2hsTsPxwS83aGxOw/HBLzdobE7D8cEvN2hsTsPxwS83aGxOw/HBLzdobE7D8cEvN2hsTsPxwS83aGxOw/HBLzdobE7D8cEvN2hsTsPxwS83aGxOw/HBLzdobE7D8cEvN2hsTsPxwS83aGxOw/HBLzdobE7D8cEvN2hsTsPxwS83aGxOw/HBLzdobE7D8cEvN2hsTsPxwS83aGxOw/HBLzdobE7D8cEvN2hsTsPxwS83aGxOw/HBLzdobE7D8cEvN2hsTsPxwS83aGxOw/HBLzdobE7D8cEvN2hsTsPxwS83aGxOw/HBLzdobE7D8cEvN2hsTsPxwS83aGxOw/HBLzdobE7D8cEvN2hsTsPxwS83aGxOw/HBLzdobE7D8=",
          "dtype": "f8"
         }
        },
        {
         "mode": "lines",
         "type": "scatter3d",
         "x": {
          "bdata": "+dNDBjebIT/I5egkTjc1PyJK2AiRxUA/2YF+GDHeRj8+vnmHPt9MPyFKPnREYVE/PkEOPv9AVD+gejo52QtXP8OqW4Pxvlk/vDAut39XXD8yZezK1tJeP6/HOukzl2A/vMo0UeKzYT/0vsAoUb5iPybSx8pttWM/V/7bfDmYZD9FXMx1ymVlP+j6os5MHWY/atATXQO+Zj85mnt2SEdnP62qpZqOuGc/F5uoBWERaD+KhkMoZFFoP3a6PwZWeGg/qpJ1eg6GaD9KYy5gf3poPxfIuKG0VWg/4VEgLNQXaD9OOxXIHcFnP6VxLNjqUWc/jbi7/K3KZj9q47Cd8itmP6Dx3VpcdmU/WC9OY6aqZD+eOFK0osljPyXFCUE51GI/EV9KA2fLYT9cfNn2PLBgP0OVDQC+B18/Fn6RfQWPXD9bKCOf3PhZP/BtS/btR1c/3lGcrf9+VD/I+aKs8KBRP4b2skRrYU0/iMdK8qtiRz8GEA5v0UtBP2I2xkJFRjY/csqhQuO7Iz9aGahibqQEvx5QX6DICC6/8Jwp8r9kO7+H6plXb9RDv2RS+c8N4km/U7K0AP7UT7/9S40Ej9NSv54Bxe02qVW/bgFstopoWL+ylTtdtQ5bv4ibldD7mF2/vwKR318CYL9UnmQlwSdhvzmNoU1zO2K/rM/JJlo8Y79qWfnebClkv5d64RS3AWW/mWyy01nEZb9XVe94jHBmv67XP4OdBWe/hv9pSfOCZ7/s67eYDOhnv7LvJTqBNGi/qd/PXQJoaL980S7sWoJov1qM07xvg2i/TEFlsj9raL9+r8e74zlov1GFZ7qO72e/n3zHTY2MZ7/zQoSERRFnv/OYIHM2fma//hoGsffTZb/fu0G8OBNlv+cFnUTAPGS/zpzOXmtRY7+XH5WgLFJivxJWpyYLQGG/hG57hSEcYL8bwflLOc9dv0pzuh51R1u/4yN/PpKjWL/kMCFjSeZVv6j023JtElO/Q54emegqUL/kc8KKcmVKv7iRKyreWUS/4EaPr55yPL/4T7z1LRQwvyzCHX9RKQ2/3tNDBjebIT8=",
          "dtype": "f8"
         },
         "y": {
          "bdata": "xYHzvGd2Qb8e8chDs7g/vzv9TQ/kYzy/7Laf9NDxOL82hbc2B2Y1vzhLFZouxDG/UMNGQAsgLL/seVRWu5okv9QAOTtcABq/GGYyiehgBb9gDWj34anyPgxRB/eVABQ/zveIgwqhIT/UWJvnnS8pP+sQ8HkdUjA/jTDXG5n7Mz8AptF4e5A3P7vd+msTDTs/Dn2B2shtPj8wEg80kNdAP/Js9IbfZkI/6frsxzbjQz/14bLmDUtFP40L5PTxnEY/4ExfpIbXRz84x06uh/lIP0NlbSHKAUo/N+Iulj3vSj9js4xH7cBLP5ZfVg8Bdkw/Si0BRb4NTT+ueRF+iIdNPyphVy/i4k0/aoRYLm0fTj8ag2ES6zxOP94c23Q9O04/6KegEGYaTj9QjzfAhtpNP96v6Vrhe00/LYzmcNf+TD+NTrHm6WNMPxBEQ3C4q0s/w8Zr7ADXSj/2SRehnuZJP/5JR1mJ20g/1R6kZdS2Rz9Z/6+ArXlGPz7Bv5dbJUU/VfP5eT27Qz/ctbduyDxCP3gVvLSGq0A/NBud1ysSPj9ZPLfUSq46PyrxpQHpLjc/SzMbWaGXMz+ohFzwTtgvPzYbE5uHYCg/DI5FZp/PID9oqwjaxVoSP0CLAHYKG+g+YDqWyDyuCL+UfGua5aQbv9Cw5+UWayW/igZB6KbtLL9dT0mBMikyv3nALxDZyDW/TwXK4gpSOb8YFfrgIsE8v0AeNG1LCUC/cMxQln2hQb+3zNskgydDv0QK3w3KmUS/WdvUoNT2Rb8PMBwROz1Hv/Yj3Oisa0i/YaDYY/KASb9gitKw7XtKvx00KBicW0u/ylyGBhcfTL+O1Zb6lMVMv7TJt1RqTk2/novlBwq5Tb/ciCArBgVOv1aEuWoQMk6/IEwPWfo/Tr9esGqetS5Ov4ZlxwdU/k2/kJR6dAevTb8gA8qiIUFNv1rSqNsTtUy/YbDwfW4LTL+m3I9p4ERLv3BnRUs2Ykq/kH6lyVlkSb/OQz+UUExIv2Jz3FU7G0e/pOvwilTSRb//0Ww973JEv+uAP6d1/kK/x4HzvGd2Qb8=",
          "dtype": "f8"
         },
         "z": {
          "bdata": "Fqj1KwVq7T8WqPUrBWrtPxao9SsFau0/Fqj1KwVq7T8WqPUrBWrtPxao9SsFau0/Fqj1KwVq7T8WqPUrBWrtPxao9SsFau0/Fqj1KwVq7T8WqPUrBWrtPxao9SsFau0/Fqj1KwVq7T8WqPUrBWrtPxao9SsFau0/Fqj1KwVq7T8WqPUrBWrtPxao9SsFau0/Fqj1KwVq7T8WqPUrBWrtPxao9SsFau0/Fqj1KwVq7T8WqPUrBWrtPxao9SsFau0/Fqj1KwVq7T8WqPUrBWrtPxao9SsFau0/Fqj1KwVq7T8WqPUrBWrtPxao9SsFau0/Fqj1KwVq7T8WqPUrBWrtPxao9SsFau0/Fqj1KwVq7T8WqPUrBWrtPxao9SsFau0/Fqj1KwVq7T8WqPUrBWrtPxao9SsFau0/Fqj1KwVq7T8WqPUrBWrtPxao9SsFau0/Fqj1KwVq7T8WqPUrBWrtPxao9SsFau0/Fqj1KwVq7T8WqPUrBWrtPxao9SsFau0/Fqj1KwVq7T8WqPUrBWrtPxao9SsFau0/Fqj1KwVq7T8WqPUrBWrtPxao9SsFau0/Fqj1KwVq7T8WqPUrBWrtPxao9SsFau0/Fqj1KwVq7T8WqPUrBWrtPxao9SsFau0/Fqj1KwVq7T8WqPUrBWrtPxao9SsFau0/Fqj1KwVq7T8WqPUrBWrtPxao9SsFau0/Fqj1KwVq7T8WqPUrBWrtPxao9SsFau0/Fqj1KwVq7T8WqPUrBWrtPxao9SsFau0/Fqj1KwVq7T8WqPUrBWrtPxao9SsFau0/Fqj1KwVq7T8WqPUrBWrtPxao9SsFau0/Fqj1KwVq7T8WqPUrBWrtPxao9SsFau0/Fqj1KwVq7T8WqPUrBWrtPxao9SsFau0/Fqj1KwVq7T8WqPUrBWrtPxao9SsFau0/Fqj1KwVq7T8WqPUrBWrtPxao9SsFau0/Fqj1KwVq7T8WqPUrBWrtPxao9SsFau0/Fqj1KwVq7T8WqPUrBWrtPxao9SsFau0/Fqj1KwVq7T8WqPUrBWrtPxao9SsFau0/Fqj1KwVq7T8=",
          "dtype": "f8"
         }
        },
        {
         "mode": "lines",
         "type": "scatter3d",
         "x": {
          "bdata": "NsZkF8DWIT9b6C9lTqA1P46+d+Z4H0E/vj9ZBiRdRz/hRPaouYJNP0LYRtzxxFE/1gR8vTW2VD9bgrT8H5JXPyfdoSC+VVo/l7DHuzb+XD9xkmRczIhfP3s7wS9w+WA/FJoi0vocYj94Q1eO2S1jPyBMmRzzKmQ/VypPlkITZT9v6PyC2OVlP/0hHs/boWY/iFbqq4pGZz+Z5xxXO9NnP+vR8slcR2g/R7+pTneiaD9TVub7LORoP3yUghU6DGk/oGdgUnUaaT8QjvgG0A5pP0beeTRW6Wg/iF9pfC6qaD899c/4mVFoP0+pHvnz32c/6sIOpLFVZz8qsN5+YbNmP6E+aNqq+WU/vZOnJk0pZT/irmQtH0NkP9HgyjQOSGM/7XPSCh05Yj9vpXj6YhdhP5HhsVcVyF8/kuag4KFAXT8nhNH3BptaPyCwtRr/2Vc/52YZDGEAVT8He/nmHBFSP1d0dC5yHk4//Cq6dp77Rz+mZtjkEcBBP47SnGVy5DY/xNtr3E9iJD8y/QbiIGUEv1K4F8qejy6/jUDtTDrzO7/eg6i46kBEv4T6XZFXc0q/F0snL0BFUL/dTzD0DkBTv4/VNMYFJ1a/bjMlyCb3WL+HSu+mi61bv0jJspZoR16/W3ZOmgdhYL+DkjmleI1hv1miebjRp2K/MAgpx++uY7+/ASOXw6Fkv+/fmdhSf2W/I+AdKLlGZr/uqwr6KPdmv3bQaG7sj2e/3MNoDGYQaL+pNrZkEXhov+hc/JmDxmi/tHUOz2v7aL9AA0N6kxZpv6PGq53eF2m/vovw40v/aL+8Bq+h9Mxov5BYXrsMgWi/0yTRb+IbaL8fXY0H3p1nv3HmTGmBB2e/E+gVlGdZZr94zHT/Q5Rlv3mmfOLhuGS/eK5MYiPIY7+ixvKoAMNiv0lTm+WGqmG/vBkWN9d/YL/OXJwDS4hev2hT0GRu8Vu/zZub3MM9Wb+d0QFnFHBWv0bzQNJDi1O/V9I1xE2SUL/pillOhRBLv+AblAKJ4ES/r9Ut5w42Pb9Hc90974wwv1isl3MAlg6/GsZkF8DWIT8=",
          "dtype": "f8"
         },
         "y": {
          "bdata": "aPh0T6UUQr9c6h6wlHlAv7o84/sQmz2/Ntgg7XMkOr/qV7Qk5JI2v/FitloP6jK/ygO4h3ZbLr/0U/xbg8Mmv3g9ph8yKB6/OAdyxI5UDb+AhiYkK1jMPuQc9VXgbhA/+EHCyA7qHz8Qfh2uK6InP7I1QlLzNi8/wlrg28ZVMz/s3lW4Jfw2P8F/JBPTijo/WKdjLST+PT8ooCY+RalAP2N87KlLQkI/Mqg+uH/IQz/BYjguTzpFP9yKddY8lkY/suAHCuLaRz8y1ysi8AZJPzzbP9ExGUo/RHeaYYwQSz+1qfbYAOxLPzcGSv+sqkw/5LH1R8xLTT912WGcuM5NP0fHMgfrMk4/WR1nP/x3Tj8sy88SpZ1OP6r/c6++o04/+G+Vy0KKTj8ssyusS1FOP2gE0AkU+U0/TFU11PaBTT8/FmvUbuxMP2hVSy4WOUw/76yWwaVoSz88ymFr9HtKP3gAmSj2c0k/HDZ+GrtRSD+FcCRubhZHP9QmCihVw0U/tUMQ1cxZRD8uMiciSttCP5hjJVxXSUE/Mp+msiVLPz+i0Z+cWuM7P2mYCyDQXjg/yen5iCbBND/Z08wIGA4xP5pjPL3pkio/kk7T0T7uIj/M7CCSIGwWP2Du4tGZkvs+MJGqZt1TAb+gczGQlS8Yv4pW4wAnziO/Hk1xzRhwK7/o91UB4XoxvzlQn86wKzW/6Enk363GOL+hwWHFIEg8v5rCBGNsrD+/3QMF1Qh4Qb88h9GZ2QdDv/DSdFwMhES/WFRHMhnrRb8+AWz9jTtHv7qNVuoPdEi/e4xP1VyTSb/D8IWWTJhKvxKkVzPSgUu/XX6W8/xOTL8H0KtZ+f5Mvz+0mvwRkU2/GXEAQ7AETr+mIVL+XFlOv3qjt+XAjk6/RCMF8KSkTr/6iHaM8ppOv5hI8rmzcU6/GJ27/BIpTr+uzJ4yW8FNv8KjxEX3Ok2/VLR8vnGWTL/M9G80dNRLv6/yzp/G9Uq/L84vi077Sb8/e/AmDuZIv5YwET8jt0e/mF6ZFMZvRr+A3bYbSBFFvyof458SnUO/avh0T6UUQr8=",
          "dtype": "f8"
         },
         "z": {
          "bdata": "ED744IMP7j8QPvjggw/uPxA++OCDD+4/ED744IMP7j8QPvjggw/uPxA++OCDD+4/ED744IMP7j8QPvjggw/uPxA++OCDD+4/ED744IMP7j8QPvjggw/uPxA++OCDD+4/ED744IMP7j8QPvjggw/uPxA++OCDD+4/ED744IMP7j8QPvjggw/uPxA++OCDD+4/ED744IMP7j8QPvjggw/uPxA++OCDD+4/ED744IMP7j8QPvjggw/uPxA++OCDD+4/ED744IMP7j8QPvjggw/uPxA++OCDD+4/ED744IMP7j8QPvjggw/uPxA++OCDD+4/ED744IMP7j8QPvjggw/uPxA++OCDD+4/ED744IMP7j8QPvjggw/uPxA++OCDD+4/ED744IMP7j8QPvjggw/uPxA++OCDD+4/ED744IMP7j8QPvjggw/uPxA++OCDD+4/ED744IMP7j8QPvjggw/uPxA++OCDD+4/ED744IMP7j8QPvjggw/uPxA++OCDD+4/ED744IMP7j8QPvjggw/uPxA++OCDD+4/ED744IMP7j8QPvjggw/uPxA++OCDD+4/ED744IMP7j8QPvjggw/uPxA++OCDD+4/ED744IMP7j8QPvjggw/uPxA++OCDD+4/ED744IMP7j8QPvjggw/uPxA++OCDD+4/ED744IMP7j8QPvjggw/uPxA++OCDD+4/ED744IMP7j8QPvjggw/uPxA++OCDD+4/ED744IMP7j8QPvjggw/uPxA++OCDD+4/ED744IMP7j8QPvjggw/uPxA++OCDD+4/ED744IMP7j8QPvjggw/uPxA++OCDD+4/ED744IMP7j8QPvjggw/uPxA++OCDD+4/ED744IMP7j8QPvjggw/uPxA++OCDD+4/ED744IMP7j8QPvjggw/uPxA++OCDD+4/ED744IMP7j8QPvjggw/uPxA++OCDD+4/ED744IMP7j8QPvjggw/uPxA++OCDD+4/ED744IMP7j8QPvjggw/uPxA++OCDD+4/ED744IMP7j8QPvjggw/uPxA++OCDD+4/ED744IMP7j8=",
          "dtype": "f8"
         }
        },
        {
         "mode": "lines",
         "type": "scatter3d",
         "x": {
          "bdata": "rOn9NqERIj/0iB1v/Qg2P95W+7M5eUE/iUptl/HbRz951YRHESZOPyZaEoKOKFI/dyMti1wrVT9a3h8vWBhYPz9bi1x97Fo/kmOBnOGkXT8cwv6JWx9gPwsZ8LOnW2E/aL84QA+GYj8/BsmUXp1jP+KrcsZ1oGQ/89CzwUmOZT/PzAVe5WVmPzgWlFpqJmc/Q79WQxLPZz9yWqQ9L19oP99oaLss1mg/EZVFFJAzaT/m3wUE+XZpP9Zp1g0ioGk/sY3ow+CuaT+ldi7zJaNpP9MbBrP9fGk/1XrCWI88aT9Z6h9PHeJoP2ZQzdEEbmg/S89Qjb3gZz/Z+qoj2TpnPxXAN5YCfWY/+75nlf2nZT/cywe3pbxkP2+I5pPtu2M/F2nBzd2mYj9b7nr+k35hP+5Es5FBRGA/1IzlE1XyXT8EyVVlSD1bPwiSy4AnbFg/NKYewdmBVT/RA6Z0YIFSP/f3Zoin204/F/AABb+USD8NYavOfzRCP7HgMef4gjc/vlbNaGsJJT8OF/qTKSMEvwDqZa/PFS+/610i8mSBPL9CY1jeP61Ev0l6Nd58BEu/uorgGfCfUL/w0r6nfqxTv5iHS3vFpFa/XW3b3rSFWb+7g18sVUxcvwn3dNzJ9V6/RjXAPKq/YL9ZHOW5K/NhvySe2GksFGO/t1SWY4IhZL9EqP0DGBplv7iWAwzt/GW/lp3XqBfJZr/7fOtkxX1nvyde5QA8Gmi/ubucM9qdaL+6I1xQGAhpvwFyvNKIWGm/JViJz9iOab+u0zpK0Kppv6V2q25SrGm/4wTQrl2Tab8GxFHEC2BpvwrXCZaREmm/bft4AT+raL+B3nOIfipov/jnWOPUkGe/X6ZAeODeZr9x5LW3WBVmv5m3nV8NNWW/h3MSpeU+ZL+jQQ5G3zNjv0wK24MNFWK/tk9VB5jjYL/g7Exgc0FfvxBMYaB+m1y/AK71qAzYWb+Raf259vlWv6FAl4kxBFS/HIsEOMr5UL/+N+tUxrtLvw7J0p9hZ0W/gNTTTdn5Pb+TlGr9CAYxv5grhUaxAhC/kOn9NqERIj8=",
          "dtype": "f8"
         },
         "y": {
          "bdata": "NnbL66y0Qr8g37tvnRhBv2Lgf+Lc1T6/54pfu7VaO79qIL4IXMM3v21NS3qDEzS/NMfZ//hOML+0VuW8PfMovzKs1l7RLiG/yMF4Nl2xEr8gKiyflo7nvhjs3DqBoQk/NEjjLx6GHD++AvpJCg8mPwQXpWRIxC0/GbIkrGutMj8CJUBbcmU2P6ckJuFiBjo/Eleqq3+MPT8YQgRoE3pAP4BbvOTqHEI/CNKyixatQz9SScXb+ShFP8adMTwNj0Y/m3tAkN/dRz/5gcKzFxRJP9u61951MEo/5KiS79QxSz9cHyOYKxdMPwppUXCN30w/INUv6SuKTT+/dQciVxZOPzaTpJ1+g04/NvFH1zHRTj9PXaO2IP9OPyb3aeIbDU8/fhYf8RT7Tj8zf/F3HslOP6ySk/drd04/uj0kp1EGTj/SXF8dRHZNP0MTb9jXx0w/YPjZpMD7Sz8U5Cvk0BJLP6RoGLT4DUo/JYb29kTuSD8WvZQ+3rRHP9I2g5oHY0Y/IiYPSx36RD/hp0Zak3tDP4gwdxz06EE/M9qxmd5DQD/SK/HDCRw9P/iFmptUkjk/z87fWUPuNT8ORVfKljMyPwaGiQxOzCw/+jVX/L4TJT9MY8K964oaP1BGs1H6pQU/0LURRWfA8758QmG7Ga4Uv6L2vy9kKyK/hJ6OwADtKb8gQTLg8ckwv5Nn/PUUjDS/BPb41gk5OL9h/M6NBs07v+oNVOJaRD+/CFFvE7pNQb8Ab5JzcOdCv/frbTqqbUS/IFo3J9XeRb8iByaudDlHvzlouYAjfEi/KOAK/pSlSb9tM6+JlrRKv2U3xscQqEu/Le/yvAh/TL/EPRPRoDhNv5N8rLMZ1E2/MH8hIdNQTr9iuuaHTK5Ov91CCo0l7E6/ugWHbx4KT78E2PxJGAhPv3yeiTIV5k6/cbmiODikTr/a6/BAxUJOv0j/U78gwk2/F0lWT88iTb9kznordWVMv0Dv8oPViku/NRtqtdGTSr8L97ZgaIFJv2JrYWS0VEi/fC0MuesOR78tVe4xXrFFv2pfpiJ0PUS/OHbL66y0Qr8=",
          "dtype": "f8"
         },
         "z": {
          "bdata": "DNT6lQK17j8M1PqVArXuPwzU+pUCte4/DNT6lQK17j8M1PqVArXuPwzU+pUCte4/DNT6lQK17j8M1PqVArXuPwzU+pUCte4/DNT6lQK17j8M1PqVArXuPwzU+pUCte4/DNT6lQK17j8M1PqVArXuPwzU+pUCte4/DNT6lQK17j8M1PqVArXuPwzU+pUCte4/DNT6lQK17j8M1PqVArXuPwzU+pUCte4/DNT6lQK17j8M1PqVArXuPwzU+pUCte4/DNT6lQK17j8M1PqVArXuPwzU+pUCte4/DNT6lQK17j8M1PqVArXuPwzU+pUCte4/DNT6lQK17j8M1PqVArXuPwzU+pUCte4/DNT6lQK17j8M1PqVArXuPwzU+pUCte4/DNT6lQK17j8M1PqVArXuPwzU+pUCte4/DNT6lQK17j8M1PqVArXuPwzU+pUCte4/DNT6lQK17j8M1PqVArXuPwzU+pUCte4/DNT6lQK17j8M1PqVArXuPwzU+pUCte4/DNT6lQK17j8M1PqVArXuPwzU+pUCte4/DNT6lQK17j8M1PqVArXuPwzU+pUCte4/DNT6lQK17j8M1PqVArXuPwzU+pUCte4/DNT6lQK17j8M1PqVArXuPwzU+pUCte4/DNT6lQK17j8M1PqVArXuPwzU+pUCte4/DNT6lQK17j8M1PqVArXuPwzU+pUCte4/DNT6lQK17j8M1PqVArXuPwzU+pUCte4/DNT6lQK17j8M1PqVArXuPwzU+pUCte4/DNT6lQK17j8M1PqVArXuPwzU+pUCte4/DNT6lQK17j8M1PqVArXuPwzU+pUCte4/DNT6lQK17j8M1PqVArXuPwzU+pUCte4/DNT6lQK17j8M1PqVArXuPwzU+pUCte4/DNT6lQK17j8M1PqVArXuPwzU+pUCte4/DNT6lQK17j8M1PqVArXuPwzU+pUCte4/DNT6lQK17j8M1PqVArXuPwzU+pUCte4/DNT6lQK17j8M1PqVArXuPwzU+pUCte4/DNT6lQK17j8M1PqVArXuPwzU+pUCte4/DNT6lQK17j8=",
          "dtype": "f8"
         }
        },
        {
         "mode": "lines",
         "type": "scatter3d",
         "x": {
          "bdata": "NpN5TbhLIj/O1ggiSnE2P8hzc9/K0kE/kmoFQZFaSD8Wu3joPMlOP7aArTQWjFI/s17jhm+gVT8zLTTFfZ5YP8LR8EQrg1s/TE5mhHxLXj8R5POeSXpgP6nuWq7YvWE/Y4Zb6B3vYj8ulQuf3gxkPwmHBEP0FWU/rd4Gk00JZj8ZiKe17+VmP/qM5Dv3qmc/Ep6WC5lXaD8hxs0wI+toP8Z1QZX9ZGk/09AWnarEaT/hoVuoxwlqP2R7sHgNNGo/Gzq5elBDaj/SNAjzgDdqP8fLVQ6rEGo/WqDz1PbOaT+sZIgBqHJpPwTNPrsd/Gg/AZuvM9JraD9Y3usoWsJnP9JCKUxkAGc//3iujbgmZj8kWrlONzZlP1U7M3rYL2Q/j9whhaoUYz8qY9xX0eVhP6fCIyGFpGA/zYKpKCKkXj9qpf4npN9bP8lohpRq/lg/fRLJYG0DVj8A6zgOv/FSP5r+5QQTmU8/N03GiBUuST+3yE9JI6lCP1qDoFLpITg/iFj0flexJT+odGqiAN4Dv8ABbh85my+/YEFPvS4PPb8HrDw5ZhlFvyXqtTJ1lUu/cBvWiIr6UL/Sxhb22RhUv+TtvvZxIle/tPNS+zAUWr95uX0JDutcv2yS/dwbpF+/5T4A9kUeYb8Kvuml2Fhivyq+dLmBgGO/tAuxahCUZL/+e6+saJJlv88dUFCEema/NRKGEnRLZ7//dPqSYARov0gYEDKLpGi/Mjdj1U4rab/xkfqRIJhpvwKDejuQ6mm/vnDG10giar9NaZn2ED9qv0adu+zKQGq/Y7CX8nQnar+SWRAmKfNpv1BulG8dpGm/rxmNSqM6ab9ah19xJ7dov3SXWG0xGmi/NiT2CmNkZ79F3h2zd5Zmv+Gs7alDsWW/57XsM7O1ZL8fm36iyaRjvzv7k0igf2K/HcOrWGVHYb/0fKBatfpfv+EIovqoRV2/gIAf+m9yWr8ssJLc84NXvyUFrj86fVS/58LmvWFhUb+CmnpuPWdMv287KAdw7kW/R3r0Rw6+Pr/IEuPhi38xvzygJHv/uxC/GZN5TbhLIj8=",
          "dtype": "f8"
         },
         "y": {
          "bdata": "e0X4zFBWQ7+BpGQcRrlBv7e5EE32CUC/l5X88zuUPL+MsE2SFfc4v9YnNh8zQDW/wuL2y2hzMb9C/BG9Qikrv1Qz30+0TyO/YC+xnXvEFr+QpTftWUj7vvimlh2tTgI/zNuYCFQXGT90dw4aunYkP345Xv6xTCw/wnvI8r4CMj+gBhMLlMw1P4ljp47wfzk/w8IA7gMZPT+G5BJZDEpAP2SRsSfM9kE/hG0TbAeRQz/2NRZGFxdFP2ojJ6Bph0Y/CxK9zYLgRz94zLgS/yBJP5IJGBKUR0o/qhyBIhJTSz95TUiHZUJMP34srIyXFE0/8+Qjhs/ITT9OZ7mtU15OP90vieOJ1E4/uEKiTPgqTz96l6LQRWFPPz55jnU6d08/wS6Emb9sTz/UbxAK4EFPP4SbC/nH9k4/nSkLz8SLTj+YTZbbRAFOP+ILcOPWV00/ovhrjSmQTD9yVGWuCqtLP34cEnVmqUo/G8WMdkaMST8Qlo+c0FRIP1/de/ZFBEc/80dlbgGcRT8aiHZjdh1EP83qHysvikI/8HmaesvjQD/MXsV0/Vc+P6DnyIocyTo/FCROK58eNz9YtrXATFwzPxZe7YwKDC8/UAQglXo/Jz/ogxRn57UePyBGzdZimg0/QBOZu2is0r7IFN2GiiERv159B+ZSgyC/dh2z6tpkKL/09DTNnhYwv94K8ZQ66jO/f/pT/06pN7/25Xto/087vwx/+1CI2j6/8+OFn6EiQb+Ql+lAVcZCv5qHcGmuVkS/OrgPaRDSRb+GzlEs9DZHvxA/eM/pg0i/ttK1GZq3Sb9Fl/vex9BKv+2G60ZRzku/leCf9zCvTL/sMxMjf3JNv75rE3ZyF06/1oXJ52CdTr9qCwBpwANPv5Scc3InSk+/UtuacU1wT7/uk3UTC3ZPvzIFFm1aW0+/kH+6AVcgT78iEXGmPcVOv+96YkNsSk6/HhMFc2GwTb/1XJv/u/dMv/LdhD86IUy/guoJUbktS7/fqmw2NB5KvydNKtPC80i/kR13y5ivR7/T7B5HBFNGv22qEJls30S/fUX4zFBWQ78=",
          "dtype": "f8"
         },
         "z": {
          "bdata": "Bmr9SoFa7z8Gav1KgVrvPwZq/UqBWu8/Bmr9SoFa7z8Gav1KgVrvPwZq/UqBWu8/Bmr9SoFa7z8Gav1KgVrvPwZq/UqBWu8/Bmr9SoFa7z8Gav1KgVrvPwZq/UqBWu8/Bmr9SoFa7z8Gav1KgVrvPwZq/UqBWu8/Bmr9SoFa7z8Gav1KgVrvPwZq/UqBWu8/Bmr9SoFa7z8Gav1KgVrvPwZq/UqBWu8/Bmr9SoFa7z8Gav1KgVrvPwZq/UqBWu8/Bmr9SoFa7z8Gav1KgVrvPwZq/UqBWu8/Bmr9SoFa7z8Gav1KgVrvPwZq/UqBWu8/Bmr9SoFa7z8Gav1KgVrvPwZq/UqBWu8/Bmr9SoFa7z8Gav1KgVrvPwZq/UqBWu8/Bmr9SoFa7z8Gav1KgVrvPwZq/UqBWu8/Bmr9SoFa7z8Gav1KgVrvPwZq/UqBWu8/Bmr9SoFa7z8Gav1KgVrvPwZq/UqBWu8/Bmr9SoFa7z8Gav1KgVrvPwZq/UqBWu8/Bmr9SoFa7z8Gav1KgVrvPwZq/UqBWu8/Bmr9SoFa7z8Gav1KgVrvPwZq/UqBWu8/Bmr9SoFa7z8Gav1KgVrvPwZq/UqBWu8/Bmr9SoFa7z8Gav1KgVrvPwZq/UqBWu8/Bmr9SoFa7z8Gav1KgVrvPwZq/UqBWu8/Bmr9SoFa7z8Gav1KgVrvPwZq/UqBWu8/Bmr9SoFa7z8Gav1KgVrvPwZq/UqBWu8/Bmr9SoFa7z8Gav1KgVrvPwZq/UqBWu8/Bmr9SoFa7z8Gav1KgVrvPwZq/UqBWu8/Bmr9SoFa7z8Gav1KgVrvPwZq/UqBWu8/Bmr9SoFa7z8Gav1KgVrvPwZq/UqBWu8/Bmr9SoFa7z8Gav1KgVrvPwZq/UqBWu8/Bmr9SoFa7z8Gav1KgVrvPwZq/UqBWu8/Bmr9SoFa7z8Gav1KgVrvPwZq/UqBWu8/Bmr9SoFa7z8Gav1KgVrvPwZq/UqBWu8/Bmr9SoFa7z8Gav1KgVrvPwZq/UqBWu8/Bmr9SoFa7z8Gav1KgVrvPwZq/UqBWu8/Bmr9SoFa7z8=",
          "dtype": "f8"
         }
        },
        {
         "mode": "lines",
         "type": "scatter3d",
         "x": {
          "bdata": "nTPk3uqEIj8UeZYpJ9k2P0dkYLolLEI/VCIzV/zYSD9cPlXpNWxPP4s+/qqF71I/AP4Lc2sVVj+YLz2QjSRZPyZLRL3EGVw/DOBDbATyXj+2pLX1LtVgP63dZbUBIGI/MP0jcCVYYz9v/1FjWHxkP+rkb1pti2U/ys6Y5UyEZj9hvo959mVnPz4KM3iBL2g/sO5FIB7gaD89DJljFndpP7QRtaLO82k/gR5GTcZVaj8JgKJmmJxqP7kt5O37x2o/1LQpKcTXaj9mAbHT4MtqP6Z9nC5epGo/jT5R9GRhaj/iQnsuOgNqP/oL4+4+imk/4utd6+/2aD9hLkD95EloP8qg1YTQg2c/T9OBsX6lZj9XnkWv1K9lPwzjgrrPo2Q/bQvyGoSCYz8CYNYGHE1iPw7Glm/WBGE/Co7vcQtWXz+gkpO4HIJcPxIZ5vHKkFk/LmWgpx6FVj+dn++NO2JTP34p+0ZdK1A/3kqAG6jHST9oTWOXAh5DP9Zii3JQwTg/8KGVJC5aJj9WcROgPJUDv+3aNkLgDzC/0/gNVIqcPb+j30EbV4VFv6UOzuY5Jky/gMxuLgxVUb8JEXabHYVUv7yIAQIIoFe/O8mC95eiWr/pUQQss4ldv0Jzes4tKWC/mhpjVdl8Yb8vaRgHfr5iv/F3CFXQ7GO/PNl5m5gGZb+lQ8pitApmvxgX2ooX+Ga/ihZwX83NZ796bXiU+Ypovx38GinZLmm/AdS+MMO4ab+ZryuBKShqv1TlFUWZfGq/BcZ9cru1ar8aYWgkVdNqvxwylddH1Wq/nCLyiZG7ar+FdK28TIZqv21y41iwNWq/5w8Edw/Kab/I0ioJ2UNpv0ZRwWiXo2i/6Sjix+/pZ7+bcA+HoRdnv+Eu7G+FLWa/ly/E1YwsZb9TlMicwBVkvwmOASlA6mK/QrgONkCrYb+Gd+eYCVpgv7PSxtnv712/baDQWvAMW7/msF17Dg5Yv8wURMBg9lS/40fcPRfJUb/HZoud8BJNvylQame6dUa/FJUgf7qCP7/aVa/ThPkxv0Q2cT8fdxG/fzPk3uqEIj8=",
          "dtype": "f8"
         },
         "y": {
          "bdata": "E+aYWWj5Q78ku28YZltCv/WeUZl3qkC/yUxwRbbQPb+CrkNhwS06vxJWkizQbza/G7EOH76aMr9iAYMP/WQtv5p8HvUwdiW/BKVypYriGr+o0dBo+XkFv/DRIs+LzvU+vIn59KOeFT+usQDerdkiP8TzZFeb0Co/HimtUPJVMT/fQ206uDE1P2ITKzGl9zg/sSp0gtWjPD94HscBQBlAPzJzQPz8z0E/+EngbV10Qz9khUoBsARFP2U2PQ1Yf0Y/1OfxPc/iRz+NNXknpy1JP/Xscb+KXko/UluWvD90Sz/RZrXap21MP+58yQHCSU0/8Cb9TqsHTj+8FIz+n6ZOP66HjzX8JU8/thjmqjyFTz8+vYgu/8NPPxqKwQ4D4k8/8t7bWinfTz/4OwkDdbtPP2DhWdUKd08/yVfMVzESTz+M/Zp/UI1OP+SIEkbx6E0/FPZfG70lTT+Abec3fURMP0At2MwZRks/i0bTFJkrSj8o6ZtFHvZIPxHh52Popkc/vLaF+lA/Rj9Tbiu2ysBEP8URXeffLEM/Hub06zCFQT+qleAD5ZY/PyRidwrYAjw/vH2bNOtROD9C9uqO7Ic0PyZoov3DqDA/fIvOa95wKT+0JCpB+3UhP1DsLKsw0hI/QJCAESEo5T6o5KSRxBULv7w/pvbSrB2/ahT9VRbYJr92ROnaNsIuvxudXjtRRjO/SWWaoqgXN787BDIsMtE6v0vW3+oWbz6/irgjOM72QL+6ZGdSlKRCv1i2EL8iP0S/Ov9ESNLERb8vPbo7ETRHv8Dpyghli0i/dKGxxmvJSb9lYFqh3exKv81DUSuO9Eu/xHdyk23fTL+SFRy9iaxNvwIewTkPW06/TUvcIkrqTr9DEGLTpllPv3ab8n+yqE+/d/surRvXT79PabeDsuRPv0MkfAFp0U+/2AguCFOdT7+FAMBIpkhPv3pqDgy6006/sYrl2AY/Tr+6vsP3JYtNv36K19TQuEy/k13cQODIS7+FGJuRS7xKv/i09KInlEm/0eF9uaVRSL+ew9FHEvZGvx454JfTgkW/FeaYWWj5Q78=",
          "dtype": "f8"
         },
         "z": {
          "bdata": "AAAAAAAA8D8AAAAAAADwPwAAAAAAAPA/AAAAAAAA8D8AAAAAAADwPwAAAAAAAPA/AAAAAAAA8D8AAAAAAADwPwAAAAAAAPA/AAAAAAAA8D8AAAAAAADwPwAAAAAAAPA/AAAAAAAA8D8AAAAAAADwPwAAAAAAAPA/AAAAAAAA8D8AAAAAAADwPwAAAAAAAPA/AAAAAAAA8D8AAAAAAADwPwAAAAAAAPA/AAAAAAAA8D8AAAAAAADwPwAAAAAAAPA/AAAAAAAA8D8AAAAAAADwPwAAAAAAAPA/AAAAAAAA8D8AAAAAAADwPwAAAAAAAPA/AAAAAAAA8D8AAAAAAADwPwAAAAAAAPA/AAAAAAAA8D8AAAAAAADwPwAAAAAAAPA/AAAAAAAA8D8AAAAAAADwPwAAAAAAAPA/AAAAAAAA8D8AAAAAAADwPwAAAAAAAPA/AAAAAAAA8D8AAAAAAADwPwAAAAAAAPA/AAAAAAAA8D8AAAAAAADwPwAAAAAAAPA/AAAAAAAA8D8AAAAAAADwPwAAAAAAAPA/AAAAAAAA8D8AAAAAAADwPwAAAAAAAPA/AAAAAAAA8D8AAAAAAADwPwAAAAAAAPA/AAAAAAAA8D8AAAAAAADwPwAAAAAAAPA/AAAAAAAA8D8AAAAAAADwPwAAAAAAAPA/AAAAAAAA8D8AAAAAAADwPwAAAAAAAPA/AAAAAAAA8D8AAAAAAADwPwAAAAAAAPA/AAAAAAAA8D8AAAAAAADwPwAAAAAAAPA/AAAAAAAA8D8AAAAAAADwPwAAAAAAAPA/AAAAAAAA8D8AAAAAAADwPwAAAAAAAPA/AAAAAAAA8D8AAAAAAADwPwAAAAAAAPA/AAAAAAAA8D8AAAAAAADwPwAAAAAAAPA/AAAAAAAA8D8AAAAAAADwPwAAAAAAAPA/AAAAAAAA8D8AAAAAAADwPwAAAAAAAPA/AAAAAAAA8D8AAAAAAADwPwAAAAAAAPA/AAAAAAAA8D8AAAAAAADwPwAAAAAAAPA/AAAAAAAA8D8AAAAAAADwPwAAAAAAAPA/AAAAAAAA8D8=",
          "dtype": "f8"
         }
        }
       ],
       "layout": {
        "autosize": true,
        "scene": {
         "xaxis": {
          "title": {
           "text": "X"
          }
         },
         "yaxis": {
          "title": {
           "text": "Y"
          }
         },
         "zaxis": {
          "title": {
           "text": "Z"
          }
         }
        },
        "template": {
         "data": {
          "bar": [
           {
            "error_x": {
             "color": "#2a3f5f"
            },
            "error_y": {
             "color": "#2a3f5f"
            },
            "marker": {
             "line": {
              "color": "#E5ECF6",
              "width": 0.5
             },
             "pattern": {
              "fillmode": "overlay",
              "size": 10,
              "solidity": 0.2
             }
            },
            "type": "bar"
           }
          ],
          "barpolar": [
           {
            "marker": {
             "line": {
              "color": "#E5ECF6",
              "width": 0.5
             },
             "pattern": {
              "fillmode": "overlay",
              "size": 10,
              "solidity": 0.2
             }
            },
            "type": "barpolar"
           }
          ],
          "carpet": [
           {
            "aaxis": {
             "endlinecolor": "#2a3f5f",
             "gridcolor": "white",
             "linecolor": "white",
             "minorgridcolor": "white",
             "startlinecolor": "#2a3f5f"
            },
            "baxis": {
             "endlinecolor": "#2a3f5f",
             "gridcolor": "white",
             "linecolor": "white",
             "minorgridcolor": "white",
             "startlinecolor": "#2a3f5f"
            },
            "type": "carpet"
           }
          ],
          "choropleth": [
           {
            "colorbar": {
             "outlinewidth": 0,
             "ticks": ""
            },
            "type": "choropleth"
           }
          ],
          "contour": [
           {
            "colorbar": {
             "outlinewidth": 0,
             "ticks": ""
            },
            "colorscale": [
             [
              0,
              "#0d0887"
             ],
             [
              0.1111111111111111,
              "#46039f"
             ],
             [
              0.2222222222222222,
              "#7201a8"
             ],
             [
              0.3333333333333333,
              "#9c179e"
             ],
             [
              0.4444444444444444,
              "#bd3786"
             ],
             [
              0.5555555555555556,
              "#d8576b"
             ],
             [
              0.6666666666666666,
              "#ed7953"
             ],
             [
              0.7777777777777778,
              "#fb9f3a"
             ],
             [
              0.8888888888888888,
              "#fdca26"
             ],
             [
              1,
              "#f0f921"
             ]
            ],
            "type": "contour"
           }
          ],
          "contourcarpet": [
           {
            "colorbar": {
             "outlinewidth": 0,
             "ticks": ""
            },
            "type": "contourcarpet"
           }
          ],
          "heatmap": [
           {
            "colorbar": {
             "outlinewidth": 0,
             "ticks": ""
            },
            "colorscale": [
             [
              0,
              "#0d0887"
             ],
             [
              0.1111111111111111,
              "#46039f"
             ],
             [
              0.2222222222222222,
              "#7201a8"
             ],
             [
              0.3333333333333333,
              "#9c179e"
             ],
             [
              0.4444444444444444,
              "#bd3786"
             ],
             [
              0.5555555555555556,
              "#d8576b"
             ],
             [
              0.6666666666666666,
              "#ed7953"
             ],
             [
              0.7777777777777778,
              "#fb9f3a"
             ],
             [
              0.8888888888888888,
              "#fdca26"
             ],
             [
              1,
              "#f0f921"
             ]
            ],
            "type": "heatmap"
           }
          ],
          "histogram": [
           {
            "marker": {
             "pattern": {
              "fillmode": "overlay",
              "size": 10,
              "solidity": 0.2
             }
            },
            "type": "histogram"
           }
          ],
          "histogram2d": [
           {
            "colorbar": {
             "outlinewidth": 0,
             "ticks": ""
            },
            "colorscale": [
             [
              0,
              "#0d0887"
             ],
             [
              0.1111111111111111,
              "#46039f"
             ],
             [
              0.2222222222222222,
              "#7201a8"
             ],
             [
              0.3333333333333333,
              "#9c179e"
             ],
             [
              0.4444444444444444,
              "#bd3786"
             ],
             [
              0.5555555555555556,
              "#d8576b"
             ],
             [
              0.6666666666666666,
              "#ed7953"
             ],
             [
              0.7777777777777778,
              "#fb9f3a"
             ],
             [
              0.8888888888888888,
              "#fdca26"
             ],
             [
              1,
              "#f0f921"
             ]
            ],
            "type": "histogram2d"
           }
          ],
          "histogram2dcontour": [
           {
            "colorbar": {
             "outlinewidth": 0,
             "ticks": ""
            },
            "colorscale": [
             [
              0,
              "#0d0887"
             ],
             [
              0.1111111111111111,
              "#46039f"
             ],
             [
              0.2222222222222222,
              "#7201a8"
             ],
             [
              0.3333333333333333,
              "#9c179e"
             ],
             [
              0.4444444444444444,
              "#bd3786"
             ],
             [
              0.5555555555555556,
              "#d8576b"
             ],
             [
              0.6666666666666666,
              "#ed7953"
             ],
             [
              0.7777777777777778,
              "#fb9f3a"
             ],
             [
              0.8888888888888888,
              "#fdca26"
             ],
             [
              1,
              "#f0f921"
             ]
            ],
            "type": "histogram2dcontour"
           }
          ],
          "mesh3d": [
           {
            "colorbar": {
             "outlinewidth": 0,
             "ticks": ""
            },
            "type": "mesh3d"
           }
          ],
          "parcoords": [
           {
            "line": {
             "colorbar": {
              "outlinewidth": 0,
              "ticks": ""
             }
            },
            "type": "parcoords"
           }
          ],
          "pie": [
           {
            "automargin": true,
            "type": "pie"
           }
          ],
          "scatter": [
           {
            "fillpattern": {
             "fillmode": "overlay",
             "size": 10,
             "solidity": 0.2
            },
            "type": "scatter"
           }
          ],
          "scatter3d": [
           {
            "line": {
             "colorbar": {
              "outlinewidth": 0,
              "ticks": ""
             }
            },
            "marker": {
             "colorbar": {
              "outlinewidth": 0,
              "ticks": ""
             }
            },
            "type": "scatter3d"
           }
          ],
          "scattercarpet": [
           {
            "marker": {
             "colorbar": {
              "outlinewidth": 0,
              "ticks": ""
             }
            },
            "type": "scattercarpet"
           }
          ],
          "scattergeo": [
           {
            "marker": {
             "colorbar": {
              "outlinewidth": 0,
              "ticks": ""
             }
            },
            "type": "scattergeo"
           }
          ],
          "scattergl": [
           {
            "marker": {
             "colorbar": {
              "outlinewidth": 0,
              "ticks": ""
             }
            },
            "type": "scattergl"
           }
          ],
          "scattermap": [
           {
            "marker": {
             "colorbar": {
              "outlinewidth": 0,
              "ticks": ""
             }
            },
            "type": "scattermap"
           }
          ],
          "scattermapbox": [
           {
            "marker": {
             "colorbar": {
              "outlinewidth": 0,
              "ticks": ""
             }
            },
            "type": "scattermapbox"
           }
          ],
          "scatterpolar": [
           {
            "marker": {
             "colorbar": {
              "outlinewidth": 0,
              "ticks": ""
             }
            },
            "type": "scatterpolar"
           }
          ],
          "scatterpolargl": [
           {
            "marker": {
             "colorbar": {
              "outlinewidth": 0,
              "ticks": ""
             }
            },
            "type": "scatterpolargl"
           }
          ],
          "scatterternary": [
           {
            "marker": {
             "colorbar": {
              "outlinewidth": 0,
              "ticks": ""
             }
            },
            "type": "scatterternary"
           }
          ],
          "surface": [
           {
            "colorbar": {
             "outlinewidth": 0,
             "ticks": ""
            },
            "colorscale": [
             [
              0,
              "#0d0887"
             ],
             [
              0.1111111111111111,
              "#46039f"
             ],
             [
              0.2222222222222222,
              "#7201a8"
             ],
             [
              0.3333333333333333,
              "#9c179e"
             ],
             [
              0.4444444444444444,
              "#bd3786"
             ],
             [
              0.5555555555555556,
              "#d8576b"
             ],
             [
              0.6666666666666666,
              "#ed7953"
             ],
             [
              0.7777777777777778,
              "#fb9f3a"
             ],
             [
              0.8888888888888888,
              "#fdca26"
             ],
             [
              1,
              "#f0f921"
             ]
            ],
            "type": "surface"
           }
          ],
          "table": [
           {
            "cells": {
             "fill": {
              "color": "#EBF0F8"
             },
             "line": {
              "color": "white"
             }
            },
            "header": {
             "fill": {
              "color": "#C8D4E3"
             },
             "line": {
              "color": "white"
             }
            },
            "type": "table"
           }
          ]
         },
         "layout": {
          "annotationdefaults": {
           "arrowcolor": "#2a3f5f",
           "arrowhead": 0,
           "arrowwidth": 1
          },
          "autotypenumbers": "strict",
          "coloraxis": {
           "colorbar": {
            "outlinewidth": 0,
            "ticks": ""
           }
          },
          "colorscale": {
           "diverging": [
            [
             0,
             "#8e0152"
            ],
            [
             0.1,
             "#c51b7d"
            ],
            [
             0.2,
             "#de77ae"
            ],
            [
             0.3,
             "#f1b6da"
            ],
            [
             0.4,
             "#fde0ef"
            ],
            [
             0.5,
             "#f7f7f7"
            ],
            [
             0.6,
             "#e6f5d0"
            ],
            [
             0.7,
             "#b8e186"
            ],
            [
             0.8,
             "#7fbc41"
            ],
            [
             0.9,
             "#4d9221"
            ],
            [
             1,
             "#276419"
            ]
           ],
           "sequential": [
            [
             0,
             "#0d0887"
            ],
            [
             0.1111111111111111,
             "#46039f"
            ],
            [
             0.2222222222222222,
             "#7201a8"
            ],
            [
             0.3333333333333333,
             "#9c179e"
            ],
            [
             0.4444444444444444,
             "#bd3786"
            ],
            [
             0.5555555555555556,
             "#d8576b"
            ],
            [
             0.6666666666666666,
             "#ed7953"
            ],
            [
             0.7777777777777778,
             "#fb9f3a"
            ],
            [
             0.8888888888888888,
             "#fdca26"
            ],
            [
             1,
             "#f0f921"
            ]
           ],
           "sequentialminus": [
            [
             0,
             "#0d0887"
            ],
            [
             0.1111111111111111,
             "#46039f"
            ],
            [
             0.2222222222222222,
             "#7201a8"
            ],
            [
             0.3333333333333333,
             "#9c179e"
            ],
            [
             0.4444444444444444,
             "#bd3786"
            ],
            [
             0.5555555555555556,
             "#d8576b"
            ],
            [
             0.6666666666666666,
             "#ed7953"
            ],
            [
             0.7777777777777778,
             "#fb9f3a"
            ],
            [
             0.8888888888888888,
             "#fdca26"
            ],
            [
             1,
             "#f0f921"
            ]
           ]
          },
          "colorway": [
           "#636efa",
           "#EF553B",
           "#00cc96",
           "#ab63fa",
           "#FFA15A",
           "#19d3f3",
           "#FF6692",
           "#B6E880",
           "#FF97FF",
           "#FECB52"
          ],
          "font": {
           "color": "#2a3f5f"
          },
          "geo": {
           "bgcolor": "white",
           "lakecolor": "white",
           "landcolor": "#E5ECF6",
           "showlakes": true,
           "showland": true,
           "subunitcolor": "white"
          },
          "hoverlabel": {
           "align": "left"
          },
          "hovermode": "closest",
          "mapbox": {
           "style": "light"
          },
          "paper_bgcolor": "white",
          "plot_bgcolor": "#E5ECF6",
          "polar": {
           "angularaxis": {
            "gridcolor": "white",
            "linecolor": "white",
            "ticks": ""
           },
           "bgcolor": "#E5ECF6",
           "radialaxis": {
            "gridcolor": "white",
            "linecolor": "white",
            "ticks": ""
           }
          },
          "scene": {
           "xaxis": {
            "backgroundcolor": "#E5ECF6",
            "gridcolor": "white",
            "gridwidth": 2,
            "linecolor": "white",
            "showbackground": true,
            "ticks": "",
            "zerolinecolor": "white"
           },
           "yaxis": {
            "backgroundcolor": "#E5ECF6",
            "gridcolor": "white",
            "gridwidth": 2,
            "linecolor": "white",
            "showbackground": true,
            "ticks": "",
            "zerolinecolor": "white"
           },
           "zaxis": {
            "backgroundcolor": "#E5ECF6",
            "gridcolor": "white",
            "gridwidth": 2,
            "linecolor": "white",
            "showbackground": true,
            "ticks": "",
            "zerolinecolor": "white"
           }
          },
          "shapedefaults": {
           "line": {
            "color": "#2a3f5f"
           }
          },
          "ternary": {
           "aaxis": {
            "gridcolor": "white",
            "linecolor": "white",
            "ticks": ""
           },
           "baxis": {
            "gridcolor": "white",
            "linecolor": "white",
            "ticks": ""
           },
           "bgcolor": "#E5ECF6",
           "caxis": {
            "gridcolor": "white",
            "linecolor": "white",
            "ticks": ""
           }
          },
          "title": {
           "x": 0.05
          },
          "xaxis": {
           "automargin": true,
           "gridcolor": "white",
           "linecolor": "white",
           "ticks": "",
           "title": {
            "standoff": 15
           },
           "zerolinecolor": "white",
           "zerolinewidth": 2
          },
          "yaxis": {
           "automargin": true,
           "gridcolor": "white",
           "linecolor": "white",
           "ticks": "",
           "title": {
            "standoff": 15
           },
           "zerolinecolor": "white",
           "zerolinewidth": 2
          }
         }
        },
        "title": {
         "text": "Elipses como Curvas 3D"
        }
       }
      }
     },
     "metadata": {},
     "output_type": "display_data"
    }
   ],
   "source": [
    "from numpy import *\n",
    "import plotly.graph_objects as go\n",
    "\n",
    "λ = 1064e-9\n",
    "q1 = 66e-3j\n",
    "q2 = -500e-3 + 266e-3j\n",
    "θ = (20. + 10.j)*π/180.\n",
    "\n",
    "gb = GaussianBeam(1,λ,q1,q2,θ)\n",
    "\n",
    "# Exemplo de dados (deve ser substituído pelos seus dados reais)\n",
    "z = linspace(-1, 1, 100)  # Valores de z\n",
    "\n",
    "waist_data, _ = gb.intensity_phase_ellipses(z)\n",
    "φ_w, w1, w2 = waist_data\n",
    "\n",
    "# Criar o gráfico\n",
    "fig = go.Figure()\n",
    "\n",
    "for zi, w1i, w2i, φ_wi in zip(z, w1, w2, φ_w):\n",
    "    t = linspace(0., 2. * π, 100)\n",
    "    x = w1i * cos(t)\n",
    "    y = w2i * sin(t)\n",
    "    \n",
    "    # Aplicar rotação da elipse\n",
    "    x_rot = x * cos(φ_wi) - y * sin(φ_wi)\n",
    "    y_rot = x * sin(φ_wi) + y * cos(φ_wi)\n",
    "    \n",
    "    # Adiciona os pontos rotacionados às listas\n",
    "    # Plotar a elipse no plano xy a uma altura z\n",
    "\n",
    "    XYZ = dot(Rx(0), stack([x_rot,y_rot,full_like(t,zi)],axis=0))\n",
    "    \n",
    "    X = XYZ[0,:]\n",
    "    Y = XYZ[1,:]\n",
    "    Z = XYZ[2,:]\n",
    "\n",
    "    fig.add_trace(go.Scatter3d(x=X, y=Y, z=Z, mode='lines'))\n",
    "\n",
    "\n",
    "fig.update_layout(\n",
    "    title=\"Elipses como Curvas 3D\",\n",
    "    scene=dict(\n",
    "        xaxis_title='X',\n",
    "        yaxis_title='Y',\n",
    "        zaxis_title='Z'\n",
    "    ),\n",
    "    autosize=True\n",
    ")\n"
   ]
  },
  {
   "cell_type": "code",
   "execution_count": 6,
   "metadata": {},
   "outputs": [
    {
     "data": {
      "text/plain": [
       "[<matplotlib.lines.Line2D at 0x1f44f298550>]"
      ]
     },
     "execution_count": 6,
     "metadata": {},
     "output_type": "execute_result"
    },
    {
     "data": {
      "image/png": "[encoded data removed]",
      "text/plain": [
       "<Figure size 640x480 with 1 Axes>"
      ]
     },
     "metadata": {},
     "output_type": "display_data"
    }
   ],
   "source": [
    "plt.plot(z,(φ_w)/π)"
   ]
  }
 ],
 "metadata": {
  "kernelspec": {
   "display_name": "Python 3",
   "language": "python",
   "name": "python3"
  },
  "language_info": {
   "codemirror_mode": {
    "name": "ipython",
    "version": 3
   },
   "file_extension": ".py",
   "mimetype": "text/x-python",
   "name": "python",
   "nbconvert_exporter": "python",
   "pygments_lexer": "ipython3",
   "version": "3.11.11"
  }
 },
 "nbformat": 4,
 "nbformat_minor": 2
}
