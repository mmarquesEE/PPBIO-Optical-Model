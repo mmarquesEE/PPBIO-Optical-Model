{
 "cells": [
  {
   "cell_type": "code",
   "execution_count": 18,
   "metadata": {},
   "outputs": [],
   "source": [
    "from numpy import sqrt, atan, atan2, cos, sin, cosh, sinh, float64, complex128, array, exp, tanh\n",
    "from numpy import pi as π\n",
    "import matplotlib.pyplot as plt"
   ]
  },
  {
   "cell_type": "code",
   "execution_count": 19,
   "metadata": {},
   "outputs": [],
   "source": [
    "class GaussianBeam:\n",
    "    \"\"\"\n",
    "    This class is used to represent a General Astigmatic Gaussian Beam.\n",
    "    \"\"\"\n",
    "    def __init__(self,P:float64,λ:float64,q1:callable,q2:callable,θ:complex128,R,t):\n",
    "        self.P = P\n",
    "        self.λ = λ\n",
    "        self.q1 = q1\n",
    "        self.q2 = q2\n",
    "        self.θ = θ\n",
    "        self.R = R\n",
    "        self.t = t\n",
    "\n",
    "        self.k = 2.*π/λ\n",
    "        self.Q = lambda z: array([\n",
    "            [(cos(θ)**2.)/q1(z) + (sin(θ)**2.)/q2(z),      0.5*sin(2.*θ)*(1./q1(z) - 1./q2(z))],\n",
    "            [0.5*sin(2.*θ)*(1./q1(z - 1./q2(z))),      (sin(θ)**2.)/q1(z) + (cos(θ)**2.)/q2(z)]\n",
    "        ],complex128)\n",
    "        self.E0 = lambda z: sqrt(P/λ*sqrt(\n",
    "            4.*self.Q(z)[1,1].imag)*self.Q(z)[2,2].imag - (self.Q(z)[1,2] + self.Q(z)[2,1])**2.\n",
    "        )\n",
    "        self.η = lambda z: 0.5*(atan(q1(z).real/q1(z).imag) + atan(q2(z).real/q2(z).imag))\n",
    "        self.E = lambda r,z: self.E0(z)*exp(1.j*self.η(z) - 1.j*(self.k/2.)*(r.T @ self.Q(z) @ r))\n",
    "\n",
    "def intensity_phase_ellipses(self,z):\n",
    "        α = self.θ.real\n",
    "        β = self.θ.imag\n",
    "        \n",
    "        ρ1 = self.q1(z).real/(abs(self.q1(z))**2)\n",
    "        ρ2 = self.q2(z).real/(abs(self.q2(z))**2)\n",
    "\n",
    "        ω1 = self.q1(z).imag/(abs(self.q1(z))**2)\n",
    "        ω2 = self.q2(z).imag/(abs(self.q2(z))**2)\n",
    "\n",
    "        φ_w0 = 0.5*atan(-((ρ1 - ρ2)/(ω1 - ω2))*tanh(2.*β));\n",
    "        φ_w = φ_w0 + α\n",
    "\n",
    "        φ_R0 = 0.5*atan(((ω1 - ω2)/(ρ1 - ρ2))*tanh(2.*β));\n",
    "        φ_R = φ_R0 + α\n",
    "\n",
    "        w1 = 1./((self.k/4.)*(ω1 + ω2 + sqrt(((ω1 - ω2)**2.)*(cosh(2*β)**2.) + ((ρ1 - ρ2)**2.)*(sinh(2*β)**2.))))\n",
    "        w2 = 1./((self.k/4.)*(ω1 + ω2 - sqrt(((ω1 - ω2)**2.)*(cosh(2*β)**2.) + ((ρ1 - ρ2)**2.)*(sinh(2*β)**2.))))\n",
    "\n",
    "        R1 = 1./((self.k/4.)*(ω1 + ω2 + sqrt(((ρ1 - ρ2)**2.)*(cosh(2*β)**2.) + ((ω1 - ω2)**2.)*(sinh(2*β)**2.))))\n",
    "        R2 = 1./((self.k/4.)*(ω1 + ω2 - sqrt(((ρ1 - ρ2)**2.)*(cosh(2*β)**2.) + ((ω1 - ω2)**2.)*(sinh(2*β)**2.))))\n",
    "\n",
    "        return [φ_w, w1, w2], [φ_R, R1, R2]\n",
    "        "
   ]
  }
 ],
 "metadata": {
  "kernelspec": {
   "display_name": "Python 3",
   "language": "python",
   "name": "python3"
  },
  "language_info": {
   "codemirror_mode": {
    "name": "ipython",
    "version": 3
   },
   "file_extension": ".py",
   "mimetype": "text/x-python",
   "name": "python",
   "nbconvert_exporter": "python",
   "pygments_lexer": "ipython3",
   "version": "3.11.11"
  }
 },
 "nbformat": 4,
 "nbformat_minor": 2
}
